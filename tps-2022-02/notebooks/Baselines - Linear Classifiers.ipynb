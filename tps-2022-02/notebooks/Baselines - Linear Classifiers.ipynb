{
 "cells": [
  {
   "cell_type": "markdown",
   "id": "4be7e257",
   "metadata": {},
   "source": [
    "# TPS 02-2022: Linear Classifiers\n",
    "\n",
    "We test out several linear classifiers (mostly from `sklearn.linear_model`) with various preprocessing steps to see which give the best results on a small subset of the training data."
   ]
  },
  {
   "cell_type": "code",
   "execution_count": 1,
   "id": "ccc67c08",
   "metadata": {},
   "outputs": [],
   "source": [
    "# Global variables for testing changes to this notebook quickly\n",
    "RANDOM_SEED = 0\n",
    "NUM_FOLDS = 3\n",
    "NUM_SAMPLES = 50000"
   ]
  },
  {
   "cell_type": "code",
   "execution_count": 2,
   "id": "54bea1e0",
   "metadata": {},
   "outputs": [],
   "source": [
    "import numpy as np\n",
    "import pandas as pd\n",
    "import scipy.stats as stats\n",
    "import time\n",
    "import re\n",
    "import math\n",
    "import os\n",
    "import pyarrow\n",
    "import gc\n",
    "\n",
    "# Model evaluation\n",
    "from sklearn.base import clone\n",
    "from sklearn.pipeline import make_pipeline\n",
    "from sklearn.model_selection import StratifiedKFold, train_test_split\n",
    "from sklearn.metrics import roc_auc_score, accuracy_score\n",
    "from sklearn.feature_selection import mutual_info_classif\n",
    "\n",
    "\n",
    "# Plotting\n",
    "import matplotlib\n",
    "import seaborn as sns\n",
    "from matplotlib import pyplot as plt\n",
    "from IPython.display import Image\n",
    "\n",
    "# Hide warnings\n",
    "import warnings\n",
    "warnings.filterwarnings('ignore')"
   ]
  },
  {
   "cell_type": "code",
   "execution_count": 3,
   "id": "fb937a3b",
   "metadata": {},
   "outputs": [],
   "source": [
    "def sample_data(samples):\n",
    "    \n",
    "    train = pd.read_feather('../data/train.feather')\n",
    "    train, _ = train_test_split(train, train_size = samples, stratify = train['target'])\n",
    "    return train"
   ]
  },
  {
   "cell_type": "code",
   "execution_count": 4,
   "id": "0939dd75",
   "metadata": {},
   "outputs": [
    {
     "name": "stdout",
     "output_type": "stream",
     "text": [
      "Training Samples: 50000\n",
      "Wall time: 603 ms\n"
     ]
    }
   ],
   "source": [
    "%%time\n",
    "from sklearn.preprocessing import LabelEncoder\n",
    "\n",
    "train = sample_data(NUM_SAMPLES)\n",
    "features = [x for x in train.columns if x not in ['row_id', 'target']]\n",
    "\n",
    "# Label encoding\n",
    "encoder = LabelEncoder()\n",
    "train['target'] = encoder.fit_transform(train['target'])\n",
    "\n",
    "print(f'Training Samples: {len(train)}')"
   ]
  },
  {
   "cell_type": "markdown",
   "id": "13c76ed2",
   "metadata": {},
   "source": [
    "# Scoring Function"
   ]
  },
  {
   "cell_type": "code",
   "execution_count": 5,
   "id": "0e5ef4b1",
   "metadata": {},
   "outputs": [],
   "source": [
    "# Scoring/Training Baseline Function\n",
    "def score_model(sklearn_model):\n",
    "    \n",
    "    # Store the holdout predictions\n",
    "    oof_preds = np.zeros((train.shape[0],))\n",
    "    scores = np.zeros(NUM_FOLDS)\n",
    "    times = np.zeros(NUM_FOLDS)\n",
    "    print('')\n",
    "    \n",
    "    # Stratified k-fold cross-validation\n",
    "    skf = StratifiedKFold(n_splits = NUM_FOLDS, shuffle = True, random_state = RANDOM_SEED)\n",
    "    for fold, (train_idx, valid_idx) in enumerate(skf.split(train, train['target'])):\n",
    "        \n",
    "        # Training and Validation Sets\n",
    "        X_train, y_train = train[features].iloc[train_idx].to_numpy(), train['target'].iloc[train_idx].to_numpy()\n",
    "        X_valid, y_valid = train[features].iloc[valid_idx].to_numpy(), train['target'].iloc[valid_idx].to_numpy()\n",
    "        \n",
    "        # Create model\n",
    "        model = clone(sklearn_model)\n",
    "            \n",
    "        start = time.time()\n",
    "\n",
    "        model.fit(X_train, y_train)\n",
    "        \n",
    "        end = time.time()\n",
    "        \n",
    "        # validation\n",
    "        try:\n",
    "            valid_preds = model.predict_proba(X_valid)\n",
    "            scores[fold] = accuracy_score(y_valid, np.argmax(valid_preds, axis = 1))\n",
    "        except:\n",
    "            scores[fold] = accuracy_score(y_valid, model.predict(X_valid))\n",
    "        end = time.time()\n",
    "        print(f'Fold {fold}: {round(scores[fold], 5)} accuracy in {round(end-start,2)}s.')\n",
    "        times[fold] = end-start\n",
    "        \n",
    "        \n",
    "    print(\"\\nAverage Accuracy:\", round(scores.mean(), 5))\n",
    "    print(f'Training Time: {round(times.sum(), 2)}s')"
   ]
  },
  {
   "cell_type": "markdown",
   "id": "11bd4f5c",
   "metadata": {},
   "source": [
    "# 1. Logistic Regression\n",
    "\n",
    "We test out several logistic regression pipelines involving different preprocessing steps such as feature scaling and PCA-based dimension reduction as well as regularization."
   ]
  },
  {
   "cell_type": "code",
   "execution_count": 6,
   "id": "7b9ba42f",
   "metadata": {},
   "outputs": [],
   "source": [
    "# Model\n",
    "from sklearn.linear_model import LogisticRegression"
   ]
  },
  {
   "cell_type": "markdown",
   "id": "05f237dc",
   "metadata": {},
   "source": [
    "## 1.1 Solver\n",
    "\n",
    "We test the `sag` and `saga` solvers to see which give better results in speed and accuracy. "
   ]
  },
  {
   "cell_type": "code",
   "execution_count": 7,
   "id": "5bb11651",
   "metadata": {},
   "outputs": [
    {
     "name": "stdout",
     "output_type": "stream",
     "text": [
      "\n",
      "Fold 0: 0.80884 accuracy in 27.82s.\n",
      "Fold 1: 0.80914 accuracy in 26.55s.\n",
      "Fold 2: 0.80019 accuracy in 26.39s.\n",
      "\n",
      "Average Accuracy: 0.80606\n",
      "Training Time: 80.76s\n"
     ]
    }
   ],
   "source": [
    "# SAG solver\n",
    "score_model(\n",
    "    LogisticRegression(\n",
    "        penalty = 'none', \n",
    "        solver = 'sag', \n",
    "        n_jobs = -1,\n",
    "        random_state = RANDOM_SEED,\n",
    "    )\n",
    ")"
   ]
  },
  {
   "cell_type": "code",
   "execution_count": 8,
   "id": "d7a19e3c",
   "metadata": {
    "scrolled": true
   },
   "outputs": [
    {
     "name": "stdout",
     "output_type": "stream",
     "text": [
      "\n",
      "Fold 0: 0.78868 accuracy in 41.38s.\n",
      "Fold 1: 0.78688 accuracy in 41.51s.\n",
      "Fold 2: 0.77739 accuracy in 41.38s.\n",
      "\n",
      "Average Accuracy: 0.78432\n",
      "Training Time: 124.27s\n"
     ]
    }
   ],
   "source": [
    "# SAGA solver\n",
    "score_model(\n",
    "    LogisticRegression(\n",
    "        penalty = 'none', \n",
    "        solver = 'saga', \n",
    "        n_jobs = -1,\n",
    "        random_state = RANDOM_SEED,\n",
    "    )\n",
    ")"
   ]
  },
  {
   "cell_type": "markdown",
   "id": "dc903ba1",
   "metadata": {},
   "source": [
    "## 1.2 Scaling"
   ]
  },
  {
   "cell_type": "code",
   "execution_count": 9,
   "id": "71651d27",
   "metadata": {},
   "outputs": [],
   "source": [
    "# Preprocessing \n",
    "from sklearn.preprocessing import StandardScaler, RobustScaler, MinMaxScaler"
   ]
  },
  {
   "cell_type": "code",
   "execution_count": 10,
   "id": "c0d45141",
   "metadata": {},
   "outputs": [
    {
     "name": "stdout",
     "output_type": "stream",
     "text": [
      "\n",
      "Fold 0: 0.83452 accuracy in 26.61s.\n",
      "Fold 1: 0.83356 accuracy in 26.62s.\n",
      "Fold 2: 0.83667 accuracy in 27.27s.\n",
      "\n",
      "Average Accuracy: 0.83492\n",
      "Training Time: 80.5s\n"
     ]
    }
   ],
   "source": [
    "# Standard scaler\n",
    "score_model(make_pipeline(\n",
    "    StandardScaler(),\n",
    "    LogisticRegression(\n",
    "        penalty = 'none', \n",
    "        solver = 'sag', \n",
    "        n_jobs = -1,\n",
    "        random_state = RANDOM_SEED,\n",
    "    )\n",
    "))"
   ]
  },
  {
   "cell_type": "code",
   "execution_count": 11,
   "id": "a7634b1d",
   "metadata": {},
   "outputs": [
    {
     "name": "stdout",
     "output_type": "stream",
     "text": [
      "\n",
      "Fold 0: 0.74435 accuracy in 26.64s.\n",
      "Fold 1: 0.75388 accuracy in 26.65s.\n",
      "Fold 2: 0.75117 accuracy in 26.6s.\n",
      "\n",
      "Average Accuracy: 0.7498\n",
      "Training Time: 79.9s\n"
     ]
    }
   ],
   "source": [
    "# Robust scaler\n",
    "score_model(make_pipeline(\n",
    "    RobustScaler(),\n",
    "    LogisticRegression(\n",
    "        penalty = 'none', \n",
    "        solver = 'sag', \n",
    "        n_jobs = -1,\n",
    "        random_state = RANDOM_SEED,\n",
    "    )\n",
    "))"
   ]
  },
  {
   "cell_type": "code",
   "execution_count": 12,
   "id": "e7d88ccf",
   "metadata": {},
   "outputs": [
    {
     "name": "stdout",
     "output_type": "stream",
     "text": [
      "\n",
      "Fold 0: 0.85672 accuracy in 34.74s.\n",
      "Fold 1: 0.85666 accuracy in 35.05s.\n",
      "Fold 2: 0.85251 accuracy in 35.24s.\n",
      "\n",
      "Average Accuracy: 0.8553\n",
      "Training Time: 105.03s\n"
     ]
    }
   ],
   "source": [
    "# MinMax scaler\n",
    "score_model(make_pipeline(\n",
    "    MinMaxScaler(),\n",
    "    LogisticRegression(\n",
    "        penalty = 'none', \n",
    "        solver = 'sag', \n",
    "        n_jobs = -1,\n",
    "        random_state = RANDOM_SEED,\n",
    "    )\n",
    "))"
   ]
  },
  {
   "cell_type": "markdown",
   "id": "55272583",
   "metadata": {},
   "source": [
    "## 1.3 Regularization"
   ]
  },
  {
   "cell_type": "code",
   "execution_count": 13,
   "id": "886a7194",
   "metadata": {},
   "outputs": [
    {
     "name": "stdout",
     "output_type": "stream",
     "text": [
      "\n",
      "Fold 0: 0.83872 accuracy in 107.51s.\n",
      "Fold 1: 0.83686 accuracy in 107.11s.\n",
      "Fold 2: 0.83325 accuracy in 108.23s.\n",
      "\n",
      "Average Accuracy: 0.83628\n",
      "Training Time: 322.85s\n"
     ]
    }
   ],
   "source": [
    "# L1 Regularization\n",
    "score_model(make_pipeline(\n",
    "    MinMaxScaler(),\n",
    "    LogisticRegression(\n",
    "        penalty = 'l1', \n",
    "        solver = 'saga', \n",
    "        n_jobs = -1,\n",
    "        random_state = RANDOM_SEED,\n",
    "    )\n",
    "))"
   ]
  },
  {
   "cell_type": "code",
   "execution_count": 14,
   "id": "e9a5cc5d",
   "metadata": {},
   "outputs": [
    {
     "name": "stdout",
     "output_type": "stream",
     "text": [
      "\n",
      "Fold 0: 0.8203 accuracy in 11.7s.\n",
      "Fold 1: 0.82498 accuracy in 11.22s.\n",
      "Fold 2: 0.81393 accuracy in 11.17s.\n",
      "\n",
      "Average Accuracy: 0.81974\n",
      "Training Time: 34.1s\n"
     ]
    }
   ],
   "source": [
    "# L2 Regularization\n",
    "score_model(make_pipeline(\n",
    "    MinMaxScaler(),\n",
    "    LogisticRegression(\n",
    "        penalty = 'l2', \n",
    "        solver = 'sag', \n",
    "        n_jobs = -1,\n",
    "        random_state = RANDOM_SEED,\n",
    "    )\n",
    "))"
   ]
  },
  {
   "cell_type": "code",
   "execution_count": 15,
   "id": "82fe772f",
   "metadata": {},
   "outputs": [
    {
     "name": "stdout",
     "output_type": "stream",
     "text": [
      "\n",
      "Fold 0: 0.8215 accuracy in 93.65s.\n",
      "Fold 1: 0.82648 accuracy in 91.95s.\n",
      "Fold 2: 0.81723 accuracy in 95.6s.\n",
      "\n",
      "Average Accuracy: 0.82174\n",
      "Training Time: 281.2s\n"
     ]
    }
   ],
   "source": [
    "# Elasticnet Regularization\n",
    "score_model(make_pipeline(\n",
    "    MinMaxScaler(),\n",
    "    LogisticRegression(\n",
    "        penalty = 'elasticnet', \n",
    "        solver = 'saga', \n",
    "        l1_ratio = 0.15,\n",
    "        n_jobs = -1,\n",
    "        random_state = RANDOM_SEED,\n",
    "    )\n",
    "))"
   ]
  },
  {
   "cell_type": "markdown",
   "id": "b46f07f6",
   "metadata": {},
   "source": [
    "## 1.2 Dimension Reduction"
   ]
  },
  {
   "cell_type": "code",
   "execution_count": 16,
   "id": "e99fac10",
   "metadata": {},
   "outputs": [],
   "source": [
    "from sklearn.decomposition import PCA"
   ]
  },
  {
   "cell_type": "code",
   "execution_count": 17,
   "id": "3ce7124f",
   "metadata": {},
   "outputs": [
    {
     "name": "stdout",
     "output_type": "stream",
     "text": [
      "\n",
      "Fold 0: 0.8482 accuracy in 35.19s.\n",
      "Fold 1: 0.8464 accuracy in 35.36s.\n",
      "Fold 2: 0.84273 accuracy in 35.43s.\n",
      "\n",
      "Average Accuracy: 0.84578\n",
      "Training Time: 105.98s\n"
     ]
    }
   ],
   "source": [
    "# Dimension reduction\n",
    "score_model(make_pipeline(\n",
    "    MinMaxScaler(),\n",
    "    PCA(0.99), \n",
    "    LogisticRegression(penalty = 'none', solver = 'sag', n_jobs = -1)\n",
    "))"
   ]
  },
  {
   "cell_type": "code",
   "execution_count": 18,
   "id": "6aa6fcab",
   "metadata": {},
   "outputs": [
    {
     "name": "stdout",
     "output_type": "stream",
     "text": [
      "\n",
      "Fold 0: 0.82636 accuracy in 29.02s.\n",
      "Fold 1: 0.82792 accuracy in 28.97s.\n",
      "Fold 2: 0.82599 accuracy in 29.36s.\n",
      "\n",
      "Average Accuracy: 0.82676\n",
      "Training Time: 87.35s\n"
     ]
    }
   ],
   "source": [
    "# Dimension reduction\n",
    "score_model(make_pipeline(\n",
    "    MinMaxScaler(),\n",
    "    PCA(0.95), \n",
    "    LogisticRegression(penalty = 'none', solver = 'sag', n_jobs = -1)\n",
    "))"
   ]
  },
  {
   "cell_type": "code",
   "execution_count": 19,
   "id": "0cd4c514",
   "metadata": {},
   "outputs": [
    {
     "name": "stdout",
     "output_type": "stream",
     "text": [
      "\n",
      "Fold 0: 0.82036 accuracy in 23.91s.\n",
      "Fold 1: 0.81898 accuracy in 23.99s.\n",
      "Fold 2: 0.81363 accuracy in 23.79s.\n",
      "\n",
      "Average Accuracy: 0.81766\n",
      "Training Time: 71.69s\n"
     ]
    }
   ],
   "source": [
    "# Dimension reduction\n",
    "score_model(make_pipeline(\n",
    "    MinMaxScaler(),\n",
    "    PCA(0.9), \n",
    "    LogisticRegression(penalty = 'none', solver = 'sag', n_jobs = -1)\n",
    "))"
   ]
  },
  {
   "cell_type": "code",
   "execution_count": 20,
   "id": "f47422c8",
   "metadata": {},
   "outputs": [
    {
     "name": "stdout",
     "output_type": "stream",
     "text": [
      "\n",
      "Fold 0: 0.80956 accuracy in 19.72s.\n",
      "Fold 1: 0.81304 accuracy in 19.88s.\n",
      "Fold 2: 0.79797 accuracy in 19.56s.\n",
      "\n",
      "Average Accuracy: 0.80686\n",
      "Training Time: 59.16s\n"
     ]
    }
   ],
   "source": [
    "# Dimension reduction\n",
    "score_model(make_pipeline(\n",
    "    MinMaxScaler(),\n",
    "    PCA(0.85), \n",
    "    LogisticRegression(penalty = 'none', solver = 'sag', n_jobs = -1)\n",
    "))"
   ]
  },
  {
   "cell_type": "markdown",
   "id": "9bcb3dfb",
   "metadata": {},
   "source": [
    "# 2. SGDClassifier"
   ]
  },
  {
   "cell_type": "code",
   "execution_count": 21,
   "id": "2b5a0fa0",
   "metadata": {},
   "outputs": [],
   "source": [
    "# Model\n",
    "from sklearn.linear_model import SGDClassifier"
   ]
  },
  {
   "cell_type": "markdown",
   "id": "202936d1",
   "metadata": {},
   "source": [
    "## 2.1 Scaling"
   ]
  },
  {
   "cell_type": "code",
   "execution_count": 22,
   "id": "2f2b6c7e",
   "metadata": {},
   "outputs": [
    {
     "name": "stdout",
     "output_type": "stream",
     "text": [
      "\n",
      "Fold 0: 0.7978 accuracy in 11.69s.\n",
      "Fold 1: 0.79648 accuracy in 12.05s.\n",
      "Fold 2: 0.79605 accuracy in 11.75s.\n",
      "\n",
      "Average Accuracy: 0.79678\n",
      "Training Time: 35.49s\n"
     ]
    }
   ],
   "source": [
    "# Standard\n",
    "score_model(make_pipeline(\n",
    "    StandardScaler(),\n",
    "    SGDClassifier(\n",
    "        n_jobs = -1,\n",
    "        random_state = RANDOM_SEED,\n",
    "    )\n",
    "))"
   ]
  },
  {
   "cell_type": "code",
   "execution_count": 23,
   "id": "f030e263",
   "metadata": {},
   "outputs": [
    {
     "name": "stdout",
     "output_type": "stream",
     "text": [
      "\n",
      "Fold 0: 0.69701 accuracy in 3.51s.\n",
      "Fold 1: 0.72983 accuracy in 4.49s.\n",
      "Fold 2: 0.72015 accuracy in 5.23s.\n",
      "\n",
      "Average Accuracy: 0.71566\n",
      "Training Time: 13.23s\n"
     ]
    }
   ],
   "source": [
    "# Robust\n",
    "score_model(make_pipeline(\n",
    "    RobustScaler(),\n",
    "    SGDClassifier(\n",
    "        n_jobs = -1,\n",
    "        random_state = RANDOM_SEED,\n",
    "    )\n",
    "))"
   ]
  },
  {
   "cell_type": "code",
   "execution_count": 24,
   "id": "9705f8ac",
   "metadata": {},
   "outputs": [
    {
     "name": "stdout",
     "output_type": "stream",
     "text": [
      "\n",
      "Fold 0: 0.73475 accuracy in 0.85s.\n",
      "Fold 1: 0.74771 accuracy in 0.85s.\n",
      "Fold 2: 0.77091 accuracy in 0.8s.\n",
      "\n",
      "Average Accuracy: 0.75112\n",
      "Training Time: 2.5s\n"
     ]
    }
   ],
   "source": [
    "# MinMax\n",
    "score_model(make_pipeline(\n",
    "    MinMaxScaler(),\n",
    "    SGDClassifier(\n",
    "        n_jobs = -1,\n",
    "        random_state = RANDOM_SEED,\n",
    "    )\n",
    "))"
   ]
  },
  {
   "cell_type": "markdown",
   "id": "49e082ad",
   "metadata": {},
   "source": [
    "## 2.2 Regularization"
   ]
  },
  {
   "cell_type": "code",
   "execution_count": 25,
   "id": "197dc39e",
   "metadata": {},
   "outputs": [
    {
     "name": "stdout",
     "output_type": "stream",
     "text": [
      "\n",
      "Fold 0: 0.7933 accuracy in 30.89s.\n",
      "Fold 1: 0.79516 accuracy in 31.22s.\n",
      "Fold 2: 0.79515 accuracy in 31.48s.\n",
      "\n",
      "Average Accuracy: 0.79454\n",
      "Training Time: 93.59s\n"
     ]
    }
   ],
   "source": [
    "# None\n",
    "score_model(make_pipeline(\n",
    "    StandardScaler(),\n",
    "    SGDClassifier(\n",
    "        penalty = None,\n",
    "        n_jobs = -1,\n",
    "        random_state = RANDOM_SEED,\n",
    "    )\n",
    "))"
   ]
  },
  {
   "cell_type": "code",
   "execution_count": 26,
   "id": "d89d82f7",
   "metadata": {},
   "outputs": [
    {
     "name": "stdout",
     "output_type": "stream",
     "text": [
      "\n",
      "Fold 0: 0.79012 accuracy in 50.25s.\n",
      "Fold 1: 0.78628 accuracy in 51.23s.\n",
      "Fold 2: 0.77727 accuracy in 51.58s.\n",
      "\n",
      "Average Accuracy: 0.78456\n",
      "Training Time: 153.06s\n"
     ]
    }
   ],
   "source": [
    "# L1 Regularization\n",
    "score_model(make_pipeline(\n",
    "    StandardScaler(),\n",
    "    SGDClassifier(\n",
    "        penalty = 'l1',\n",
    "        n_jobs = -1,\n",
    "        random_state = RANDOM_SEED,\n",
    "    )\n",
    "))"
   ]
  },
  {
   "cell_type": "code",
   "execution_count": 27,
   "id": "49cc1654",
   "metadata": {},
   "outputs": [
    {
     "name": "stdout",
     "output_type": "stream",
     "text": [
      "\n",
      "Fold 0: 0.7978 accuracy in 11.75s.\n",
      "Fold 1: 0.79648 accuracy in 11.95s.\n",
      "Fold 2: 0.79605 accuracy in 11.7s.\n",
      "\n",
      "Average Accuracy: 0.79678\n",
      "Training Time: 35.39s\n"
     ]
    }
   ],
   "source": [
    "# L2 Regularization\n",
    "score_model(make_pipeline(\n",
    "    StandardScaler(),\n",
    "    SGDClassifier(\n",
    "        penalty = 'l2',\n",
    "        n_jobs = -1,\n",
    "        random_state = RANDOM_SEED,\n",
    "    )\n",
    "))"
   ]
  },
  {
   "cell_type": "code",
   "execution_count": 28,
   "id": "1a997f47",
   "metadata": {},
   "outputs": [
    {
     "name": "stdout",
     "output_type": "stream",
     "text": [
      "\n",
      "Fold 0: 0.7978 accuracy in 11.73s.\n",
      "Fold 1: 0.79648 accuracy in 12.04s.\n",
      "Fold 2: 0.79605 accuracy in 11.7s.\n",
      "\n",
      "Average Accuracy: 0.79678\n",
      "Training Time: 35.46s\n"
     ]
    }
   ],
   "source": [
    "# Elasticnet\n",
    "score_model(make_pipeline(\n",
    "    StandardScaler(),\n",
    "    SGDClassifier(\n",
    "        penalty = 'l2',\n",
    "        n_jobs = -1,\n",
    "        random_state = RANDOM_SEED,\n",
    "    )\n",
    "))"
   ]
  },
  {
   "cell_type": "markdown",
   "id": "3f2e716f",
   "metadata": {},
   "source": [
    "# 3. Linear SVC\n",
    "\n",
    "The default `SGDClassifier` is very similar to `LinearSVC`, but we check it separately since it's likely to outperform it."
   ]
  },
  {
   "cell_type": "code",
   "execution_count": 29,
   "id": "4c22dd93",
   "metadata": {},
   "outputs": [],
   "source": [
    "from sklearn.svm import LinearSVC"
   ]
  },
  {
   "cell_type": "markdown",
   "id": "b2df9a91",
   "metadata": {},
   "source": [
    "## 3.1 Scaling"
   ]
  },
  {
   "cell_type": "code",
   "execution_count": 30,
   "id": "9a55a54b",
   "metadata": {},
   "outputs": [
    {
     "name": "stdout",
     "output_type": "stream",
     "text": [
      "\n",
      "Fold 0: 0.80386 accuracy in 195.61s.\n",
      "Fold 1: 0.80098 accuracy in 168.43s.\n",
      "Fold 2: 0.79041 accuracy in 289.99s.\n",
      "\n",
      "Average Accuracy: 0.79842\n",
      "Training Time: 654.03s\n"
     ]
    }
   ],
   "source": [
    "# Standard\n",
    "score_model(make_pipeline(\n",
    "    StandardScaler(),\n",
    "    LinearSVC(\n",
    "        random_state = RANDOM_SEED,\n",
    "        dual = False\n",
    "    )\n",
    "))"
   ]
  },
  {
   "cell_type": "code",
   "execution_count": 31,
   "id": "d3f6b6b9",
   "metadata": {},
   "outputs": [
    {
     "name": "stdout",
     "output_type": "stream",
     "text": [
      "\n",
      "Fold 0: 0.79936 accuracy in 71.6s.\n",
      "Fold 1: 0.79732 accuracy in 56.58s.\n",
      "Fold 2: 0.78765 accuracy in 52.05s.\n",
      "\n",
      "Average Accuracy: 0.79478\n",
      "Training Time: 180.22s\n"
     ]
    }
   ],
   "source": [
    "# Robust\n",
    "score_model(make_pipeline(\n",
    "    RobustScaler(),\n",
    "    LinearSVC(\n",
    "        random_state = RANDOM_SEED,\n",
    "        dual = False\n",
    "    )\n",
    "))"
   ]
  },
  {
   "cell_type": "code",
   "execution_count": 32,
   "id": "37667d87",
   "metadata": {},
   "outputs": [
    {
     "name": "stdout",
     "output_type": "stream",
     "text": [
      "\n",
      "Fold 0: 0.8014 accuracy in 15.39s.\n",
      "Fold 1: 0.80716 accuracy in 15.22s.\n",
      "Fold 2: 0.79659 accuracy in 14.29s.\n",
      "\n",
      "Average Accuracy: 0.80172\n",
      "Training Time: 44.91s\n"
     ]
    }
   ],
   "source": [
    "# MinMax\n",
    "score_model(make_pipeline(\n",
    "    MinMaxScaler(),\n",
    "    LinearSVC(\n",
    "        random_state = RANDOM_SEED,\n",
    "        dual = False\n",
    "    )\n",
    "))"
   ]
  }
 ],
 "metadata": {
  "kernelspec": {
   "display_name": "Python 3 (ipykernel)",
   "language": "python",
   "name": "python3"
  },
  "language_info": {
   "codemirror_mode": {
    "name": "ipython",
    "version": 3
   },
   "file_extension": ".py",
   "mimetype": "text/x-python",
   "name": "python",
   "nbconvert_exporter": "python",
   "pygments_lexer": "ipython3",
   "version": "3.8.10"
  }
 },
 "nbformat": 4,
 "nbformat_minor": 5
}
