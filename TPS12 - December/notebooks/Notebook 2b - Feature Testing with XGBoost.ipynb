{
 "cells": [
  {
   "cell_type": "markdown",
   "id": "75272936",
   "metadata": {},
   "source": [
    "# TPS 12/21 - Feature Engineering\n",
    "\n",
    "In this notebook we test out some feature engineering techniques using XGBoost with default settings to see if we get any improvement over the baseline."
   ]
  },
  {
   "cell_type": "code",
   "execution_count": 1,
   "id": "f91d05e4",
   "metadata": {},
   "outputs": [],
   "source": [
    "# Global variables for testing changes to this notebook quickly\n",
    "RANDOM_SEED = 0\n",
    "NUM_FOLDS = 3\n",
    "TRAIN_SIZE = 500000"
   ]
  },
  {
   "cell_type": "code",
   "execution_count": 2,
   "id": "e34f9b31",
   "metadata": {},
   "outputs": [],
   "source": [
    "import numpy as np\n",
    "import pandas as pd\n",
    "import time\n",
    "import os\n",
    "import pyarrow\n",
    "import gc\n",
    "\n",
    "# Model/Evaluation\n",
    "from sklearn.base import clone\n",
    "from sklearn.pipeline import make_pipeline\n",
    "from sklearn.preprocessing import LabelEncoder\n",
    "from sklearn.model_selection import StratifiedKFold, train_test_split\n",
    "from sklearn.metrics import accuracy_score, recall_score\n",
    "from sklearn.inspection import permutation_importance\n",
    "from xgboost import XGBClassifier\n",
    "\n",
    "# Hide warnings\n",
    "import warnings\n",
    "warnings.filterwarnings('ignore')"
   ]
  },
  {
   "cell_type": "markdown",
   "id": "0a563bd9",
   "metadata": {},
   "source": [
    "# Load and Prepare Data"
   ]
  },
  {
   "cell_type": "code",
   "execution_count": 3,
   "id": "ff2f40c3",
   "metadata": {},
   "outputs": [
    {
     "name": "stdout",
     "output_type": "stream",
     "text": [
      "Training Size: 500000 rows, 53 cols\n",
      "Holdout Size: 3499999 rows, 53 cols\n",
      "\n"
     ]
    }
   ],
   "source": [
    "# Load full training data\n",
    "train = pd.read_feather('../data/train.feather')\n",
    "\n",
    "# Drop low/no variance \n",
    "train.drop([\"Soil_Type7\", \"Id\", \"Soil_Type15\"], axis=1, inplace=True)\n",
    "train = train[train.Cover_Type != 5]\n",
    "\n",
    "# Label Encoding\n",
    "new_encoder = LabelEncoder()\n",
    "train[\"Cover_Type\"] = new_encoder.fit_transform(train[\"Cover_Type\"])\n",
    "\n",
    "# Split synthetic data\n",
    "train, test = train_test_split(\n",
    "    train, \n",
    "    train_size = TRAIN_SIZE, \n",
    "    random_state = RANDOM_SEED,\n",
    "    stratify = train['Cover_Type'],\n",
    ")\n",
    "y_train = train['Cover_Type']\n",
    "\n",
    "\n",
    "# features, data structure for summary scores\n",
    "features = [x for x in train.columns if x not in ['Id','Cover_Type']]\n",
    "nonsoil = [x for x in features if not x.startswith('Soil_Type')]\n",
    "new_rows = list()\n",
    "gc.collect()\n",
    "\n",
    "print(f'Training Size: {train.shape[0]} rows, {train.shape[1]} cols')\n",
    "print(f'Holdout Size: {test.shape[0]} rows, {test.shape[1]} cols\\n')"
   ]
  },
  {
   "cell_type": "markdown",
   "id": "1c57173e",
   "metadata": {},
   "source": [
    "# Model and Scoring Function"
   ]
  },
  {
   "cell_type": "code",
   "execution_count": 4,
   "id": "3537e3bb",
   "metadata": {},
   "outputs": [],
   "source": [
    "# XGBoost Classifier\n",
    "xgb_pipeline = make_pipeline(\n",
    "    XGBClassifier(\n",
    "        booster = 'gbtree',\n",
    "        tree_method = 'hist',\n",
    "        eval_metric = 'mlogloss',\n",
    "        random_state = RANDOM_SEED,\n",
    "    ),\n",
    ")"
   ]
  },
  {
   "cell_type": "code",
   "execution_count": 5,
   "id": "0a022357",
   "metadata": {},
   "outputs": [],
   "source": [
    "def score_features(sklearn_model, processing = None):\n",
    "    \n",
    "    # Original Training/Test Split\n",
    "    features = [x for x in train.columns if x not in ['Id','Cover_Type']]\n",
    "    X_temp, X_test = train[features], test[features]\n",
    "    y_temp, y_test = train['Cover_Type'], test['Cover_Type']\n",
    "    \n",
    "    # Feature Engineering\n",
    "    if processing:\n",
    "        X_temp = processing(X_temp)\n",
    "        X_test = processing(X_test)\n",
    "    features = [x for x in X_temp.columns]\n",
    "    \n",
    "    # Store the out-of-fold predictions\n",
    "    test_preds = np.zeros((X_test.shape[0],6))\n",
    "    oof_preds = np.zeros((X_temp.shape[0],))\n",
    "    fi_scores = np.zeros((X_temp.shape[1],))\n",
    "    scores, times = np.zeros(NUM_FOLDS), np.zeros(NUM_FOLDS)\n",
    "    \n",
    "    # Stratified k-fold cross-validation\n",
    "    skf = StratifiedKFold(n_splits = NUM_FOLDS, shuffle = True, random_state = RANDOM_SEED)\n",
    "    for fold, (train_idx, valid_idx) in enumerate(skf.split(X_temp,y_temp)):\n",
    "       \n",
    "        # Training and Validation Sets\n",
    "        X_train, X_valid = X_temp.iloc[train_idx], X_temp.iloc[valid_idx]\n",
    "        y_train, y_valid = y_temp.iloc[train_idx], y_temp.iloc[valid_idx]\n",
    "        \n",
    "        # Create model\n",
    "        start = time.time()\n",
    "        model = clone(sklearn_model)\n",
    "        model.fit(X_train, y_train)\n",
    "\n",
    "        # Permutation Importance\n",
    "        result = permutation_importance(\n",
    "            model, X_valid, y_valid, \n",
    "            n_repeats=10, random_state=RANDOM_SEED\n",
    "        )\n",
    "        fi_scores += result.importances_mean / NUM_FOLDS\n",
    "\n",
    "        # validation/holdout predictions\n",
    "        valid_preds = np.ravel(model.predict(X_valid))\n",
    "        oof_preds[valid_idx] = valid_preds\n",
    "        test_preds += model.predict_proba(X_test)\n",
    "\n",
    "        # Save scores and times\n",
    "        scores[fold] = accuracy_score(y_valid, valid_preds)\n",
    "        end = time.time()\n",
    "        times[fold] = end-start\n",
    "        print(f'Fold {fold} Accuracy:  {round(scores[fold], 5)} in {round(end-start,2)}s.')\n",
    "        time.sleep(0.5)\n",
    "    \n",
    "    nonsoil = [x for x in X_test.columns if not x.startswith('Soil_Type')]\n",
    "    test_preds = np.argmax(test_preds, axis = 1)\n",
    "    test_score = accuracy_score(y_test, test_preds)\n",
    "    #print('\\n'+model.__class__.__name__)\n",
    "    print(\"Train Accuracy:\", round(scores.mean(), 5))\n",
    "    print('Test Accuracy:', round(test_score, 5))\n",
    "    print(f'Training Time: {round(times.sum(), 2)}s')\n",
    "    \n",
    "    fi_scores = pd.Series(\n",
    "        data = fi_scores, \n",
    "        index = features\n",
    "    ).loc[nonsoil].sort_values()\n",
    "    \n",
    "    return scores.mean(), oof_preds, test_score, fi_scores"
   ]
  },
  {
   "cell_type": "markdown",
   "id": "933d44bc",
   "metadata": {},
   "source": [
    "# XGBoost Baseline"
   ]
  },
  {
   "cell_type": "code",
   "execution_count": 6,
   "id": "217f3e60",
   "metadata": {},
   "outputs": [
    {
     "name": "stdout",
     "output_type": "stream",
     "text": [
      "Fold 0 Accuracy:  0.95743 in 154.26s.\n",
      "Fold 1 Accuracy:  0.95725 in 153.69s.\n",
      "Fold 2 Accuracy:  0.95721 in 156.14s.\n",
      "Train Accuracy: 0.9573\n",
      "Test Accuracy: 0.95816\n",
      "Training Time: 464.09s\n"
     ]
    },
    {
     "data": {
      "text/plain": [
       "Hillshade_9am                         0.000039\n",
       "Slope                                 0.000052\n",
       "Aspect                                0.000066\n",
       "Wilderness_Area2                      0.000083\n",
       "Hillshade_3pm                         0.000094\n",
       "Hillshade_Noon                        0.000512\n",
       "Wilderness_Area4                      0.002685\n",
       "Wilderness_Area1                      0.010470\n",
       "Horizontal_Distance_To_Hydrology      0.010586\n",
       "Vertical_Distance_To_Hydrology        0.018294\n",
       "Wilderness_Area3                      0.019530\n",
       "Horizontal_Distance_To_Fire_Points    0.031450\n",
       "Horizontal_Distance_To_Roadways       0.047001\n",
       "Elevation                             0.460613\n",
       "dtype: float64"
      ]
     },
     "execution_count": 6,
     "metadata": {},
     "output_type": "execute_result"
    }
   ],
   "source": [
    "\n",
    "cv_score, oof_preds, test_score, fi_scores = score_features(\n",
    "    xgb_pipeline\n",
    ")\n",
    "\n",
    "new_rows.append((\n",
    "    'Baseline', cv_score, test_score,\n",
    "     *recall_score(y_train, oof_preds, average = None)\n",
    "))\n",
    "\n",
    "fi_scores"
   ]
  },
  {
   "cell_type": "markdown",
   "id": "53dabc54",
   "metadata": {},
   "source": [
    "# Feature Engineering\n",
    "\n",
    "These function perform various feature cleaning and engineering tasks"
   ]
  },
  {
   "cell_type": "markdown",
   "id": "7d05bda7",
   "metadata": {},
   "source": [
    "## 1. Fix Aspect Range"
   ]
  },
  {
   "cell_type": "code",
   "execution_count": 7,
   "id": "74e230fb",
   "metadata": {},
   "outputs": [],
   "source": [
    "# Fix aspect\n",
    "def fix_aspect(data):\n",
    "    \n",
    "    df = data.copy()\n",
    "    \n",
    "    df[\"Aspect\"][df[\"Aspect\"] < 0] += 360\n",
    "    df[\"Aspect\"][df[\"Aspect\"] > 359] -= 360\n",
    "    \n",
    "    return df"
   ]
  },
  {
   "cell_type": "code",
   "execution_count": 8,
   "id": "fee9001f",
   "metadata": {},
   "outputs": [
    {
     "name": "stdout",
     "output_type": "stream",
     "text": [
      "Fold 0 Accuracy:  0.9575 in 155.46s.\n",
      "Fold 1 Accuracy:  0.95721 in 155.15s.\n",
      "Fold 2 Accuracy:  0.95708 in 155.96s.\n",
      "Train Accuracy: 0.95726\n",
      "Test Accuracy: 0.95816\n",
      "Training Time: 466.57s\n"
     ]
    },
    {
     "data": {
      "text/plain": [
       "Hillshade_9am                        -0.000038\n",
       "Slope                                -0.000030\n",
       "Hillshade_3pm                        -0.000007\n",
       "Aspect                                0.000013\n",
       "Wilderness_Area2                      0.000072\n",
       "Hillshade_Noon                        0.000387\n",
       "Wilderness_Area4                      0.002617\n",
       "Wilderness_Area1                      0.010499\n",
       "Horizontal_Distance_To_Hydrology      0.010533\n",
       "Vertical_Distance_To_Hydrology        0.018263\n",
       "Wilderness_Area3                      0.019499\n",
       "Horizontal_Distance_To_Fire_Points    0.031355\n",
       "Horizontal_Distance_To_Roadways       0.046910\n",
       "Elevation                             0.460702\n",
       "dtype: float64"
      ]
     },
     "execution_count": 8,
     "metadata": {},
     "output_type": "execute_result"
    }
   ],
   "source": [
    "cv_score, oof_preds, test_score, fi_scores = score_features(\n",
    "    xgb_pipeline, \n",
    "    fix_aspect\n",
    ")\n",
    "\n",
    "new_rows.append((\n",
    "    'Fix_Aspect', cv_score, test_score,\n",
    "     *recall_score(y_train, oof_preds, average = None)\n",
    "))\n",
    "\n",
    "fi_scores"
   ]
  },
  {
   "cell_type": "markdown",
   "id": "86561f1e",
   "metadata": {},
   "source": [
    "## 2. Fix Hillshade Range"
   ]
  },
  {
   "cell_type": "code",
   "execution_count": 9,
   "id": "aa9f9463",
   "metadata": {},
   "outputs": [],
   "source": [
    "# Fix Hillshade\n",
    "def fix_hillshade(data):\n",
    "    \n",
    "    df = data.copy()\n",
    "    \n",
    "    df.loc[df[\"Hillshade_9am\"] < 0, \"Hillshade_9am\"] = 0\n",
    "    df.loc[df[\"Hillshade_Noon\"] < 0, \"Hillshade_Noon\"] = 0\n",
    "    df.loc[df[\"Hillshade_3pm\"] < 0, \"Hillshade_3pm\"] = 0\n",
    "    df.loc[df[\"Hillshade_9am\"] > 255, \"Hillshade_9am\"] = 255\n",
    "    df.loc[df[\"Hillshade_Noon\"] > 255, \"Hillshade_Noon\"] = 255\n",
    "    df.loc[df[\"Hillshade_3pm\"] > 255, \"Hillshade_3pm\"] = 255\n",
    "    \n",
    "    return df"
   ]
  },
  {
   "cell_type": "code",
   "execution_count": 10,
   "id": "0485e24c",
   "metadata": {},
   "outputs": [
    {
     "name": "stdout",
     "output_type": "stream",
     "text": [
      "Fold 0 Accuracy:  0.95743 in 155.3s.\n",
      "Fold 1 Accuracy:  0.95679 in 155.59s.\n",
      "Fold 2 Accuracy:  0.95705 in 156.2s.\n",
      "Train Accuracy: 0.95709\n",
      "Test Accuracy: 0.9581\n",
      "Training Time: 467.09s\n"
     ]
    },
    {
     "data": {
      "text/plain": [
       "Hillshade_9am                        -0.000019\n",
       "Hillshade_3pm                        -0.000009\n",
       "Aspect                                0.000084\n",
       "Wilderness_Area2                      0.000090\n",
       "Slope                                 0.000090\n",
       "Hillshade_Noon                        0.000410\n",
       "Wilderness_Area4                      0.002709\n",
       "Wilderness_Area1                      0.010068\n",
       "Horizontal_Distance_To_Hydrology      0.010418\n",
       "Vertical_Distance_To_Hydrology        0.018162\n",
       "Wilderness_Area3                      0.019812\n",
       "Horizontal_Distance_To_Fire_Points    0.031145\n",
       "Horizontal_Distance_To_Roadways       0.046771\n",
       "Elevation                             0.460368\n",
       "dtype: float64"
      ]
     },
     "execution_count": 10,
     "metadata": {},
     "output_type": "execute_result"
    }
   ],
   "source": [
    "cv_score, oof_preds, test_score, fi_scores = score_features(\n",
    "    xgb_pipeline, \n",
    "    fix_hillshade\n",
    ")\n",
    "\n",
    "new_rows.append((\n",
    "    'Fix_Hillshade', cv_score, test_score,\n",
    "     *recall_score(y_train, oof_preds, average = None)\n",
    "))\n",
    "\n",
    "fi_scores"
   ]
  },
  {
   "cell_type": "markdown",
   "id": "6a67165d",
   "metadata": {},
   "source": [
    "## 3. Water Distance Features"
   ]
  },
  {
   "cell_type": "code",
   "execution_count": 11,
   "id": "b21a7665",
   "metadata": {},
   "outputs": [],
   "source": [
    "# Distance to Water\n",
    "def water_distance_features(data):\n",
    "    df = data.copy()\n",
    "    \n",
    "    # use float64 for squaring\n",
    "    df[\"Horizontal_Distance_To_Hydrology\"] = df[\"Horizontal_Distance_To_Hydrology\"].astype('float64')\n",
    "    df[\"Vertical_Distance_To_Hydrology\"] = df[\"Vertical_Distance_To_Hydrology\"].astype('float64')\n",
    "    \n",
    "    # compute metrics\n",
    "    df[\"Hydro_Taxicab\"] = np.abs(df[\"Horizontal_Distance_To_Hydrology\"]) + np.abs(df[\"Vertical_Distance_To_Hydrology\"])\n",
    "    df[\"Hydro_Euclid\"] = (df[\"Horizontal_Distance_To_Hydrology\"]**2 + np.abs(df[\"Vertical_Distance_To_Hydrology\"])**2)**0.5\n",
    "    \n",
    "    # convert back\n",
    "    df[\"Horizontal_Distance_To_Hydrology\"] = df[\"Horizontal_Distance_To_Hydrology\"].astype('float32')\n",
    "    df[\"Vertical_Distance_To_Hydrology\"] = df[\"Vertical_Distance_To_Hydrology\"].astype('float32')\n",
    "    df[\"Hydro_Taxicab\"] = df[\"Hydro_Taxicab\"].astype('float32')\n",
    "    df[\"Hydro_Euclid\"] = df[\"Hydro_Euclid\"].astype('float32')\n",
    "    \n",
    "    return df"
   ]
  },
  {
   "cell_type": "code",
   "execution_count": 12,
   "id": "587f0c29",
   "metadata": {},
   "outputs": [
    {
     "name": "stdout",
     "output_type": "stream",
     "text": [
      "Fold 0 Accuracy:  0.9573 in 171.85s.\n",
      "Fold 1 Accuracy:  0.95664 in 172.12s.\n",
      "Fold 2 Accuracy:  0.95698 in 169.63s.\n",
      "Train Accuracy: 0.95697\n",
      "Test Accuracy: 0.95808\n",
      "Training Time: 513.61s\n"
     ]
    },
    {
     "data": {
      "text/plain": [
       "Hillshade_9am                        -0.000067\n",
       "Slope                                -0.000030\n",
       "Hillshade_3pm                         0.000033\n",
       "Wilderness_Area2                      0.000056\n",
       "Aspect                                0.000059\n",
       "Hillshade_Noon                        0.000379\n",
       "Horizontal_Distance_To_Hydrology      0.000436\n",
       "Hydro_Euclid                          0.000669\n",
       "Wilderness_Area4                      0.002630\n",
       "Hydro_Taxicab                         0.006645\n",
       "Wilderness_Area1                      0.010222\n",
       "Vertical_Distance_To_Hydrology        0.014285\n",
       "Wilderness_Area3                      0.019672\n",
       "Horizontal_Distance_To_Fire_Points    0.031091\n",
       "Horizontal_Distance_To_Roadways       0.046837\n",
       "Elevation                             0.460220\n",
       "dtype: float64"
      ]
     },
     "execution_count": 12,
     "metadata": {},
     "output_type": "execute_result"
    }
   ],
   "source": [
    "cv_score, oof_preds, test_score, fi_scores = score_features(\n",
    "    xgb_pipeline, \n",
    "    water_distance_features\n",
    ")\n",
    "\n",
    "new_rows.append((\n",
    "    'Water_Dist', cv_score, test_score,\n",
    "     *recall_score(y_train, oof_preds, average = None)\n",
    "))\n",
    "\n",
    "fi_scores"
   ]
  },
  {
   "cell_type": "markdown",
   "id": "0f6e7127",
   "metadata": {},
   "source": [
    "## 4. Count Features"
   ]
  },
  {
   "cell_type": "code",
   "execution_count": 13,
   "id": "e7f701ac",
   "metadata": {},
   "outputs": [],
   "source": [
    "# Create count features\n",
    "def count_features(data):\n",
    "    \n",
    "    df = data.copy()\n",
    "    soil_features = [x for x in df.columns if x.startswith(\"Soil_Type\")]\n",
    "    wilderness_features = [x for x in df.columns if x.startswith(\"Wilderness_Area\")]\n",
    "\n",
    "    # Count features\n",
    "    df[\"Soil_Count\"] = df[soil_features].apply(sum, axis=1)\n",
    "    df[\"Wilderness_Count\"] = df[wilderness_features].apply(sum, axis=1)\n",
    "    \n",
    "    return df"
   ]
  },
  {
   "cell_type": "code",
   "execution_count": 14,
   "id": "ff32f654",
   "metadata": {},
   "outputs": [
    {
     "name": "stdout",
     "output_type": "stream",
     "text": [
      "Fold 0 Accuracy:  0.95967 in 182.14s.\n",
      "Fold 1 Accuracy:  0.95925 in 180.58s.\n",
      "Fold 2 Accuracy:  0.95918 in 178.6s.\n",
      "Train Accuracy: 0.95937\n",
      "Test Accuracy: 0.96015\n",
      "Training Time: 541.32s\n"
     ]
    },
    {
     "data": {
      "text/plain": [
       "Slope                                -0.000033\n",
       "Hillshade_9am                        -0.000026\n",
       "Hillshade_3pm                         0.000008\n",
       "Aspect                                0.000071\n",
       "Wilderness_Area2                      0.000103\n",
       "Hillshade_Noon                        0.000430\n",
       "Wilderness_Count                      0.000466\n",
       "Wilderness_Area4                      0.004969\n",
       "Horizontal_Distance_To_Hydrology      0.010961\n",
       "Wilderness_Area1                      0.012118\n",
       "Wilderness_Area3                      0.018808\n",
       "Vertical_Distance_To_Hydrology        0.018826\n",
       "Horizontal_Distance_To_Fire_Points    0.032385\n",
       "Soil_Count                            0.035849\n",
       "Horizontal_Distance_To_Roadways       0.048730\n",
       "Elevation                             0.461500\n",
       "dtype: float64"
      ]
     },
     "execution_count": 14,
     "metadata": {},
     "output_type": "execute_result"
    }
   ],
   "source": [
    "cv_score, oof_preds, test_score, fi_scores = score_features(\n",
    "    xgb_pipeline, \n",
    "    count_features\n",
    ")\n",
    "\n",
    "new_rows.append((\n",
    "    'Count', cv_score, test_score,\n",
    "     *recall_score(y_train, oof_preds, average = None)\n",
    "))\n",
    "\n",
    "fi_scores"
   ]
  },
  {
   "cell_type": "markdown",
   "id": "b60db103",
   "metadata": {},
   "source": [
    "## 5. Shade Features"
   ]
  },
  {
   "cell_type": "code",
   "execution_count": 15,
   "id": "fab36149",
   "metadata": {},
   "outputs": [],
   "source": [
    "# Create Shade features\n",
    "def new_shade_features(data):\n",
    "    \n",
    "    df = data.copy()\n",
    "    shade_features = ['Hillshade_9am', 'Hillshade_Noon', 'Hillshade_3pm']\n",
    "\n",
    "    # Hillshade\n",
    "    df[\"Hillshade_Avg\"] = df[shade_features].mean(axis=1)\n",
    "    df['Hillshade_Range'] = df[shade_features].max(axis=1) - df[shade_features].min(axis=1)\n",
    "    \n",
    "    return df"
   ]
  },
  {
   "cell_type": "code",
   "execution_count": 16,
   "id": "61ff9a0c",
   "metadata": {},
   "outputs": [
    {
     "name": "stdout",
     "output_type": "stream",
     "text": [
      "Fold 0 Accuracy:  0.95715 in 181.81s.\n",
      "Fold 1 Accuracy:  0.95684 in 182.05s.\n",
      "Fold 2 Accuracy:  0.95713 in 179.93s.\n",
      "Train Accuracy: 0.95704\n",
      "Test Accuracy: 0.95813\n",
      "Training Time: 543.79s\n"
     ]
    },
    {
     "data": {
      "text/plain": [
       "Hillshade_3pm                        -0.000052\n",
       "Slope                                -0.000030\n",
       "Hillshade_9am                        -0.000011\n",
       "Aspect                               -0.000002\n",
       "Hillshade_Avg                         0.000035\n",
       "Hillshade_Range                       0.000047\n",
       "Wilderness_Area2                      0.000090\n",
       "Hillshade_Noon                        0.000373\n",
       "Wilderness_Area4                      0.002604\n",
       "Horizontal_Distance_To_Hydrology      0.010375\n",
       "Wilderness_Area1                      0.010522\n",
       "Vertical_Distance_To_Hydrology        0.018211\n",
       "Wilderness_Area3                      0.019498\n",
       "Horizontal_Distance_To_Fire_Points    0.031270\n",
       "Horizontal_Distance_To_Roadways       0.046671\n",
       "Elevation                             0.460469\n",
       "dtype: float64"
      ]
     },
     "execution_count": 16,
     "metadata": {},
     "output_type": "execute_result"
    }
   ],
   "source": [
    "cv_score, oof_preds, test_score, fi_scores = score_features(\n",
    "    xgb_pipeline, \n",
    "    new_shade_features\n",
    ")\n",
    "\n",
    "new_rows.append((\n",
    "    'Shade_Features', cv_score, test_score,\n",
    "     *recall_score(y_train, oof_preds, average = None)\n",
    "))\n",
    "\n",
    "fi_scores"
   ]
  },
  {
   "cell_type": "markdown",
   "id": "62805d10",
   "metadata": {},
   "source": [
    "## 6. Distance Interaction Features"
   ]
  },
  {
   "cell_type": "code",
   "execution_count": 17,
   "id": "ef029d9d",
   "metadata": {},
   "outputs": [],
   "source": [
    "def distance_interactions(data):\n",
    "    \n",
    "    df = data.copy()\n",
    "    df['Hydro_Fire_1'] = df['Horizontal_Distance_To_Hydrology'] + df['Horizontal_Distance_To_Fire_Points']\n",
    "    df['Hydro_Fire_2'] = abs(df['Horizontal_Distance_To_Hydrology'] - df['Horizontal_Distance_To_Fire_Points'])\n",
    "    df['Hydro_Road_1'] = abs(df['Horizontal_Distance_To_Hydrology'] + df['Horizontal_Distance_To_Roadways'])\n",
    "    df['Hydro_Road_2'] = abs(df['Horizontal_Distance_To_Hydrology'] - df['Horizontal_Distance_To_Roadways'])\n",
    "    df['Fire_Road_1'] = abs(df['Horizontal_Distance_To_Fire_Points'] + df['Horizontal_Distance_To_Roadways'])\n",
    "    df['Fire_Road_2'] = abs(df['Horizontal_Distance_To_Fire_Points'] - df['Horizontal_Distance_To_Roadways'])\n",
    "    return df"
   ]
  },
  {
   "cell_type": "code",
   "execution_count": 18,
   "id": "1ed93dda",
   "metadata": {},
   "outputs": [
    {
     "name": "stdout",
     "output_type": "stream",
     "text": [
      "Fold 0 Accuracy:  0.95825 in 179.99s.\n",
      "Fold 1 Accuracy:  0.95807 in 179.14s.\n",
      "Fold 2 Accuracy:  0.95811 in 180.59s.\n",
      "Train Accuracy: 0.95814\n",
      "Test Accuracy: 0.95879\n",
      "Training Time: 539.72s\n"
     ]
    },
    {
     "data": {
      "text/plain": [
       "Slope                                -0.000006\n",
       "Hillshade_3pm                         0.000001\n",
       "Hillshade_9am                         0.000049\n",
       "Wilderness_Area2                      0.000105\n",
       "Aspect                                0.000118\n",
       "Hillshade_Noon                        0.000416\n",
       "Horizontal_Distance_To_Fire_Points    0.001680\n",
       "Hydro_Road_1                          0.001819\n",
       "Wilderness_Area4                      0.002963\n",
       "Hydro_Road_2                          0.003320\n",
       "Fire_Road_2                           0.003695\n",
       "Hydro_Fire_1                          0.005899\n",
       "Horizontal_Distance_To_Hydrology      0.006099\n",
       "Hydro_Fire_2                          0.006586\n",
       "Fire_Road_1                           0.006747\n",
       "Wilderness_Area1                      0.010478\n",
       "Vertical_Distance_To_Hydrology        0.018505\n",
       "Wilderness_Area3                      0.019864\n",
       "Horizontal_Distance_To_Roadways       0.023743\n",
       "Elevation                             0.460564\n",
       "dtype: float64"
      ]
     },
     "execution_count": 18,
     "metadata": {},
     "output_type": "execute_result"
    }
   ],
   "source": [
    "cv_score, oof_preds, test_score, fi_scores = score_features(\n",
    "    xgb_pipeline, \n",
    "    distance_interactions\n",
    ")\n",
    "\n",
    "new_rows.append((\n",
    "    'Dist_Interactions', cv_score, test_score,\n",
    "     *recall_score(y_train, oof_preds, average = None)\n",
    "))\n",
    "\n",
    "fi_scores"
   ]
  },
  {
   "cell_type": "markdown",
   "id": "10add80e",
   "metadata": {},
   "source": [
    "## 7. Elevation Interaction"
   ]
  },
  {
   "cell_type": "code",
   "execution_count": 19,
   "id": "a4b92868",
   "metadata": {},
   "outputs": [],
   "source": [
    "def elevation_interactions(data):\n",
    "    \n",
    "    df = data.copy()\n",
    "    df['EHiElv'] = df['Horizontal_Distance_To_Roadways'] * df['Elevation']\n",
    "    df['EViElv'] = df['Vertical_Distance_To_Hydrology'] * df['Elevation']\n",
    "    df['EVDtH'] = df.Elevation - df.Vertical_Distance_To_Hydrology\n",
    "    df['EHDtH'] = df.Elevation - df.Horizontal_Distance_To_Hydrology * 0.2\n",
    "    return df"
   ]
  },
  {
   "cell_type": "code",
   "execution_count": 20,
   "id": "24f68c48",
   "metadata": {},
   "outputs": [
    {
     "name": "stdout",
     "output_type": "stream",
     "text": [
      "Fold 0 Accuracy:  0.95806 in 207.57s.\n",
      "Fold 1 Accuracy:  0.95754 in 212.56s.\n",
      "Fold 2 Accuracy:  0.9583 in 194.59s.\n",
      "Train Accuracy: 0.95797\n",
      "Test Accuracy: 0.95882\n",
      "Training Time: 614.72s\n"
     ]
    },
    {
     "data": {
      "text/plain": [
       "Hillshade_9am                        -0.000006\n",
       "Slope                                 0.000002\n",
       "Hillshade_3pm                         0.000024\n",
       "EViElv                                0.000026\n",
       "EHiElv                                0.000035\n",
       "Wilderness_Area2                      0.000079\n",
       "Aspect                                0.000111\n",
       "Hillshade_Noon                        0.000404\n",
       "Vertical_Distance_To_Hydrology        0.000465\n",
       "Wilderness_Area4                      0.003132\n",
       "Horizontal_Distance_To_Hydrology      0.004215\n",
       "Wilderness_Area1                      0.010090\n",
       "Wilderness_Area3                      0.019532\n",
       "Horizontal_Distance_To_Fire_Points    0.031707\n",
       "EHDtH                                 0.034618\n",
       "Horizontal_Distance_To_Roadways       0.046862\n",
       "Elevation                             0.135773\n",
       "EVDtH                                 0.148534\n",
       "dtype: float64"
      ]
     },
     "execution_count": 20,
     "metadata": {},
     "output_type": "execute_result"
    }
   ],
   "source": [
    "cv_score, oof_preds, test_score, fi_scores = score_features(\n",
    "    xgb_pipeline, \n",
    "    elevation_interactions\n",
    ")\n",
    "\n",
    "new_rows.append((\n",
    "    'Elev_Interactions', cv_score, test_score,\n",
    "     *recall_score(y_train, oof_preds, average = None)\n",
    "))\n",
    "\n",
    "fi_scores"
   ]
  },
  {
   "cell_type": "markdown",
   "id": "323de61b",
   "metadata": {},
   "source": [
    "## 8. Misc Features"
   ]
  },
  {
   "cell_type": "code",
   "execution_count": 21,
   "id": "0efecbb9",
   "metadata": {},
   "outputs": [],
   "source": [
    "def misc_features(data):\n",
    "    \n",
    "    df = data.copy()\n",
    "    df['Highwater'] = (df.Vertical_Distance_To_Hydrology < 0).astype(int)\n",
    "    df['Hillshade_3pm_is_zero'] = (df.Hillshade_3pm == 0).astype(int)\n",
    "    return df"
   ]
  },
  {
   "cell_type": "code",
   "execution_count": 22,
   "id": "20983420",
   "metadata": {},
   "outputs": [
    {
     "name": "stdout",
     "output_type": "stream",
     "text": [
      "Fold 0 Accuracy:  0.95743 in 173.15s.\n",
      "Fold 1 Accuracy:  0.95725 in 170.58s.\n",
      "Fold 2 Accuracy:  0.95721 in 169.39s.\n",
      "Train Accuracy: 0.9573\n",
      "Test Accuracy: 0.95816\n",
      "Training Time: 513.12s\n"
     ]
    },
    {
     "data": {
      "text/plain": [
       "Highwater                             0.000000\n",
       "Hillshade_3pm_is_zero                 0.000000\n",
       "Hillshade_9am                         0.000039\n",
       "Slope                                 0.000052\n",
       "Aspect                                0.000066\n",
       "Wilderness_Area2                      0.000083\n",
       "Hillshade_3pm                         0.000094\n",
       "Hillshade_Noon                        0.000512\n",
       "Wilderness_Area4                      0.002685\n",
       "Wilderness_Area1                      0.010470\n",
       "Horizontal_Distance_To_Hydrology      0.010586\n",
       "Vertical_Distance_To_Hydrology        0.018294\n",
       "Wilderness_Area3                      0.019530\n",
       "Horizontal_Distance_To_Fire_Points    0.031450\n",
       "Horizontal_Distance_To_Roadways       0.047001\n",
       "Elevation                             0.460613\n",
       "dtype: float64"
      ]
     },
     "execution_count": 22,
     "metadata": {},
     "output_type": "execute_result"
    }
   ],
   "source": [
    "cv_score, oof_preds, test_score, fi_scores = score_features(\n",
    "    xgb_pipeline, \n",
    "    misc_features\n",
    ")\n",
    "\n",
    "new_rows.append((\n",
    "    'Misc_Features', cv_score, test_score,\n",
    "     *recall_score(y_train, oof_preds, average = None)\n",
    "))\n",
    "\n",
    "fi_scores"
   ]
  },
  {
   "cell_type": "markdown",
   "id": "6e609f4d",
   "metadata": {},
   "source": [
    "# Summary"
   ]
  },
  {
   "cell_type": "code",
   "execution_count": 23,
   "id": "3070f02d",
   "metadata": {},
   "outputs": [
    {
     "data": {
      "text/html": [
       "<div>\n",
       "<style scoped>\n",
       "    .dataframe tbody tr th:only-of-type {\n",
       "        vertical-align: middle;\n",
       "    }\n",
       "\n",
       "    .dataframe tbody tr th {\n",
       "        vertical-align: top;\n",
       "    }\n",
       "\n",
       "    .dataframe thead th {\n",
       "        text-align: right;\n",
       "    }\n",
       "</style>\n",
       "<table border=\"1\" class=\"dataframe\">\n",
       "  <thead>\n",
       "    <tr style=\"text-align: right;\">\n",
       "      <th></th>\n",
       "      <th>features</th>\n",
       "      <th>cv_scores</th>\n",
       "      <th>holdout</th>\n",
       "      <th>recall_0</th>\n",
       "      <th>recall_1</th>\n",
       "      <th>recall_2</th>\n",
       "      <th>recall_3</th>\n",
       "      <th>recall_4</th>\n",
       "      <th>recall_5</th>\n",
       "    </tr>\n",
       "  </thead>\n",
       "  <tbody>\n",
       "    <tr>\n",
       "      <th>3</th>\n",
       "      <td>Water_Dist</td>\n",
       "      <td>0.956974</td>\n",
       "      <td>0.958081</td>\n",
       "      <td>0.963175</td>\n",
       "      <td>0.971520</td>\n",
       "      <td>0.872956</td>\n",
       "      <td>0.191489</td>\n",
       "      <td>0.393557</td>\n",
       "      <td>0.654375</td>\n",
       "    </tr>\n",
       "    <tr>\n",
       "      <th>2</th>\n",
       "      <td>Fix_Hillshade</td>\n",
       "      <td>0.957090</td>\n",
       "      <td>0.958101</td>\n",
       "      <td>0.963453</td>\n",
       "      <td>0.971520</td>\n",
       "      <td>0.871975</td>\n",
       "      <td>0.234043</td>\n",
       "      <td>0.408964</td>\n",
       "      <td>0.655274</td>\n",
       "    </tr>\n",
       "    <tr>\n",
       "      <th>5</th>\n",
       "      <td>Shade_Features</td>\n",
       "      <td>0.957042</td>\n",
       "      <td>0.958129</td>\n",
       "      <td>0.963300</td>\n",
       "      <td>0.971630</td>\n",
       "      <td>0.872507</td>\n",
       "      <td>0.127660</td>\n",
       "      <td>0.397059</td>\n",
       "      <td>0.652962</td>\n",
       "    </tr>\n",
       "    <tr>\n",
       "      <th>0</th>\n",
       "      <td>Baseline</td>\n",
       "      <td>0.957298</td>\n",
       "      <td>0.958156</td>\n",
       "      <td>0.963497</td>\n",
       "      <td>0.971616</td>\n",
       "      <td>0.874714</td>\n",
       "      <td>0.212766</td>\n",
       "      <td>0.399860</td>\n",
       "      <td>0.657330</td>\n",
       "    </tr>\n",
       "    <tr>\n",
       "      <th>8</th>\n",
       "      <td>Misc_Features</td>\n",
       "      <td>0.957298</td>\n",
       "      <td>0.958156</td>\n",
       "      <td>0.963497</td>\n",
       "      <td>0.971616</td>\n",
       "      <td>0.874714</td>\n",
       "      <td>0.212766</td>\n",
       "      <td>0.399860</td>\n",
       "      <td>0.657330</td>\n",
       "    </tr>\n",
       "    <tr>\n",
       "      <th>1</th>\n",
       "      <td>Fix_Aspect</td>\n",
       "      <td>0.957264</td>\n",
       "      <td>0.958158</td>\n",
       "      <td>0.963529</td>\n",
       "      <td>0.971686</td>\n",
       "      <td>0.872956</td>\n",
       "      <td>0.234043</td>\n",
       "      <td>0.398459</td>\n",
       "      <td>0.657459</td>\n",
       "    </tr>\n",
       "    <tr>\n",
       "      <th>6</th>\n",
       "      <td>Dist_Interactions</td>\n",
       "      <td>0.958142</td>\n",
       "      <td>0.958786</td>\n",
       "      <td>0.964565</td>\n",
       "      <td>0.972111</td>\n",
       "      <td>0.875981</td>\n",
       "      <td>0.170213</td>\n",
       "      <td>0.434874</td>\n",
       "      <td>0.658229</td>\n",
       "    </tr>\n",
       "    <tr>\n",
       "      <th>7</th>\n",
       "      <td>Elev_Interactions</td>\n",
       "      <td>0.957968</td>\n",
       "      <td>0.958823</td>\n",
       "      <td>0.963720</td>\n",
       "      <td>0.972344</td>\n",
       "      <td>0.877657</td>\n",
       "      <td>0.212766</td>\n",
       "      <td>0.406863</td>\n",
       "      <td>0.658101</td>\n",
       "    </tr>\n",
       "    <tr>\n",
       "      <th>4</th>\n",
       "      <td>Count</td>\n",
       "      <td>0.959366</td>\n",
       "      <td>0.960151</td>\n",
       "      <td>0.964445</td>\n",
       "      <td>0.971746</td>\n",
       "      <td>0.885464</td>\n",
       "      <td>0.191489</td>\n",
       "      <td>0.445378</td>\n",
       "      <td>0.721059</td>\n",
       "    </tr>\n",
       "  </tbody>\n",
       "</table>\n",
       "</div>"
      ],
      "text/plain": [
       "            features  cv_scores   holdout  recall_0  recall_1  recall_2  \\\n",
       "3         Water_Dist   0.956974  0.958081  0.963175  0.971520  0.872956   \n",
       "2      Fix_Hillshade   0.957090  0.958101  0.963453  0.971520  0.871975   \n",
       "5     Shade_Features   0.957042  0.958129  0.963300  0.971630  0.872507   \n",
       "0           Baseline   0.957298  0.958156  0.963497  0.971616  0.874714   \n",
       "8      Misc_Features   0.957298  0.958156  0.963497  0.971616  0.874714   \n",
       "1         Fix_Aspect   0.957264  0.958158  0.963529  0.971686  0.872956   \n",
       "6  Dist_Interactions   0.958142  0.958786  0.964565  0.972111  0.875981   \n",
       "7  Elev_Interactions   0.957968  0.958823  0.963720  0.972344  0.877657   \n",
       "4              Count   0.959366  0.960151  0.964445  0.971746  0.885464   \n",
       "\n",
       "   recall_3  recall_4  recall_5  \n",
       "3  0.191489  0.393557  0.654375  \n",
       "2  0.234043  0.408964  0.655274  \n",
       "5  0.127660  0.397059  0.652962  \n",
       "0  0.212766  0.399860  0.657330  \n",
       "8  0.212766  0.399860  0.657330  \n",
       "1  0.234043  0.398459  0.657459  \n",
       "6  0.170213  0.434874  0.658229  \n",
       "7  0.212766  0.406863  0.658101  \n",
       "4  0.191489  0.445378  0.721059  "
      ]
     },
     "execution_count": 23,
     "metadata": {},
     "output_type": "execute_result"
    }
   ],
   "source": [
    "pd.DataFrame.from_records(\n",
    "    data = new_rows,\n",
    "    columns = ['features','cv_scores','holdout','recall_0', 'recall_1','recall_2','recall_3','recall_4','recall_5']\n",
    ").sort_values('holdout')"
   ]
  }
 ],
 "metadata": {
  "kernelspec": {
   "display_name": "Python 3 (ipykernel)",
   "language": "python",
   "name": "python3"
  },
  "language_info": {
   "codemirror_mode": {
    "name": "ipython",
    "version": 3
   },
   "file_extension": ".py",
   "mimetype": "text/x-python",
   "name": "python",
   "nbconvert_exporter": "python",
   "pygments_lexer": "ipython3",
   "version": "3.8.10"
  }
 },
 "nbformat": 4,
 "nbformat_minor": 5
}
