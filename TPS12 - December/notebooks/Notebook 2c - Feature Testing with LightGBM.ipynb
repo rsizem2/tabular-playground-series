{
 "cells": [
  {
   "cell_type": "markdown",
   "id": "186664d6",
   "metadata": {},
   "source": [
    "# TPS 12 - Feature Engineering"
   ]
  },
  {
   "cell_type": "code",
   "execution_count": 1,
   "id": "8913499d",
   "metadata": {},
   "outputs": [],
   "source": [
    "# Global variables for testing changes to this notebook quickly\n",
    "RANDOM_SEED = 0\n",
    "NUM_FOLDS = 3\n",
    "TRAIN_SIZE = 500000"
   ]
  },
  {
   "cell_type": "code",
   "execution_count": 2,
   "id": "d246f3a9",
   "metadata": {},
   "outputs": [],
   "source": [
    "import numpy as np\n",
    "import pandas as pd\n",
    "import time\n",
    "import os\n",
    "import pyarrow\n",
    "import gc\n",
    "\n",
    "# Model/Evaluation\n",
    "from sklearn.base import clone\n",
    "from sklearn.pipeline import make_pipeline\n",
    "from sklearn.preprocessing import LabelEncoder\n",
    "from sklearn.model_selection import StratifiedKFold, train_test_split\n",
    "from sklearn.metrics import accuracy_score, recall_score\n",
    "from sklearn.inspection import permutation_importance\n",
    "from lightgbm import LGBMClassifier\n",
    "\n",
    "# Hide warnings\n",
    "import warnings\n",
    "warnings.filterwarnings('ignore')"
   ]
  },
  {
   "cell_type": "markdown",
   "id": "40f58f03",
   "metadata": {},
   "source": [
    "# Load and Prepare Data"
   ]
  },
  {
   "cell_type": "code",
   "execution_count": 3,
   "id": "092468f3",
   "metadata": {},
   "outputs": [
    {
     "name": "stdout",
     "output_type": "stream",
     "text": [
      "Training Size: 500000 rows, 53 cols\n",
      "Holdout Size: 3499999 rows, 53 cols\n",
      "\n"
     ]
    }
   ],
   "source": [
    "# Load full training data\n",
    "train = pd.read_feather('../data/train.feather')\n",
    "\n",
    "# Drop low/no variance \n",
    "train.drop([\"Soil_Type7\", \"Id\", \"Soil_Type15\"], axis=1, inplace=True)\n",
    "train = train[train.Cover_Type != 5]\n",
    "\n",
    "# Label Encoding\n",
    "new_encoder = LabelEncoder()\n",
    "train[\"Cover_Type\"] = new_encoder.fit_transform(train[\"Cover_Type\"])\n",
    "\n",
    "# Split synthetic data\n",
    "train, test = train_test_split(\n",
    "    train, \n",
    "    train_size = TRAIN_SIZE, \n",
    "    random_state = RANDOM_SEED,\n",
    "    stratify = train['Cover_Type'],\n",
    ")\n",
    "y_train = train['Cover_Type']\n",
    "\n",
    "\n",
    "# features, data structure for summary scores\n",
    "features = [x for x in train.columns if x not in ['Id','Cover_Type']]\n",
    "nonsoil = [x for x in features if not x.startswith('Soil_Type')]\n",
    "new_rows = list()\n",
    "gc.collect()\n",
    "\n",
    "print(f'Training Size: {train.shape[0]} rows, {train.shape[1]} cols')\n",
    "print(f'Holdout Size: {test.shape[0]} rows, {test.shape[1]} cols\\n')"
   ]
  },
  {
   "cell_type": "markdown",
   "id": "0fdcccc4",
   "metadata": {},
   "source": [
    "# Model "
   ]
  },
  {
   "cell_type": "code",
   "execution_count": 4,
   "id": "0484af47",
   "metadata": {},
   "outputs": [],
   "source": [
    "# LightGBM Classifier\n",
    "lgbm_pipeline = make_pipeline(\n",
    "    LGBMClassifier(\n",
    "        unbalanced_sets = True,\n",
    "        metric = 'multi_logloss',\n",
    "        random_state = RANDOM_SEED,\n",
    "    ),\n",
    ")"
   ]
  },
  {
   "cell_type": "markdown",
   "id": "7ea54fa9",
   "metadata": {},
   "source": [
    "# Scoring Function"
   ]
  },
  {
   "cell_type": "code",
   "execution_count": 5,
   "id": "67e2f869",
   "metadata": {},
   "outputs": [],
   "source": [
    "def score_features(sklearn_model, processing = None):\n",
    "    \n",
    "    # Original Training/Test Split\n",
    "    features = [x for x in train.columns if x not in ['Id','Cover_Type']]\n",
    "    X_temp, X_test = train[features], test[features]\n",
    "    y_temp, y_test = train['Cover_Type'], test['Cover_Type']\n",
    "    \n",
    "    # Feature Engineering\n",
    "    if processing:\n",
    "        X_temp = processing(X_temp)\n",
    "        X_test = processing(X_test)\n",
    "    features = [x for x in X_temp.columns]\n",
    "    \n",
    "    # Store the out-of-fold predictions\n",
    "    test_preds = np.zeros((X_test.shape[0],6))\n",
    "    oof_preds = np.zeros((X_temp.shape[0],))\n",
    "    fi_scores = np.zeros((X_temp.shape[1],))\n",
    "    scores, times = np.zeros(NUM_FOLDS), np.zeros(NUM_FOLDS)\n",
    "    \n",
    "    # Stratified k-fold cross-validation\n",
    "    skf = StratifiedKFold(n_splits = NUM_FOLDS, shuffle = True, random_state = RANDOM_SEED)\n",
    "    for fold, (train_idx, valid_idx) in enumerate(skf.split(X_temp,y_temp)):\n",
    "       \n",
    "        # Training and Validation Sets\n",
    "        X_train, X_valid = X_temp.iloc[train_idx], X_temp.iloc[valid_idx]\n",
    "        y_train, y_valid = y_temp.iloc[train_idx], y_temp.iloc[valid_idx]\n",
    "        \n",
    "        # Create model\n",
    "        start = time.time()\n",
    "        model = clone(sklearn_model)\n",
    "        model.fit(X_train, y_train)\n",
    "\n",
    "        # Permutation Importance\n",
    "        result = permutation_importance(\n",
    "            model, X_valid, y_valid, \n",
    "            n_repeats=10, random_state=RANDOM_SEED\n",
    "        )\n",
    "        fi_scores += result.importances_mean / NUM_FOLDS\n",
    "\n",
    "        # validation/holdout predictions\n",
    "        valid_preds = np.ravel(model.predict(X_valid))\n",
    "        oof_preds[valid_idx] = valid_preds\n",
    "        test_preds += model.predict_proba(X_test)\n",
    "\n",
    "        # Save scores and times\n",
    "        scores[fold] = accuracy_score(y_valid, valid_preds)\n",
    "        end = time.time()\n",
    "        times[fold] = end-start\n",
    "        print(f'Fold {fold} Accuracy:  {round(scores[fold], 5)} in {round(end-start,2)}s.')\n",
    "        time.sleep(0.5)\n",
    "    \n",
    "    nonsoil = [x for x in X_test.columns if not x.startswith('Soil_Type')]\n",
    "    test_preds = np.argmax(test_preds, axis = 1)\n",
    "    test_score = accuracy_score(y_test, test_preds)\n",
    "    #print('\\n'+model.__class__.__name__)\n",
    "    print(\"Train Accuracy:\", round(scores.mean(), 5))\n",
    "    print('Test Accuracy:', round(test_score, 5))\n",
    "    print(f'Training Time: {round(times.sum(), 2)}s')\n",
    "    \n",
    "    fi_scores = pd.Series(\n",
    "        data = fi_scores, \n",
    "        index = features\n",
    "    ).loc[nonsoil].sort_values()\n",
    "    \n",
    "    return scores.mean(), oof_preds, test_score, fi_scores"
   ]
  },
  {
   "cell_type": "markdown",
   "id": "dc7f9033",
   "metadata": {},
   "source": [
    "# Baseline"
   ]
  },
  {
   "cell_type": "code",
   "execution_count": 6,
   "id": "1cd96508",
   "metadata": {},
   "outputs": [
    {
     "name": "stdout",
     "output_type": "stream",
     "text": [
      "Fold 0 Accuracy:  0.94267 in 419.04s.\n",
      "Fold 1 Accuracy:  0.93561 in 356.14s.\n",
      "Fold 2 Accuracy:  0.94458 in 417.37s.\n",
      "Train Accuracy: 0.94095\n",
      "Test Accuracy: 0.95099\n",
      "Training Time: 1192.55s\n"
     ]
    },
    {
     "data": {
      "text/plain": [
       "Hillshade_9am                        -0.000010\n",
       "Aspect                                0.000005\n",
       "Hillshade_3pm                         0.000013\n",
       "Wilderness_Area2                      0.000031\n",
       "Slope                                 0.000074\n",
       "Hillshade_Noon                        0.000206\n",
       "Wilderness_Area4                      0.002571\n",
       "Horizontal_Distance_To_Hydrology      0.008780\n",
       "Wilderness_Area1                      0.013618\n",
       "Vertical_Distance_To_Hydrology        0.015172\n",
       "Wilderness_Area3                      0.016961\n",
       "Horizontal_Distance_To_Fire_Points    0.026114\n",
       "Horizontal_Distance_To_Roadways       0.040254\n",
       "Elevation                             0.451731\n",
       "dtype: float64"
      ]
     },
     "execution_count": 6,
     "metadata": {},
     "output_type": "execute_result"
    }
   ],
   "source": [
    "cv_score, oof_preds, test_score, fi_scores = score_features(\n",
    "    lgbm_pipeline\n",
    ")\n",
    "\n",
    "new_rows.append((\n",
    "    'Baseline', cv_score, test_score,\n",
    "     *recall_score(y_train, oof_preds, average = None)\n",
    "))\n",
    "\n",
    "fi_scores"
   ]
  },
  {
   "cell_type": "markdown",
   "id": "4ef199b7",
   "metadata": {},
   "source": [
    "# Feature Engineering"
   ]
  },
  {
   "cell_type": "markdown",
   "id": "295863bb",
   "metadata": {},
   "source": [
    "## 1 . Fix Aspect and Hillshade Values"
   ]
  },
  {
   "cell_type": "code",
   "execution_count": 7,
   "id": "0e8138c4",
   "metadata": {},
   "outputs": [],
   "source": [
    "# Fix aspect\n",
    "def fix_ranges(data):\n",
    "    \n",
    "    df = data.copy()\n",
    "    \n",
    "    # Fix Aspect\n",
    "    df[\"Aspect\"][df[\"Aspect\"] < 0] += 360\n",
    "    df[\"Aspect\"][df[\"Aspect\"] > 359] -= 360\n",
    "    \n",
    "    # Fix Hillshade\n",
    "    df.loc[df[\"Hillshade_9am\"] < 0, \"Hillshade_9am\"] = 0\n",
    "    df.loc[df[\"Hillshade_Noon\"] < 0, \"Hillshade_Noon\"] = 0\n",
    "    df.loc[df[\"Hillshade_3pm\"] < 0, \"Hillshade_3pm\"] = 0\n",
    "    df.loc[df[\"Hillshade_9am\"] > 255, \"Hillshade_9am\"] = 255\n",
    "    df.loc[df[\"Hillshade_Noon\"] > 255, \"Hillshade_Noon\"] = 255\n",
    "    df.loc[df[\"Hillshade_3pm\"] > 255, \"Hillshade_3pm\"] = 255\n",
    "    \n",
    "    return df"
   ]
  },
  {
   "cell_type": "code",
   "execution_count": 8,
   "id": "1651bc7f",
   "metadata": {},
   "outputs": [
    {
     "name": "stdout",
     "output_type": "stream",
     "text": [
      "Fold 0 Accuracy:  0.94309 in 424.61s.\n",
      "Fold 1 Accuracy:  0.94833 in 433.42s.\n",
      "Fold 2 Accuracy:  0.94699 in 423.63s.\n",
      "Train Accuracy: 0.94614\n",
      "Test Accuracy: 0.95498\n",
      "Training Time: 1281.67s\n"
     ]
    },
    {
     "data": {
      "text/plain": [
       "Slope                                -0.000003\n",
       "Hillshade_9am                         0.000017\n",
       "Aspect                                0.000023\n",
       "Wilderness_Area2                      0.000050\n",
       "Hillshade_3pm                         0.000125\n",
       "Hillshade_Noon                        0.000330\n",
       "Wilderness_Area4                      0.004230\n",
       "Horizontal_Distance_To_Hydrology      0.009734\n",
       "Vertical_Distance_To_Hydrology        0.016932\n",
       "Wilderness_Area1                      0.020593\n",
       "Wilderness_Area3                      0.026580\n",
       "Horizontal_Distance_To_Fire_Points    0.028732\n",
       "Horizontal_Distance_To_Roadways       0.043813\n",
       "Elevation                             0.455661\n",
       "dtype: float64"
      ]
     },
     "execution_count": 8,
     "metadata": {},
     "output_type": "execute_result"
    }
   ],
   "source": [
    "cv_score, oof_preds, test_score, fi_scores = score_features(\n",
    "    lgbm_pipeline, \n",
    "    fix_ranges\n",
    ")\n",
    "\n",
    "new_rows.append((\n",
    "    'Fix_Range', cv_score, test_score,\n",
    "     *recall_score(y_train, oof_preds, average = None)\n",
    "))\n",
    "\n",
    "fi_scores"
   ]
  },
  {
   "cell_type": "markdown",
   "id": "96e5e8f7",
   "metadata": {},
   "source": [
    "## 2. Water Distance Features"
   ]
  },
  {
   "cell_type": "code",
   "execution_count": 9,
   "id": "4f2390db",
   "metadata": {},
   "outputs": [],
   "source": [
    "# Distance to Water\n",
    "def water_distance_features(data):\n",
    "    df = data.copy()\n",
    "    \n",
    "    # use float64 for squaring\n",
    "    df[\"Horizontal_Distance_To_Hydrology\"] = df[\"Horizontal_Distance_To_Hydrology\"].astype('float64')\n",
    "    df[\"Vertical_Distance_To_Hydrology\"] = df[\"Vertical_Distance_To_Hydrology\"].astype('float64')\n",
    "    \n",
    "    # compute metrics\n",
    "    df[\"Hydro_Taxicab\"] = np.abs(df[\"Horizontal_Distance_To_Hydrology\"]) + np.abs(df[\"Vertical_Distance_To_Hydrology\"])\n",
    "    df[\"Hydro_Euclid\"] = (df[\"Horizontal_Distance_To_Hydrology\"]**2 + np.abs(df[\"Vertical_Distance_To_Hydrology\"])**2)**0.5\n",
    "    \n",
    "    # convert back\n",
    "    df[\"Horizontal_Distance_To_Hydrology\"] = df[\"Horizontal_Distance_To_Hydrology\"].astype('float32')\n",
    "    df[\"Vertical_Distance_To_Hydrology\"] = df[\"Vertical_Distance_To_Hydrology\"].astype('float32')\n",
    "    df[\"Hydro_Taxicab\"] = df[\"Hydro_Taxicab\"].astype('float32')\n",
    "    df[\"Hydro_Euclid\"] = df[\"Hydro_Euclid\"].astype('float32')\n",
    "    \n",
    "    return df"
   ]
  },
  {
   "cell_type": "code",
   "execution_count": 10,
   "id": "22f08bc2",
   "metadata": {},
   "outputs": [
    {
     "name": "stdout",
     "output_type": "stream",
     "text": [
      "Fold 0 Accuracy:  0.94617 in 447.55s.\n",
      "Fold 1 Accuracy:  0.94649 in 462.88s.\n",
      "Fold 2 Accuracy:  0.94667 in 446.98s.\n",
      "Train Accuracy: 0.94644\n",
      "Test Accuracy: 0.95385\n",
      "Training Time: 1357.41s\n"
     ]
    },
    {
     "data": {
      "text/plain": [
       "Wilderness_Area2                      0.000041\n",
       "Hillshade_9am                         0.000059\n",
       "Slope                                 0.000076\n",
       "Hillshade_3pm                         0.000144\n",
       "Aspect                                0.000145\n",
       "Hillshade_Noon                        0.000590\n",
       "Horizontal_Distance_To_Hydrology      0.001769\n",
       "Wilderness_Area4                      0.003656\n",
       "Vertical_Distance_To_Hydrology        0.013490\n",
       "Wilderness_Area1                      0.018238\n",
       "Hydro_Euclid                          0.020134\n",
       "Wilderness_Area3                      0.022744\n",
       "Hydro_Taxicab                         0.025357\n",
       "Horizontal_Distance_To_Fire_Points    0.027925\n",
       "Horizontal_Distance_To_Roadways       0.044058\n",
       "Elevation                             0.455153\n",
       "dtype: float64"
      ]
     },
     "execution_count": 10,
     "metadata": {},
     "output_type": "execute_result"
    }
   ],
   "source": [
    "cv_score, oof_preds, test_score, fi_scores = score_features(\n",
    "    lgbm_pipeline, \n",
    "    water_distance_features\n",
    ")\n",
    "\n",
    "new_rows.append((\n",
    "    'Water_Dist', cv_score, test_score,\n",
    "     *recall_score(y_train, oof_preds, average = None)\n",
    "))\n",
    "\n",
    "fi_scores"
   ]
  },
  {
   "cell_type": "markdown",
   "id": "6899cbd0",
   "metadata": {},
   "source": [
    "## 3. Count Features"
   ]
  },
  {
   "cell_type": "code",
   "execution_count": 11,
   "id": "cc7717b2",
   "metadata": {},
   "outputs": [],
   "source": [
    "# Create count features\n",
    "def count_features(data):\n",
    "    \n",
    "    df = data.copy()\n",
    "    soil_features = [x for x in df.columns if x.startswith(\"Soil_Type\")]\n",
    "    wilderness_features = [x for x in df.columns if x.startswith(\"Wilderness_Area\")]\n",
    "\n",
    "    # Count features\n",
    "    df[\"Soil_Count\"] = df[soil_features].apply(sum, axis=1)\n",
    "    df[\"Wilderness_Count\"] = df[wilderness_features].apply(sum, axis=1)\n",
    "    \n",
    "    return df"
   ]
  },
  {
   "cell_type": "code",
   "execution_count": 12,
   "id": "62d39d47",
   "metadata": {},
   "outputs": [
    {
     "name": "stdout",
     "output_type": "stream",
     "text": [
      "Fold 0 Accuracy:  0.92137 in 356.05s.\n",
      "Fold 1 Accuracy:  0.9473 in 372.48s.\n",
      "Fold 2 Accuracy:  0.92728 in 378.96s.\n",
      "Train Accuracy: 0.93198\n",
      "Test Accuracy: 0.94694\n",
      "Training Time: 1107.49s\n"
     ]
    },
    {
     "data": {
      "text/plain": [
       "Slope                                -0.000021\n",
       "Wilderness_Area2                      0.000073\n",
       "Hillshade_3pm                         0.000077\n",
       "Aspect                                0.000084\n",
       "Hillshade_9am                         0.000180\n",
       "Hillshade_Noon                        0.000186\n",
       "Wilderness_Count                      0.000760\n",
       "Wilderness_Area4                      0.002198\n",
       "Horizontal_Distance_To_Hydrology      0.007184\n",
       "Vertical_Distance_To_Hydrology        0.013059\n",
       "Wilderness_Area1                      0.013746\n",
       "Wilderness_Area3                      0.016464\n",
       "Horizontal_Distance_To_Fire_Points    0.022180\n",
       "Soil_Count                            0.030852\n",
       "Horizontal_Distance_To_Roadways       0.039666\n",
       "Elevation                             0.443748\n",
       "dtype: float64"
      ]
     },
     "execution_count": 12,
     "metadata": {},
     "output_type": "execute_result"
    }
   ],
   "source": [
    "cv_score, oof_preds, test_score, fi_scores = score_features(\n",
    "    lgbm_pipeline, \n",
    "    count_features\n",
    ")\n",
    "\n",
    "new_rows.append((\n",
    "    'Count', cv_score, test_score,\n",
    "     *recall_score(y_train, oof_preds, average = None)\n",
    "))\n",
    "\n",
    "fi_scores"
   ]
  },
  {
   "cell_type": "markdown",
   "id": "c96a968e",
   "metadata": {},
   "source": [
    "## 4. Shade Features"
   ]
  },
  {
   "cell_type": "code",
   "execution_count": 13,
   "id": "b20d12b9",
   "metadata": {},
   "outputs": [],
   "source": [
    "# Create Shade features\n",
    "def new_shade_features(data):\n",
    "    \n",
    "    df = data.copy()\n",
    "    shade_features = ['Hillshade_9am', 'Hillshade_Noon', 'Hillshade_3pm']\n",
    "\n",
    "    # Hillshade\n",
    "    df[\"Hillshade_Avg\"] = df[shade_features].mean(axis=1)\n",
    "    df['Hillshade_Range'] = df[shade_features].max(axis=1) - df[shade_features].min(axis=1)\n",
    "    \n",
    "    return df"
   ]
  },
  {
   "cell_type": "code",
   "execution_count": 14,
   "id": "33641727",
   "metadata": {},
   "outputs": [
    {
     "name": "stdout",
     "output_type": "stream",
     "text": [
      "Fold 0 Accuracy:  0.95032 in 458.16s.\n",
      "Fold 1 Accuracy:  0.94062 in 386.68s.\n",
      "Fold 2 Accuracy:  0.94633 in 415.66s.\n",
      "Train Accuracy: 0.94576\n",
      "Test Accuracy: 0.95348\n",
      "Training Time: 1260.51s\n"
     ]
    },
    {
     "data": {
      "text/plain": [
       "Aspect                               -0.000116\n",
       "Slope                                -0.000055\n",
       "Wilderness_Area2                      0.000043\n",
       "Hillshade_Noon                        0.000374\n",
       "Hillshade_9am                         0.000445\n",
       "Hillshade_Avg                         0.000490\n",
       "Hillshade_Range                       0.000966\n",
       "Hillshade_3pm                         0.001041\n",
       "Wilderness_Area4                      0.002109\n",
       "Horizontal_Distance_To_Hydrology      0.009246\n",
       "Wilderness_Area1                      0.014744\n",
       "Vertical_Distance_To_Hydrology        0.016431\n",
       "Wilderness_Area3                      0.018731\n",
       "Horizontal_Distance_To_Fire_Points    0.027436\n",
       "Horizontal_Distance_To_Roadways       0.042960\n",
       "Elevation                             0.454820\n",
       "dtype: float64"
      ]
     },
     "execution_count": 14,
     "metadata": {},
     "output_type": "execute_result"
    }
   ],
   "source": [
    "cv_score, oof_preds, test_score, fi_scores = score_features(\n",
    "    lgbm_pipeline, \n",
    "    new_shade_features\n",
    ")\n",
    "\n",
    "new_rows.append((\n",
    "    'Shade_Features', cv_score, test_score,\n",
    "     *recall_score(y_train, oof_preds, average = None)\n",
    "))\n",
    "\n",
    "fi_scores"
   ]
  },
  {
   "cell_type": "markdown",
   "id": "8211ecc3",
   "metadata": {},
   "source": [
    "## 5. Distance Interactions"
   ]
  },
  {
   "cell_type": "code",
   "execution_count": 15,
   "id": "0b929e35",
   "metadata": {},
   "outputs": [],
   "source": [
    "def distance_interactions(data):\n",
    "    \n",
    "    df = data.copy()\n",
    "    df['Hydro_Fire_1'] = df['Horizontal_Distance_To_Hydrology'] + df['Horizontal_Distance_To_Fire_Points']\n",
    "    df['Hydro_Fire_2'] = abs(df['Horizontal_Distance_To_Hydrology'] - df['Horizontal_Distance_To_Fire_Points'])\n",
    "    df['Hydro_Road_1'] = abs(df['Horizontal_Distance_To_Hydrology'] + df['Horizontal_Distance_To_Roadways'])\n",
    "    df['Hydro_Road_2'] = abs(df['Horizontal_Distance_To_Hydrology'] - df['Horizontal_Distance_To_Roadways'])\n",
    "    df['Fire_Road_1'] = abs(df['Horizontal_Distance_To_Fire_Points'] + df['Horizontal_Distance_To_Roadways'])\n",
    "    df['Fire_Road_2'] = abs(df['Horizontal_Distance_To_Fire_Points'] - df['Horizontal_Distance_To_Roadways'])\n",
    "    return df"
   ]
  },
  {
   "cell_type": "code",
   "execution_count": 16,
   "id": "c04021df",
   "metadata": {},
   "outputs": [
    {
     "name": "stdout",
     "output_type": "stream",
     "text": [
      "Fold 0 Accuracy:  0.94798 in 474.62s.\n",
      "Fold 1 Accuracy:  0.94945 in 488.0s.\n",
      "Fold 2 Accuracy:  0.94924 in 461.89s.\n",
      "Train Accuracy: 0.94889\n",
      "Test Accuracy: 0.9561\n",
      "Training Time: 1424.5s\n"
     ]
    },
    {
     "data": {
      "text/plain": [
       "Hillshade_3pm                        -0.000006\n",
       "Slope                                 0.000010\n",
       "Hillshade_9am                         0.000011\n",
       "Aspect                                0.000011\n",
       "Wilderness_Area2                      0.000039\n",
       "Hillshade_Noon                        0.000356\n",
       "Hydro_Road_1                          0.003022\n",
       "Wilderness_Area4                      0.004762\n",
       "Fire_Road_2                           0.005065\n",
       "Horizontal_Distance_To_Hydrology      0.005758\n",
       "Fire_Road_1                           0.008513\n",
       "Hydro_Fire_1                          0.008773\n",
       "Horizontal_Distance_To_Fire_Points    0.008861\n",
       "Hydro_Fire_2                          0.010592\n",
       "Hydro_Road_2                          0.010843\n",
       "Vertical_Distance_To_Hydrology        0.017000\n",
       "Wilderness_Area1                      0.017030\n",
       "Wilderness_Area3                      0.022000\n",
       "Horizontal_Distance_To_Roadways       0.024819\n",
       "Elevation                             0.456269\n",
       "dtype: float64"
      ]
     },
     "execution_count": 16,
     "metadata": {},
     "output_type": "execute_result"
    }
   ],
   "source": [
    "cv_score, oof_preds, test_score, fi_scores = score_features(\n",
    "    lgbm_pipeline, \n",
    "    distance_interactions\n",
    ")\n",
    "\n",
    "new_rows.append((\n",
    "    'Dist_Interactions', cv_score, test_score,\n",
    "     *recall_score(y_train, oof_preds, average = None)\n",
    "))\n",
    "\n",
    "fi_scores"
   ]
  },
  {
   "cell_type": "markdown",
   "id": "8d70a923",
   "metadata": {},
   "source": [
    "## 6. Elevation Interactions"
   ]
  },
  {
   "cell_type": "code",
   "execution_count": 17,
   "id": "fb4c978f",
   "metadata": {},
   "outputs": [],
   "source": [
    "def elevation_interactions(data):\n",
    "    \n",
    "    df = data.copy()\n",
    "    df['EHiElv'] = df['Horizontal_Distance_To_Roadways'] * df['Elevation']\n",
    "    df['EViElv'] = df['Vertical_Distance_To_Hydrology'] * df['Elevation']\n",
    "    df['EVDtH'] = df.Elevation - df.Vertical_Distance_To_Hydrology\n",
    "    df['EHDtH'] = df.Elevation - df.Horizontal_Distance_To_Hydrology * 0.2\n",
    "    \n",
    "    # Throwaway Features most likely\n",
    "    df['Highwater'] = (df.Vertical_Distance_To_Hydrology < 0).astype(int)\n",
    "    df['Hillshade_3pm_is_zero'] = (df.Hillshade_3pm == 0).astype(int)\n",
    "    \n",
    "    return df"
   ]
  },
  {
   "cell_type": "code",
   "execution_count": 18,
   "id": "dcc4d21b",
   "metadata": {},
   "outputs": [
    {
     "name": "stdout",
     "output_type": "stream",
     "text": [
      "Fold 0 Accuracy:  0.94661 in 476.06s.\n",
      "Fold 1 Accuracy:  0.91801 in 420.54s.\n",
      "Fold 2 Accuracy:  0.94376 in 458.78s.\n",
      "Train Accuracy: 0.93612\n",
      "Test Accuracy: 0.95015\n",
      "Training Time: 1355.37s\n"
     ]
    },
    {
     "data": {
      "text/plain": [
       "Hillshade_9am                        -9.280016e-05\n",
       "EHiElv                               -4.240025e-05\n",
       "Hillshade_3pm                        -1.320028e-05\n",
       "Hillshade_3pm_is_zero                 1.999996e-07\n",
       "Aspect                                2.519981e-05\n",
       "Highwater                             2.599995e-05\n",
       "Slope                                 5.819983e-05\n",
       "Wilderness_Area2                      6.620004e-05\n",
       "EViElv                                9.980032e-05\n",
       "Hillshade_Noon                        2.287996e-04\n",
       "Wilderness_Area4                      4.207399e-03\n",
       "Horizontal_Distance_To_Hydrology      5.397001e-03\n",
       "Vertical_Distance_To_Hydrology        8.866384e-03\n",
       "Wilderness_Area1                      1.367940e-02\n",
       "Wilderness_Area3                      1.824220e-02\n",
       "Horizontal_Distance_To_Fire_Points    2.462860e-02\n",
       "Horizontal_Distance_To_Roadways       4.048001e-02\n",
       "EHDtH                                 1.282565e-01\n",
       "EVDtH                                 1.741387e-01\n",
       "Elevation                             2.060504e-01\n",
       "dtype: float64"
      ]
     },
     "execution_count": 18,
     "metadata": {},
     "output_type": "execute_result"
    }
   ],
   "source": [
    "cv_score, oof_preds, test_score, fi_scores = score_features(\n",
    "    lgbm_pipeline, \n",
    "    elevation_interactions\n",
    ")\n",
    "\n",
    "new_rows.append((\n",
    "    'Elev_Interactions', cv_score, test_score,\n",
    "     *recall_score(y_train, oof_preds, average = None)\n",
    "))\n",
    "\n",
    "fi_scores"
   ]
  },
  {
   "cell_type": "markdown",
   "id": "f1d7e560",
   "metadata": {},
   "source": [
    "# Summary"
   ]
  },
  {
   "cell_type": "code",
   "execution_count": 19,
   "id": "6368192f",
   "metadata": {},
   "outputs": [
    {
     "data": {
      "text/html": [
       "<div>\n",
       "<style scoped>\n",
       "    .dataframe tbody tr th:only-of-type {\n",
       "        vertical-align: middle;\n",
       "    }\n",
       "\n",
       "    .dataframe tbody tr th {\n",
       "        vertical-align: top;\n",
       "    }\n",
       "\n",
       "    .dataframe thead th {\n",
       "        text-align: right;\n",
       "    }\n",
       "</style>\n",
       "<table border=\"1\" class=\"dataframe\">\n",
       "  <thead>\n",
       "    <tr style=\"text-align: right;\">\n",
       "      <th></th>\n",
       "      <th>features</th>\n",
       "      <th>cv_scores</th>\n",
       "      <th>holdout</th>\n",
       "      <th>recall_0</th>\n",
       "      <th>recall_1</th>\n",
       "      <th>recall_2</th>\n",
       "      <th>recall_3</th>\n",
       "      <th>recall_4</th>\n",
       "      <th>recall_5</th>\n",
       "    </tr>\n",
       "  </thead>\n",
       "  <tbody>\n",
       "    <tr>\n",
       "      <th>3</th>\n",
       "      <td>Count</td>\n",
       "      <td>0.931984</td>\n",
       "      <td>0.946935</td>\n",
       "      <td>0.941629</td>\n",
       "      <td>0.946241</td>\n",
       "      <td>0.816220</td>\n",
       "      <td>0.0</td>\n",
       "      <td>0.425070</td>\n",
       "      <td>0.649107</td>\n",
       "    </tr>\n",
       "    <tr>\n",
       "      <th>6</th>\n",
       "      <td>Elev_Interactions</td>\n",
       "      <td>0.936124</td>\n",
       "      <td>0.950146</td>\n",
       "      <td>0.943319</td>\n",
       "      <td>0.954920</td>\n",
       "      <td>0.805060</td>\n",
       "      <td>0.0</td>\n",
       "      <td>0.413866</td>\n",
       "      <td>0.597071</td>\n",
       "    </tr>\n",
       "    <tr>\n",
       "      <th>0</th>\n",
       "      <td>Baseline</td>\n",
       "      <td>0.940954</td>\n",
       "      <td>0.950986</td>\n",
       "      <td>0.951024</td>\n",
       "      <td>0.958163</td>\n",
       "      <td>0.816996</td>\n",
       "      <td>0.0</td>\n",
       "      <td>0.387955</td>\n",
       "      <td>0.575100</td>\n",
       "    </tr>\n",
       "    <tr>\n",
       "      <th>4</th>\n",
       "      <td>Shade_Features</td>\n",
       "      <td>0.945758</td>\n",
       "      <td>0.953476</td>\n",
       "      <td>0.954162</td>\n",
       "      <td>0.961961</td>\n",
       "      <td>0.835146</td>\n",
       "      <td>0.0</td>\n",
       "      <td>0.420168</td>\n",
       "      <td>0.608763</td>\n",
       "    </tr>\n",
       "    <tr>\n",
       "      <th>2</th>\n",
       "      <td>Water_Dist</td>\n",
       "      <td>0.946442</td>\n",
       "      <td>0.953845</td>\n",
       "      <td>0.955181</td>\n",
       "      <td>0.961688</td>\n",
       "      <td>0.838620</td>\n",
       "      <td>0.0</td>\n",
       "      <td>0.421569</td>\n",
       "      <td>0.627393</td>\n",
       "    </tr>\n",
       "    <tr>\n",
       "      <th>1</th>\n",
       "      <td>Fix_Range</td>\n",
       "      <td>0.946136</td>\n",
       "      <td>0.954976</td>\n",
       "      <td>0.954871</td>\n",
       "      <td>0.961363</td>\n",
       "      <td>0.841727</td>\n",
       "      <td>0.0</td>\n",
       "      <td>0.405462</td>\n",
       "      <td>0.620069</td>\n",
       "    </tr>\n",
       "    <tr>\n",
       "      <th>5</th>\n",
       "      <td>Dist_Interactions</td>\n",
       "      <td>0.948890</td>\n",
       "      <td>0.956099</td>\n",
       "      <td>0.958037</td>\n",
       "      <td>0.963814</td>\n",
       "      <td>0.837598</td>\n",
       "      <td>0.0</td>\n",
       "      <td>0.434874</td>\n",
       "      <td>0.640884</td>\n",
       "    </tr>\n",
       "  </tbody>\n",
       "</table>\n",
       "</div>"
      ],
      "text/plain": [
       "            features  cv_scores   holdout  recall_0  recall_1  recall_2  \\\n",
       "3              Count   0.931984  0.946935  0.941629  0.946241  0.816220   \n",
       "6  Elev_Interactions   0.936124  0.950146  0.943319  0.954920  0.805060   \n",
       "0           Baseline   0.940954  0.950986  0.951024  0.958163  0.816996   \n",
       "4     Shade_Features   0.945758  0.953476  0.954162  0.961961  0.835146   \n",
       "2         Water_Dist   0.946442  0.953845  0.955181  0.961688  0.838620   \n",
       "1          Fix_Range   0.946136  0.954976  0.954871  0.961363  0.841727   \n",
       "5  Dist_Interactions   0.948890  0.956099  0.958037  0.963814  0.837598   \n",
       "\n",
       "   recall_3  recall_4  recall_5  \n",
       "3       0.0  0.425070  0.649107  \n",
       "6       0.0  0.413866  0.597071  \n",
       "0       0.0  0.387955  0.575100  \n",
       "4       0.0  0.420168  0.608763  \n",
       "2       0.0  0.421569  0.627393  \n",
       "1       0.0  0.405462  0.620069  \n",
       "5       0.0  0.434874  0.640884  "
      ]
     },
     "execution_count": 19,
     "metadata": {},
     "output_type": "execute_result"
    }
   ],
   "source": [
    "pd.DataFrame.from_records(\n",
    "    data = new_rows,\n",
    "    columns = ['features','cv_scores','holdout','recall_0', 'recall_1','recall_2','recall_3','recall_4','recall_5']\n",
    ").sort_values('holdout')"
   ]
  }
 ],
 "metadata": {
  "kernelspec": {
   "display_name": "Python 3 (ipykernel)",
   "language": "python",
   "name": "python3"
  },
  "language_info": {
   "codemirror_mode": {
    "name": "ipython",
    "version": 3
   },
   "file_extension": ".py",
   "mimetype": "text/x-python",
   "name": "python",
   "nbconvert_exporter": "python",
   "pygments_lexer": "ipython3",
   "version": "3.8.10"
  }
 },
 "nbformat": 4,
 "nbformat_minor": 5
}
