{
 "cells": [
  {
   "cell_type": "markdown",
   "id": "82b36cc2",
   "metadata": {},
   "source": [
    "# TPS 12/21 - Comparison of Classifiers\n",
    "\n",
    "In this notebook, we test out four different models with mostly default settings:\n",
    "\n",
    "* Self-Normalizing Neural Network\n",
    "* XGBoost Classifier\n",
    "* LightGBM Classifier\n",
    "* CatBoost Classifier\n",
    "\n",
    "**Note:** These are just quick baselines and not indicative of which model is ideal. In future experimentation we will use more training data, engineer features and tune hyperparameters."
   ]
  },
  {
   "cell_type": "code",
   "execution_count": 1,
   "id": "7ae96834",
   "metadata": {},
   "outputs": [],
   "source": [
    "# Global variables for testing changes to this notebook quickly\n",
    "RANDOM_SEED = 0\n",
    "NUM_FOLDS = 10\n",
    "TRAIN_SIZE = 500000"
   ]
  },
  {
   "cell_type": "code",
   "execution_count": 2,
   "id": "1b8ce0d0",
   "metadata": {},
   "outputs": [],
   "source": [
    "import numpy as np\n",
    "import pandas as pd\n",
    "import scipy.stats as stats\n",
    "import time\n",
    "import os\n",
    "import pyarrow\n",
    "import gc\n",
    "\n",
    "# Hide warnings\n",
    "import warnings\n",
    "warnings.filterwarnings('ignore')\n",
    "os.environ['TF_CPP_MIN_LOG_LEVEL'] = '3' \n",
    "\n",
    "# Tensorflow/Keras\n",
    "import tensorflow as tf\n",
    "import tensorflow_addons as tfa\n",
    "from tensorflow import keras\n",
    "\n",
    "# Model evaluation\n",
    "from sklearn.base import clone\n",
    "from sklearn.pipeline import make_pipeline\n",
    "from sklearn.preprocessing import LabelEncoder\n",
    "from sklearn.model_selection import StratifiedKFold, train_test_split\n",
    "from sklearn.preprocessing import RobustScaler, MinMaxScaler\n",
    "from sklearn.metrics import accuracy_score, recall_score\n",
    "from sklearn.metrics import confusion_matrix, ConfusionMatrixDisplay\n",
    "\n",
    "# Neural Network\n",
    "from tensorflow.keras.wrappers.scikit_learn import KerasClassifier\n",
    "\n",
    "# Gradient Boosting\n",
    "from xgboost import XGBClassifier\n",
    "from lightgbm import LGBMClassifier\n",
    "from catboost import CatBoostClassifier\n",
    "\n",
    "# Tensorflow/Keras\n",
    "import tensorflow as tf\n",
    "import tensorflow_addons as tfa\n",
    "from tensorflow import keras\n",
    "\n",
    "\n",
    "# Keras imports\n",
    "from tensorflow.keras import layers\n",
    "from tensorflow.keras.callbacks import EarlyStopping, ReduceLROnPlateau\n",
    "from tensorflow.keras.optimizers.schedules import CosineDecayRestarts\n",
    "from tensorflow.keras.wrappers.scikit_learn import KerasClassifier\n",
    "\n",
    "\n",
    "# Plotting\n",
    "import matplotlib\n",
    "import seaborn as sns\n",
    "from matplotlib import pyplot as plt\n",
    "\n"
   ]
  },
  {
   "cell_type": "markdown",
   "id": "263fad71",
   "metadata": {},
   "source": [
    "# Load and Prepare Data\n",
    "\n",
    "We have a total of 4 million observations in the original training data. For the sake of these benchmarks, we holdout 3 million rows as our test set and use the remaining 1 million for cross-validation."
   ]
  },
  {
   "cell_type": "code",
   "execution_count": 3,
   "id": "f0f39154",
   "metadata": {},
   "outputs": [
    {
     "name": "stdout",
     "output_type": "stream",
     "text": [
      "Training Size: 500000 rows, 53 cols\n",
      "Holdout Size: 3499999 rows, 53 cols\n",
      "\n"
     ]
    }
   ],
   "source": [
    "# Save data as .feather format\n",
    "train = pd.read_feather('../data/train.feather')\n",
    "\n",
    "# Drop low/no variance \n",
    "train.drop([\"Soil_Type7\", \"Id\", \"Soil_Type15\"], axis=1, inplace=True)\n",
    "train = train[train.Cover_Type != 5]\n",
    "\n",
    "# Label Encoding\n",
    "new_encoder = LabelEncoder()\n",
    "train[\"Cover_Type\"] = new_encoder.fit_transform(train[\"Cover_Type\"])\n",
    "\n",
    "# Split synthetic data\n",
    "train, test = train_test_split(\n",
    "    train, \n",
    "    train_size = TRAIN_SIZE, \n",
    "    random_state = RANDOM_SEED,\n",
    "    stratify = train['Cover_Type'],\n",
    ")\n",
    "\n",
    "\n",
    "# features, data structure for summary scores\n",
    "features = [x for x in train.columns if x not in ['Id','Cover_Type']]\n",
    "new_rows = list()\n",
    "gc.collect()\n",
    "\n",
    "print(f'Training Size: {train.shape[0]} rows, {train.shape[1]} cols')\n",
    "print(f'Holdout Size: {test.shape[0]} rows, {test.shape[1]} cols\\n')"
   ]
  },
  {
   "cell_type": "markdown",
   "id": "d344804f",
   "metadata": {},
   "source": [
    "# Scoring Function"
   ]
  },
  {
   "cell_type": "code",
   "execution_count": 4,
   "id": "b1811e62",
   "metadata": {},
   "outputs": [],
   "source": [
    "# Scoring/Training Baseline Function\n",
    "def score_holdout(sklearn_model, plot = True):\n",
    "    \n",
    "    # Store the holdout predictions\n",
    "    oof_preds = np.zeros((train.shape[0],))\n",
    "    test_preds = np.zeros((test.shape[0], len(train.Cover_Type.value_counts())))\n",
    "    scores = np.zeros(NUM_FOLDS)\n",
    "    times = np.zeros(NUM_FOLDS)\n",
    "    print('')\n",
    "    \n",
    "    # Stratified k-fold cross-validation\n",
    "    skf = StratifiedKFold(n_splits = NUM_FOLDS, shuffle = True, random_state = RANDOM_SEED)\n",
    "    for fold, (train_idx, valid_idx) in enumerate(skf.split(train, train['Cover_Type'])):\n",
    "        \n",
    "        # Training and Validation Sets\n",
    "        X_train = train[features].iloc[train_idx]\n",
    "        X_valid = train[features].iloc[valid_idx]\n",
    "        X_test = test[features]\n",
    "        \n",
    "        # Training and Target Labels\n",
    "        y_train = train['Cover_Type'].iloc[train_idx]\n",
    "        y_valid = train['Cover_Type'].iloc[valid_idx]\n",
    "        y_test = test['Cover_Type']\n",
    "        \n",
    "        gc.collect()\n",
    "        \n",
    "        # Create model\n",
    "        model = clone(sklearn_model)\n",
    "            \n",
    "        start = time.time()\n",
    "\n",
    "        model.fit(X_train, y_train)\n",
    "        \n",
    "        end = time.time()\n",
    "        \n",
    "        # validation and test predictions\n",
    "        valid_preds = np.ravel(model.predict(X_valid))\n",
    "        test_preds += model.predict_proba(X_test)\n",
    "        oof_preds[valid_idx] = valid_preds\n",
    "        \n",
    "        # fold auc score\n",
    "        fold_acc = accuracy_score(y_valid, valid_preds)\n",
    "        end = time.time()\n",
    "        print(f'Fold {fold} Accuracy: {round(fold_acc, 5)} in {round(end-start,2)}s.')\n",
    "        scores[fold] = fold_acc\n",
    "        times[fold] = end-start\n",
    "        \n",
    "        time.sleep(0.5)\n",
    "        \n",
    "    test_preds = np.argmax(test_preds, axis = 1)\n",
    "    holdout = accuracy_score(y_test, test_preds)\n",
    "    #print('\\n'+model.__class__.__name__)\n",
    "    print(\"\\nAverage CV Accuracy:\", round(scores.mean(), 5))\n",
    "    print(\"Worst CV Accuracy:\", round(scores.min(), 5))\n",
    "    print('Holdout Accuracy:', holdout)\n",
    "    print(f'Training Time: {round(times.sum(), 2)}s')\n",
    "    \n",
    "    if plot:\n",
    "        fig, ax = plt.subplots(figsize = (8,6))\n",
    "        cm = confusion_matrix(y_test, test_preds, normalize = 'true')\n",
    "        disp = ConfusionMatrixDisplay(confusion_matrix=cm)\n",
    "        disp.plot(ax = ax)\n",
    "        plt.title(\"Confusion Matrix (% of Actual Labels)\", fontsize=16)\n",
    "        plt.xlabel(\"Predicted Labels\", fontsize=14)\n",
    "        plt.ylabel(\"Actual Labels\", fontsize=14)\n",
    "        plt.show()\n",
    "    \n",
    "    return scores.mean(), oof_preds, holdout\n"
   ]
  },
  {
   "cell_type": "markdown",
   "id": "0f47b9d3",
   "metadata": {},
   "source": [
    "# Self-Normalizing Neural Network"
   ]
  },
  {
   "cell_type": "code",
   "execution_count": 5,
   "id": "ea30f894",
   "metadata": {},
   "outputs": [],
   "source": [
    "# Keras Parameters\n",
    "BATCH_SIZE = 512\n",
    "EPOCHS = 100\n",
    "EARLY_STOP = 5\n",
    "VERBOSE = 0\n",
    "NUM_CLASSES = len(train.Cover_Type.value_counts())"
   ]
  },
  {
   "cell_type": "code",
   "execution_count": 6,
   "id": "7bedf0e6",
   "metadata": {},
   "outputs": [],
   "source": [
    "def build_model():\n",
    "    model = keras.Sequential(\n",
    "        [\n",
    "            layers.InputLayer(input_shape = (len(features),)),\n",
    "            layers.Dense(len(features), kernel_initializer=\"lecun_normal\", activation=\"selu\"),\n",
    "            layers.Dense(3*len(features)//4, kernel_initializer=\"lecun_normal\", activation=\"selu\"),\n",
    "            layers.Dense(len(features)//2, kernel_initializer=\"lecun_normal\", activation=\"selu\"),\n",
    "            layers.Dense(NUM_CLASSES, activation=\"softmax\"),\n",
    "        ]\n",
    "    )\n",
    "\n",
    "    model.compile(\n",
    "        loss = tf.keras.losses.SparseCategoricalCrossentropy(), \n",
    "        optimizer = tf.keras.optimizers.Adam(),\n",
    "        metrics=[tf.keras.metrics.SparseCategoricalAccuracy()],\n",
    "    )\n",
    "    return model "
   ]
  },
  {
   "cell_type": "code",
   "execution_count": 7,
   "id": "5734cac8",
   "metadata": {},
   "outputs": [],
   "source": [
    "# Fit parameters for Keras model\n",
    "keras_pipeline = make_pipeline(\n",
    "    RobustScaler(),\n",
    "    KerasClassifier(\n",
    "        build_model,\n",
    "        batch_size = BATCH_SIZE,\n",
    "        epochs = EPOCHS,\n",
    "        verbose = VERBOSE,\n",
    "        shuffle = True,\n",
    "        validation_split = 0.1,\n",
    "        callbacks = [\n",
    "            EarlyStopping(\n",
    "                patience=EARLY_STOP,\n",
    "                monitor='val_loss',\n",
    "                restore_best_weights=True,\n",
    "            ),\n",
    "        ],\n",
    "    )\n",
    ")"
   ]
  },
  {
   "cell_type": "code",
   "execution_count": 8,
   "id": "e5c97d41",
   "metadata": {},
   "outputs": [
    {
     "name": "stdout",
     "output_type": "stream",
     "text": [
      "\n",
      "Fold 0 Accuracy: 0.95698 in 33.45s.\n",
      "Fold 1 Accuracy: 0.9581 in 41.64s.\n",
      "Fold 2 Accuracy: 0.9552 in 54.67s.\n",
      "Fold 3 Accuracy: 0.95574 in 31.37s.\n",
      "Fold 4 Accuracy: 0.95362 in 28.19s.\n",
      "Fold 5 Accuracy: 0.95864 in 51.04s.\n",
      "Fold 6 Accuracy: 0.9554 in 39.31s.\n",
      "Fold 7 Accuracy: 0.95754 in 39.25s.\n",
      "Fold 8 Accuracy: 0.95792 in 40.77s.\n",
      "Fold 9 Accuracy: 0.95576 in 50.89s.\n",
      "\n",
      "Average CV Accuracy: 0.95649\n",
      "Worst CV Accuracy: 0.95362\n",
      "Holdout Accuracy: 0.9587188453482415\n",
      "Training Time: 410.58s\n"
     ]
    },
    {
     "data": {
      "image/png": "[encoded data removed]",
      "text/plain": [
       "<Figure size 576x432 with 2 Axes>"
      ]
     },
     "metadata": {
      "needs_background": "light"
     },
     "output_type": "display_data"
    }
   ],
   "source": [
    "cv_score, oof_preds, holdout = score_holdout(keras_pipeline)\n",
    "\n",
    "new_rows.append((\n",
    "    'NN SELU', cv_score, holdout,\n",
    "     *recall_score(train['Cover_Type'], oof_preds, average = None)\n",
    "))"
   ]
  },
  {
   "cell_type": "markdown",
   "id": "2b2080c4",
   "metadata": {},
   "source": [
    "# XGBoost"
   ]
  },
  {
   "cell_type": "code",
   "execution_count": 9,
   "id": "51da6912",
   "metadata": {},
   "outputs": [],
   "source": [
    "# XGBoost Classifier\n",
    "xgb_pipeline = make_pipeline(\n",
    "    XGBClassifier(\n",
    "        booster = 'gbtree',\n",
    "        tree_method = 'hist',\n",
    "        eval_metric = 'mlogloss',\n",
    "        random_state = RANDOM_SEED,\n",
    "    ),\n",
    ")"
   ]
  },
  {
   "cell_type": "code",
   "execution_count": 10,
   "id": "e2a8d28f",
   "metadata": {},
   "outputs": [
    {
     "name": "stdout",
     "output_type": "stream",
     "text": [
      "\n",
      "Fold 0 Accuracy: 0.95862 in 19.56s.\n",
      "Fold 1 Accuracy: 0.95792 in 19.9s.\n",
      "Fold 2 Accuracy: 0.95696 in 18.84s.\n",
      "Fold 3 Accuracy: 0.95772 in 19.21s.\n",
      "Fold 4 Accuracy: 0.95616 in 19.37s.\n",
      "Fold 5 Accuracy: 0.9593 in 19.2s.\n",
      "Fold 6 Accuracy: 0.95668 in 19.16s.\n",
      "Fold 7 Accuracy: 0.95776 in 18.97s.\n",
      "Fold 8 Accuracy: 0.95814 in 19.27s.\n",
      "Fold 9 Accuracy: 0.95734 in 19.82s.\n",
      "\n",
      "Average CV Accuracy: 0.95766\n",
      "Worst CV Accuracy: 0.95616\n",
      "Holdout Accuracy: 0.9583254166644047\n",
      "Training Time: 193.28s\n"
     ]
    },
    {
     "data": {
      "image/png": "[encoded data removed]",
      "text/plain": [
       "<Figure size 576x432 with 2 Axes>"
      ]
     },
     "metadata": {
      "needs_background": "light"
     },
     "output_type": "display_data"
    }
   ],
   "source": [
    "cv_score, oof_preds, holdout = score_holdout(xgb_pipeline)\n",
    "\n",
    "new_rows.append((\n",
    "    'XGBoost', cv_score, holdout,\n",
    "     *recall_score(train['Cover_Type'], oof_preds, average = None)\n",
    "))"
   ]
  },
  {
   "cell_type": "markdown",
   "id": "09d7b814",
   "metadata": {},
   "source": [
    "# LightGBM"
   ]
  },
  {
   "cell_type": "code",
   "execution_count": 11,
   "id": "ae6d092e",
   "metadata": {},
   "outputs": [],
   "source": [
    "# LightGBM Classifier\n",
    "lgbm_pipeline = make_pipeline(\n",
    "    LGBMClassifier(\n",
    "        #unbalanced_sets = True,\n",
    "        metric = 'multi_logloss',\n",
    "        random_state = RANDOM_SEED,\n",
    "    ),\n",
    ")"
   ]
  },
  {
   "cell_type": "code",
   "execution_count": 12,
   "id": "9520eed8",
   "metadata": {},
   "outputs": [
    {
     "name": "stdout",
     "output_type": "stream",
     "text": [
      "\n",
      "Fold 0 Accuracy: 0.94632 in 22.37s.\n",
      "Fold 1 Accuracy: 0.9483 in 22.12s.\n",
      "Fold 2 Accuracy: 0.94638 in 22.81s.\n",
      "Fold 3 Accuracy: 0.95092 in 23.08s.\n",
      "Fold 4 Accuracy: 0.93196 in 21.81s.\n",
      "Fold 5 Accuracy: 0.9483 in 21.59s.\n",
      "Fold 6 Accuracy: 0.94582 in 23.93s.\n",
      "Fold 7 Accuracy: 0.9482 in 24.88s.\n",
      "Fold 8 Accuracy: 0.9478 in 25.7s.\n",
      "Fold 9 Accuracy: 0.93978 in 24.75s.\n",
      "\n",
      "Average CV Accuracy: 0.94538\n",
      "Worst CV Accuracy: 0.93196\n",
      "Holdout Accuracy: 0.95520713005918\n",
      "Training Time: 233.04s\n"
     ]
    },
    {
     "data": {
      "image/png": "[encoded data removed]",
      "text/plain": [
       "<Figure size 576x432 with 2 Axes>"
      ]
     },
     "metadata": {
      "needs_background": "light"
     },
     "output_type": "display_data"
    }
   ],
   "source": [
    "cv_score, oof_preds, holdout = score_holdout(lgbm_pipeline)\n",
    "\n",
    "new_rows.append((\n",
    "    'LightGBM', cv_score, holdout,\n",
    "     *recall_score(train['Cover_Type'], oof_preds, average = None)\n",
    "))"
   ]
  },
  {
   "cell_type": "markdown",
   "id": "bc6d7b83",
   "metadata": {},
   "source": [
    "# CatBoost"
   ]
  },
  {
   "cell_type": "code",
   "execution_count": 13,
   "id": "ab604c53",
   "metadata": {},
   "outputs": [],
   "source": [
    "# LightGBM Classifier\n",
    "catboost_pipeline = make_pipeline(\n",
    "    CatBoostClassifier(\n",
    "        eval_metric = 'MultiClass',\n",
    "        boosting_type = 'Plain',\n",
    "        verbose = False,\n",
    "        random_state = RANDOM_SEED,\n",
    "    ),\n",
    ")"
   ]
  },
  {
   "cell_type": "code",
   "execution_count": 14,
   "id": "cd7429d5",
   "metadata": {},
   "outputs": [
    {
     "name": "stdout",
     "output_type": "stream",
     "text": [
      "\n",
      "Fold 0 Accuracy: 0.95832 in 191.47s.\n",
      "Fold 1 Accuracy: 0.9595 in 193.45s.\n",
      "Fold 2 Accuracy: 0.95632 in 188.97s.\n",
      "Fold 3 Accuracy: 0.95848 in 183.85s.\n",
      "Fold 4 Accuracy: 0.95648 in 193.19s.\n",
      "Fold 5 Accuracy: 0.95926 in 188.22s.\n",
      "Fold 6 Accuracy: 0.95704 in 194.38s.\n",
      "Fold 7 Accuracy: 0.95814 in 185.72s.\n",
      "Fold 8 Accuracy: 0.95884 in 200.31s.\n",
      "Fold 9 Accuracy: 0.95724 in 199.76s.\n",
      "\n",
      "Average CV Accuracy: 0.95796\n",
      "Worst CV Accuracy: 0.95632\n",
      "Holdout Accuracy: 0.9583542738155068\n",
      "Training Time: 1919.32s\n"
     ]
    },
    {
     "data": {
      "image/png": "[encoded data removed]",
      "text/plain": [
       "<Figure size 576x432 with 2 Axes>"
      ]
     },
     "metadata": {
      "needs_background": "light"
     },
     "output_type": "display_data"
    }
   ],
   "source": [
    "cv_score, oof_preds, holdout = score_holdout(catboost_pipeline)\n",
    "\n",
    "new_rows.append((\n",
    "    'CatBoost', cv_score, holdout,\n",
    "     *recall_score(train['Cover_Type'], oof_preds, average = None)\n",
    "))"
   ]
  },
  {
   "cell_type": "markdown",
   "id": "2582c3ed",
   "metadata": {},
   "source": [
    "# Summary"
   ]
  },
  {
   "cell_type": "code",
   "execution_count": 15,
   "id": "22893e44",
   "metadata": {},
   "outputs": [
    {
     "data": {
      "text/html": [
       "<div>\n",
       "<style scoped>\n",
       "    .dataframe tbody tr th:only-of-type {\n",
       "        vertical-align: middle;\n",
       "    }\n",
       "\n",
       "    .dataframe tbody tr th {\n",
       "        vertical-align: top;\n",
       "    }\n",
       "\n",
       "    .dataframe thead th {\n",
       "        text-align: right;\n",
       "    }\n",
       "</style>\n",
       "<table border=\"1\" class=\"dataframe\">\n",
       "  <thead>\n",
       "    <tr style=\"text-align: right;\">\n",
       "      <th></th>\n",
       "      <th>model</th>\n",
       "      <th>cv_scores</th>\n",
       "      <th>holdout</th>\n",
       "      <th>recall_1</th>\n",
       "      <th>recall_2</th>\n",
       "      <th>recall_3</th>\n",
       "      <th>recall_4</th>\n",
       "      <th>recall_6</th>\n",
       "      <th>recall_7</th>\n",
       "    </tr>\n",
       "  </thead>\n",
       "  <tbody>\n",
       "    <tr>\n",
       "      <th>2</th>\n",
       "      <td>LightGBM</td>\n",
       "      <td>0.945378</td>\n",
       "      <td>0.955207</td>\n",
       "      <td>0.954566</td>\n",
       "      <td>0.961119</td>\n",
       "      <td>0.830281</td>\n",
       "      <td>0.000000</td>\n",
       "      <td>0.408964</td>\n",
       "      <td>0.622768</td>\n",
       "    </tr>\n",
       "    <tr>\n",
       "      <th>1</th>\n",
       "      <td>XGBoost</td>\n",
       "      <td>0.957660</td>\n",
       "      <td>0.958325</td>\n",
       "      <td>0.963682</td>\n",
       "      <td>0.971842</td>\n",
       "      <td>0.875000</td>\n",
       "      <td>0.170213</td>\n",
       "      <td>0.422969</td>\n",
       "      <td>0.663112</td>\n",
       "    </tr>\n",
       "    <tr>\n",
       "      <th>3</th>\n",
       "      <td>CatBoost</td>\n",
       "      <td>0.957962</td>\n",
       "      <td>0.958354</td>\n",
       "      <td>0.964499</td>\n",
       "      <td>0.972132</td>\n",
       "      <td>0.876758</td>\n",
       "      <td>0.106383</td>\n",
       "      <td>0.420168</td>\n",
       "      <td>0.648079</td>\n",
       "    </tr>\n",
       "    <tr>\n",
       "      <th>0</th>\n",
       "      <td>NN SELU</td>\n",
       "      <td>0.956490</td>\n",
       "      <td>0.958719</td>\n",
       "      <td>0.961404</td>\n",
       "      <td>0.968564</td>\n",
       "      <td>0.892618</td>\n",
       "      <td>0.000000</td>\n",
       "      <td>0.303922</td>\n",
       "      <td>0.728254</td>\n",
       "    </tr>\n",
       "  </tbody>\n",
       "</table>\n",
       "</div>"
      ],
      "text/plain": [
       "      model  cv_scores   holdout  recall_1  recall_2  recall_3  recall_4  \\\n",
       "2  LightGBM   0.945378  0.955207  0.954566  0.961119  0.830281  0.000000   \n",
       "1   XGBoost   0.957660  0.958325  0.963682  0.971842  0.875000  0.170213   \n",
       "3  CatBoost   0.957962  0.958354  0.964499  0.972132  0.876758  0.106383   \n",
       "0   NN SELU   0.956490  0.958719  0.961404  0.968564  0.892618  0.000000   \n",
       "\n",
       "   recall_6  recall_7  \n",
       "2  0.408964  0.622768  \n",
       "1  0.422969  0.663112  \n",
       "3  0.420168  0.648079  \n",
       "0  0.303922  0.728254  "
      ]
     },
     "execution_count": 15,
     "metadata": {},
     "output_type": "execute_result"
    }
   ],
   "source": [
    "pd.DataFrame.from_records(\n",
    "    data = new_rows,\n",
    "    columns = ['model','cv_scores','holdout','recall_1','recall_2','recall_3','recall_4','recall_6','recall_7']\n",
    ").sort_values('holdout')"
   ]
  }
 ],
 "metadata": {
  "kernelspec": {
   "display_name": "Python 3 (ipykernel)",
   "language": "python",
   "name": "python3"
  },
  "language_info": {
   "codemirror_mode": {
    "name": "ipython",
    "version": 3
   },
   "file_extension": ".py",
   "mimetype": "text/x-python",
   "name": "python",
   "nbconvert_exporter": "python",
   "pygments_lexer": "ipython3",
   "version": "3.8.10"
  }
 },
 "nbformat": 4,
 "nbformat_minor": 5
}
