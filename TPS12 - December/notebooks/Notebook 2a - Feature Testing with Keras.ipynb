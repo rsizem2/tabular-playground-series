{
 "cells": [
  {
   "cell_type": "markdown",
   "id": "c29e570c",
   "metadata": {},
   "source": [
    "# TPS12 - Feature Engineering"
   ]
  },
  {
   "cell_type": "code",
   "execution_count": 1,
   "id": "f11d5dec",
   "metadata": {},
   "outputs": [],
   "source": [
    "# Global variables for testing changes to this notebook quickly\n",
    "RANDOM_SEED = 0\n",
    "NUM_FOLDS = 3\n",
    "TRAIN_SIZE = 500000"
   ]
  },
  {
   "cell_type": "code",
   "execution_count": 16,
   "id": "f5d993f7",
   "metadata": {},
   "outputs": [],
   "source": [
    "import numpy as np\n",
    "import pandas as pd\n",
    "import time\n",
    "import os\n",
    "import pyarrow\n",
    "import gc\n",
    "\n",
    "# Hide warnings\n",
    "import warnings\n",
    "warnings.filterwarnings('ignore')\n",
    "os.environ['TF_CPP_MIN_LOG_LEVEL'] = '3' \n",
    "\n",
    "# Model/Evaluation\n",
    "from functools import partial\n",
    "from sklearn.base import clone\n",
    "from sklearn.pipeline import make_pipeline\n",
    "from sklearn.preprocessing import LabelEncoder, RobustScaler\n",
    "from sklearn.model_selection import StratifiedKFold, train_test_split\n",
    "from sklearn.metrics import accuracy_score, recall_score\n",
    "from sklearn.inspection import permutation_importance\n",
    "\n",
    "# Tensorflow/Keras\n",
    "import tensorflow as tf\n",
    "from tensorflow import keras\n",
    "\n",
    "# Keras imports\n",
    "from tensorflow.keras import layers\n",
    "from tensorflow.keras.callbacks import EarlyStopping\n",
    "from tensorflow.keras.wrappers.scikit_learn import KerasClassifier"
   ]
  },
  {
   "cell_type": "markdown",
   "id": "a03cc5a6",
   "metadata": {},
   "source": [
    "# Load and Prepare Data"
   ]
  },
  {
   "cell_type": "code",
   "execution_count": 3,
   "id": "abe76de7",
   "metadata": {},
   "outputs": [
    {
     "name": "stdout",
     "output_type": "stream",
     "text": [
      "Training Size: 500000 rows, 53 cols\n",
      "Holdout Size: 3499999 rows, 53 cols\n",
      "\n"
     ]
    }
   ],
   "source": [
    "# Load full training data\n",
    "train = pd.read_feather('../data/train.feather')\n",
    "\n",
    "# Drop low/no variance \n",
    "train.drop([\"Soil_Type7\", \"Id\", \"Soil_Type15\"], axis=1, inplace=True)\n",
    "train = train[train.Cover_Type != 5]\n",
    "\n",
    "# Label Encoding\n",
    "new_encoder = LabelEncoder()\n",
    "train[\"Cover_Type\"] = new_encoder.fit_transform(train[\"Cover_Type\"])\n",
    "\n",
    "# Split synthetic data\n",
    "train, test = train_test_split(\n",
    "    train, \n",
    "    train_size = TRAIN_SIZE, \n",
    "    random_state = RANDOM_SEED,\n",
    "    stratify = train['Cover_Type'],\n",
    ")\n",
    "y_train = train['Cover_Type']\n",
    "\n",
    "\n",
    "# features, data structure for summary scores\n",
    "features = [x for x in train.columns if x not in ['Id','Cover_Type']]\n",
    "nonsoil = [x for x in features if not x.startswith('Soil_Type')]\n",
    "new_rows = list()\n",
    "gc.collect()\n",
    "\n",
    "print(f'Training Size: {train.shape[0]} rows, {train.shape[1]} cols')\n",
    "print(f'Holdout Size: {test.shape[0]} rows, {test.shape[1]} cols\\n')"
   ]
  },
  {
   "cell_type": "markdown",
   "id": "5d171c11",
   "metadata": {},
   "source": [
    "# Model "
   ]
  },
  {
   "cell_type": "code",
   "execution_count": 4,
   "id": "84e094e4",
   "metadata": {},
   "outputs": [],
   "source": [
    "# Keras Parameters\n",
    "BATCH_SIZE = 512\n",
    "EPOCHS = 100\n",
    "EARLY_STOP = 5\n",
    "VERBOSE = 0\n",
    "NUM_CLASSES = len(train.Cover_Type.value_counts())"
   ]
  },
  {
   "cell_type": "code",
   "execution_count": 20,
   "id": "e6cff0cf",
   "metadata": {},
   "outputs": [],
   "source": [
    "def build_model(input_size):\n",
    "    model = keras.Sequential(\n",
    "        [\n",
    "            layers.InputLayer(input_shape = (input_size,)),\n",
    "            layers.Dense(input_size, kernel_initializer=\"lecun_normal\", activation=\"selu\"),\n",
    "            layers.Dense(3*input_size//4, kernel_initializer=\"lecun_normal\", activation=\"selu\"),\n",
    "            layers.Dense(input_size//2, kernel_initializer=\"lecun_normal\", activation=\"selu\"),\n",
    "            layers.Dense(NUM_CLASSES, activation=\"softmax\"),\n",
    "        ]\n",
    "    )\n",
    "\n",
    "    model.compile(\n",
    "        loss = tf.keras.losses.SparseCategoricalCrossentropy(), \n",
    "        optimizer = tf.keras.optimizers.Adam(),\n",
    "        metrics=['accuracy'],\n",
    "    )\n",
    "    return model "
   ]
  },
  {
   "cell_type": "code",
   "execution_count": 6,
   "id": "29f81caa",
   "metadata": {},
   "outputs": [],
   "source": [
    "# Fit parameters for Keras model\n",
    "keras_pipeline = make_pipeline(\n",
    "    RobustScaler(),\n",
    "    KerasClassifier(\n",
    "        partial(build_model, input_size = len(features)),\n",
    "        batch_size = BATCH_SIZE,\n",
    "        epochs = EPOCHS,\n",
    "        verbose = VERBOSE,\n",
    "        shuffle = True,\n",
    "        validation_split = 0.1,\n",
    "        callbacks = [\n",
    "            EarlyStopping(\n",
    "                patience=EARLY_STOP,\n",
    "                monitor='val_loss',\n",
    "                restore_best_weights=True,\n",
    "            ),\n",
    "        ],\n",
    "    )\n",
    ")"
   ]
  },
  {
   "cell_type": "markdown",
   "id": "65e037e8",
   "metadata": {},
   "source": [
    "# Scoring Function"
   ]
  },
  {
   "cell_type": "code",
   "execution_count": 7,
   "id": "632a68de",
   "metadata": {},
   "outputs": [],
   "source": [
    "def score_features(sklearn_model, processing = None):\n",
    "    \n",
    "    # Original Training/Test Split\n",
    "    features = [x for x in train.columns if x not in ['Id','Cover_Type']]\n",
    "    X_temp, X_test = train[features], test[features]\n",
    "    y_temp, y_test = train['Cover_Type'], test['Cover_Type']\n",
    "    \n",
    "    # Feature Engineering\n",
    "    if processing:\n",
    "        X_temp = processing(X_temp)\n",
    "        X_test = processing(X_test)\n",
    "    features = [x for x in X_temp.columns]\n",
    "    \n",
    "    # Store the out-of-fold predictions\n",
    "    test_preds = np.zeros((X_test.shape[0],6))\n",
    "    oof_preds = np.zeros((X_temp.shape[0],))\n",
    "    fi_scores = np.zeros((X_temp.shape[1],))\n",
    "    scores, times = np.zeros(NUM_FOLDS), np.zeros(NUM_FOLDS)\n",
    "    \n",
    "    # Stratified k-fold cross-validation\n",
    "    skf = StratifiedKFold(n_splits = NUM_FOLDS, shuffle = True, random_state = RANDOM_SEED)\n",
    "    for fold, (train_idx, valid_idx) in enumerate(skf.split(X_temp,y_temp)):\n",
    "       \n",
    "        # Training and Validation Sets\n",
    "        X_train, X_valid = X_temp.iloc[train_idx], X_temp.iloc[valid_idx]\n",
    "        y_train, y_valid = y_temp.iloc[train_idx], y_temp.iloc[valid_idx]\n",
    "        \n",
    "        # Create model\n",
    "        start = time.time()\n",
    "        model = clone(sklearn_model)\n",
    "        model.fit(X_train, y_train)\n",
    "\n",
    "        # Permutation Importance\n",
    "        result = permutation_importance(\n",
    "            model, X_valid, y_valid, \n",
    "            n_repeats=10, random_state=RANDOM_SEED\n",
    "        )\n",
    "        fi_scores += result.importances_mean / NUM_FOLDS\n",
    "\n",
    "        # validation/holdout predictions\n",
    "        valid_preds = np.ravel(model.predict(X_valid))\n",
    "        oof_preds[valid_idx] = valid_preds\n",
    "        test_preds += model.predict_proba(X_test)\n",
    "\n",
    "        # Save scores and times\n",
    "        scores[fold] = accuracy_score(y_valid, valid_preds)\n",
    "        end = time.time()\n",
    "        times[fold] = end-start\n",
    "        print(f'Fold {fold} Accuracy:  {round(scores[fold], 5)} in {round(end-start,2)}s.')\n",
    "        time.sleep(0.5)\n",
    "    \n",
    "    nonsoil = [x for x in X_test.columns if not x.startswith('Soil_Type')]\n",
    "    test_preds = np.argmax(test_preds, axis = 1)\n",
    "    test_score = accuracy_score(y_test, test_preds)\n",
    "    #print('\\n'+model.__class__.__name__)\n",
    "    print(\"Train Accuracy:\", round(scores.mean(), 5))\n",
    "    print('Test Accuracy:', round(test_score, 5))\n",
    "    print(f'Training Time: {round(times.sum(), 2)}s')\n",
    "    \n",
    "    fi_scores = pd.Series(\n",
    "        data = fi_scores, \n",
    "        index = features\n",
    "    ).loc[nonsoil].sort_values()\n",
    "    \n",
    "    return scores.mean(), oof_preds, test_score, fi_scores"
   ]
  },
  {
   "cell_type": "markdown",
   "id": "45c1cad9",
   "metadata": {},
   "source": [
    "# Baseline"
   ]
  },
  {
   "cell_type": "code",
   "execution_count": 8,
   "id": "e4b19e1e",
   "metadata": {},
   "outputs": [
    {
     "name": "stdout",
     "output_type": "stream",
     "text": [
      "Fold 0 Accuracy:  0.95626 in 202.62s.\n",
      "Fold 1 Accuracy:  0.95452 in 194.71s.\n",
      "Fold 2 Accuracy:  0.9542 in 193.17s.\n",
      "Train Accuracy: 0.95499\n",
      "Test Accuracy: 0.95672\n",
      "Training Time: 590.5s\n"
     ]
    },
    {
     "data": {
      "text/plain": [
       "Hillshade_9am                        -0.000017\n",
       "Slope                                 0.000040\n",
       "Hillshade_3pm                         0.000077\n",
       "Aspect                                0.000087\n",
       "Wilderness_Area2                      0.000095\n",
       "Hillshade_Noon                        0.000465\n",
       "Wilderness_Area1                      0.005630\n",
       "Horizontal_Distance_To_Hydrology      0.010718\n",
       "Wilderness_Area4                      0.012379\n",
       "Vertical_Distance_To_Hydrology        0.018118\n",
       "Wilderness_Area3                      0.022362\n",
       "Horizontal_Distance_To_Fire_Points    0.031108\n",
       "Horizontal_Distance_To_Roadways       0.048320\n",
       "Elevation                             0.458086\n",
       "dtype: float64"
      ]
     },
     "execution_count": 8,
     "metadata": {},
     "output_type": "execute_result"
    }
   ],
   "source": [
    "cv_score, oof_preds, test_score, fi_scores = score_features(\n",
    "    keras_pipeline\n",
    ")\n",
    "\n",
    "new_rows.append((\n",
    "    'Baseline', cv_score, test_score,\n",
    "     *recall_score(y_train, oof_preds, average = None)\n",
    "))\n",
    "\n",
    "fi_scores"
   ]
  },
  {
   "cell_type": "markdown",
   "id": "b4e9e6bc",
   "metadata": {},
   "source": [
    "# Feature Engineering"
   ]
  },
  {
   "cell_type": "markdown",
   "id": "f96d2a68",
   "metadata": {},
   "source": [
    "## 1 . Fix Aspect and Hillshade Values"
   ]
  },
  {
   "cell_type": "code",
   "execution_count": 9,
   "id": "4b20484c",
   "metadata": {},
   "outputs": [],
   "source": [
    "# Fix aspect\n",
    "def fix_ranges(data):\n",
    "    \n",
    "    df = data.copy()\n",
    "    \n",
    "    # Fix Aspect\n",
    "    df[\"Aspect\"][df[\"Aspect\"] < 0] += 360\n",
    "    df[\"Aspect\"][df[\"Aspect\"] > 359] -= 360\n",
    "    \n",
    "    # Fix Hillshade\n",
    "    df.loc[df[\"Hillshade_9am\"] < 0, \"Hillshade_9am\"] = 0\n",
    "    df.loc[df[\"Hillshade_Noon\"] < 0, \"Hillshade_Noon\"] = 0\n",
    "    df.loc[df[\"Hillshade_3pm\"] < 0, \"Hillshade_3pm\"] = 0\n",
    "    df.loc[df[\"Hillshade_9am\"] > 255, \"Hillshade_9am\"] = 255\n",
    "    df.loc[df[\"Hillshade_Noon\"] > 255, \"Hillshade_Noon\"] = 255\n",
    "    df.loc[df[\"Hillshade_3pm\"] > 255, \"Hillshade_3pm\"] = 255\n",
    "    \n",
    "    return df"
   ]
  },
  {
   "cell_type": "code",
   "execution_count": 10,
   "id": "aa4cd76c",
   "metadata": {},
   "outputs": [
    {
     "name": "stdout",
     "output_type": "stream",
     "text": [
      "Fold 0 Accuracy:  0.95573 in 195.3s.\n",
      "Fold 1 Accuracy:  0.95607 in 206.05s.\n",
      "Fold 2 Accuracy:  0.95613 in 204.97s.\n",
      "Train Accuracy: 0.95597\n",
      "Test Accuracy: 0.95771\n",
      "Training Time: 606.32s\n"
     ]
    },
    {
     "data": {
      "text/plain": [
       "Hillshade_3pm                         0.000032\n",
       "Aspect                                0.000036\n",
       "Slope                                 0.000037\n",
       "Hillshade_9am                         0.000081\n",
       "Wilderness_Area2                      0.000117\n",
       "Hillshade_Noon                        0.000395\n",
       "Wilderness_Area1                      0.004932\n",
       "Wilderness_Area4                      0.008946\n",
       "Horizontal_Distance_To_Hydrology      0.011241\n",
       "Vertical_Distance_To_Hydrology        0.018506\n",
       "Wilderness_Area3                      0.024273\n",
       "Horizontal_Distance_To_Fire_Points    0.031478\n",
       "Horizontal_Distance_To_Roadways       0.049205\n",
       "Elevation                             0.461040\n",
       "dtype: float64"
      ]
     },
     "execution_count": 10,
     "metadata": {},
     "output_type": "execute_result"
    }
   ],
   "source": [
    "cv_score, oof_preds, test_score, fi_scores = score_features(\n",
    "    keras_pipeline, \n",
    "    fix_ranges\n",
    ")\n",
    "\n",
    "new_rows.append((\n",
    "    'Fix_Range', cv_score, test_score,\n",
    "     *recall_score(y_train, oof_preds, average = None)\n",
    "))\n",
    "\n",
    "fi_scores"
   ]
  },
  {
   "cell_type": "markdown",
   "id": "5e20507b",
   "metadata": {},
   "source": [
    "## 2. Water Distance Features"
   ]
  },
  {
   "cell_type": "code",
   "execution_count": 21,
   "id": "af866796",
   "metadata": {},
   "outputs": [],
   "source": [
    "# Fit parameters for Keras model\n",
    "keras_pipeline = make_pipeline(\n",
    "    RobustScaler(),\n",
    "    KerasClassifier(\n",
    "        partial(build_model, input_size = len(features)+2),\n",
    "        batch_size = BATCH_SIZE,\n",
    "        epochs = EPOCHS,\n",
    "        verbose = VERBOSE,\n",
    "        shuffle = True,\n",
    "        validation_split = 0.1,\n",
    "        callbacks = [\n",
    "            EarlyStopping(\n",
    "                patience=EARLY_STOP,\n",
    "                monitor='val_loss',\n",
    "                restore_best_weights=True,\n",
    "            ),\n",
    "        ],\n",
    "    )\n",
    ")"
   ]
  },
  {
   "cell_type": "code",
   "execution_count": 22,
   "id": "191a3993",
   "metadata": {},
   "outputs": [],
   "source": [
    "# Distance to Water\n",
    "def water_distance_features(data):\n",
    "    df = data.copy()\n",
    "    \n",
    "    # use float64 for squaring\n",
    "    df[\"Horizontal_Distance_To_Hydrology\"] = df[\"Horizontal_Distance_To_Hydrology\"].astype('float64')\n",
    "    df[\"Vertical_Distance_To_Hydrology\"] = df[\"Vertical_Distance_To_Hydrology\"].astype('float64')\n",
    "    \n",
    "    # compute metrics\n",
    "    df[\"Hydro_Taxicab\"] = np.abs(df[\"Horizontal_Distance_To_Hydrology\"]) + np.abs(df[\"Vertical_Distance_To_Hydrology\"])\n",
    "    df[\"Hydro_Euclid\"] = (df[\"Horizontal_Distance_To_Hydrology\"]**2 + np.abs(df[\"Vertical_Distance_To_Hydrology\"])**2)**0.5\n",
    "    \n",
    "    # convert back\n",
    "    df[\"Horizontal_Distance_To_Hydrology\"] = df[\"Horizontal_Distance_To_Hydrology\"].astype('float32')\n",
    "    df[\"Vertical_Distance_To_Hydrology\"] = df[\"Vertical_Distance_To_Hydrology\"].astype('float32')\n",
    "    df[\"Hydro_Taxicab\"] = df[\"Hydro_Taxicab\"].astype('float32')\n",
    "    df[\"Hydro_Euclid\"] = df[\"Hydro_Euclid\"].astype('float32')\n",
    "    \n",
    "    return df"
   ]
  },
  {
   "cell_type": "code",
   "execution_count": 23,
   "id": "63442582",
   "metadata": {},
   "outputs": [
    {
     "name": "stdout",
     "output_type": "stream",
     "text": [
      "Fold 0 Accuracy:  0.95579 in 201.75s.\n",
      "Fold 1 Accuracy:  0.9564 in 236.53s.\n",
      "Fold 2 Accuracy:  0.95517 in 212.3s.\n",
      "Train Accuracy: 0.95579\n",
      "Test Accuracy: 0.95777\n",
      "Training Time: 650.58s\n"
     ]
    },
    {
     "data": {
      "text/plain": [
       "Hillshade_3pm                        -0.000086\n",
       "Hillshade_9am                        -0.000034\n",
       "Wilderness_Area2                      0.000001\n",
       "Slope                                 0.000005\n",
       "Aspect                                0.000020\n",
       "Hillshade_Noon                        0.000359\n",
       "Wilderness_Area1                      0.005319\n",
       "Wilderness_Area4                      0.010468\n",
       "Vertical_Distance_To_Hydrology        0.012476\n",
       "Hydro_Taxicab                         0.013185\n",
       "Hydro_Euclid                          0.018479\n",
       "Horizontal_Distance_To_Hydrology      0.019509\n",
       "Wilderness_Area3                      0.023161\n",
       "Horizontal_Distance_To_Fire_Points    0.032168\n",
       "Horizontal_Distance_To_Roadways       0.047550\n",
       "Elevation                             0.461135\n",
       "dtype: float64"
      ]
     },
     "execution_count": 23,
     "metadata": {},
     "output_type": "execute_result"
    }
   ],
   "source": [
    "cv_score, oof_preds, test_score, fi_scores = score_features(\n",
    "    keras_pipeline, \n",
    "    water_distance_features\n",
    ")\n",
    "\n",
    "new_rows.append((\n",
    "    'Water_Dist', cv_score, test_score,\n",
    "     *recall_score(y_train, oof_preds, average = None)\n",
    "))\n",
    "\n",
    "fi_scores"
   ]
  },
  {
   "cell_type": "markdown",
   "id": "18fc4517",
   "metadata": {},
   "source": [
    "## 3. Count Features"
   ]
  },
  {
   "cell_type": "code",
   "execution_count": 24,
   "id": "0b02d102",
   "metadata": {},
   "outputs": [],
   "source": [
    "# Create count features\n",
    "def count_features(data):\n",
    "    \n",
    "    df = data.copy()\n",
    "    soil_features = [x for x in df.columns if x.startswith(\"Soil_Type\")]\n",
    "    wilderness_features = [x for x in df.columns if x.startswith(\"Wilderness_Area\")]\n",
    "\n",
    "    # Count features\n",
    "    df[\"Soil_Count\"] = df[soil_features].apply(sum, axis=1)\n",
    "    df[\"Wilderness_Count\"] = df[wilderness_features].apply(sum, axis=1)\n",
    "    \n",
    "    return df"
   ]
  },
  {
   "cell_type": "code",
   "execution_count": 25,
   "id": "63ae3cfc",
   "metadata": {},
   "outputs": [
    {
     "name": "stdout",
     "output_type": "stream",
     "text": [
      "Fold 0 Accuracy:  0.95646 in 239.44s.\n",
      "Fold 1 Accuracy:  0.95551 in 240.48s.\n",
      "Fold 2 Accuracy:  0.95607 in 233.46s.\n",
      "Train Accuracy: 0.95601\n",
      "Test Accuracy: 0.95785\n",
      "Training Time: 713.38s\n"
     ]
    },
    {
     "data": {
      "text/plain": [
       "Hillshade_3pm                        -0.000052\n",
       "Hillshade_9am                        -0.000029\n",
       "Aspect                                0.000006\n",
       "Slope                                 0.000061\n",
       "Hillshade_Noon                        0.000371\n",
       "Wilderness_Area2                      0.001008\n",
       "Wilderness_Count                      0.002128\n",
       "Wilderness_Area4                      0.007962\n",
       "Horizontal_Distance_To_Hydrology      0.010908\n",
       "Wilderness_Area1                      0.011653\n",
       "Wilderness_Area3                      0.017273\n",
       "Vertical_Distance_To_Hydrology        0.019399\n",
       "Horizontal_Distance_To_Fire_Points    0.030980\n",
       "Soil_Count                            0.046622\n",
       "Horizontal_Distance_To_Roadways       0.047309\n",
       "Elevation                             0.462201\n",
       "dtype: float64"
      ]
     },
     "execution_count": 25,
     "metadata": {},
     "output_type": "execute_result"
    }
   ],
   "source": [
    "cv_score, oof_preds, test_score, fi_scores = score_features(\n",
    "    keras_pipeline, \n",
    "    count_features\n",
    ")\n",
    "\n",
    "new_rows.append((\n",
    "    'Count', cv_score, test_score,\n",
    "     *recall_score(y_train, oof_preds, average = None)\n",
    "))\n",
    "\n",
    "fi_scores"
   ]
  },
  {
   "cell_type": "markdown",
   "id": "5a71d2e2",
   "metadata": {},
   "source": [
    "## 4. Shade Features"
   ]
  },
  {
   "cell_type": "code",
   "execution_count": 26,
   "id": "0538d237",
   "metadata": {},
   "outputs": [],
   "source": [
    "# Create Shade features\n",
    "def new_shade_features(data):\n",
    "    \n",
    "    df = data.copy()\n",
    "    shade_features = ['Hillshade_9am', 'Hillshade_Noon', 'Hillshade_3pm']\n",
    "\n",
    "    # Hillshade\n",
    "    df[\"Hillshade_Avg\"] = df[shade_features].mean(axis=1)\n",
    "    df['Hillshade_Range'] = df[shade_features].max(axis=1) - df[shade_features].min(axis=1)\n",
    "    \n",
    "    return df"
   ]
  },
  {
   "cell_type": "code",
   "execution_count": 27,
   "id": "4760b5c0",
   "metadata": {},
   "outputs": [
    {
     "name": "stdout",
     "output_type": "stream",
     "text": [
      "Fold 0 Accuracy:  0.95721 in 236.64s.\n",
      "Fold 1 Accuracy:  0.95554 in 218.33s.\n",
      "Fold 2 Accuracy:  0.9535 in 209.59s.\n",
      "Train Accuracy: 0.95542\n",
      "Test Accuracy: 0.95734\n",
      "Training Time: 664.56s\n"
     ]
    },
    {
     "data": {
      "text/plain": [
       "Slope                                -0.000042\n",
       "Aspect                               -0.000014\n",
       "Wilderness_Area2                     -0.000004\n",
       "Hillshade_Range                       0.000525\n",
       "Hillshade_Noon                        0.001885\n",
       "Hillshade_9am                         0.003416\n",
       "Wilderness_Area1                      0.005463\n",
       "Hillshade_3pm                         0.006396\n",
       "Hillshade_Avg                         0.009258\n",
       "Horizontal_Distance_To_Hydrology      0.010001\n",
       "Wilderness_Area4                      0.011735\n",
       "Vertical_Distance_To_Hydrology        0.018436\n",
       "Wilderness_Area3                      0.022883\n",
       "Horizontal_Distance_To_Fire_Points    0.031208\n",
       "Horizontal_Distance_To_Roadways       0.047122\n",
       "Elevation                             0.460704\n",
       "dtype: float64"
      ]
     },
     "execution_count": 27,
     "metadata": {},
     "output_type": "execute_result"
    }
   ],
   "source": [
    "cv_score, oof_preds, test_score, fi_scores = score_features(\n",
    "    keras_pipeline, \n",
    "    new_shade_features\n",
    ")\n",
    "\n",
    "new_rows.append((\n",
    "    'Shade_Features', cv_score, test_score,\n",
    "     *recall_score(y_train, oof_preds, average = None)\n",
    "))\n",
    "\n",
    "fi_scores"
   ]
  },
  {
   "cell_type": "markdown",
   "id": "47461dd0",
   "metadata": {},
   "source": [
    "## 5. Distance Interactions"
   ]
  },
  {
   "cell_type": "code",
   "execution_count": 28,
   "id": "58db6f0c",
   "metadata": {},
   "outputs": [],
   "source": [
    "# Fit parameters for Keras model\n",
    "keras_pipeline = make_pipeline(\n",
    "    RobustScaler(),\n",
    "    KerasClassifier(\n",
    "        partial(build_model, input_size = len(features)+6),\n",
    "        batch_size = BATCH_SIZE,\n",
    "        epochs = EPOCHS,\n",
    "        verbose = VERBOSE,\n",
    "        shuffle = True,\n",
    "        validation_split = 0.1,\n",
    "        callbacks = [\n",
    "            EarlyStopping(\n",
    "                patience=EARLY_STOP,\n",
    "                monitor='val_loss',\n",
    "                restore_best_weights=True,\n",
    "            ),\n",
    "        ],\n",
    "    )\n",
    ")"
   ]
  },
  {
   "cell_type": "code",
   "execution_count": 29,
   "id": "34eb018c",
   "metadata": {},
   "outputs": [],
   "source": [
    "def distance_interactions(data):\n",
    "    \n",
    "    df = data.copy()\n",
    "    df['Hydro_Fire_1'] = df['Horizontal_Distance_To_Hydrology'] + df['Horizontal_Distance_To_Fire_Points']\n",
    "    df['Hydro_Fire_2'] = abs(df['Horizontal_Distance_To_Hydrology'] - df['Horizontal_Distance_To_Fire_Points'])\n",
    "    df['Hydro_Road_1'] = abs(df['Horizontal_Distance_To_Hydrology'] + df['Horizontal_Distance_To_Roadways'])\n",
    "    df['Hydro_Road_2'] = abs(df['Horizontal_Distance_To_Hydrology'] - df['Horizontal_Distance_To_Roadways'])\n",
    "    df['Fire_Road_1'] = abs(df['Horizontal_Distance_To_Fire_Points'] + df['Horizontal_Distance_To_Roadways'])\n",
    "    df['Fire_Road_2'] = abs(df['Horizontal_Distance_To_Fire_Points'] - df['Horizontal_Distance_To_Roadways'])\n",
    "    return df"
   ]
  },
  {
   "cell_type": "code",
   "execution_count": 30,
   "id": "4bc07abf",
   "metadata": {},
   "outputs": [
    {
     "name": "stdout",
     "output_type": "stream",
     "text": [
      "Fold 0 Accuracy:  0.95562 in 238.7s.\n",
      "Fold 1 Accuracy:  0.95645 in 242.24s.\n",
      "Fold 2 Accuracy:  0.95642 in 251.27s.\n",
      "Train Accuracy: 0.95616\n",
      "Test Accuracy: 0.95796\n",
      "Training Time: 732.21s\n"
     ]
    },
    {
     "data": {
      "text/plain": [
       "Hillshade_3pm                        -0.000037\n",
       "Slope                                -0.000027\n",
       "Hillshade_9am                         0.000059\n",
       "Aspect                                0.000061\n",
       "Wilderness_Area2                      0.000114\n",
       "Hillshade_Noon                        0.000448\n",
       "Wilderness_Area1                      0.004179\n",
       "Wilderness_Area4                      0.009221\n",
       "Fire_Road_1                           0.009596\n",
       "Hydro_Road_2                          0.010647\n",
       "Fire_Road_2                           0.012690\n",
       "Horizontal_Distance_To_Hydrology      0.013540\n",
       "Hydro_Fire_2                          0.013722\n",
       "Hydro_Fire_1                          0.014504\n",
       "Horizontal_Distance_To_Fire_Points    0.014574\n",
       "Horizontal_Distance_To_Roadways       0.016397\n",
       "Vertical_Distance_To_Hydrology        0.018744\n",
       "Hydro_Road_1                          0.020072\n",
       "Wilderness_Area3                      0.024378\n",
       "Elevation                             0.462099\n",
       "dtype: float64"
      ]
     },
     "execution_count": 30,
     "metadata": {},
     "output_type": "execute_result"
    }
   ],
   "source": [
    "cv_score, oof_preds, test_score, fi_scores = score_features(\n",
    "    keras_pipeline, \n",
    "    distance_interactions\n",
    ")\n",
    "\n",
    "new_rows.append((\n",
    "    'Dist_Interactions', cv_score, test_score,\n",
    "     *recall_score(y_train, oof_preds, average = None)\n",
    "))\n",
    "\n",
    "fi_scores"
   ]
  },
  {
   "cell_type": "markdown",
   "id": "1a55f1e4",
   "metadata": {},
   "source": [
    "## 6. Elevation Interaction"
   ]
  },
  {
   "cell_type": "code",
   "execution_count": 31,
   "id": "8bf42bc4",
   "metadata": {},
   "outputs": [],
   "source": [
    "def elevation_interactions(data):\n",
    "    \n",
    "    df = data.copy()\n",
    "    df['EHiElv'] = df['Horizontal_Distance_To_Roadways'] * df['Elevation']\n",
    "    df['EViElv'] = df['Vertical_Distance_To_Hydrology'] * df['Elevation']\n",
    "    df['EVDtH'] = df.Elevation - df.Vertical_Distance_To_Hydrology\n",
    "    df['EHDtH'] = df.Elevation - df.Horizontal_Distance_To_Hydrology * 0.2\n",
    "    \n",
    "    # Throwaway Features most likely\n",
    "    df['Highwater'] = (df.Vertical_Distance_To_Hydrology < 0).astype(int)\n",
    "    df['Hillshade_3pm_is_zero'] = (df.Hillshade_3pm == 0).astype(int)\n",
    "    \n",
    "    return df"
   ]
  },
  {
   "cell_type": "code",
   "execution_count": 32,
   "id": "10b3ec88",
   "metadata": {},
   "outputs": [
    {
     "name": "stdout",
     "output_type": "stream",
     "text": [
      "Fold 0 Accuracy:  0.95643 in 250.11s.\n",
      "Fold 1 Accuracy:  0.95657 in 252.33s.\n",
      "Fold 2 Accuracy:  0.95526 in 243.23s.\n",
      "Train Accuracy: 0.95608\n",
      "Test Accuracy: 0.9581\n",
      "Training Time: 745.68s\n"
     ]
    },
    {
     "data": {
      "text/plain": [
       "Slope                                -0.000056\n",
       "Hillshade_3pm_is_zero                -0.000003\n",
       "EHiElv                                0.000009\n",
       "Hillshade_9am                         0.000026\n",
       "Hillshade_3pm                         0.000047\n",
       "Aspect                                0.000051\n",
       "Highwater                             0.000059\n",
       "EViElv                                0.000059\n",
       "Wilderness_Area2                      0.000135\n",
       "Hillshade_Noon                        0.000564\n",
       "Wilderness_Area1                      0.004612\n",
       "Horizontal_Distance_To_Hydrology      0.007111\n",
       "Vertical_Distance_To_Hydrology        0.007137\n",
       "Wilderness_Area4                      0.007697\n",
       "Wilderness_Area3                      0.024546\n",
       "Horizontal_Distance_To_Fire_Points    0.031732\n",
       "Horizontal_Distance_To_Roadways       0.048176\n",
       "EHDtH                                 0.126353\n",
       "EVDtH                                 0.128327\n",
       "Elevation                             0.135859\n",
       "dtype: float64"
      ]
     },
     "execution_count": 32,
     "metadata": {},
     "output_type": "execute_result"
    }
   ],
   "source": [
    "cv_score, oof_preds, test_score, fi_scores = score_features(\n",
    "    keras_pipeline, \n",
    "    elevation_interactions\n",
    ")\n",
    "\n",
    "new_rows.append((\n",
    "    'Elev_Interactions', cv_score, test_score,\n",
    "     *recall_score(y_train, oof_preds, average = None)\n",
    "))\n",
    "\n",
    "fi_scores"
   ]
  },
  {
   "cell_type": "markdown",
   "id": "eaf9aa00",
   "metadata": {},
   "source": [
    "## Summary"
   ]
  },
  {
   "cell_type": "code",
   "execution_count": 33,
   "id": "3584c358",
   "metadata": {},
   "outputs": [
    {
     "data": {
      "text/html": [
       "<div>\n",
       "<style scoped>\n",
       "    .dataframe tbody tr th:only-of-type {\n",
       "        vertical-align: middle;\n",
       "    }\n",
       "\n",
       "    .dataframe tbody tr th {\n",
       "        vertical-align: top;\n",
       "    }\n",
       "\n",
       "    .dataframe thead th {\n",
       "        text-align: right;\n",
       "    }\n",
       "</style>\n",
       "<table border=\"1\" class=\"dataframe\">\n",
       "  <thead>\n",
       "    <tr style=\"text-align: right;\">\n",
       "      <th></th>\n",
       "      <th>features</th>\n",
       "      <th>cv_scores</th>\n",
       "      <th>holdout</th>\n",
       "      <th>recall_0</th>\n",
       "      <th>recall_1</th>\n",
       "      <th>recall_2</th>\n",
       "      <th>recall_3</th>\n",
       "      <th>recall_4</th>\n",
       "      <th>recall_5</th>\n",
       "    </tr>\n",
       "  </thead>\n",
       "  <tbody>\n",
       "    <tr>\n",
       "      <th>0</th>\n",
       "      <td>Baseline</td>\n",
       "      <td>0.954992</td>\n",
       "      <td>0.956718</td>\n",
       "      <td>0.953786</td>\n",
       "      <td>0.972348</td>\n",
       "      <td>0.870585</td>\n",
       "      <td>0.000000</td>\n",
       "      <td>0.303922</td>\n",
       "      <td>0.743415</td>\n",
       "    </tr>\n",
       "    <tr>\n",
       "      <th>4</th>\n",
       "      <td>Shade_Features</td>\n",
       "      <td>0.955418</td>\n",
       "      <td>0.957339</td>\n",
       "      <td>0.960200</td>\n",
       "      <td>0.968801</td>\n",
       "      <td>0.879251</td>\n",
       "      <td>0.000000</td>\n",
       "      <td>0.302521</td>\n",
       "      <td>0.721444</td>\n",
       "    </tr>\n",
       "    <tr>\n",
       "      <th>1</th>\n",
       "      <td>Fix_Range</td>\n",
       "      <td>0.955974</td>\n",
       "      <td>0.957713</td>\n",
       "      <td>0.961551</td>\n",
       "      <td>0.969713</td>\n",
       "      <td>0.883012</td>\n",
       "      <td>0.000000</td>\n",
       "      <td>0.284314</td>\n",
       "      <td>0.683670</td>\n",
       "    </tr>\n",
       "    <tr>\n",
       "      <th>2</th>\n",
       "      <td>Water_Dist</td>\n",
       "      <td>0.955786</td>\n",
       "      <td>0.957770</td>\n",
       "      <td>0.958451</td>\n",
       "      <td>0.969550</td>\n",
       "      <td>0.879333</td>\n",
       "      <td>0.021277</td>\n",
       "      <td>0.368347</td>\n",
       "      <td>0.746627</td>\n",
       "    </tr>\n",
       "    <tr>\n",
       "      <th>3</th>\n",
       "      <td>Count</td>\n",
       "      <td>0.956012</td>\n",
       "      <td>0.957847</td>\n",
       "      <td>0.960363</td>\n",
       "      <td>0.969327</td>\n",
       "      <td>0.873896</td>\n",
       "      <td>0.021277</td>\n",
       "      <td>0.399860</td>\n",
       "      <td>0.735449</td>\n",
       "    </tr>\n",
       "    <tr>\n",
       "      <th>5</th>\n",
       "      <td>Dist_Interactions</td>\n",
       "      <td>0.956160</td>\n",
       "      <td>0.957956</td>\n",
       "      <td>0.959573</td>\n",
       "      <td>0.968850</td>\n",
       "      <td>0.901815</td>\n",
       "      <td>0.000000</td>\n",
       "      <td>0.231092</td>\n",
       "      <td>0.724271</td>\n",
       "    </tr>\n",
       "    <tr>\n",
       "      <th>6</th>\n",
       "      <td>Elev_Interactions</td>\n",
       "      <td>0.956084</td>\n",
       "      <td>0.958098</td>\n",
       "      <td>0.961927</td>\n",
       "      <td>0.969483</td>\n",
       "      <td>0.873896</td>\n",
       "      <td>0.000000</td>\n",
       "      <td>0.282213</td>\n",
       "      <td>0.719260</td>\n",
       "    </tr>\n",
       "  </tbody>\n",
       "</table>\n",
       "</div>"
      ],
      "text/plain": [
       "            features  cv_scores   holdout  recall_0  recall_1  recall_2  \\\n",
       "0           Baseline   0.954992  0.956718  0.953786  0.972348  0.870585   \n",
       "4     Shade_Features   0.955418  0.957339  0.960200  0.968801  0.879251   \n",
       "1          Fix_Range   0.955974  0.957713  0.961551  0.969713  0.883012   \n",
       "2         Water_Dist   0.955786  0.957770  0.958451  0.969550  0.879333   \n",
       "3              Count   0.956012  0.957847  0.960363  0.969327  0.873896   \n",
       "5  Dist_Interactions   0.956160  0.957956  0.959573  0.968850  0.901815   \n",
       "6  Elev_Interactions   0.956084  0.958098  0.961927  0.969483  0.873896   \n",
       "\n",
       "   recall_3  recall_4  recall_5  \n",
       "0  0.000000  0.303922  0.743415  \n",
       "4  0.000000  0.302521  0.721444  \n",
       "1  0.000000  0.284314  0.683670  \n",
       "2  0.021277  0.368347  0.746627  \n",
       "3  0.021277  0.399860  0.735449  \n",
       "5  0.000000  0.231092  0.724271  \n",
       "6  0.000000  0.282213  0.719260  "
      ]
     },
     "execution_count": 33,
     "metadata": {},
     "output_type": "execute_result"
    }
   ],
   "source": [
    "pd.DataFrame.from_records(\n",
    "    data = new_rows,\n",
    "    columns = ['features','cv_scores','holdout','recall_0', 'recall_1','recall_2','recall_3','recall_4','recall_5']\n",
    ").sort_values('holdout')"
   ]
  }
 ],
 "metadata": {
  "kernelspec": {
   "display_name": "Python 3 (ipykernel)",
   "language": "python",
   "name": "python3"
  },
  "language_info": {
   "codemirror_mode": {
    "name": "ipython",
    "version": 3
   },
   "file_extension": ".py",
   "mimetype": "text/x-python",
   "name": "python",
   "nbconvert_exporter": "python",
   "pygments_lexer": "ipython3",
   "version": "3.8.10"
  }
 },
 "nbformat": 4,
 "nbformat_minor": 5
}
