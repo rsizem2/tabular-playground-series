{
 "cells": [
  {
   "cell_type": "markdown",
   "id": "ab24cbd8",
   "metadata": {},
   "source": [
    "# TPS 12 - Feature Engineering"
   ]
  },
  {
   "cell_type": "code",
   "execution_count": 1,
   "id": "5fa24f51",
   "metadata": {},
   "outputs": [],
   "source": [
    "# Global variables for testing changes to this notebook quickly\n",
    "RANDOM_SEED = 0\n",
    "NUM_FOLDS = 3\n",
    "TRAIN_SIZE = 500000"
   ]
  },
  {
   "cell_type": "code",
   "execution_count": 2,
   "id": "b73ff5c6",
   "metadata": {},
   "outputs": [],
   "source": [
    "import numpy as np\n",
    "import pandas as pd\n",
    "import time\n",
    "import os\n",
    "import pyarrow\n",
    "import gc\n",
    "\n",
    "# Model/Evaluation\n",
    "from sklearn.base import clone\n",
    "from sklearn.pipeline import make_pipeline\n",
    "from sklearn.preprocessing import LabelEncoder\n",
    "from sklearn.model_selection import StratifiedKFold, train_test_split\n",
    "from sklearn.metrics import accuracy_score, recall_score\n",
    "from sklearn.inspection import permutation_importance\n",
    "from catboost import CatBoostClassifier\n",
    "\n",
    "# Hide warnings\n",
    "import warnings\n",
    "warnings.filterwarnings('ignore')"
   ]
  },
  {
   "cell_type": "markdown",
   "id": "554f63d0",
   "metadata": {},
   "source": [
    "# Load and Prepare Data"
   ]
  },
  {
   "cell_type": "code",
   "execution_count": 3,
   "id": "6423cbd8",
   "metadata": {},
   "outputs": [
    {
     "name": "stdout",
     "output_type": "stream",
     "text": [
      "Training Size: 500000 rows, 53 cols\n",
      "Holdout Size: 3499999 rows, 53 cols\n",
      "\n"
     ]
    }
   ],
   "source": [
    "# Load full training data\n",
    "train = pd.read_feather('../data/train.feather')\n",
    "\n",
    "# Drop low/no variance \n",
    "train.drop([\"Soil_Type7\", \"Id\", \"Soil_Type15\"], axis=1, inplace=True)\n",
    "train = train[train.Cover_Type != 5]\n",
    "\n",
    "# Label Encoding\n",
    "new_encoder = LabelEncoder()\n",
    "train[\"Cover_Type\"] = new_encoder.fit_transform(train[\"Cover_Type\"])\n",
    "\n",
    "# Split synthetic data\n",
    "train, test = train_test_split(\n",
    "    train, \n",
    "    train_size = TRAIN_SIZE, \n",
    "    random_state = RANDOM_SEED,\n",
    "    stratify = train['Cover_Type'],\n",
    ")\n",
    "y_train = train['Cover_Type']\n",
    "\n",
    "\n",
    "# features, data structure for summary scores\n",
    "features = [x for x in train.columns if x not in ['Id','Cover_Type']]\n",
    "nonsoil = [x for x in features if not x.startswith('Soil_Type')]\n",
    "new_rows = list()\n",
    "gc.collect()\n",
    "\n",
    "print(f'Training Size: {train.shape[0]} rows, {train.shape[1]} cols')\n",
    "print(f'Holdout Size: {test.shape[0]} rows, {test.shape[1]} cols\\n')"
   ]
  },
  {
   "cell_type": "markdown",
   "id": "1a0fef10",
   "metadata": {},
   "source": [
    "# Model "
   ]
  },
  {
   "cell_type": "code",
   "execution_count": 4,
   "id": "875ceb92",
   "metadata": {},
   "outputs": [],
   "source": [
    "# LightGBM Classifier\n",
    "catboost_pipeline = make_pipeline(\n",
    "    CatBoostClassifier(\n",
    "        eval_metric = 'MultiClass',\n",
    "        boosting_type = 'Plain',\n",
    "        verbose = False,\n",
    "        random_state = RANDOM_SEED,\n",
    "    ),\n",
    ")"
   ]
  },
  {
   "cell_type": "markdown",
   "id": "b85d8d90",
   "metadata": {},
   "source": [
    "# Scoring Function"
   ]
  },
  {
   "cell_type": "code",
   "execution_count": 5,
   "id": "e0f9733c",
   "metadata": {},
   "outputs": [],
   "source": [
    "def score_features(sklearn_model, processing = None):\n",
    "    \n",
    "    # Original Training/Test Split\n",
    "    features = [x for x in train.columns if x not in ['Id','Cover_Type']]\n",
    "    X_temp, X_test = train[features], test[features]\n",
    "    y_temp, y_test = train['Cover_Type'], test['Cover_Type']\n",
    "    \n",
    "    # Feature Engineering\n",
    "    if processing:\n",
    "        X_temp = processing(X_temp)\n",
    "        X_test = processing(X_test)\n",
    "    features = [x for x in X_temp.columns]\n",
    "    \n",
    "    # Store the out-of-fold predictions\n",
    "    test_preds = np.zeros((X_test.shape[0],6))\n",
    "    oof_preds = np.zeros((X_temp.shape[0],))\n",
    "    fi_scores = np.zeros((X_temp.shape[1],))\n",
    "    scores, times = np.zeros(NUM_FOLDS), np.zeros(NUM_FOLDS)\n",
    "    \n",
    "    # Stratified k-fold cross-validation\n",
    "    skf = StratifiedKFold(n_splits = NUM_FOLDS, shuffle = True, random_state = RANDOM_SEED)\n",
    "    for fold, (train_idx, valid_idx) in enumerate(skf.split(X_temp,y_temp)):\n",
    "       \n",
    "        # Training and Validation Sets\n",
    "        X_train, X_valid = X_temp.iloc[train_idx], X_temp.iloc[valid_idx]\n",
    "        y_train, y_valid = y_temp.iloc[train_idx], y_temp.iloc[valid_idx]\n",
    "        \n",
    "        # Create model\n",
    "        start = time.time()\n",
    "        model = clone(sklearn_model)\n",
    "        model.fit(X_train, y_train)\n",
    "\n",
    "        # Permutation Importance\n",
    "        result = permutation_importance(\n",
    "            model, X_valid, y_valid, \n",
    "            n_repeats=10, random_state=RANDOM_SEED\n",
    "        )\n",
    "        fi_scores += result.importances_mean / NUM_FOLDS\n",
    "\n",
    "        # validation/holdout predictions\n",
    "        valid_preds = np.ravel(model.predict(X_valid))\n",
    "        oof_preds[valid_idx] = valid_preds\n",
    "        test_preds += model.predict_proba(X_test)\n",
    "\n",
    "        # Save scores and times\n",
    "        scores[fold] = accuracy_score(y_valid, valid_preds)\n",
    "        end = time.time()\n",
    "        times[fold] = end-start\n",
    "        print(f'Fold {fold} Accuracy:  {round(scores[fold], 5)} in {round(end-start,2)}s.')\n",
    "        time.sleep(0.5)\n",
    "    \n",
    "    nonsoil = [x for x in X_test.columns if not x.startswith('Soil_Type')]\n",
    "    test_preds = np.argmax(test_preds, axis = 1)\n",
    "    test_score = accuracy_score(y_test, test_preds)\n",
    "    #print('\\n'+model.__class__.__name__)\n",
    "    print(\"Train Accuracy:\", round(scores.mean(), 5))\n",
    "    print('Test Accuracy:', round(test_score, 5))\n",
    "    print(f'Training Time: {round(times.sum(), 2)}s')\n",
    "    \n",
    "    fi_scores = pd.Series(\n",
    "        data = fi_scores, \n",
    "        index = features\n",
    "    ).loc[nonsoil].sort_values()\n",
    "    \n",
    "    return scores.mean(), oof_preds, test_score, fi_scores"
   ]
  },
  {
   "cell_type": "markdown",
   "id": "7e0ad3b7",
   "metadata": {},
   "source": [
    "# Baseline"
   ]
  },
  {
   "cell_type": "code",
   "execution_count": 6,
   "id": "2cac9c9d",
   "metadata": {},
   "outputs": [
    {
     "name": "stdout",
     "output_type": "stream",
     "text": [
      "Fold 0 Accuracy:  0.95779 in 223.48s.\n",
      "Fold 1 Accuracy:  0.95689 in 223.61s.\n",
      "Fold 2 Accuracy:  0.95724 in 232.98s.\n",
      "Train Accuracy: 0.95731\n",
      "Test Accuracy: 0.95799\n",
      "Training Time: 680.08s\n"
     ]
    },
    {
     "data": {
      "text/plain": [
       "Hillshade_9am                        -0.000052\n",
       "Slope                                -0.000031\n",
       "Hillshade_3pm                        -0.000026\n",
       "Aspect                                0.000061\n",
       "Wilderness_Area2                      0.000069\n",
       "Hillshade_Noon                        0.000400\n",
       "Wilderness_Area4                      0.001785\n",
       "Wilderness_Area1                      0.006181\n",
       "Horizontal_Distance_To_Hydrology      0.010465\n",
       "Vertical_Distance_To_Hydrology        0.017887\n",
       "Wilderness_Area3                      0.022897\n",
       "Horizontal_Distance_To_Fire_Points    0.030866\n",
       "Horizontal_Distance_To_Roadways       0.047241\n",
       "Elevation                             0.461235\n",
       "dtype: float64"
      ]
     },
     "execution_count": 6,
     "metadata": {},
     "output_type": "execute_result"
    }
   ],
   "source": [
    "cv_score, oof_preds, test_score, fi_scores = score_features(\n",
    "    catboost_pipeline\n",
    ")\n",
    "\n",
    "new_rows.append((\n",
    "    'Baseline', cv_score, test_score,\n",
    "     *recall_score(y_train, oof_preds, average = None)\n",
    "))\n",
    "\n",
    "fi_scores"
   ]
  },
  {
   "cell_type": "markdown",
   "id": "bb21986c",
   "metadata": {},
   "source": [
    "# Feature Engineering"
   ]
  },
  {
   "cell_type": "markdown",
   "id": "e47a6e48",
   "metadata": {},
   "source": [
    "## 1 . Fix Aspect and Hillshade Values"
   ]
  },
  {
   "cell_type": "code",
   "execution_count": 7,
   "id": "5c902172",
   "metadata": {},
   "outputs": [],
   "source": [
    "# Fix aspect\n",
    "def fix_ranges(data):\n",
    "    \n",
    "    df = data.copy()\n",
    "    \n",
    "    # Fix Aspect\n",
    "    df[\"Aspect\"][df[\"Aspect\"] < 0] += 360\n",
    "    df[\"Aspect\"][df[\"Aspect\"] > 359] -= 360\n",
    "    \n",
    "    # Fix Hillshade\n",
    "    df.loc[df[\"Hillshade_9am\"] < 0, \"Hillshade_9am\"] = 0\n",
    "    df.loc[df[\"Hillshade_Noon\"] < 0, \"Hillshade_Noon\"] = 0\n",
    "    df.loc[df[\"Hillshade_3pm\"] < 0, \"Hillshade_3pm\"] = 0\n",
    "    df.loc[df[\"Hillshade_9am\"] > 255, \"Hillshade_9am\"] = 255\n",
    "    df.loc[df[\"Hillshade_Noon\"] > 255, \"Hillshade_Noon\"] = 255\n",
    "    df.loc[df[\"Hillshade_3pm\"] > 255, \"Hillshade_3pm\"] = 255\n",
    "    \n",
    "    return df"
   ]
  },
  {
   "cell_type": "code",
   "execution_count": 8,
   "id": "ee731aab",
   "metadata": {},
   "outputs": [
    {
     "name": "stdout",
     "output_type": "stream",
     "text": [
      "Fold 0 Accuracy:  0.9579 in 229.5s.\n",
      "Fold 1 Accuracy:  0.95747 in 205.15s.\n",
      "Fold 2 Accuracy:  0.95735 in 229.73s.\n",
      "Train Accuracy: 0.95757\n",
      "Test Accuracy: 0.95809\n",
      "Training Time: 664.38s\n"
     ]
    },
    {
     "data": {
      "text/plain": [
       "Slope                                -0.000047\n",
       "Hillshade_9am                        -0.000007\n",
       "Aspect                                0.000012\n",
       "Hillshade_3pm                         0.000034\n",
       "Wilderness_Area2                      0.000060\n",
       "Hillshade_Noon                        0.000478\n",
       "Wilderness_Area4                      0.001913\n",
       "Wilderness_Area1                      0.006201\n",
       "Horizontal_Distance_To_Hydrology      0.010727\n",
       "Vertical_Distance_To_Hydrology        0.018090\n",
       "Wilderness_Area3                      0.023078\n",
       "Horizontal_Distance_To_Fire_Points    0.031052\n",
       "Horizontal_Distance_To_Roadways       0.047457\n",
       "Elevation                             0.461452\n",
       "dtype: float64"
      ]
     },
     "execution_count": 8,
     "metadata": {},
     "output_type": "execute_result"
    }
   ],
   "source": [
    "cv_score, oof_preds, test_score, fi_scores = score_features(\n",
    "    catboost_pipeline, \n",
    "    fix_ranges\n",
    ")\n",
    "\n",
    "new_rows.append((\n",
    "    'Fix_Range', cv_score, test_score,\n",
    "     *recall_score(y_train, oof_preds, average = None)\n",
    "))\n",
    "\n",
    "fi_scores"
   ]
  },
  {
   "cell_type": "markdown",
   "id": "7c1d6099",
   "metadata": {},
   "source": [
    "## 2. Water Distance Features"
   ]
  },
  {
   "cell_type": "code",
   "execution_count": 9,
   "id": "5b5c82a4",
   "metadata": {},
   "outputs": [],
   "source": [
    "# Distance to Water\n",
    "def water_distance_features(data):\n",
    "    df = data.copy()\n",
    "    \n",
    "    # use float64 for squaring\n",
    "    df[\"Horizontal_Distance_To_Hydrology\"] = df[\"Horizontal_Distance_To_Hydrology\"].astype('float64')\n",
    "    df[\"Vertical_Distance_To_Hydrology\"] = df[\"Vertical_Distance_To_Hydrology\"].astype('float64')\n",
    "    \n",
    "    # compute metrics\n",
    "    df[\"Hydro_Taxicab\"] = np.abs(df[\"Horizontal_Distance_To_Hydrology\"]) + np.abs(df[\"Vertical_Distance_To_Hydrology\"])\n",
    "    df[\"Hydro_Euclid\"] = (df[\"Horizontal_Distance_To_Hydrology\"]**2 + np.abs(df[\"Vertical_Distance_To_Hydrology\"])**2)**0.5\n",
    "    \n",
    "    # convert back\n",
    "    df[\"Horizontal_Distance_To_Hydrology\"] = df[\"Horizontal_Distance_To_Hydrology\"].astype('float32')\n",
    "    df[\"Vertical_Distance_To_Hydrology\"] = df[\"Vertical_Distance_To_Hydrology\"].astype('float32')\n",
    "    df[\"Hydro_Taxicab\"] = df[\"Hydro_Taxicab\"].astype('float32')\n",
    "    df[\"Hydro_Euclid\"] = df[\"Hydro_Euclid\"].astype('float32')\n",
    "    \n",
    "    return df"
   ]
  },
  {
   "cell_type": "code",
   "execution_count": 10,
   "id": "74715988",
   "metadata": {},
   "outputs": [
    {
     "name": "stdout",
     "output_type": "stream",
     "text": [
      "Fold 0 Accuracy:  0.95769 in 183.92s.\n",
      "Fold 1 Accuracy:  0.95714 in 182.43s.\n",
      "Fold 2 Accuracy:  0.95772 in 182.95s.\n",
      "Train Accuracy: 0.95752\n",
      "Test Accuracy: 0.958\n",
      "Training Time: 549.29s\n"
     ]
    },
    {
     "data": {
      "text/plain": [
       "Hillshade_3pm                        -0.000040\n",
       "Slope                                 0.000005\n",
       "Hillshade_9am                         0.000036\n",
       "Aspect                                0.000067\n",
       "Wilderness_Area2                      0.000097\n",
       "Hillshade_Noon                        0.000407\n",
       "Horizontal_Distance_To_Hydrology      0.000658\n",
       "Hydro_Euclid                          0.000907\n",
       "Wilderness_Area4                      0.001433\n",
       "Hydro_Taxicab                         0.005329\n",
       "Wilderness_Area1                      0.005928\n",
       "Vertical_Distance_To_Hydrology        0.014037\n",
       "Wilderness_Area3                      0.023241\n",
       "Horizontal_Distance_To_Fire_Points    0.031064\n",
       "Horizontal_Distance_To_Roadways       0.047479\n",
       "Elevation                             0.461855\n",
       "dtype: float64"
      ]
     },
     "execution_count": 10,
     "metadata": {},
     "output_type": "execute_result"
    }
   ],
   "source": [
    "cv_score, oof_preds, test_score, fi_scores = score_features(\n",
    "    catboost_pipeline, \n",
    "    water_distance_features\n",
    ")\n",
    "\n",
    "new_rows.append((\n",
    "    'Water_Dist', cv_score, test_score,\n",
    "     *recall_score(y_train, oof_preds, average = None)\n",
    "))\n",
    "\n",
    "fi_scores"
   ]
  },
  {
   "cell_type": "markdown",
   "id": "cb19d46a",
   "metadata": {},
   "source": [
    "## 3. Count Features"
   ]
  },
  {
   "cell_type": "code",
   "execution_count": 11,
   "id": "ad66daa1",
   "metadata": {},
   "outputs": [],
   "source": [
    "# Create count features\n",
    "def count_features(data):\n",
    "    \n",
    "    df = data.copy()\n",
    "    soil_features = [x for x in df.columns if x.startswith(\"Soil_Type\")]\n",
    "    wilderness_features = [x for x in df.columns if x.startswith(\"Wilderness_Area\")]\n",
    "\n",
    "    # Count features\n",
    "    df[\"Soil_Count\"] = df[soil_features].apply(sum, axis=1)\n",
    "    df[\"Wilderness_Count\"] = df[wilderness_features].apply(sum, axis=1)\n",
    "    \n",
    "    return df"
   ]
  },
  {
   "cell_type": "code",
   "execution_count": 12,
   "id": "6cd1dfbf",
   "metadata": {},
   "outputs": [
    {
     "name": "stdout",
     "output_type": "stream",
     "text": [
      "Fold 0 Accuracy:  0.95953 in 239.32s.\n",
      "Fold 1 Accuracy:  0.95906 in 239.34s.\n",
      "Fold 2 Accuracy:  0.95886 in 222.28s.\n",
      "Train Accuracy: 0.95915\n",
      "Test Accuracy: 0.95948\n",
      "Training Time: 700.94s\n"
     ]
    },
    {
     "data": {
      "text/plain": [
       "Hillshade_9am                         0.000034\n",
       "Wilderness_Count                      0.000046\n",
       "Hillshade_3pm                         0.000059\n",
       "Aspect                                0.000067\n",
       "Wilderness_Area2                      0.000081\n",
       "Slope                                 0.000093\n",
       "Hillshade_Noon                        0.000547\n",
       "Wilderness_Area4                      0.001440\n",
       "Wilderness_Area1                      0.004639\n",
       "Horizontal_Distance_To_Hydrology      0.010794\n",
       "Vertical_Distance_To_Hydrology        0.018301\n",
       "Wilderness_Area3                      0.024470\n",
       "Horizontal_Distance_To_Fire_Points    0.031983\n",
       "Soil_Count                            0.034981\n",
       "Horizontal_Distance_To_Roadways       0.048675\n",
       "Elevation                             0.462630\n",
       "dtype: float64"
      ]
     },
     "execution_count": 12,
     "metadata": {},
     "output_type": "execute_result"
    }
   ],
   "source": [
    "cv_score, oof_preds, test_score, fi_scores = score_features(\n",
    "    catboost_pipeline, \n",
    "    count_features\n",
    ")\n",
    "\n",
    "new_rows.append((\n",
    "    'Count', cv_score, test_score,\n",
    "     *recall_score(y_train, oof_preds, average = None)\n",
    "))\n",
    "\n",
    "fi_scores"
   ]
  },
  {
   "cell_type": "markdown",
   "id": "5903abc2",
   "metadata": {},
   "source": [
    "## 4. Shade Features"
   ]
  },
  {
   "cell_type": "code",
   "execution_count": 13,
   "id": "b2c48d3e",
   "metadata": {},
   "outputs": [],
   "source": [
    "# Create Shade features\n",
    "def new_shade_features(data):\n",
    "    \n",
    "    df = data.copy()\n",
    "    shade_features = ['Hillshade_9am', 'Hillshade_Noon', 'Hillshade_3pm']\n",
    "\n",
    "    # Hillshade\n",
    "    df[\"Hillshade_Avg\"] = df[shade_features].mean(axis=1)\n",
    "    df['Hillshade_Range'] = df[shade_features].max(axis=1) - df[shade_features].min(axis=1)\n",
    "    \n",
    "    return df"
   ]
  },
  {
   "cell_type": "code",
   "execution_count": 14,
   "id": "453a9f83",
   "metadata": {},
   "outputs": [
    {
     "name": "stdout",
     "output_type": "stream",
     "text": [
      "Fold 0 Accuracy:  0.95763 in 183.45s.\n",
      "Fold 1 Accuracy:  0.95717 in 183.04s.\n",
      "Fold 2 Accuracy:  0.95744 in 182.89s.\n",
      "Train Accuracy: 0.95741\n",
      "Test Accuracy: 0.95789\n",
      "Training Time: 549.39s\n"
     ]
    },
    {
     "data": {
      "text/plain": [
       "Hillshade_Avg                        -0.000013\n",
       "Slope                                 0.000014\n",
       "Hillshade_Range                       0.000021\n",
       "Wilderness_Area2                      0.000032\n",
       "Hillshade_3pm                         0.000046\n",
       "Hillshade_9am                         0.000062\n",
       "Aspect                                0.000114\n",
       "Hillshade_Noon                        0.000480\n",
       "Wilderness_Area4                      0.001522\n",
       "Wilderness_Area1                      0.005699\n",
       "Horizontal_Distance_To_Hydrology      0.010593\n",
       "Vertical_Distance_To_Hydrology        0.017933\n",
       "Wilderness_Area3                      0.023351\n",
       "Horizontal_Distance_To_Fire_Points    0.030998\n",
       "Horizontal_Distance_To_Roadways       0.047392\n",
       "Elevation                             0.461632\n",
       "dtype: float64"
      ]
     },
     "execution_count": 14,
     "metadata": {},
     "output_type": "execute_result"
    }
   ],
   "source": [
    "cv_score, oof_preds, test_score, fi_scores = score_features(\n",
    "    catboost_pipeline, \n",
    "    new_shade_features\n",
    ")\n",
    "\n",
    "new_rows.append((\n",
    "    'Shade_Features', cv_score, test_score,\n",
    "     *recall_score(y_train, oof_preds, average = None)\n",
    "))\n",
    "\n",
    "fi_scores"
   ]
  },
  {
   "cell_type": "markdown",
   "id": "80562777",
   "metadata": {},
   "source": [
    "## 5. Distance Interactions"
   ]
  },
  {
   "cell_type": "code",
   "execution_count": 15,
   "id": "24ce5a8f",
   "metadata": {},
   "outputs": [],
   "source": [
    "def distance_interactions(data):\n",
    "    \n",
    "    df = data.copy()\n",
    "    df['Hydro_Fire_1'] = df['Horizontal_Distance_To_Hydrology'] + df['Horizontal_Distance_To_Fire_Points']\n",
    "    df['Hydro_Fire_2'] = abs(df['Horizontal_Distance_To_Hydrology'] - df['Horizontal_Distance_To_Fire_Points'])\n",
    "    df['Hydro_Road_1'] = abs(df['Horizontal_Distance_To_Hydrology'] + df['Horizontal_Distance_To_Roadways'])\n",
    "    df['Hydro_Road_2'] = abs(df['Horizontal_Distance_To_Hydrology'] - df['Horizontal_Distance_To_Roadways'])\n",
    "    df['Fire_Road_1'] = abs(df['Horizontal_Distance_To_Fire_Points'] + df['Horizontal_Distance_To_Roadways'])\n",
    "    df['Fire_Road_2'] = abs(df['Horizontal_Distance_To_Fire_Points'] - df['Horizontal_Distance_To_Roadways'])\n",
    "    return df"
   ]
  },
  {
   "cell_type": "code",
   "execution_count": 16,
   "id": "c9fd57d3",
   "metadata": {},
   "outputs": [
    {
     "name": "stdout",
     "output_type": "stream",
     "text": [
      "Fold 0 Accuracy:  0.95802 in 196.47s.\n",
      "Fold 1 Accuracy:  0.95752 in 195.81s.\n",
      "Fold 2 Accuracy:  0.95768 in 195.2s.\n",
      "Train Accuracy: 0.95774\n",
      "Test Accuracy: 0.95839\n",
      "Training Time: 587.48s\n"
     ]
    },
    {
     "data": {
      "text/plain": [
       "Hillshade_3pm                        -0.000023\n",
       "Hillshade_9am                         0.000003\n",
       "Slope                                 0.000010\n",
       "Aspect                                0.000066\n",
       "Wilderness_Area2                      0.000069\n",
       "Hillshade_Noon                        0.000487\n",
       "Hydro_Road_1                          0.000856\n",
       "Wilderness_Area4                      0.002443\n",
       "Horizontal_Distance_To_Fire_Points    0.002878\n",
       "Fire_Road_2                           0.003479\n",
       "Hydro_Road_2                          0.004264\n",
       "Fire_Road_1                           0.004372\n",
       "Hydro_Fire_2                          0.004838\n",
       "Hydro_Fire_1                          0.005138\n",
       "Wilderness_Area1                      0.005502\n",
       "Horizontal_Distance_To_Hydrology      0.006956\n",
       "Vertical_Distance_To_Hydrology        0.017869\n",
       "Horizontal_Distance_To_Roadways       0.022260\n",
       "Wilderness_Area3                      0.023560\n",
       "Elevation                             0.461088\n",
       "dtype: float64"
      ]
     },
     "execution_count": 16,
     "metadata": {},
     "output_type": "execute_result"
    }
   ],
   "source": [
    "cv_score, oof_preds, test_score, fi_scores = score_features(\n",
    "    catboost_pipeline, \n",
    "    distance_interactions\n",
    ")\n",
    "\n",
    "new_rows.append((\n",
    "    'Dist_Interactions', cv_score, test_score,\n",
    "     *recall_score(y_train, oof_preds, average = None)\n",
    "))\n",
    "\n",
    "fi_scores"
   ]
  },
  {
   "cell_type": "markdown",
   "id": "91e04ccb",
   "metadata": {},
   "source": [
    "## 6. Elevation Interactions"
   ]
  },
  {
   "cell_type": "code",
   "execution_count": 17,
   "id": "5770b3bc",
   "metadata": {},
   "outputs": [],
   "source": [
    "def elevation_interactions(data):\n",
    "    \n",
    "    df = data.copy()\n",
    "    df['EHiElv'] = df['Horizontal_Distance_To_Roadways'] * df['Elevation']\n",
    "    df['EViElv'] = df['Vertical_Distance_To_Hydrology'] * df['Elevation']\n",
    "    df['EVDtH'] = df.Elevation - df.Vertical_Distance_To_Hydrology\n",
    "    df['EHDtH'] = df.Elevation - df.Horizontal_Distance_To_Hydrology * 0.2\n",
    "    \n",
    "    # Throwaway Features most likely\n",
    "    df['Highwater'] = (df.Vertical_Distance_To_Hydrology < 0).astype(int)\n",
    "    df['Hillshade_3pm_is_zero'] = (df.Hillshade_3pm == 0).astype(int)\n",
    "    \n",
    "    return df"
   ]
  },
  {
   "cell_type": "code",
   "execution_count": 18,
   "id": "87395d3f",
   "metadata": {},
   "outputs": [
    {
     "name": "stdout",
     "output_type": "stream",
     "text": [
      "Fold 0 Accuracy:  0.95856 in 193.85s.\n",
      "Fold 1 Accuracy:  0.95793 in 191.18s.\n",
      "Fold 2 Accuracy:  0.95825 in 191.29s.\n",
      "Train Accuracy: 0.95825\n",
      "Test Accuracy: 0.95877\n",
      "Training Time: 576.32s\n"
     ]
    },
    {
     "data": {
      "text/plain": [
       "Hillshade_3pm                        -5.359992e-05\n",
       "EHiElv                               -5.199865e-06\n",
       "EViElv                               -5.400007e-11\n",
       "Hillshade_3pm_is_zero                 2.000008e-07\n",
       "Highwater                             3.200022e-06\n",
       "Slope                                 3.140008e-05\n",
       "Wilderness_Area2                      4.359999e-05\n",
       "Hillshade_9am                         5.320020e-05\n",
       "Aspect                                8.900002e-05\n",
       "Hillshade_Noon                        3.781999e-04\n",
       "Vertical_Distance_To_Hydrology        4.140002e-04\n",
       "Wilderness_Area4                      2.456600e-03\n",
       "Horizontal_Distance_To_Hydrology      4.834200e-03\n",
       "Wilderness_Area1                      5.928797e-03\n",
       "Wilderness_Area3                      2.321340e-02\n",
       "Horizontal_Distance_To_Fire_Points    3.131400e-02\n",
       "EHDtH                                 4.338862e-02\n",
       "Horizontal_Distance_To_Roadways       4.700640e-02\n",
       "Elevation                             1.365212e-01\n",
       "EVDtH                                 1.607620e-01\n",
       "dtype: float64"
      ]
     },
     "execution_count": 18,
     "metadata": {},
     "output_type": "execute_result"
    }
   ],
   "source": [
    "cv_score, oof_preds, test_score, fi_scores = score_features(\n",
    "    catboost_pipeline, \n",
    "    elevation_interactions\n",
    ")\n",
    "\n",
    "new_rows.append((\n",
    "    'Elev_Interactions', cv_score, test_score,\n",
    "     *recall_score(y_train, oof_preds, average = None)\n",
    "))\n",
    "\n",
    "fi_scores"
   ]
  },
  {
   "cell_type": "markdown",
   "id": "a4868dec",
   "metadata": {},
   "source": [
    "# Summary"
   ]
  },
  {
   "cell_type": "code",
   "execution_count": 19,
   "id": "9ca412c1",
   "metadata": {},
   "outputs": [
    {
     "data": {
      "text/html": [
       "<div>\n",
       "<style scoped>\n",
       "    .dataframe tbody tr th:only-of-type {\n",
       "        vertical-align: middle;\n",
       "    }\n",
       "\n",
       "    .dataframe tbody tr th {\n",
       "        vertical-align: top;\n",
       "    }\n",
       "\n",
       "    .dataframe thead th {\n",
       "        text-align: right;\n",
       "    }\n",
       "</style>\n",
       "<table border=\"1\" class=\"dataframe\">\n",
       "  <thead>\n",
       "    <tr style=\"text-align: right;\">\n",
       "      <th></th>\n",
       "      <th>features</th>\n",
       "      <th>cv_scores</th>\n",
       "      <th>holdout</th>\n",
       "      <th>recall_0</th>\n",
       "      <th>recall_1</th>\n",
       "      <th>recall_2</th>\n",
       "      <th>recall_3</th>\n",
       "      <th>recall_4</th>\n",
       "      <th>recall_5</th>\n",
       "    </tr>\n",
       "  </thead>\n",
       "  <tbody>\n",
       "    <tr>\n",
       "      <th>4</th>\n",
       "      <td>Shade_Features</td>\n",
       "      <td>0.957412</td>\n",
       "      <td>0.957893</td>\n",
       "      <td>0.964101</td>\n",
       "      <td>0.972026</td>\n",
       "      <td>0.875041</td>\n",
       "      <td>0.106383</td>\n",
       "      <td>0.400560</td>\n",
       "      <td>0.634974</td>\n",
       "    </tr>\n",
       "    <tr>\n",
       "      <th>0</th>\n",
       "      <td>Baseline</td>\n",
       "      <td>0.957308</td>\n",
       "      <td>0.957987</td>\n",
       "      <td>0.963900</td>\n",
       "      <td>0.971874</td>\n",
       "      <td>0.873610</td>\n",
       "      <td>0.148936</td>\n",
       "      <td>0.409664</td>\n",
       "      <td>0.641141</td>\n",
       "    </tr>\n",
       "    <tr>\n",
       "      <th>2</th>\n",
       "      <td>Water_Dist</td>\n",
       "      <td>0.957518</td>\n",
       "      <td>0.957996</td>\n",
       "      <td>0.964118</td>\n",
       "      <td>0.971945</td>\n",
       "      <td>0.875572</td>\n",
       "      <td>0.170213</td>\n",
       "      <td>0.414566</td>\n",
       "      <td>0.639728</td>\n",
       "    </tr>\n",
       "    <tr>\n",
       "      <th>1</th>\n",
       "      <td>Fix_Range</td>\n",
       "      <td>0.957572</td>\n",
       "      <td>0.958091</td>\n",
       "      <td>0.964101</td>\n",
       "      <td>0.972040</td>\n",
       "      <td>0.875164</td>\n",
       "      <td>0.148936</td>\n",
       "      <td>0.414566</td>\n",
       "      <td>0.641526</td>\n",
       "    </tr>\n",
       "    <tr>\n",
       "      <th>5</th>\n",
       "      <td>Dist_Interactions</td>\n",
       "      <td>0.957742</td>\n",
       "      <td>0.958390</td>\n",
       "      <td>0.964565</td>\n",
       "      <td>0.972479</td>\n",
       "      <td>0.871035</td>\n",
       "      <td>0.106383</td>\n",
       "      <td>0.413866</td>\n",
       "      <td>0.638957</td>\n",
       "    </tr>\n",
       "    <tr>\n",
       "      <th>6</th>\n",
       "      <td>Elev_Interactions</td>\n",
       "      <td>0.958250</td>\n",
       "      <td>0.958773</td>\n",
       "      <td>0.964641</td>\n",
       "      <td>0.973087</td>\n",
       "      <td>0.874387</td>\n",
       "      <td>0.127660</td>\n",
       "      <td>0.413165</td>\n",
       "      <td>0.637158</td>\n",
       "    </tr>\n",
       "    <tr>\n",
       "      <th>3</th>\n",
       "      <td>Count</td>\n",
       "      <td>0.959152</td>\n",
       "      <td>0.959480</td>\n",
       "      <td>0.964526</td>\n",
       "      <td>0.971923</td>\n",
       "      <td>0.882317</td>\n",
       "      <td>0.127660</td>\n",
       "      <td>0.441877</td>\n",
       "      <td>0.709881</td>\n",
       "    </tr>\n",
       "  </tbody>\n",
       "</table>\n",
       "</div>"
      ],
      "text/plain": [
       "            features  cv_scores   holdout  recall_0  recall_1  recall_2  \\\n",
       "4     Shade_Features   0.957412  0.957893  0.964101  0.972026  0.875041   \n",
       "0           Baseline   0.957308  0.957987  0.963900  0.971874  0.873610   \n",
       "2         Water_Dist   0.957518  0.957996  0.964118  0.971945  0.875572   \n",
       "1          Fix_Range   0.957572  0.958091  0.964101  0.972040  0.875164   \n",
       "5  Dist_Interactions   0.957742  0.958390  0.964565  0.972479  0.871035   \n",
       "6  Elev_Interactions   0.958250  0.958773  0.964641  0.973087  0.874387   \n",
       "3              Count   0.959152  0.959480  0.964526  0.971923  0.882317   \n",
       "\n",
       "   recall_3  recall_4  recall_5  \n",
       "4  0.106383  0.400560  0.634974  \n",
       "0  0.148936  0.409664  0.641141  \n",
       "2  0.170213  0.414566  0.639728  \n",
       "1  0.148936  0.414566  0.641526  \n",
       "5  0.106383  0.413866  0.638957  \n",
       "6  0.127660  0.413165  0.637158  \n",
       "3  0.127660  0.441877  0.709881  "
      ]
     },
     "execution_count": 19,
     "metadata": {},
     "output_type": "execute_result"
    }
   ],
   "source": [
    "pd.DataFrame.from_records(\n",
    "    data = new_rows,\n",
    "    columns = ['features','cv_scores','holdout','recall_0', 'recall_1','recall_2','recall_3','recall_4','recall_5']\n",
    ").sort_values('holdout')"
   ]
  }
 ],
 "metadata": {
  "kernelspec": {
   "display_name": "Python 3 (ipykernel)",
   "language": "python",
   "name": "python3"
  },
  "language_info": {
   "codemirror_mode": {
    "name": "ipython",
    "version": 3
   },
   "file_extension": ".py",
   "mimetype": "text/x-python",
   "name": "python",
   "nbconvert_exporter": "python",
   "pygments_lexer": "ipython3",
   "version": "3.8.10"
  }
 },
 "nbformat": 4,
 "nbformat_minor": 5
}
