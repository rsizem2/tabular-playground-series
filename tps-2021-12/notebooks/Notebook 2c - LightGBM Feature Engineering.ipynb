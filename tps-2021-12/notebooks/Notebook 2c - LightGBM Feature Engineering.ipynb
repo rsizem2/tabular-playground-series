{
 "cells": [
  {
   "cell_type": "markdown",
   "id": "186664d6",
   "metadata": {},
   "source": [
    "# TPS 12 - Feature Engineering\n",
    "\n",
    "In this notebook we test out some feature engineering techniques using LightGBM to see if we get improvements over the baseline."
   ]
  },
  {
   "cell_type": "code",
   "execution_count": 1,
   "id": "8913499d",
   "metadata": {},
   "outputs": [],
   "source": [
    "# Global variables for testing changes to this notebook quickly\n",
    "RANDOM_SEED = 0\n",
    "NUM_FOLDS = 6\n",
    "TRAIN_SIZE = 500000"
   ]
  },
  {
   "cell_type": "code",
   "execution_count": 2,
   "id": "d246f3a9",
   "metadata": {},
   "outputs": [],
   "source": [
    "import numpy as np\n",
    "import pandas as pd\n",
    "import time\n",
    "import os\n",
    "import pyarrow\n",
    "import gc\n",
    "\n",
    "# Model/Evaluation\n",
    "from sklearn.base import clone\n",
    "from sklearn.pipeline import make_pipeline\n",
    "from sklearn.preprocessing import LabelEncoder\n",
    "from sklearn.model_selection import StratifiedKFold, train_test_split\n",
    "from sklearn.metrics import accuracy_score, recall_score\n",
    "from sklearn.inspection import permutation_importance\n",
    "from lightgbm import LGBMClassifier\n",
    "\n",
    "# Hide warnings\n",
    "import warnings\n",
    "warnings.filterwarnings('ignore')"
   ]
  },
  {
   "cell_type": "markdown",
   "id": "40f58f03",
   "metadata": {},
   "source": [
    "# Load and Prepare Data"
   ]
  },
  {
   "cell_type": "code",
   "execution_count": 3,
   "id": "092468f3",
   "metadata": {},
   "outputs": [
    {
     "name": "stdout",
     "output_type": "stream",
     "text": [
      "Training Size: 500000 rows, 53 cols\n",
      "Holdout Size: 3499999 rows, 53 cols\n",
      "\n"
     ]
    }
   ],
   "source": [
    "# Load full training data\n",
    "train = pd.read_feather('../data/train.feather')\n",
    "\n",
    "# Drop low/no variance \n",
    "train.drop([\"Soil_Type7\", \"Id\", \"Soil_Type15\"], axis=1, inplace=True)\n",
    "train = train[train.Cover_Type != 5]\n",
    "\n",
    "# Label Encoding\n",
    "new_encoder = LabelEncoder()\n",
    "train[\"Cover_Type\"] = new_encoder.fit_transform(train[\"Cover_Type\"])\n",
    "\n",
    "# Split synthetic data\n",
    "train, test = train_test_split(\n",
    "    train, \n",
    "    train_size = TRAIN_SIZE, \n",
    "    random_state = RANDOM_SEED,\n",
    "    stratify = train['Cover_Type'],\n",
    ")\n",
    "y_train = train['Cover_Type']\n",
    "\n",
    "\n",
    "# features, data structure for summary scores\n",
    "features = [x for x in train.columns if x not in ['Id','Cover_Type']]\n",
    "nonsoil = [x for x in features if not x.startswith('Soil_Type')]\n",
    "new_rows = list()\n",
    "gc.collect()\n",
    "\n",
    "print(f'Training Size: {train.shape[0]} rows, {train.shape[1]} cols')\n",
    "print(f'Holdout Size: {test.shape[0]} rows, {test.shape[1]} cols\\n')"
   ]
  },
  {
   "cell_type": "markdown",
   "id": "0fdcccc4",
   "metadata": {},
   "source": [
    "# Model "
   ]
  },
  {
   "cell_type": "code",
   "execution_count": 4,
   "id": "0484af47",
   "metadata": {},
   "outputs": [],
   "source": [
    "# LightGBM Classifier\n",
    "lgbm_pipeline = make_pipeline(\n",
    "    LGBMClassifier(\n",
    "        unbalanced_sets = True,\n",
    "        metric = 'multi_logloss',\n",
    "        random_state = RANDOM_SEED,\n",
    "        n_jobs = 4,\n",
    "    ),\n",
    ")"
   ]
  },
  {
   "cell_type": "markdown",
   "id": "7ea54fa9",
   "metadata": {},
   "source": [
    "# Scoring Function"
   ]
  },
  {
   "cell_type": "code",
   "execution_count": 5,
   "id": "67e2f869",
   "metadata": {},
   "outputs": [],
   "source": [
    "def score_features(sklearn_model, processing = None):\n",
    "    \n",
    "    # Original Training/Test Split\n",
    "    features = [x for x in train.columns if x not in ['Id','Cover_Type']]\n",
    "    X_temp, X_test = train[features], test[features]\n",
    "    y_temp, y_test = train['Cover_Type'], test['Cover_Type']\n",
    "    \n",
    "    # Feature Engineering\n",
    "    if processing:\n",
    "        X_temp = processing(X_temp)\n",
    "        X_test = processing(X_test)\n",
    "    \n",
    "    # Store the out-of-fold predictions\n",
    "    test_preds = np.zeros((X_test.shape[0],6))\n",
    "    oof_preds = np.zeros((X_temp.shape[0],))\n",
    "    fi_scores = np.zeros((X_temp.shape[1],))\n",
    "    scores, times = np.zeros(NUM_FOLDS), np.zeros(NUM_FOLDS)\n",
    "    \n",
    "    # Stratified k-fold cross-validation\n",
    "    skf = StratifiedKFold(n_splits = NUM_FOLDS, shuffle = True, random_state = RANDOM_SEED)\n",
    "    for fold, (train_idx, valid_idx) in enumerate(skf.split(train[features],train['Cover_Type'])):\n",
    "       \n",
    "        # Training and Validation Sets\n",
    "        X_train, X_valid = X_temp.iloc[train_idx], X_temp.iloc[valid_idx]\n",
    "        y_train, y_valid = y_temp.iloc[train_idx], y_temp.iloc[valid_idx]\n",
    "        \n",
    "        # Create model\n",
    "        start = time.time()\n",
    "        model = clone(sklearn_model)\n",
    "        model.fit(X_train, y_train)\n",
    "\n",
    "        # Permutation Importance\n",
    "        result = permutation_importance(\n",
    "            model, X_valid, y_valid, \n",
    "            random_state=RANDOM_SEED\n",
    "        )\n",
    "        fi_scores += result.importances_mean / NUM_FOLDS\n",
    "\n",
    "        # validation/holdout predictions\n",
    "        valid_preds = np.ravel(model.predict(X_valid))\n",
    "        oof_preds[valid_idx] = valid_preds\n",
    "        test_preds += model.predict_proba(X_test)\n",
    "\n",
    "        # Save scores and times\n",
    "        scores[fold] = accuracy_score(y_valid, valid_preds)\n",
    "        end = time.time()\n",
    "        times[fold] = end-start\n",
    "        print(f'Fold {fold} Accuracy:  {round(scores[fold], 5)} in {round(end-start,2)}s.')\n",
    "        time.sleep(0.5)\n",
    "    \n",
    "    features = [x for x in X_temp.columns]\n",
    "    nonsoil = [x for x in X_test.columns if not x.startswith('Soil_Type')]\n",
    "    test_preds = np.argmax(test_preds, axis = 1)\n",
    "    test_score = accuracy_score(y_test, test_preds)\n",
    "    #print('\\n'+model.__class__.__name__)\n",
    "    print(\"Train Accuracy:\", round(scores.mean(), 5))\n",
    "    print('Test Accuracy:', round(test_score, 5))\n",
    "    print(f'Training Time: {round(times.sum(), 2)}s')\n",
    "    \n",
    "    fi_scores = pd.Series(\n",
    "        data = fi_scores, \n",
    "        index = features\n",
    "    ).loc[nonsoil].sort_values()\n",
    "    \n",
    "    return scores.mean(), oof_preds, test_score, fi_scores"
   ]
  },
  {
   "cell_type": "markdown",
   "id": "dc7f9033",
   "metadata": {},
   "source": [
    "# Baseline"
   ]
  },
  {
   "cell_type": "code",
   "execution_count": 6,
   "id": "1cd96508",
   "metadata": {},
   "outputs": [
    {
     "name": "stdout",
     "output_type": "stream",
     "text": [
      "Fold 0 Accuracy:  0.94443 in 272.2s.\n",
      "Fold 1 Accuracy:  0.9362 in 275.13s.\n",
      "Fold 2 Accuracy:  0.94415 in 258.13s.\n",
      "Fold 3 Accuracy:  0.944 in 276.86s.\n",
      "Fold 4 Accuracy:  0.94695 in 287.45s.\n",
      "Fold 5 Accuracy:  0.94776 in 296.22s.\n",
      "Train Accuracy: 0.94391\n",
      "Test Accuracy: 0.95482\n",
      "Training Time: 1666.0s\n"
     ]
    },
    {
     "data": {
      "text/plain": [
       "Hillshade_9am                        -0.000120\n",
       "Hillshade_3pm                        -0.000041\n",
       "Aspect                               -0.000017\n",
       "Slope                                -0.000016\n",
       "Wilderness_Area2                      0.000030\n",
       "Hillshade_Noon                        0.000382\n",
       "Wilderness_Area4                      0.003027\n",
       "Horizontal_Distance_To_Hydrology      0.009595\n",
       "Wilderness_Area1                      0.013958\n",
       "Vertical_Distance_To_Hydrology        0.016134\n",
       "Wilderness_Area3                      0.019036\n",
       "Horizontal_Distance_To_Fire_Points    0.028348\n",
       "Horizontal_Distance_To_Roadways       0.043016\n",
       "Elevation                             0.452949\n",
       "dtype: float64"
      ]
     },
     "execution_count": 6,
     "metadata": {},
     "output_type": "execute_result"
    }
   ],
   "source": [
    "cv_score, oof_preds, test_score, fi_scores = score_features(\n",
    "    lgbm_pipeline\n",
    ")\n",
    "\n",
    "new_rows.append((\n",
    "    'Baseline', cv_score, test_score,\n",
    "     *recall_score(y_train, oof_preds, average = None)\n",
    "))\n",
    "\n",
    "fi_scores"
   ]
  },
  {
   "cell_type": "markdown",
   "id": "4ef199b7",
   "metadata": {},
   "source": [
    "# Feature Engineering\n",
    "\n",
    "1. Aspect Features\n",
    "2. Hillshade Features\n",
    "3. Water Features\n",
    "4. Count Features\n",
    "5. Water/Fire Interactions\n",
    "6. Roadway Interactions\n",
    "7. Elevation Interactions"
   ]
  },
  {
   "cell_type": "markdown",
   "id": "13ad2e3c",
   "metadata": {},
   "source": [
    "## 1. Aspect Features"
   ]
  },
  {
   "cell_type": "code",
   "execution_count": 7,
   "id": "4ca47ba5",
   "metadata": {},
   "outputs": [],
   "source": [
    "def aspect_features(data):\n",
    "    df = data.copy()\n",
    "    df['Aspect_360'] = df['Aspect'] % 360\n",
    "    df['Aspect_Sine'] = (df['Aspect']* np.pi / 180).apply(np.sin)\n",
    "    df['Aspect_Alt'] = (df['Aspect']-180).where(\n",
    "        df['Aspect']+180 > 360, df['Aspect'] + 180\n",
    "    )\n",
    "    return df"
   ]
  },
  {
   "cell_type": "code",
   "execution_count": 8,
   "id": "a7abf5dd",
   "metadata": {},
   "outputs": [
    {
     "name": "stdout",
     "output_type": "stream",
     "text": [
      "Fold 0 Accuracy:  0.94413 in 260.71s.\n",
      "Fold 1 Accuracy:  0.9392 in 254.56s.\n",
      "Fold 2 Accuracy:  0.91787 in 244.72s.\n",
      "Fold 3 Accuracy:  0.94704 in 297.98s.\n",
      "Fold 4 Accuracy:  0.9442 in 302.07s.\n",
      "Fold 5 Accuracy:  0.94329 in 293.29s.\n",
      "Train Accuracy: 0.93929\n",
      "Test Accuracy: 0.95278\n",
      "Training Time: 1653.33s\n"
     ]
    },
    {
     "data": {
      "text/plain": [
       "Hillshade_3pm                         0.000027\n",
       "Wilderness_Area2                      0.000034\n",
       "Hillshade_9am                         0.000073\n",
       "Slope                                 0.000077\n",
       "Hillshade_Noon                        0.000323\n",
       "Aspect                                0.001916\n",
       "Aspect_360                            0.001924\n",
       "Wilderness_Area4                      0.004480\n",
       "Aspect_Alt                            0.005071\n",
       "Aspect_Sine                           0.005268\n",
       "Horizontal_Distance_To_Hydrology      0.009050\n",
       "Wilderness_Area1                      0.015148\n",
       "Vertical_Distance_To_Hydrology        0.015500\n",
       "Wilderness_Area3                      0.018302\n",
       "Horizontal_Distance_To_Fire_Points    0.025532\n",
       "Horizontal_Distance_To_Roadways       0.041620\n",
       "Elevation                             0.448825\n",
       "dtype: float64"
      ]
     },
     "execution_count": 8,
     "metadata": {},
     "output_type": "execute_result"
    }
   ],
   "source": [
    "cv_score, oof_preds, test_score, fi_scores = score_features(\n",
    "    lgbm_pipeline, \n",
    "    aspect_features\n",
    ")\n",
    "\n",
    "new_rows.append((\n",
    "    'Aspect_Features', cv_score, test_score,\n",
    "     *recall_score(y_train, oof_preds, average = None)\n",
    "))\n",
    "\n",
    "fi_scores"
   ]
  },
  {
   "cell_type": "markdown",
   "id": "a00b5fc1",
   "metadata": {},
   "source": [
    "## 2. Hillshade Features"
   ]
  },
  {
   "cell_type": "code",
   "execution_count": 9,
   "id": "ba1443b3",
   "metadata": {},
   "outputs": [],
   "source": [
    "def hillshade_features(data):\n",
    "    df = data.copy()\n",
    "    shade_features = ['Hillshade_9am', 'Hillshade_Noon', 'Hillshade_3pm']\n",
    "\n",
    "    # Clip Range\n",
    "    df[\"Hillshade_9am_Clipped\"] = df[\"Hillshade_9am\"].clip(lower=0, upper=255)\n",
    "    df[\"Hillshade_Noon_Clipped\"] = df[\"Hillshade_9am\"].clip(lower=0, upper=255)\n",
    "    df[\"Hillshade_3pm_Clipped\"] = df[\"Hillshade_9am\"].clip(lower=0, upper=255)\n",
    "    \n",
    "    # Hillshade\n",
    "    #df[\"Hillshade_Avg\"] = df[shade_features].mean(axis=1)\n",
    "    df[\"Hillshade_Sum\"] = df[shade_features].sum(axis=1)\n",
    "    df['Hillshade_Range'] = df[shade_features].max(axis=1) - df[shade_features].min(axis=1)\n",
    "    \n",
    "    return df"
   ]
  },
  {
   "cell_type": "code",
   "execution_count": 10,
   "id": "a8fa26d1",
   "metadata": {},
   "outputs": [
    {
     "name": "stdout",
     "output_type": "stream",
     "text": [
      "Fold 0 Accuracy:  0.92304 in 283.48s.\n",
      "Fold 1 Accuracy:  0.93136 in 264.04s.\n",
      "Fold 2 Accuracy:  0.94757 in 320.1s.\n",
      "Fold 3 Accuracy:  0.93933 in 298.99s.\n",
      "Fold 4 Accuracy:  0.94712 in 314.17s.\n",
      "Fold 5 Accuracy:  0.94184 in 292.95s.\n",
      "Train Accuracy: 0.93838\n",
      "Test Accuracy: 0.95227\n",
      "Training Time: 1773.73s\n"
     ]
    },
    {
     "data": {
      "text/plain": [
       "Hillshade_3pm_Clipped                 0.000000\n",
       "Hillshade_Noon_Clipped                0.000000\n",
       "Aspect                                0.000014\n",
       "Wilderness_Area2                      0.000039\n",
       "Slope                                 0.000051\n",
       "Hillshade_Noon                        0.000534\n",
       "Hillshade_9am_Clipped                 0.000787\n",
       "Hillshade_Range                       0.001398\n",
       "Hillshade_9am                         0.001747\n",
       "Hillshade_Sum                         0.002125\n",
       "Hillshade_3pm                         0.002275\n",
       "Wilderness_Area4                      0.002320\n",
       "Horizontal_Distance_To_Hydrology      0.008329\n",
       "Wilderness_Area1                      0.013633\n",
       "Vertical_Distance_To_Hydrology        0.015226\n",
       "Wilderness_Area3                      0.017461\n",
       "Horizontal_Distance_To_Fire_Points    0.026985\n",
       "Horizontal_Distance_To_Roadways       0.040217\n",
       "Elevation                             0.448541\n",
       "dtype: float64"
      ]
     },
     "execution_count": 10,
     "metadata": {},
     "output_type": "execute_result"
    }
   ],
   "source": [
    "cv_score, oof_preds, test_score, fi_scores = score_features(\n",
    "    lgbm_pipeline, \n",
    "    hillshade_features\n",
    ")\n",
    "\n",
    "new_rows.append((\n",
    "    'Hillshade_Features', cv_score, test_score,\n",
    "     *recall_score(y_train, oof_preds, average = None)\n",
    "))\n",
    "\n",
    "fi_scores"
   ]
  },
  {
   "cell_type": "markdown",
   "id": "ddaaea21",
   "metadata": {},
   "source": [
    "## 3. Water Features"
   ]
  },
  {
   "cell_type": "code",
   "execution_count": 11,
   "id": "41f22297",
   "metadata": {},
   "outputs": [],
   "source": [
    "# Helper function\n",
    "def start_at_eps(series, eps=1e-10): \n",
    "    return series - series.min() + eps\n",
    "\n",
    "def water_features(data):\n",
    "    df = data.copy()\n",
    "    \n",
    "    # use float64 for squaring\n",
    "    df[\"Horizontal_Distance_To_Hydrology\"] = df[\"Horizontal_Distance_To_Hydrology\"].astype('float64')\n",
    "    df[\"Vertical_Distance_To_Hydrology\"] = df[\"Vertical_Distance_To_Hydrology\"].astype('float64')\n",
    "    pos_h_hydrology = start_at_eps(df[\"Horizontal_Distance_To_Hydrology\"])\n",
    "    pos_v_hydrology = start_at_eps(df['Vertical_Distance_To_Hydrology'])\n",
    "    \n",
    "    # Manhatten Distances\n",
    "    df[\"Hydro_Taxicab\"] = np.abs(df[\"Horizontal_Distance_To_Hydrology\"]) + np.abs(df[\"Vertical_Distance_To_Hydrology\"])\n",
    "    df['Hydro_Taxicab_Pos'] = (pos_h_hydrology ** 2 + pos_v_hydrology ** 2).apply(np.sqrt).rename('Euclidean_positive_hydrology').astype(np.float32)\n",
    "    \n",
    "    # Euclidean Distance\n",
    "    df[\"Hydro_Euclid\"] = (df[\"Horizontal_Distance_To_Hydrology\"]**2 + np.abs(df[\"Vertical_Distance_To_Hydrology\"])**2)**0.5\n",
    "    df['Hydro_Euclid_Pos'] = (pos_h_hydrology ** 2 + pos_v_hydrology ** 2).apply(np.sqrt)\n",
    "    \n",
    "    # Misc Features\n",
    "    df['Water_Direction'] = df['Vertical_Distance_To_Hydrology'].apply(np.sign)\n",
    "    df['Water Elevation'] = df['Elevation'] - df['Vertical_Distance_To_Hydrology']\n",
    "    \n",
    "    # Store each as float32\n",
    "    df[\"Horizontal_Distance_To_Hydrology\"] = df[\"Horizontal_Distance_To_Hydrology\"].astype('float32')\n",
    "    df[\"Vertical_Distance_To_Hydrology\"] = df[\"Vertical_Distance_To_Hydrology\"].astype('float32')\n",
    "    df[\"Hydro_Taxicab\"] = df[\"Hydro_Taxicab\"].astype('float32')\n",
    "    df['Hydro_Taxicab_Pos'] = df['Hydro_Taxicab_Pos'].astype('float32')\n",
    "    df[\"Hydro_Euclid\"] = df[\"Hydro_Euclid\"].astype('float32')\n",
    "    df['Hydro_Euclid_Pos'] = df['Hydro_Euclid_Pos'].astype('float32')\n",
    "    df['Water_Direction'] = df['Water_Direction'].astype('float32')\n",
    "    df['Water Elevation'] = df['Water Elevation'].astype('float32')\n",
    "    \n",
    "    return df"
   ]
  },
  {
   "cell_type": "code",
   "execution_count": 13,
   "id": "7e7a5afc",
   "metadata": {},
   "outputs": [
    {
     "name": "stdout",
     "output_type": "stream",
     "text": [
      "Fold 0 Accuracy:  0.94683 in 304.74s.\n",
      "Fold 1 Accuracy:  0.94283 in 299.81s.\n",
      "Fold 2 Accuracy:  0.93885 in 281.48s.\n",
      "Fold 3 Accuracy:  0.94562 in 318.33s.\n",
      "Fold 4 Accuracy:  0.94908 in 309.24s.\n",
      "Fold 5 Accuracy:  0.95115 in 321.63s.\n",
      "Train Accuracy: 0.94573\n",
      "Test Accuracy: 0.95612\n",
      "Training Time: 1835.22s\n"
     ]
    },
    {
     "data": {
      "text/plain": [
       "Hillshade_9am                        -0.000026\n",
       "Hydro_Euclid_Pos                      0.000000\n",
       "Wilderness_Area2                      0.000038\n",
       "Slope                                 0.000064\n",
       "Water_Direction                       0.000084\n",
       "Aspect                                0.000266\n",
       "Hillshade_3pm                         0.000274\n",
       "Hillshade_Noon                        0.000351\n",
       "Wilderness_Area4                      0.002214\n",
       "Vertical_Distance_To_Hydrology        0.002497\n",
       "Hydro_Euclid                          0.005372\n",
       "Hydro_Taxicab_Pos                     0.008280\n",
       "Horizontal_Distance_To_Hydrology      0.009444\n",
       "Hydro_Taxicab                         0.010491\n",
       "Wilderness_Area1                      0.016258\n",
       "Wilderness_Area3                      0.019786\n",
       "Horizontal_Distance_To_Fire_Points    0.027995\n",
       "Horizontal_Distance_To_Roadways       0.043686\n",
       "Water Elevation                       0.158682\n",
       "Elevation                             0.307295\n",
       "dtype: float64"
      ]
     },
     "execution_count": 13,
     "metadata": {},
     "output_type": "execute_result"
    }
   ],
   "source": [
    "cv_score, oof_preds, test_score, fi_scores = score_features(\n",
    "    lgbm_pipeline, \n",
    "    water_features\n",
    ")\n",
    "\n",
    "new_rows.append((\n",
    "    'Water_Features', cv_score, test_score,\n",
    "     *recall_score(y_train, oof_preds, average = None)\n",
    "))\n",
    "\n",
    "fi_scores"
   ]
  },
  {
   "cell_type": "markdown",
   "id": "823f22c3",
   "metadata": {},
   "source": [
    "## 4. Count Features"
   ]
  },
  {
   "cell_type": "code",
   "execution_count": 14,
   "id": "02de4627",
   "metadata": {},
   "outputs": [],
   "source": [
    "def count_features(data):\n",
    "    \n",
    "    df = data.copy()\n",
    "    soil_features = [x for x in df.columns if x.startswith(\"Soil_Type\")]\n",
    "    wilderness_features = [x for x in df.columns if x.startswith(\"Wilderness_Area\")]\n",
    "\n",
    "    # Count features\n",
    "    df[\"Soil_Count\"] = df[soil_features].apply(sum, axis=1)\n",
    "    df[\"Wilderness_Count\"] = df[wilderness_features].apply(sum, axis=1)\n",
    "    \n",
    "    return df"
   ]
  },
  {
   "cell_type": "code",
   "execution_count": 15,
   "id": "f4f3b2e0",
   "metadata": {},
   "outputs": [
    {
     "name": "stdout",
     "output_type": "stream",
     "text": [
      "Fold 0 Accuracy:  0.95079 in 278.72s.\n",
      "Fold 1 Accuracy:  0.9143 in 252.55s.\n",
      "Fold 2 Accuracy:  0.93394 in 246.34s.\n",
      "Fold 3 Accuracy:  0.94997 in 293.68s.\n",
      "Fold 4 Accuracy:  0.94689 in 294.6s.\n",
      "Fold 5 Accuracy:  0.94736 in 292.33s.\n",
      "Train Accuracy: 0.94054\n",
      "Test Accuracy: 0.95564\n",
      "Training Time: 1658.22s\n"
     ]
    },
    {
     "data": {
      "text/plain": [
       "Hillshade_3pm                         0.000057\n",
       "Slope                                 0.000058\n",
       "Aspect                                0.000099\n",
       "Hillshade_9am                         0.000124\n",
       "Hillshade_Noon                        0.000326\n",
       "Wilderness_Area2                      0.000873\n",
       "Wilderness_Count                      0.003499\n",
       "Wilderness_Area4                      0.004563\n",
       "Horizontal_Distance_To_Hydrology      0.008950\n",
       "Vertical_Distance_To_Hydrology        0.015376\n",
       "Wilderness_Area1                      0.021082\n",
       "Wilderness_Area3                      0.025540\n",
       "Horizontal_Distance_To_Fire_Points    0.026913\n",
       "Soil_Count                            0.033297\n",
       "Horizontal_Distance_To_Roadways       0.042271\n",
       "Elevation                             0.449533\n",
       "dtype: float64"
      ]
     },
     "execution_count": 15,
     "metadata": {},
     "output_type": "execute_result"
    }
   ],
   "source": [
    "cv_score, oof_preds, test_score, fi_scores = score_features(\n",
    "    lgbm_pipeline, \n",
    "    count_features\n",
    ")\n",
    "\n",
    "new_rows.append((\n",
    "    'Count_Features', cv_score, test_score,\n",
    "     *recall_score(y_train, oof_preds, average = None)\n",
    "))\n",
    "\n",
    "fi_scores"
   ]
  },
  {
   "cell_type": "markdown",
   "id": "90efcf72",
   "metadata": {},
   "source": [
    "## 5. Water/Fire Interactions"
   ]
  },
  {
   "cell_type": "code",
   "execution_count": 16,
   "id": "ed95d49f",
   "metadata": {},
   "outputs": [],
   "source": [
    "def hydrofire_interactions(data):\n",
    "    \n",
    "    df = data.copy()\n",
    "    df['Hydro_Fire_Sum'] = df['Horizontal_Distance_To_Hydrology'] + df['Horizontal_Distance_To_Fire_Points']\n",
    "    df['Hydro_Fire_AbsDiff'] = abs(df['Horizontal_Distance_To_Hydrology'] - df['Horizontal_Distance_To_Fire_Points'])\n",
    "    df['Hydro_Fire_EpsSum'] = start_at_eps(df['Horizontal_Distance_To_Hydrology']) + start_at_eps(df['Horizontal_Distance_To_Fire_Points'])\n",
    "    df['Hydro_Fire_Diff'] = df['Horizontal_Distance_To_Hydrology'] - df['Horizontal_Distance_To_Fire_Points']\n",
    "    return df"
   ]
  },
  {
   "cell_type": "code",
   "execution_count": 17,
   "id": "1e2152bb",
   "metadata": {},
   "outputs": [
    {
     "name": "stdout",
     "output_type": "stream",
     "text": [
      "Fold 0 Accuracy:  0.94677 in 301.21s.\n",
      "Fold 1 Accuracy:  0.92091 in 269.9s.\n",
      "Fold 2 Accuracy:  0.94805 in 319.68s.\n",
      "Fold 3 Accuracy:  0.94949 in 308.66s.\n",
      "Fold 4 Accuracy:  0.94896 in 310.22s.\n",
      "Fold 5 Accuracy:  0.94946 in 312.4s.\n",
      "Train Accuracy: 0.94394\n",
      "Test Accuracy: 0.95501\n",
      "Training Time: 1822.07s\n"
     ]
    },
    {
     "data": {
      "text/plain": [
       "Hillshade_9am                        -0.000314\n",
       "Hillshade_3pm                        -0.000130\n",
       "Aspect                               -0.000094\n",
       "Slope                                -0.000044\n",
       "Wilderness_Area2                      0.000030\n",
       "Hillshade_Noon                        0.000260\n",
       "Wilderness_Area4                      0.004556\n",
       "Hydro_Fire_EpsSum                     0.006406\n",
       "Horizontal_Distance_To_Hydrology      0.006746\n",
       "Hydro_Fire_Sum                        0.007772\n",
       "Hydro_Fire_AbsDiff                    0.008016\n",
       "Horizontal_Distance_To_Fire_Points    0.015686\n",
       "Vertical_Distance_To_Hydrology        0.015995\n",
       "Wilderness_Area1                      0.016936\n",
       "Hydro_Fire_Diff                       0.019240\n",
       "Wilderness_Area3                      0.022271\n",
       "Horizontal_Distance_To_Roadways       0.042738\n",
       "Elevation                             0.452208\n",
       "dtype: float64"
      ]
     },
     "execution_count": 17,
     "metadata": {},
     "output_type": "execute_result"
    }
   ],
   "source": [
    "cv_score, oof_preds, test_score, fi_scores = score_features(\n",
    "    lgbm_pipeline, \n",
    "    hydrofire_interactions\n",
    ")\n",
    "\n",
    "new_rows.append((\n",
    "    'Water_Fire', cv_score, test_score,\n",
    "     *recall_score(y_train, oof_preds, average = None)\n",
    "))\n",
    "\n",
    "fi_scores"
   ]
  },
  {
   "cell_type": "markdown",
   "id": "dc589b80",
   "metadata": {},
   "source": [
    "## 6. Roadway Interactions"
   ]
  },
  {
   "cell_type": "code",
   "execution_count": 18,
   "id": "a5a58b69",
   "metadata": {},
   "outputs": [],
   "source": [
    "def roadway_interactions(data):\n",
    "    df = data.copy()\n",
    "    df['Hydro_Road_1'] = abs(df['Horizontal_Distance_To_Hydrology'] + df['Horizontal_Distance_To_Roadways'])\n",
    "    df['Hydro_Road_2'] = abs(df['Horizontal_Distance_To_Hydrology'] - df['Horizontal_Distance_To_Roadways'])\n",
    "    df['Fire_Road_1'] = abs(df['Horizontal_Distance_To_Fire_Points'] + df['Horizontal_Distance_To_Roadways'])\n",
    "    df['Fire_Road_2'] = abs(df['Horizontal_Distance_To_Fire_Points'] - df['Horizontal_Distance_To_Roadways'])\n",
    "    return df"
   ]
  },
  {
   "cell_type": "code",
   "execution_count": 19,
   "id": "0f377674",
   "metadata": {},
   "outputs": [
    {
     "name": "stdout",
     "output_type": "stream",
     "text": [
      "Fold 0 Accuracy:  0.94708 in 277.89s.\n",
      "Fold 1 Accuracy:  0.91565 in 272.66s.\n",
      "Fold 2 Accuracy:  0.94954 in 276.9s.\n",
      "Fold 3 Accuracy:  0.94581 in 304.64s.\n",
      "Fold 4 Accuracy:  0.94835 in 315.12s.\n",
      "Fold 5 Accuracy:  0.94714 in 300.74s.\n",
      "Train Accuracy: 0.94226\n",
      "Test Accuracy: 0.95453\n",
      "Training Time: 1747.95s\n"
     ]
    },
    {
     "data": {
      "text/plain": [
       "Hillshade_3pm                         0.000029\n",
       "Wilderness_Area2                      0.000033\n",
       "Aspect                                0.000034\n",
       "Slope                                 0.000039\n",
       "Hillshade_9am                         0.000106\n",
       "Hillshade_Noon                        0.000422\n",
       "Hydro_Road_1                          0.004452\n",
       "Wilderness_Area4                      0.005692\n",
       "Horizontal_Distance_To_Hydrology      0.007011\n",
       "Hydro_Road_2                          0.008542\n",
       "Fire_Road_2                           0.010491\n",
       "Fire_Road_1                           0.013096\n",
       "Horizontal_Distance_To_Fire_Points    0.013123\n",
       "Vertical_Distance_To_Hydrology        0.015601\n",
       "Wilderness_Area1                      0.017474\n",
       "Wilderness_Area3                      0.021466\n",
       "Horizontal_Distance_To_Roadways       0.026384\n",
       "Elevation                             0.450425\n",
       "dtype: float64"
      ]
     },
     "execution_count": 19,
     "metadata": {},
     "output_type": "execute_result"
    }
   ],
   "source": [
    "cv_score, oof_preds, test_score, fi_scores = score_features(\n",
    "    lgbm_pipeline, \n",
    "    roadway_interactions\n",
    ")\n",
    "\n",
    "new_rows.append((\n",
    "    'Road_Interactions', cv_score, test_score,\n",
    "     *recall_score(y_train, oof_preds, average = None)\n",
    "))\n",
    "\n",
    "fi_scores"
   ]
  },
  {
   "cell_type": "markdown",
   "id": "a5c2a370",
   "metadata": {},
   "source": [
    "## 7. Elevation Interactions"
   ]
  },
  {
   "cell_type": "code",
   "execution_count": 20,
   "id": "c125c0ca",
   "metadata": {},
   "outputs": [],
   "source": [
    "def elevation_interactions(data):\n",
    "    df = data.copy()\n",
    "    df['Road_Elev_Int'] = df['Horizontal_Distance_To_Roadways'] * df['Elevation']\n",
    "    df['VHydro_Elev_Int'] = df['Vertical_Distance_To_Hydrology'] * df['Elevation']\n",
    "    df['Elev_VHydro_Diff'] = df.Elevation - df.Vertical_Distance_To_Hydrology\n",
    "    df['Elev_HHydro_Diff'] = df.Elevation - df.Horizontal_Distance_To_Hydrology * 0.2\n",
    "    \n",
    "    return df"
   ]
  },
  {
   "cell_type": "code",
   "execution_count": 21,
   "id": "8e2e0da1",
   "metadata": {},
   "outputs": [
    {
     "name": "stdout",
     "output_type": "stream",
     "text": [
      "Fold 0 Accuracy:  0.9376 in 272.41s.\n",
      "Fold 1 Accuracy:  0.94898 in 288.11s.\n",
      "Fold 2 Accuracy:  0.94985 in 303.91s.\n",
      "Fold 3 Accuracy:  0.95069 in 310.94s.\n",
      "Fold 4 Accuracy:  0.94404 in 272.29s.\n",
      "Fold 5 Accuracy:  0.94794 in 305.2s.\n",
      "Train Accuracy: 0.94652\n",
      "Test Accuracy: 0.95581\n",
      "Training Time: 1752.85s\n"
     ]
    },
    {
     "data": {
      "text/plain": [
       "Hillshade_3pm                        -0.000040\n",
       "Slope                                -0.000036\n",
       "Hillshade_9am                        -0.000008\n",
       "Road_Elev_Int                         0.000006\n",
       "VHydro_Elev_Int                       0.000042\n",
       "Aspect                                0.000044\n",
       "Wilderness_Area2                      0.000053\n",
       "Hillshade_Noon                        0.000499\n",
       "Vertical_Distance_To_Hydrology        0.002051\n",
       "Horizontal_Distance_To_Hydrology      0.004451\n",
       "Wilderness_Area4                      0.005108\n",
       "Wilderness_Area1                      0.015130\n",
       "Wilderness_Area3                      0.019100\n",
       "Horizontal_Distance_To_Fire_Points    0.028362\n",
       "Horizontal_Distance_To_Roadways       0.045300\n",
       "Elev_HHydro_Diff                      0.081081\n",
       "Elev_VHydro_Diff                      0.187686\n",
       "Elevation                             0.193634\n",
       "dtype: float64"
      ]
     },
     "execution_count": 21,
     "metadata": {},
     "output_type": "execute_result"
    }
   ],
   "source": [
    "cv_score, oof_preds, test_score, fi_scores = score_features(\n",
    "    lgbm_pipeline, \n",
    "    elevation_interactions\n",
    ")\n",
    "\n",
    "new_rows.append((\n",
    "    'Elev_Interactions', cv_score, test_score,\n",
    "     *recall_score(y_train, oof_preds, average = None)\n",
    "))\n",
    "\n",
    "fi_scores"
   ]
  },
  {
   "cell_type": "markdown",
   "id": "f1d7e560",
   "metadata": {},
   "source": [
    "# Summary"
   ]
  },
  {
   "cell_type": "code",
   "execution_count": 22,
   "id": "6368192f",
   "metadata": {},
   "outputs": [
    {
     "data": {
      "text/html": [
       "<div>\n",
       "<style scoped>\n",
       "    .dataframe tbody tr th:only-of-type {\n",
       "        vertical-align: middle;\n",
       "    }\n",
       "\n",
       "    .dataframe tbody tr th {\n",
       "        vertical-align: top;\n",
       "    }\n",
       "\n",
       "    .dataframe thead th {\n",
       "        text-align: right;\n",
       "    }\n",
       "</style>\n",
       "<table border=\"1\" class=\"dataframe\">\n",
       "  <thead>\n",
       "    <tr style=\"text-align: right;\">\n",
       "      <th></th>\n",
       "      <th>features</th>\n",
       "      <th>cv_scores</th>\n",
       "      <th>holdout</th>\n",
       "      <th>recall_0</th>\n",
       "      <th>recall_1</th>\n",
       "      <th>recall_2</th>\n",
       "      <th>recall_3</th>\n",
       "      <th>recall_4</th>\n",
       "      <th>recall_5</th>\n",
       "    </tr>\n",
       "  </thead>\n",
       "  <tbody>\n",
       "    <tr>\n",
       "      <th>2</th>\n",
       "      <td>Hillshade_Features</td>\n",
       "      <td>0.938376</td>\n",
       "      <td>0.952266</td>\n",
       "      <td>0.950435</td>\n",
       "      <td>0.954255</td>\n",
       "      <td>0.802077</td>\n",
       "      <td>0.000000</td>\n",
       "      <td>0.388655</td>\n",
       "      <td>0.612103</td>\n",
       "    </tr>\n",
       "    <tr>\n",
       "      <th>1</th>\n",
       "      <td>Aspect_Features</td>\n",
       "      <td>0.939288</td>\n",
       "      <td>0.952776</td>\n",
       "      <td>0.947836</td>\n",
       "      <td>0.956999</td>\n",
       "      <td>0.825090</td>\n",
       "      <td>0.000000</td>\n",
       "      <td>0.402661</td>\n",
       "      <td>0.557369</td>\n",
       "    </tr>\n",
       "    <tr>\n",
       "      <th>6</th>\n",
       "      <td>Road_Interactions</td>\n",
       "      <td>0.942262</td>\n",
       "      <td>0.954526</td>\n",
       "      <td>0.950413</td>\n",
       "      <td>0.958739</td>\n",
       "      <td>0.827502</td>\n",
       "      <td>0.000000</td>\n",
       "      <td>0.427871</td>\n",
       "      <td>0.612232</td>\n",
       "    </tr>\n",
       "    <tr>\n",
       "      <th>0</th>\n",
       "      <td>Baseline</td>\n",
       "      <td>0.943914</td>\n",
       "      <td>0.954825</td>\n",
       "      <td>0.951084</td>\n",
       "      <td>0.960790</td>\n",
       "      <td>0.833633</td>\n",
       "      <td>0.000000</td>\n",
       "      <td>0.402661</td>\n",
       "      <td>0.613388</td>\n",
       "    </tr>\n",
       "    <tr>\n",
       "      <th>5</th>\n",
       "      <td>Water_Fire</td>\n",
       "      <td>0.943940</td>\n",
       "      <td>0.955006</td>\n",
       "      <td>0.953274</td>\n",
       "      <td>0.960348</td>\n",
       "      <td>0.824313</td>\n",
       "      <td>0.021277</td>\n",
       "      <td>0.398459</td>\n",
       "      <td>0.609405</td>\n",
       "    </tr>\n",
       "    <tr>\n",
       "      <th>4</th>\n",
       "      <td>Count_Features</td>\n",
       "      <td>0.940540</td>\n",
       "      <td>0.955640</td>\n",
       "      <td>0.945700</td>\n",
       "      <td>0.955698</td>\n",
       "      <td>0.834328</td>\n",
       "      <td>0.000000</td>\n",
       "      <td>0.404062</td>\n",
       "      <td>0.706154</td>\n",
       "    </tr>\n",
       "    <tr>\n",
       "      <th>7</th>\n",
       "      <td>Elev_Interactions</td>\n",
       "      <td>0.946518</td>\n",
       "      <td>0.955813</td>\n",
       "      <td>0.954081</td>\n",
       "      <td>0.963230</td>\n",
       "      <td>0.833470</td>\n",
       "      <td>0.021277</td>\n",
       "      <td>0.431373</td>\n",
       "      <td>0.616472</td>\n",
       "    </tr>\n",
       "    <tr>\n",
       "      <th>3</th>\n",
       "      <td>Water_Features</td>\n",
       "      <td>0.945726</td>\n",
       "      <td>0.956117</td>\n",
       "      <td>0.954527</td>\n",
       "      <td>0.962247</td>\n",
       "      <td>0.823905</td>\n",
       "      <td>0.042553</td>\n",
       "      <td>0.419468</td>\n",
       "      <td>0.622896</td>\n",
       "    </tr>\n",
       "  </tbody>\n",
       "</table>\n",
       "</div>"
      ],
      "text/plain": [
       "             features  cv_scores   holdout  recall_0  recall_1  recall_2  \\\n",
       "2  Hillshade_Features   0.938376  0.952266  0.950435  0.954255  0.802077   \n",
       "1     Aspect_Features   0.939288  0.952776  0.947836  0.956999  0.825090   \n",
       "6   Road_Interactions   0.942262  0.954526  0.950413  0.958739  0.827502   \n",
       "0            Baseline   0.943914  0.954825  0.951084  0.960790  0.833633   \n",
       "5          Water_Fire   0.943940  0.955006  0.953274  0.960348  0.824313   \n",
       "4      Count_Features   0.940540  0.955640  0.945700  0.955698  0.834328   \n",
       "7   Elev_Interactions   0.946518  0.955813  0.954081  0.963230  0.833470   \n",
       "3      Water_Features   0.945726  0.956117  0.954527  0.962247  0.823905   \n",
       "\n",
       "   recall_3  recall_4  recall_5  \n",
       "2  0.000000  0.388655  0.612103  \n",
       "1  0.000000  0.402661  0.557369  \n",
       "6  0.000000  0.427871  0.612232  \n",
       "0  0.000000  0.402661  0.613388  \n",
       "5  0.021277  0.398459  0.609405  \n",
       "4  0.000000  0.404062  0.706154  \n",
       "7  0.021277  0.431373  0.616472  \n",
       "3  0.042553  0.419468  0.622896  "
      ]
     },
     "execution_count": 22,
     "metadata": {},
     "output_type": "execute_result"
    }
   ],
   "source": [
    "pd.DataFrame.from_records(\n",
    "    data = new_rows,\n",
    "    columns = ['features','cv_scores','holdout','recall_0', 'recall_1','recall_2','recall_3','recall_4','recall_5']\n",
    ").sort_values('holdout')"
   ]
  }
 ],
 "metadata": {
  "kernelspec": {
   "display_name": "Python 3 (ipykernel)",
   "language": "python",
   "name": "python3"
  },
  "language_info": {
   "codemirror_mode": {
    "name": "ipython",
    "version": 3
   },
   "file_extension": ".py",
   "mimetype": "text/x-python",
   "name": "python",
   "nbconvert_exporter": "python",
   "pygments_lexer": "ipython3",
   "version": "3.8.10"
  }
 },
 "nbformat": 4,
 "nbformat_minor": 5
}
