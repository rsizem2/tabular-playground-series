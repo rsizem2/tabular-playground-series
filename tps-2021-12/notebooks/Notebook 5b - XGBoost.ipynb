{
 "cells": [
  {
   "cell_type": "markdown",
   "id": "198973e4",
   "metadata": {},
   "source": [
    "# XGBoost Hyperparameter Tuning"
   ]
  },
  {
   "cell_type": "code",
   "execution_count": 1,
   "id": "d35428e1",
   "metadata": {},
   "outputs": [],
   "source": [
    "# Global variables for testing changes to this notebook quickly\n",
    "RANDOM_SEED = 0\n",
    "NUM_FOLDS = 6\n",
    "NUM_TREES = 25000\n",
    "EARLY_STOP = 200"
   ]
  },
  {
   "cell_type": "code",
   "execution_count": 10,
   "id": "3a3c992a",
   "metadata": {},
   "outputs": [],
   "source": [
    "import numpy as np\n",
    "import pandas as pd\n",
    "import time\n",
    "import os\n",
    "import pyarrow\n",
    "import gc\n",
    "\n",
    "# Hide warnings\n",
    "import warnings\n",
    "warnings.filterwarnings('ignore')\n",
    "os.environ['TF_CPP_MIN_LOG_LEVEL'] = '3' \n",
    "\n",
    "# display options\n",
    "pd.set_option('display.max_rows', None)\n",
    "pd.set_option('display.max_columns', None)\n",
    "\n",
    "# Model/Evaluation\n",
    "from IPython.display import Image\n",
    "from functools import partial\n",
    "from sklearn.base import clone\n",
    "from sklearn.pipeline import make_pipeline\n",
    "from sklearn.preprocessing import LabelEncoder, RobustScaler\n",
    "from sklearn.model_selection import StratifiedKFold, train_test_split\n",
    "from sklearn.metrics import accuracy_score, recall_score\n",
    "from sklearn.metrics import confusion_matrix, ConfusionMatrixDisplay\n",
    "from xgboost import XGBClassifier\n",
    "\n",
    "# Plotting\n",
    "import matplotlib\n",
    "import seaborn as sns\n",
    "from matplotlib import pyplot as plt\n",
    "\n",
    "# Optuna\n",
    "import optuna\n",
    "from optuna.pruners import PercentilePruner"
   ]
  },
  {
   "cell_type": "markdown",
   "id": "0eb59140",
   "metadata": {},
   "source": [
    "# Load and Prepare Data"
   ]
  },
  {
   "cell_type": "code",
   "execution_count": 3,
   "id": "fd458741",
   "metadata": {},
   "outputs": [
    {
     "name": "stdout",
     "output_type": "stream",
     "text": [
      "Wall time: 1.59 s\n"
     ]
    }
   ],
   "source": [
    "%%time\n",
    "\n",
    "train = pd.read_feather('../data/xgboost_train.feather')\n",
    "test = pd.read_feather('../data/xgboost_test.feather')\n",
    "submission = pd.read_csv('../data/sample_submission.csv')\n",
    "\n",
    "# Drop columns, cover type 5\n",
    "train.drop([\"Soil_Type7\", \"Id\", \"Soil_Type15\"], axis=1, inplace=True)\n",
    "test.drop([\"Soil_Type7\", \"Id\", \"Soil_Type15\"], axis=1, inplace=True)\n",
    "train = train[train.Cover_Type != 5]\n",
    "\n",
    "# Label Encoding\n",
    "encoder = LabelEncoder()\n",
    "train[\"Cover_Type\"] = encoder.fit_transform(train[\"Cover_Type\"])"
   ]
  },
  {
   "cell_type": "markdown",
   "id": "d48df39d",
   "metadata": {},
   "source": [
    "# Model and Scoring Function"
   ]
  },
  {
   "cell_type": "code",
   "execution_count": 4,
   "id": "1cccae3c",
   "metadata": {},
   "outputs": [],
   "source": [
    "# Default XGBoost\n",
    "default_params = dict(\n",
    "    tree_method = 'hist',\n",
    "    n_estimators = NUM_TREES,\n",
    "    random_state = RANDOM_SEED,\n",
    ")"
   ]
  },
  {
   "cell_type": "code",
   "execution_count": 5,
   "id": "981f80b4",
   "metadata": {},
   "outputs": [],
   "source": [
    "def score_xgboost(model_params = {}, fit_params = {}):\n",
    "    \n",
    "    # Original Training/Test Split\n",
    "    features = [x for x in train.columns if x not in ['Id','Cover_Type']]\n",
    "    X_temp, X_test = train[features], test[features]\n",
    "    y_temp = train['Cover_Type']\n",
    "    \n",
    "    # Store the out-of-fold predictions\n",
    "    test_preds = np.zeros((X_test.shape[0],6))\n",
    "    oof_preds = np.zeros((X_temp.shape[0],))\n",
    "    scores = np.zeros(NUM_FOLDS)\n",
    "    \n",
    "    # Stratified k-fold cross-validation\n",
    "    skf = StratifiedKFold(n_splits = NUM_FOLDS, shuffle = True, random_state = RANDOM_SEED)\n",
    "    for fold, (train_idx, valid_idx) in enumerate(skf.split(train[features],train['Cover_Type'])):\n",
    "       \n",
    "        # Training and Validation Sets\n",
    "        start = time.time()\n",
    "        X_train, X_valid = X_temp.iloc[train_idx], X_temp.iloc[valid_idx]\n",
    "        y_train, y_valid = y_temp.iloc[train_idx], y_temp.iloc[valid_idx]\n",
    "        \n",
    "        # Create model\n",
    "        start = time.time()\n",
    "        model = XGBClassifier(**default_params, **model_params)\n",
    "        \n",
    "        model.fit(\n",
    "            X_train, y_train,\n",
    "            eval_set = [(X_valid, y_valid)],\n",
    "            eval_metric = \"mlogloss\",\n",
    "            early_stopping_rounds = EARLY_STOP,\n",
    "            verbose = 500,\n",
    "            **fit_params\n",
    "        )\n",
    "\n",
    "        # validation/holdout predictions\n",
    "        valid_preds = np.ravel(model.predict(X_valid))\n",
    "        oof_preds[valid_idx] = valid_preds\n",
    "        test_preds += model.predict_proba(X_test)\n",
    "\n",
    "        # Save scores and times\n",
    "        scores[fold] = accuracy_score(y_valid, valid_preds)\n",
    "        end = time.time()\n",
    "        \n",
    "    \n",
    "    test_preds = np.argmax(test_preds, axis = 1)\n",
    "    oof_accuracy = accuracy_score(y_temp, oof_preds)\n",
    "    print(f'OOF Accuracy: {round(100*oof_accuracy, 5)}% accuracy.')\n",
    "    time.sleep(0.5)\n",
    "    \n",
    "    return oof_preds, test_preds"
   ]
  },
  {
   "cell_type": "code",
   "execution_count": 6,
   "id": "92c69cbf",
   "metadata": {},
   "outputs": [
    {
     "name": "stdout",
     "output_type": "stream",
     "text": [
      "[0]\tvalidation_0-mlogloss:1.70522\n",
      "[500]\tvalidation_0-mlogloss:0.08962\n",
      "[1000]\tvalidation_0-mlogloss:0.08117\n",
      "[1500]\tvalidation_0-mlogloss:0.07843\n",
      "[2000]\tvalidation_0-mlogloss:0.07719\n",
      "[2500]\tvalidation_0-mlogloss:0.07652\n",
      "[3000]\tvalidation_0-mlogloss:0.07613\n",
      "[3500]\tvalidation_0-mlogloss:0.07588\n",
      "[4000]\tvalidation_0-mlogloss:0.07574\n",
      "[4500]\tvalidation_0-mlogloss:0.07566\n",
      "[5000]\tvalidation_0-mlogloss:0.07560\n",
      "[5500]\tvalidation_0-mlogloss:0.07556\n",
      "[6000]\tvalidation_0-mlogloss:0.07555\n",
      "[6262]\tvalidation_0-mlogloss:0.07556\n",
      "[0]\tvalidation_0-mlogloss:1.70517\n",
      "[500]\tvalidation_0-mlogloss:0.08992\n",
      "[1000]\tvalidation_0-mlogloss:0.08135\n",
      "[1500]\tvalidation_0-mlogloss:0.07863\n",
      "[2000]\tvalidation_0-mlogloss:0.07738\n",
      "[2500]\tvalidation_0-mlogloss:0.07674\n",
      "[3000]\tvalidation_0-mlogloss:0.07634\n",
      "[3500]\tvalidation_0-mlogloss:0.07611\n",
      "[4000]\tvalidation_0-mlogloss:0.07597\n",
      "[4500]\tvalidation_0-mlogloss:0.07590\n",
      "[5000]\tvalidation_0-mlogloss:0.07586\n",
      "[5500]\tvalidation_0-mlogloss:0.07584\n",
      "[6000]\tvalidation_0-mlogloss:0.07583\n",
      "[6439]\tvalidation_0-mlogloss:0.07583\n",
      "[0]\tvalidation_0-mlogloss:1.70524\n",
      "[500]\tvalidation_0-mlogloss:0.08876\n",
      "[1000]\tvalidation_0-mlogloss:0.08034\n",
      "[1500]\tvalidation_0-mlogloss:0.07759\n",
      "[2000]\tvalidation_0-mlogloss:0.07631\n",
      "[2500]\tvalidation_0-mlogloss:0.07561\n",
      "[3000]\tvalidation_0-mlogloss:0.07519\n",
      "[3500]\tvalidation_0-mlogloss:0.07494\n",
      "[4000]\tvalidation_0-mlogloss:0.07478\n",
      "[4500]\tvalidation_0-mlogloss:0.07468\n",
      "[5000]\tvalidation_0-mlogloss:0.07462\n",
      "[5500]\tvalidation_0-mlogloss:0.07456\n",
      "[6000]\tvalidation_0-mlogloss:0.07455\n",
      "[6387]\tvalidation_0-mlogloss:0.07454\n",
      "[0]\tvalidation_0-mlogloss:1.70523\n",
      "[500]\tvalidation_0-mlogloss:0.08907\n",
      "[1000]\tvalidation_0-mlogloss:0.08055\n",
      "[1500]\tvalidation_0-mlogloss:0.07781\n",
      "[2000]\tvalidation_0-mlogloss:0.07651\n",
      "[2500]\tvalidation_0-mlogloss:0.07581\n",
      "[3000]\tvalidation_0-mlogloss:0.07541\n",
      "[3500]\tvalidation_0-mlogloss:0.07517\n",
      "[4000]\tvalidation_0-mlogloss:0.07501\n",
      "[4500]\tvalidation_0-mlogloss:0.07489\n",
      "[5000]\tvalidation_0-mlogloss:0.07482\n",
      "[5500]\tvalidation_0-mlogloss:0.07477\n",
      "[5903]\tvalidation_0-mlogloss:0.07476\n",
      "[0]\tvalidation_0-mlogloss:1.70519\n",
      "[500]\tvalidation_0-mlogloss:0.08929\n",
      "[1000]\tvalidation_0-mlogloss:0.08088\n",
      "[1500]\tvalidation_0-mlogloss:0.07820\n",
      "[2000]\tvalidation_0-mlogloss:0.07693\n",
      "[2500]\tvalidation_0-mlogloss:0.07627\n",
      "[3000]\tvalidation_0-mlogloss:0.07589\n",
      "[3500]\tvalidation_0-mlogloss:0.07566\n",
      "[4000]\tvalidation_0-mlogloss:0.07551\n",
      "[4500]\tvalidation_0-mlogloss:0.07541\n",
      "[5000]\tvalidation_0-mlogloss:0.07535\n",
      "[5500]\tvalidation_0-mlogloss:0.07532\n",
      "[6000]\tvalidation_0-mlogloss:0.07529\n",
      "[6457]\tvalidation_0-mlogloss:0.07529\n",
      "[0]\tvalidation_0-mlogloss:1.70517\n",
      "[500]\tvalidation_0-mlogloss:0.08906\n",
      "[1000]\tvalidation_0-mlogloss:0.08068\n",
      "[1500]\tvalidation_0-mlogloss:0.07798\n",
      "[2000]\tvalidation_0-mlogloss:0.07678\n",
      "[2500]\tvalidation_0-mlogloss:0.07615\n",
      "[3000]\tvalidation_0-mlogloss:0.07577\n",
      "[3500]\tvalidation_0-mlogloss:0.07554\n",
      "[4000]\tvalidation_0-mlogloss:0.07541\n",
      "[4500]\tvalidation_0-mlogloss:0.07531\n",
      "[5000]\tvalidation_0-mlogloss:0.07525\n",
      "[5500]\tvalidation_0-mlogloss:0.07521\n",
      "[6000]\tvalidation_0-mlogloss:0.07519\n",
      "[6429]\tvalidation_0-mlogloss:0.07519\n",
      "OOF Accuracy: 96.26365% accuracy.\n"
     ]
    }
   ],
   "source": [
    "oof_preds, test_preds = score_xgboost({\n",
    "        'max_depth': 5, \n",
    "        'learning_rate': 0.034134457831963505, \n",
    "        'gamma': 0.009393716737203944, \n",
    "        'min_child_weight': 0.05489584210577205, \n",
    "        'subsample': 0.9199999999999999, \n",
    "        'colsample_bytree': 0.5800000000000001, \n",
    "        'colsample_bylevel': 0.56, \n",
    "        'reg_lambda': 0.020044735970500934, \n",
    "        'reg_alpha': 2.7703392595849\n",
    "    })"
   ]
  },
  {
   "cell_type": "code",
   "execution_count": 11,
   "id": "45bc006a",
   "metadata": {},
   "outputs": [
    {
     "data": {
      "image/png": "[encoded data removed]",
      "text/plain": [
       "<Figure size 576x432 with 2 Axes>"
      ]
     },
     "metadata": {
      "needs_background": "light"
     },
     "output_type": "display_data"
    }
   ],
   "source": [
    "fig, ax = plt.subplots(figsize = (8,6))\n",
    "cm = confusion_matrix(train['Cover_Type'], oof_preds)\n",
    "disp = ConfusionMatrixDisplay(confusion_matrix=cm)\n",
    "disp.plot(ax = ax)\n",
    "plt.title(\"Confusion Matrix (% of Actual Labels)\", fontsize=16)\n",
    "plt.xlabel(\"Predicted Labels\", fontsize=14)\n",
    "plt.ylabel(\"Actual Labels\", fontsize=14)\n",
    "plt.show()"
   ]
  },
  {
   "cell_type": "code",
   "execution_count": 8,
   "id": "b99cdee6",
   "metadata": {},
   "outputs": [],
   "source": [
    "submission['Cover_Type'] = encoder.inverse_transform(test_preds)\n",
    "submission.to_csv('../output/xgboost_submission.csv')"
   ]
  }
 ],
 "metadata": {
  "kernelspec": {
   "display_name": "Python 3 (ipykernel)",
   "language": "python",
   "name": "python3"
  },
  "language_info": {
   "codemirror_mode": {
    "name": "ipython",
    "version": 3
   },
   "file_extension": ".py",
   "mimetype": "text/x-python",
   "name": "python",
   "nbconvert_exporter": "python",
   "pygments_lexer": "ipython3",
   "version": "3.8.10"
  }
 },
 "nbformat": 4,
 "nbformat_minor": 5
}
