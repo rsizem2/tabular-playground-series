{
 "cells": [
  {
   "cell_type": "markdown",
   "id": "c29e570c",
   "metadata": {},
   "source": [
    "# TPS12 - Testing Features with Keras Model"
   ]
  },
  {
   "cell_type": "code",
   "execution_count": 1,
   "id": "f11d5dec",
   "metadata": {},
   "outputs": [],
   "source": [
    "# Global variables for testing changes to this notebook quickly\n",
    "RANDOM_SEED = 0\n",
    "NUM_FOLDS = 6\n",
    "TRAIN_SIZE = 500000"
   ]
  },
  {
   "cell_type": "code",
   "execution_count": 2,
   "id": "f5d993f7",
   "metadata": {},
   "outputs": [],
   "source": [
    "import numpy as np\n",
    "import pandas as pd\n",
    "import time\n",
    "import os\n",
    "import pyarrow\n",
    "import gc\n",
    "\n",
    "# Hide warnings\n",
    "import warnings\n",
    "warnings.filterwarnings('ignore')\n",
    "os.environ['TF_CPP_MIN_LOG_LEVEL'] = '3' \n",
    "\n",
    "# Model/Evaluation\n",
    "from functools import partial\n",
    "from sklearn.base import clone\n",
    "from sklearn.pipeline import make_pipeline\n",
    "from sklearn.preprocessing import LabelEncoder, RobustScaler\n",
    "from sklearn.model_selection import StratifiedKFold, train_test_split\n",
    "from sklearn.metrics import accuracy_score, recall_score\n",
    "from sklearn.inspection import permutation_importance\n",
    "\n",
    "# Tensorflow/Keras\n",
    "import tensorflow as tf\n",
    "from tensorflow import keras\n",
    "\n",
    "# Keras imports\n",
    "from tensorflow.keras import layers\n",
    "from tensorflow.keras.callbacks import EarlyStopping\n",
    "from tensorflow.keras.wrappers.scikit_learn import KerasClassifier"
   ]
  },
  {
   "cell_type": "markdown",
   "id": "a03cc5a6",
   "metadata": {},
   "source": [
    "# Load and Prepare Data"
   ]
  },
  {
   "cell_type": "code",
   "execution_count": 3,
   "id": "abe76de7",
   "metadata": {},
   "outputs": [
    {
     "name": "stdout",
     "output_type": "stream",
     "text": [
      "Training Size: 500000 rows, 53 cols\n",
      "Holdout Size: 3499999 rows, 53 cols\n",
      "\n"
     ]
    }
   ],
   "source": [
    "# Load full training data\n",
    "train = pd.read_feather('../data/train.feather')\n",
    "\n",
    "# Drop low/no variance \n",
    "train.drop([\"Soil_Type7\", \"Id\", \"Soil_Type15\"], axis=1, inplace=True)\n",
    "train = train[train.Cover_Type != 5]\n",
    "\n",
    "# Label Encoding\n",
    "new_encoder = LabelEncoder()\n",
    "train[\"Cover_Type\"] = new_encoder.fit_transform(train[\"Cover_Type\"])\n",
    "\n",
    "# Split synthetic data\n",
    "train, test = train_test_split(\n",
    "    train, \n",
    "    train_size = TRAIN_SIZE, \n",
    "    random_state = RANDOM_SEED,\n",
    "    stratify = train['Cover_Type'],\n",
    ")\n",
    "y_train = train['Cover_Type']\n",
    "\n",
    "\n",
    "# features, data structure for summary scores\n",
    "features = [x for x in train.columns if x not in ['Id','Cover_Type']]\n",
    "nonsoil = [x for x in features if not x.startswith('Soil_Type')]\n",
    "new_rows = list()\n",
    "gc.collect()\n",
    "\n",
    "print(f'Training Size: {train.shape[0]} rows, {train.shape[1]} cols')\n",
    "print(f'Holdout Size: {test.shape[0]} rows, {test.shape[1]} cols\\n')"
   ]
  },
  {
   "cell_type": "markdown",
   "id": "5d171c11",
   "metadata": {},
   "source": [
    "# Model "
   ]
  },
  {
   "cell_type": "code",
   "execution_count": 4,
   "id": "84e094e4",
   "metadata": {},
   "outputs": [],
   "source": [
    "# Keras Parameters\n",
    "BATCH_SIZE = 512\n",
    "EPOCHS = 100\n",
    "EARLY_STOP = 10\n",
    "VERBOSE = 0\n",
    "NUM_CLASSES = len(train.Cover_Type.value_counts())"
   ]
  },
  {
   "cell_type": "code",
   "execution_count": 5,
   "id": "e6cff0cf",
   "metadata": {},
   "outputs": [],
   "source": [
    "def build_model(input_size):\n",
    "    model = keras.Sequential(\n",
    "        [\n",
    "            layers.InputLayer(input_shape = (input_size,)),\n",
    "            layers.Dense(input_size, kernel_initializer=\"lecun_normal\", activation=\"selu\"),\n",
    "            layers.Dense(3*input_size//4, kernel_initializer=\"lecun_normal\", activation=\"selu\"),\n",
    "            layers.Dense(input_size//2, kernel_initializer=\"lecun_normal\", activation=\"selu\"),\n",
    "            layers.Dense(NUM_CLASSES, activation=\"softmax\"),\n",
    "        ]\n",
    "    )\n",
    "\n",
    "    model.compile(\n",
    "        loss = tf.keras.losses.SparseCategoricalCrossentropy(), \n",
    "        optimizer = tf.keras.optimizers.Adam(),\n",
    "        metrics=['accuracy'],\n",
    "    )\n",
    "    return model "
   ]
  },
  {
   "cell_type": "code",
   "execution_count": 6,
   "id": "29f81caa",
   "metadata": {},
   "outputs": [],
   "source": [
    "# Need to adjust input size depending on # of features\n",
    "def get_pipeline(input_size = len(features)):\n",
    "    return make_pipeline(\n",
    "        RobustScaler(),\n",
    "        KerasClassifier(\n",
    "            partial(build_model, input_size = input_size),\n",
    "            batch_size = BATCH_SIZE,\n",
    "            epochs = EPOCHS,\n",
    "            verbose = VERBOSE,\n",
    "            shuffle = True,\n",
    "            validation_split = 0.1,\n",
    "            callbacks = [\n",
    "                EarlyStopping(\n",
    "                    patience=EARLY_STOP,\n",
    "                    monitor='val_loss',\n",
    "                    restore_best_weights=True,\n",
    "                ),\n",
    "            ],\n",
    "        )\n",
    "    )"
   ]
  },
  {
   "cell_type": "markdown",
   "id": "65e037e8",
   "metadata": {},
   "source": [
    "# Scoring Function"
   ]
  },
  {
   "cell_type": "code",
   "execution_count": 7,
   "id": "632a68de",
   "metadata": {},
   "outputs": [],
   "source": [
    "def score_features(sklearn_model, processing = None):\n",
    "    \n",
    "    # Original Training/Test Split\n",
    "    features = [x for x in train.columns if x not in ['Id','Cover_Type']]\n",
    "    X_temp, X_test = train[features], test[features]\n",
    "    y_temp, y_test = train['Cover_Type'], test['Cover_Type']\n",
    "    \n",
    "    # Feature Engineering\n",
    "    if processing:\n",
    "        X_temp = processing(X_temp)\n",
    "        X_test = processing(X_test)\n",
    "    \n",
    "    # Store the out-of-fold predictions\n",
    "    test_preds = np.zeros((X_test.shape[0],6))\n",
    "    oof_preds = np.zeros((X_temp.shape[0],))\n",
    "    fi_scores = np.zeros((X_temp.shape[1],))\n",
    "    scores, times = np.zeros(NUM_FOLDS), np.zeros(NUM_FOLDS)\n",
    "    \n",
    "    # Stratified k-fold cross-validation\n",
    "    skf = StratifiedKFold(n_splits = NUM_FOLDS, shuffle = True, random_state = RANDOM_SEED)\n",
    "    for fold, (train_idx, valid_idx) in enumerate(skf.split(train[features],train['Cover_Type'])):\n",
    "       \n",
    "        # Training and Validation Sets\n",
    "        X_train, X_valid = X_temp.iloc[train_idx], X_temp.iloc[valid_idx]\n",
    "        y_train, y_valid = y_temp.iloc[train_idx], y_temp.iloc[valid_idx]\n",
    "        \n",
    "        # Create model\n",
    "        start = time.time()\n",
    "        model = clone(sklearn_model)\n",
    "        model.fit(X_train, y_train)\n",
    "\n",
    "        # Permutation Importance\n",
    "        result = permutation_importance(\n",
    "            model, X_valid, y_valid, \n",
    "            random_state=RANDOM_SEED\n",
    "        )\n",
    "        fi_scores += result.importances_mean / NUM_FOLDS\n",
    "\n",
    "        # validation/holdout predictions\n",
    "        valid_preds = np.ravel(model.predict(X_valid))\n",
    "        oof_preds[valid_idx] = valid_preds\n",
    "        test_preds += model.predict_proba(X_test)\n",
    "\n",
    "        # Save scores and times\n",
    "        scores[fold] = accuracy_score(y_valid, valid_preds)\n",
    "        end = time.time()\n",
    "        times[fold] = end-start\n",
    "        print(f'Fold {fold} Accuracy:  {round(scores[fold], 5)} in {round(end-start,2)}s.')\n",
    "        time.sleep(0.5)\n",
    "    \n",
    "    features = [x for x in X_temp.columns]\n",
    "    nonsoil = [x for x in X_test.columns if not x.startswith('Soil_Type')]\n",
    "    test_preds = np.argmax(test_preds, axis = 1)\n",
    "    test_score = accuracy_score(y_test, test_preds)\n",
    "    #print('\\n'+model.__class__.__name__)\n",
    "    print(\"Train Accuracy:\", round(scores.mean(), 5))\n",
    "    print('Test Accuracy:', round(test_score, 5))\n",
    "    print(f'Training Time: {round(times.sum(), 2)}s')\n",
    "    \n",
    "    fi_scores = pd.Series(\n",
    "        data = fi_scores, \n",
    "        index = features\n",
    "    ).loc[nonsoil].sort_values()\n",
    "    \n",
    "    return scores.mean(), oof_preds, test_score, fi_scores"
   ]
  },
  {
   "cell_type": "markdown",
   "id": "45c1cad9",
   "metadata": {},
   "source": [
    "# Baseline"
   ]
  },
  {
   "cell_type": "code",
   "execution_count": 8,
   "id": "e4b19e1e",
   "metadata": {},
   "outputs": [
    {
     "name": "stdout",
     "output_type": "stream",
     "text": [
      "Fold 0 Accuracy:  0.95862 in 128.76s.\n",
      "Fold 1 Accuracy:  0.9574 in 110.21s.\n",
      "Fold 2 Accuracy:  0.9573 in 125.71s.\n",
      "Fold 3 Accuracy:  0.95756 in 115.84s.\n",
      "Fold 4 Accuracy:  0.95732 in 102.86s.\n",
      "Fold 5 Accuracy:  0.95795 in 112.68s.\n",
      "Train Accuracy: 0.95769\n",
      "Test Accuracy: 0.95951\n",
      "Training Time: 696.05s\n"
     ]
    },
    {
     "data": {
      "text/plain": [
       "Hillshade_9am                         0.000010\n",
       "Hillshade_3pm                         0.000034\n",
       "Aspect                                0.000110\n",
       "Slope                                 0.000131\n",
       "Wilderness_Area2                      0.000142\n",
       "Hillshade_Noon                        0.000512\n",
       "Wilderness_Area1                      0.003987\n",
       "Wilderness_Area4                      0.010704\n",
       "Horizontal_Distance_To_Hydrology      0.011343\n",
       "Vertical_Distance_To_Hydrology        0.019772\n",
       "Wilderness_Area3                      0.025214\n",
       "Horizontal_Distance_To_Fire_Points    0.033018\n",
       "Horizontal_Distance_To_Roadways       0.049651\n",
       "Elevation                             0.463072\n",
       "dtype: float64"
      ]
     },
     "execution_count": 8,
     "metadata": {},
     "output_type": "execute_result"
    }
   ],
   "source": [
    "cv_score, oof_preds, test_score, fi_scores = score_features(\n",
    "    get_pipeline()\n",
    ")\n",
    "\n",
    "new_rows.append((\n",
    "    'Baseline', cv_score, test_score,\n",
    "     *recall_score(y_train, oof_preds, average = None)\n",
    "))\n",
    "\n",
    "fi_scores"
   ]
  },
  {
   "cell_type": "markdown",
   "id": "b4e9e6bc",
   "metadata": {},
   "source": [
    "# Feature Engineering\n",
    "\n",
    "1. Aspect Features\n",
    "2. Hillshade Features\n",
    "3. Water Features\n",
    "4. Count Features\n",
    "5. Water/Fire Interactions\n",
    "6. Roadway Interactions\n",
    "7. Elevation Interactions"
   ]
  },
  {
   "cell_type": "markdown",
   "id": "18a8eb8d",
   "metadata": {},
   "source": [
    "## 1. Aspect Features\n",
    "\n",
    "Feature involving transformations of the `Aspect` column."
   ]
  },
  {
   "cell_type": "code",
   "execution_count": 9,
   "id": "d88aba06",
   "metadata": {},
   "outputs": [],
   "source": [
    "def aspect_features(data):\n",
    "    df = data.copy()\n",
    "    df['Aspect_360'] = df['Aspect'] % 360\n",
    "    df['Aspect_Sine'] = (df['Aspect']* np.pi / 180).apply(np.sin)\n",
    "    df['Aspect_Alt'] = (df['Aspect']-180).where(\n",
    "        df['Aspect']+180 > 360, df['Aspect'] + 180\n",
    "    )\n",
    "    return df"
   ]
  },
  {
   "cell_type": "code",
   "execution_count": 10,
   "id": "b1df1c47",
   "metadata": {},
   "outputs": [
    {
     "name": "stdout",
     "output_type": "stream",
     "text": [
      "Fold 0 Accuracy:  0.95864 in 110.72s.\n",
      "Fold 1 Accuracy:  0.957 in 116.62s.\n",
      "Fold 2 Accuracy:  0.95681 in 111.69s.\n",
      "Fold 3 Accuracy:  0.95828 in 115.45s.\n",
      "Fold 4 Accuracy:  0.9574 in 146.81s.\n",
      "Fold 5 Accuracy:  0.95639 in 106.18s.\n",
      "Train Accuracy: 0.95742\n",
      "Test Accuracy: 0.95934\n",
      "Training Time: 707.47s\n"
     ]
    },
    {
     "data": {
      "text/plain": [
       "Slope                                -0.000031\n",
       "Hillshade_3pm                        -0.000014\n",
       "Hillshade_9am                         0.000084\n",
       "Wilderness_Area2                      0.000125\n",
       "Aspect                                0.000130\n",
       "Aspect_Sine                           0.000140\n",
       "Aspect_Alt                            0.000159\n",
       "Aspect_360                            0.000181\n",
       "Hillshade_Noon                        0.000497\n",
       "Wilderness_Area1                      0.003639\n",
       "Wilderness_Area4                      0.011133\n",
       "Horizontal_Distance_To_Hydrology      0.011349\n",
       "Vertical_Distance_To_Hydrology        0.019482\n",
       "Wilderness_Area3                      0.026104\n",
       "Horizontal_Distance_To_Fire_Points    0.032959\n",
       "Horizontal_Distance_To_Roadways       0.049916\n",
       "Elevation                             0.462196\n",
       "dtype: float64"
      ]
     },
     "execution_count": 10,
     "metadata": {},
     "output_type": "execute_result"
    }
   ],
   "source": [
    "cv_score, oof_preds, test_score, fi_scores = score_features(\n",
    "    get_pipeline(len(features) + 3), \n",
    "    aspect_features\n",
    ")\n",
    "\n",
    "new_rows.append((\n",
    "    'Aspect_Features', cv_score, test_score,\n",
    "     *recall_score(y_train, oof_preds, average = None)\n",
    "))\n",
    "\n",
    "fi_scores"
   ]
  },
  {
   "cell_type": "markdown",
   "id": "5bbaece9",
   "metadata": {},
   "source": [
    "## 2. Hillshade Features\n",
    "\n",
    "Features invovling transformations of the 3 hillshade columns."
   ]
  },
  {
   "cell_type": "code",
   "execution_count": 11,
   "id": "c77b814b",
   "metadata": {},
   "outputs": [],
   "source": [
    "def hillshade_features(data):\n",
    "    df = data.copy()\n",
    "    shade_features = ['Hillshade_9am', 'Hillshade_Noon', 'Hillshade_3pm']\n",
    "\n",
    "    # Clip Range\n",
    "    df[\"Hillshade_9am_Clipped\"] = df[\"Hillshade_9am\"].clip(lower=0, upper=255)\n",
    "    df[\"Hillshade_Noon_Clipped\"] = df[\"Hillshade_9am\"].clip(lower=0, upper=255)\n",
    "    df[\"Hillshade_3pm_Clipped\"] = df[\"Hillshade_9am\"].clip(lower=0, upper=255)\n",
    "    \n",
    "    # Hillshade\n",
    "    #df[\"Hillshade_Avg\"] = df[shade_features].mean(axis=1)\n",
    "    df[\"Hillshade_Sum\"] = df[shade_features].sum(axis=1)\n",
    "    df['Hillshade_Range'] = df[shade_features].max(axis=1) - df[shade_features].min(axis=1)\n",
    "    \n",
    "    return df"
   ]
  },
  {
   "cell_type": "code",
   "execution_count": 12,
   "id": "42a2bffb",
   "metadata": {},
   "outputs": [
    {
     "name": "stdout",
     "output_type": "stream",
     "text": [
      "Fold 0 Accuracy:  0.95786 in 114.8s.\n",
      "Fold 1 Accuracy:  0.95638 in 123.79s.\n",
      "Fold 2 Accuracy:  0.95728 in 139.89s.\n",
      "Fold 3 Accuracy:  0.95782 in 132.55s.\n",
      "Fold 4 Accuracy:  0.95807 in 143.77s.\n",
      "Fold 5 Accuracy:  0.95715 in 123.25s.\n",
      "Train Accuracy: 0.95743\n",
      "Test Accuracy: 0.95963\n",
      "Training Time: 778.05s\n"
     ]
    },
    {
     "data": {
      "text/plain": [
       "Slope                                -0.000028\n",
       "Aspect                                0.000006\n",
       "Wilderness_Area2                      0.000063\n",
       "Hillshade_Range                       0.000460\n",
       "Hillshade_Noon                        0.001456\n",
       "Wilderness_Area1                      0.004113\n",
       "Hillshade_3pm_Clipped                 0.005404\n",
       "Hillshade_3pm                         0.006920\n",
       "Hillshade_9am                         0.007283\n",
       "Hillshade_Noon_Clipped                0.008001\n",
       "Wilderness_Area4                      0.008501\n",
       "Horizontal_Distance_To_Hydrology      0.010832\n",
       "Hillshade_Sum                         0.011504\n",
       "Hillshade_9am_Clipped                 0.012442\n",
       "Vertical_Distance_To_Hydrology        0.019415\n",
       "Wilderness_Area3                      0.025158\n",
       "Horizontal_Distance_To_Fire_Points    0.033113\n",
       "Horizontal_Distance_To_Roadways       0.049966\n",
       "Elevation                             0.462038\n",
       "dtype: float64"
      ]
     },
     "execution_count": 12,
     "metadata": {},
     "output_type": "execute_result"
    }
   ],
   "source": [
    "cv_score, oof_preds, test_score, fi_scores = score_features(\n",
    "    get_pipeline(len(features) + 5), \n",
    "    hillshade_features\n",
    ")\n",
    "\n",
    "new_rows.append((\n",
    "    'Hillshade_Features', cv_score, test_score,\n",
    "     *recall_score(y_train, oof_preds, average = None)\n",
    "))\n",
    "\n",
    "fi_scores"
   ]
  },
  {
   "cell_type": "markdown",
   "id": "d044703c",
   "metadata": {},
   "source": [
    "## 3. Water Features\n",
    "\n",
    "Features relating to hydrology."
   ]
  },
  {
   "cell_type": "code",
   "execution_count": 13,
   "id": "50a69316",
   "metadata": {},
   "outputs": [],
   "source": [
    "# Helper function\n",
    "def start_at_eps(series, eps=1e-10): \n",
    "    return series - series.min() + eps\n",
    "\n",
    "def water_features(data):\n",
    "    df = data.copy()\n",
    "    \n",
    "    # use float64 for squaring\n",
    "    df[\"Horizontal_Distance_To_Hydrology\"] = df[\"Horizontal_Distance_To_Hydrology\"].astype('float64')\n",
    "    df[\"Vertical_Distance_To_Hydrology\"] = df[\"Vertical_Distance_To_Hydrology\"].astype('float64')\n",
    "    pos_h_hydrology = start_at_eps(df[\"Horizontal_Distance_To_Hydrology\"])\n",
    "    pos_v_hydrology = start_at_eps(df['Vertical_Distance_To_Hydrology'])\n",
    "    \n",
    "    # Manhatten Distances\n",
    "    df[\"Hydro_Taxicab\"] = np.abs(df[\"Horizontal_Distance_To_Hydrology\"]) + np.abs(df[\"Vertical_Distance_To_Hydrology\"])\n",
    "    df['Hydro_Taxicab_Pos'] = (pos_h_hydrology ** 2 + pos_v_hydrology ** 2).apply(np.sqrt).rename('Euclidean_positive_hydrology').astype(np.float32)\n",
    "    \n",
    "    # Euclidean Distance\n",
    "    df[\"Hydro_Euclid\"] = (df[\"Horizontal_Distance_To_Hydrology\"]**2 + np.abs(df[\"Vertical_Distance_To_Hydrology\"])**2)**0.5\n",
    "    df['Hydro_Euclid_Pos'] = (pos_h_hydrology ** 2 + pos_v_hydrology ** 2).apply(np.sqrt)\n",
    "    \n",
    "    # Misc Features\n",
    "    df['Water_Direction'] = df['Vertical_Distance_To_Hydrology'].apply(np.sign)\n",
    "    df['Water Elevation'] = df['Elevation'] - df['Vertical_Distance_To_Hydrology']\n",
    "    \n",
    "    # Store each as float32\n",
    "    df[\"Horizontal_Distance_To_Hydrology\"] = df[\"Horizontal_Distance_To_Hydrology\"].astype('float32')\n",
    "    df[\"Vertical_Distance_To_Hydrology\"] = df[\"Vertical_Distance_To_Hydrology\"].astype('float32')\n",
    "    df[\"Hydro_Taxicab\"] = df[\"Hydro_Taxicab\"].astype('float32')\n",
    "    df['Hydro_Taxicab_Pos'] = df['Hydro_Taxicab_Pos'].astype('float32')\n",
    "    df[\"Hydro_Euclid\"] = df[\"Hydro_Euclid\"].astype('float32')\n",
    "    df['Hydro_Euclid_Pos'] = df['Hydro_Euclid_Pos'].astype('float32')\n",
    "    df['Water_Direction'] = df['Water_Direction'].astype('float32')\n",
    "    df['Water Elevation'] = df['Water Elevation'].astype('float32')\n",
    "    \n",
    "    return df"
   ]
  },
  {
   "cell_type": "code",
   "execution_count": 14,
   "id": "469f2a75",
   "metadata": {},
   "outputs": [
    {
     "name": "stdout",
     "output_type": "stream",
     "text": [
      "Fold 0 Accuracy:  0.95801 in 126.54s.\n",
      "Fold 1 Accuracy:  0.95648 in 96.0s.\n",
      "Fold 2 Accuracy:  0.95716 in 99.18s.\n",
      "Fold 3 Accuracy:  0.95787 in 108.88s.\n",
      "Fold 4 Accuracy:  0.9576 in 109.88s.\n",
      "Fold 5 Accuracy:  0.95673 in 117.6s.\n",
      "Train Accuracy: 0.95731\n",
      "Test Accuracy: 0.95946\n",
      "Training Time: 658.08s\n"
     ]
    },
    {
     "data": {
      "text/plain": [
       "Hillshade_9am                         0.000029\n",
       "Hillshade_3pm                         0.000050\n",
       "Slope                                 0.000072\n",
       "Aspect                                0.000092\n",
       "Water_Direction                       0.000094\n",
       "Wilderness_Area2                      0.000124\n",
       "Hillshade_Noon                        0.000402\n",
       "Wilderness_Area1                      0.004029\n",
       "Hydro_Euclid_Pos                      0.006189\n",
       "Hydro_Taxicab_Pos                     0.007086\n",
       "Wilderness_Area4                      0.007968\n",
       "Vertical_Distance_To_Hydrology        0.009778\n",
       "Hydro_Taxicab                         0.010408\n",
       "Horizontal_Distance_To_Hydrology      0.014314\n",
       "Hydro_Euclid                          0.017284\n",
       "Wilderness_Area3                      0.024886\n",
       "Horizontal_Distance_To_Fire_Points    0.033874\n",
       "Horizontal_Distance_To_Roadways       0.050310\n",
       "Water Elevation                       0.232174\n",
       "Elevation                             0.246495\n",
       "dtype: float64"
      ]
     },
     "execution_count": 14,
     "metadata": {},
     "output_type": "execute_result"
    }
   ],
   "source": [
    "cv_score, oof_preds, test_score, fi_scores = score_features(\n",
    "    get_pipeline(len(features) + 6), \n",
    "    water_features\n",
    ")\n",
    "\n",
    "new_rows.append((\n",
    "    'Water_Features', cv_score, test_score,\n",
    "     *recall_score(y_train, oof_preds, average = None)\n",
    "))\n",
    "\n",
    "fi_scores"
   ]
  },
  {
   "cell_type": "markdown",
   "id": "5fb67d4e",
   "metadata": {},
   "source": [
    "## 4. Count Features\n",
    "\n",
    "Features involving the sums of the `Soil_Type` and `Wilderness_Area` columns."
   ]
  },
  {
   "cell_type": "code",
   "execution_count": 15,
   "id": "1090a3bd",
   "metadata": {},
   "outputs": [],
   "source": [
    "def count_features(data):\n",
    "    \n",
    "    df = data.copy()\n",
    "    soil_features = [x for x in df.columns if x.startswith(\"Soil_Type\")]\n",
    "    wilderness_features = [x for x in df.columns if x.startswith(\"Wilderness_Area\")]\n",
    "\n",
    "    # Count features\n",
    "    df[\"Soil_Count\"] = df[soil_features].apply(sum, axis=1)\n",
    "    df[\"Wilderness_Count\"] = df[wilderness_features].apply(sum, axis=1)\n",
    "    \n",
    "    return df"
   ]
  },
  {
   "cell_type": "code",
   "execution_count": 16,
   "id": "a964e324",
   "metadata": {},
   "outputs": [
    {
     "name": "stdout",
     "output_type": "stream",
     "text": [
      "Fold 0 Accuracy:  0.95804 in 112.93s.\n",
      "Fold 1 Accuracy:  0.95692 in 129.43s.\n",
      "Fold 2 Accuracy:  0.95793 in 124.67s.\n",
      "Fold 3 Accuracy:  0.95638 in 102.54s.\n",
      "Fold 4 Accuracy:  0.95736 in 111.58s.\n",
      "Fold 5 Accuracy:  0.95747 in 125.59s.\n",
      "Train Accuracy: 0.95735\n",
      "Test Accuracy: 0.95963\n",
      "Training Time: 706.73s\n"
     ]
    },
    {
     "data": {
      "text/plain": [
       "Hillshade_3pm                         0.000017\n",
       "Slope                                 0.000146\n",
       "Aspect                                0.000147\n",
       "Hillshade_9am                         0.000267\n",
       "Hillshade_Noon                        0.000437\n",
       "Wilderness_Area2                      0.001275\n",
       "Wilderness_Count                      0.002598\n",
       "Wilderness_Area4                      0.009227\n",
       "Horizontal_Distance_To_Hydrology      0.011020\n",
       "Wilderness_Area1                      0.011266\n",
       "Wilderness_Area3                      0.018819\n",
       "Vertical_Distance_To_Hydrology        0.019433\n",
       "Horizontal_Distance_To_Fire_Points    0.032612\n",
       "Soil_Count                            0.044043\n",
       "Horizontal_Distance_To_Roadways       0.050610\n",
       "Elevation                             0.462685\n",
       "dtype: float64"
      ]
     },
     "execution_count": 16,
     "metadata": {},
     "output_type": "execute_result"
    }
   ],
   "source": [
    "cv_score, oof_preds, test_score, fi_scores = score_features(\n",
    "    get_pipeline(len(features) + 2), \n",
    "    count_features\n",
    ")\n",
    "\n",
    "new_rows.append((\n",
    "    'Count_Features', cv_score, test_score,\n",
    "     *recall_score(y_train, oof_preds, average = None)\n",
    "))\n",
    "\n",
    "fi_scores"
   ]
  },
  {
   "cell_type": "markdown",
   "id": "c9b4bcf6",
   "metadata": {},
   "source": [
    "## 5. Water/Fire Interactions\n",
    "\n",
    "Features created from interactions of the water and fire columns."
   ]
  },
  {
   "cell_type": "code",
   "execution_count": 17,
   "id": "a5a71251",
   "metadata": {},
   "outputs": [],
   "source": [
    "def hydrofire_interactions(data):\n",
    "    \n",
    "    df = data.copy()\n",
    "    df['Hydro_Fire_Sum'] = df['Horizontal_Distance_To_Hydrology'] + df['Horizontal_Distance_To_Fire_Points']\n",
    "    df['Hydro_Fire_AbsDiff'] = abs(df['Horizontal_Distance_To_Hydrology'] - df['Horizontal_Distance_To_Fire_Points'])\n",
    "    df['Hydro_Fire_EpsSum'] = start_at_eps(df['Horizontal_Distance_To_Hydrology']) + start_at_eps(df['Horizontal_Distance_To_Fire_Points'])\n",
    "    df['Hydro_Fire_Diff'] = df['Horizontal_Distance_To_Hydrology'] - df['Horizontal_Distance_To_Fire_Points']\n",
    "    return df"
   ]
  },
  {
   "cell_type": "code",
   "execution_count": 18,
   "id": "e4045fbd",
   "metadata": {},
   "outputs": [
    {
     "name": "stdout",
     "output_type": "stream",
     "text": [
      "Fold 0 Accuracy:  0.95854 in 117.22s.\n",
      "Fold 1 Accuracy:  0.95733 in 123.23s.\n",
      "Fold 2 Accuracy:  0.95747 in 114.27s.\n",
      "Fold 3 Accuracy:  0.95807 in 115.43s.\n",
      "Fold 4 Accuracy:  0.95781 in 112.91s.\n",
      "Fold 5 Accuracy:  0.95691 in 107.44s.\n",
      "Train Accuracy: 0.95769\n",
      "Test Accuracy: 0.95967\n",
      "Training Time: 690.5s\n"
     ]
    },
    {
     "data": {
      "text/plain": [
       "Slope                                -0.000025\n",
       "Aspect                                0.000034\n",
       "Hillshade_3pm                         0.000072\n",
       "Wilderness_Area2                      0.000077\n",
       "Hillshade_9am                         0.000135\n",
       "Hillshade_Noon                        0.000301\n",
       "Wilderness_Area1                      0.003829\n",
       "Hydro_Fire_AbsDiff                    0.009249\n",
       "Horizontal_Distance_To_Fire_Points    0.009409\n",
       "Horizontal_Distance_To_Hydrology      0.009757\n",
       "Hydro_Fire_Sum                        0.011174\n",
       "Hydro_Fire_EpsSum                     0.011430\n",
       "Wilderness_Area4                      0.011562\n",
       "Hydro_Fire_Diff                       0.015398\n",
       "Vertical_Distance_To_Hydrology        0.019572\n",
       "Wilderness_Area3                      0.025566\n",
       "Horizontal_Distance_To_Roadways       0.048625\n",
       "Elevation                             0.462986\n",
       "dtype: float64"
      ]
     },
     "execution_count": 18,
     "metadata": {},
     "output_type": "execute_result"
    }
   ],
   "source": [
    "cv_score, oof_preds, test_score, fi_scores = score_features(\n",
    "    get_pipeline(len(features) + 4), \n",
    "    hydrofire_interactions\n",
    ")\n",
    "\n",
    "new_rows.append((\n",
    "    'Water_Fire', cv_score, test_score,\n",
    "     *recall_score(y_train, oof_preds, average = None)\n",
    "))\n",
    "\n",
    "fi_scores"
   ]
  },
  {
   "cell_type": "markdown",
   "id": "0f18bc35",
   "metadata": {},
   "source": [
    "## 6. Roadway Interactions"
   ]
  },
  {
   "cell_type": "code",
   "execution_count": 19,
   "id": "125c36d2",
   "metadata": {},
   "outputs": [],
   "source": [
    "def roadway_interactions(data):\n",
    "    df = data.copy()\n",
    "    df['Hydro_Road_1'] = abs(df['Horizontal_Distance_To_Hydrology'] + df['Horizontal_Distance_To_Roadways'])\n",
    "    df['Hydro_Road_2'] = abs(df['Horizontal_Distance_To_Hydrology'] - df['Horizontal_Distance_To_Roadways'])\n",
    "    df['Fire_Road_1'] = abs(df['Horizontal_Distance_To_Fire_Points'] + df['Horizontal_Distance_To_Roadways'])\n",
    "    df['Fire_Road_2'] = abs(df['Horizontal_Distance_To_Fire_Points'] - df['Horizontal_Distance_To_Roadways'])\n",
    "    return df"
   ]
  },
  {
   "cell_type": "code",
   "execution_count": 20,
   "id": "4583c427",
   "metadata": {},
   "outputs": [
    {
     "name": "stdout",
     "output_type": "stream",
     "text": [
      "Fold 0 Accuracy:  0.95848 in 128.85s.\n",
      "Fold 1 Accuracy:  0.95699 in 103.79s.\n",
      "Fold 2 Accuracy:  0.95718 in 131.44s.\n",
      "Fold 3 Accuracy:  0.95726 in 95.27s.\n",
      "Fold 4 Accuracy:  0.95735 in 108.47s.\n",
      "Fold 5 Accuracy:  0.95697 in 117.42s.\n",
      "Train Accuracy: 0.95737\n",
      "Test Accuracy: 0.95945\n",
      "Training Time: 685.24s\n"
     ]
    },
    {
     "data": {
      "text/plain": [
       "Hillshade_3pm                         0.000043\n",
       "Wilderness_Area2                      0.000119\n",
       "Slope                                 0.000123\n",
       "Aspect                                0.000138\n",
       "Hillshade_9am                         0.000143\n",
       "Hillshade_Noon                        0.000466\n",
       "Wilderness_Area1                      0.004720\n",
       "Wilderness_Area4                      0.007620\n",
       "Fire_Road_2                           0.009999\n",
       "Hydro_Road_2                          0.011183\n",
       "Horizontal_Distance_To_Hydrology      0.012898\n",
       "Vertical_Distance_To_Hydrology        0.019012\n",
       "Hydro_Road_1                          0.022080\n",
       "Horizontal_Distance_To_Roadways       0.023909\n",
       "Wilderness_Area3                      0.024433\n",
       "Fire_Road_1                           0.025680\n",
       "Horizontal_Distance_To_Fire_Points    0.027801\n",
       "Elevation                             0.463444\n",
       "dtype: float64"
      ]
     },
     "execution_count": 20,
     "metadata": {},
     "output_type": "execute_result"
    }
   ],
   "source": [
    "cv_score, oof_preds, test_score, fi_scores = score_features(\n",
    "    get_pipeline(len(features) + 4), \n",
    "    roadway_interactions\n",
    ")\n",
    "\n",
    "new_rows.append((\n",
    "    'Road_Interactions', cv_score, test_score,\n",
    "     *recall_score(y_train, oof_preds, average = None)\n",
    "))\n",
    "\n",
    "fi_scores"
   ]
  },
  {
   "cell_type": "markdown",
   "id": "0bc5de97",
   "metadata": {},
   "source": [
    "## 7. Elevation Interactions\n",
    "\n",
    "Features created from interactions with the `Elevation` column."
   ]
  },
  {
   "cell_type": "code",
   "execution_count": 27,
   "id": "c5c03beb",
   "metadata": {},
   "outputs": [],
   "source": [
    "def elevation_interactions(data):\n",
    "    df = data.copy()\n",
    "    df['Road_Elev_Int'] = df['Horizontal_Distance_To_Roadways'] * df['Elevation']\n",
    "    df['VHydro_Elev_Int'] = df['Vertical_Distance_To_Hydrology'] * df['Elevation']\n",
    "    df['Elev_VHydro_Diff'] = df.Elevation - df.Vertical_Distance_To_Hydrology\n",
    "    df['Elev_HHydro_Diff'] = df.Elevation - df.Horizontal_Distance_To_Hydrology * 0.2\n",
    "    \n",
    "    return df"
   ]
  },
  {
   "cell_type": "code",
   "execution_count": 28,
   "id": "1dc12b4e",
   "metadata": {},
   "outputs": [
    {
     "name": "stdout",
     "output_type": "stream",
     "text": [
      "Fold 0 Accuracy:  0.95866 in 118.97s.\n",
      "Fold 1 Accuracy:  0.95718 in 119.13s.\n",
      "Fold 2 Accuracy:  0.957 in 132.19s.\n",
      "Fold 3 Accuracy:  0.95795 in 123.84s.\n",
      "Fold 4 Accuracy:  0.95776 in 124.47s.\n",
      "Fold 5 Accuracy:  0.9568 in 123.66s.\n",
      "Train Accuracy: 0.95756\n",
      "Test Accuracy: 0.95961\n",
      "Training Time: 742.25s\n"
     ]
    },
    {
     "data": {
      "text/plain": [
       "Slope                                -0.000068\n",
       "Road_Elev_Int                        -0.000065\n",
       "VHydro_Elev_Int                      -0.000024\n",
       "Hillshade_3pm                        -0.000017\n",
       "Aspect                                0.000018\n",
       "Hillshade_9am                         0.000062\n",
       "Wilderness_Area2                      0.000078\n",
       "Hillshade_Noon                        0.000268\n",
       "Wilderness_Area1                      0.003840\n",
       "Horizontal_Distance_To_Hydrology      0.007738\n",
       "Vertical_Distance_To_Hydrology        0.008389\n",
       "Wilderness_Area4                      0.010784\n",
       "Wilderness_Area3                      0.024897\n",
       "Horizontal_Distance_To_Fire_Points    0.032835\n",
       "Horizontal_Distance_To_Roadways       0.050323\n",
       "Elev_VHydo_Diff                       0.126924\n",
       "Elevation                             0.133627\n",
       "Elev_HHydro_Diff                      0.134380\n",
       "dtype: float64"
      ]
     },
     "execution_count": 28,
     "metadata": {},
     "output_type": "execute_result"
    }
   ],
   "source": [
    "cv_score, oof_preds, test_score, fi_scores = score_features(\n",
    "    get_pipeline(len(features) + 4), \n",
    "    elevation_interactions\n",
    ")\n",
    "\n",
    "new_rows.append((\n",
    "    'Elev_Interactions', cv_score, test_score,\n",
    "     *recall_score(y_train, oof_preds, average = None)\n",
    "))\n",
    "\n",
    "fi_scores"
   ]
  },
  {
   "cell_type": "markdown",
   "id": "eaf9aa00",
   "metadata": {},
   "source": [
    "## Summary"
   ]
  },
  {
   "cell_type": "code",
   "execution_count": 29,
   "id": "3584c358",
   "metadata": {},
   "outputs": [
    {
     "data": {
      "text/html": [
       "<div>\n",
       "<style scoped>\n",
       "    .dataframe tbody tr th:only-of-type {\n",
       "        vertical-align: middle;\n",
       "    }\n",
       "\n",
       "    .dataframe tbody tr th {\n",
       "        vertical-align: top;\n",
       "    }\n",
       "\n",
       "    .dataframe thead th {\n",
       "        text-align: right;\n",
       "    }\n",
       "</style>\n",
       "<table border=\"1\" class=\"dataframe\">\n",
       "  <thead>\n",
       "    <tr style=\"text-align: right;\">\n",
       "      <th></th>\n",
       "      <th>features</th>\n",
       "      <th>cv_scores</th>\n",
       "      <th>holdout</th>\n",
       "      <th>recall_0</th>\n",
       "      <th>recall_1</th>\n",
       "      <th>recall_2</th>\n",
       "      <th>recall_3</th>\n",
       "      <th>recall_4</th>\n",
       "      <th>recall_5</th>\n",
       "    </tr>\n",
       "  </thead>\n",
       "  <tbody>\n",
       "    <tr>\n",
       "      <th>1</th>\n",
       "      <td>Aspect_Features</td>\n",
       "      <td>0.957420</td>\n",
       "      <td>0.959345</td>\n",
       "      <td>0.960211</td>\n",
       "      <td>0.971952</td>\n",
       "      <td>0.878965</td>\n",
       "      <td>0.085106</td>\n",
       "      <td>0.338936</td>\n",
       "      <td>0.729025</td>\n",
       "    </tr>\n",
       "    <tr>\n",
       "      <th>6</th>\n",
       "      <td>Road_Interactions</td>\n",
       "      <td>0.957372</td>\n",
       "      <td>0.959451</td>\n",
       "      <td>0.962532</td>\n",
       "      <td>0.969801</td>\n",
       "      <td>0.881581</td>\n",
       "      <td>0.021277</td>\n",
       "      <td>0.345238</td>\n",
       "      <td>0.740331</td>\n",
       "    </tr>\n",
       "    <tr>\n",
       "      <th>3</th>\n",
       "      <td>Water_Features</td>\n",
       "      <td>0.957308</td>\n",
       "      <td>0.959459</td>\n",
       "      <td>0.960265</td>\n",
       "      <td>0.971895</td>\n",
       "      <td>0.875736</td>\n",
       "      <td>0.063830</td>\n",
       "      <td>0.344538</td>\n",
       "      <td>0.731851</td>\n",
       "    </tr>\n",
       "    <tr>\n",
       "      <th>0</th>\n",
       "      <td>Baseline</td>\n",
       "      <td>0.957692</td>\n",
       "      <td>0.959511</td>\n",
       "      <td>0.962952</td>\n",
       "      <td>0.969359</td>\n",
       "      <td>0.893476</td>\n",
       "      <td>0.063830</td>\n",
       "      <td>0.423669</td>\n",
       "      <td>0.715020</td>\n",
       "    </tr>\n",
       "    <tr>\n",
       "      <th>7</th>\n",
       "      <td>Elev_Interactions</td>\n",
       "      <td>0.957560</td>\n",
       "      <td>0.959612</td>\n",
       "      <td>0.961508</td>\n",
       "      <td>0.970912</td>\n",
       "      <td>0.880110</td>\n",
       "      <td>0.021277</td>\n",
       "      <td>0.401261</td>\n",
       "      <td>0.730567</td>\n",
       "    </tr>\n",
       "    <tr>\n",
       "      <th>4</th>\n",
       "      <td>Count_Features</td>\n",
       "      <td>0.957350</td>\n",
       "      <td>0.959629</td>\n",
       "      <td>0.960505</td>\n",
       "      <td>0.970045</td>\n",
       "      <td>0.887794</td>\n",
       "      <td>0.021277</td>\n",
       "      <td>0.366246</td>\n",
       "      <td>0.754465</td>\n",
       "    </tr>\n",
       "    <tr>\n",
       "      <th>2</th>\n",
       "      <td>Hillshade_Features</td>\n",
       "      <td>0.957426</td>\n",
       "      <td>0.959634</td>\n",
       "      <td>0.960859</td>\n",
       "      <td>0.970908</td>\n",
       "      <td>0.881418</td>\n",
       "      <td>0.042553</td>\n",
       "      <td>0.371849</td>\n",
       "      <td>0.738533</td>\n",
       "    </tr>\n",
       "    <tr>\n",
       "      <th>5</th>\n",
       "      <td>Water_Fire</td>\n",
       "      <td>0.957688</td>\n",
       "      <td>0.959667</td>\n",
       "      <td>0.962794</td>\n",
       "      <td>0.969770</td>\n",
       "      <td>0.886118</td>\n",
       "      <td>0.021277</td>\n",
       "      <td>0.411765</td>\n",
       "      <td>0.729153</td>\n",
       "    </tr>\n",
       "  </tbody>\n",
       "</table>\n",
       "</div>"
      ],
      "text/plain": [
       "             features  cv_scores   holdout  recall_0  recall_1  recall_2  \\\n",
       "1     Aspect_Features   0.957420  0.959345  0.960211  0.971952  0.878965   \n",
       "6   Road_Interactions   0.957372  0.959451  0.962532  0.969801  0.881581   \n",
       "3      Water_Features   0.957308  0.959459  0.960265  0.971895  0.875736   \n",
       "0            Baseline   0.957692  0.959511  0.962952  0.969359  0.893476   \n",
       "7   Elev_Interactions   0.957560  0.959612  0.961508  0.970912  0.880110   \n",
       "4      Count_Features   0.957350  0.959629  0.960505  0.970045  0.887794   \n",
       "2  Hillshade_Features   0.957426  0.959634  0.960859  0.970908  0.881418   \n",
       "5          Water_Fire   0.957688  0.959667  0.962794  0.969770  0.886118   \n",
       "\n",
       "   recall_3  recall_4  recall_5  \n",
       "1  0.085106  0.338936  0.729025  \n",
       "6  0.021277  0.345238  0.740331  \n",
       "3  0.063830  0.344538  0.731851  \n",
       "0  0.063830  0.423669  0.715020  \n",
       "7  0.021277  0.401261  0.730567  \n",
       "4  0.021277  0.366246  0.754465  \n",
       "2  0.042553  0.371849  0.738533  \n",
       "5  0.021277  0.411765  0.729153  "
      ]
     },
     "execution_count": 29,
     "metadata": {},
     "output_type": "execute_result"
    }
   ],
   "source": [
    "pd.DataFrame.from_records(\n",
    "    data = new_rows,\n",
    "    columns = ['features','cv_scores','holdout','recall_0', 'recall_1','recall_2','recall_3','recall_4','recall_5']\n",
    ").sort_values('holdout')"
   ]
  }
 ],
 "metadata": {
  "kernelspec": {
   "display_name": "Python 3 (ipykernel)",
   "language": "python",
   "name": "python3"
  },
  "language_info": {
   "codemirror_mode": {
    "name": "ipython",
    "version": 3
   },
   "file_extension": ".py",
   "mimetype": "text/x-python",
   "name": "python",
   "nbconvert_exporter": "python",
   "pygments_lexer": "ipython3",
   "version": "3.8.10"
  }
 },
 "nbformat": 4,
 "nbformat_minor": 5
}
