{
 "cells": [
  {
   "cell_type": "markdown",
   "id": "75272936",
   "metadata": {},
   "source": [
    "# TPS 12/21 - Feature Engineering\n",
    "\n",
    "In this notebook we test out some feature engineering techniques using XGBoost with default settings to see if we get any improvement over the baseline."
   ]
  },
  {
   "cell_type": "code",
   "execution_count": 1,
   "id": "f91d05e4",
   "metadata": {},
   "outputs": [],
   "source": [
    "# Global variables for testing changes to this notebook quickly\n",
    "RANDOM_SEED = 0\n",
    "NUM_FOLDS = 6\n",
    "TRAIN_SIZE = 500000"
   ]
  },
  {
   "cell_type": "code",
   "execution_count": 2,
   "id": "e34f9b31",
   "metadata": {},
   "outputs": [],
   "source": [
    "import numpy as np\n",
    "import pandas as pd\n",
    "import time\n",
    "import os\n",
    "import pyarrow\n",
    "import gc\n",
    "\n",
    "# Model/Evaluation\n",
    "from sklearn.base import clone\n",
    "from sklearn.pipeline import make_pipeline\n",
    "from sklearn.preprocessing import LabelEncoder\n",
    "from sklearn.model_selection import StratifiedKFold, train_test_split\n",
    "from sklearn.metrics import accuracy_score, recall_score\n",
    "from sklearn.inspection import permutation_importance\n",
    "from xgboost import XGBClassifier\n",
    "\n",
    "# Hide warnings\n",
    "import warnings\n",
    "warnings.filterwarnings('ignore')"
   ]
  },
  {
   "cell_type": "markdown",
   "id": "0a563bd9",
   "metadata": {},
   "source": [
    "# Load and Prepare Data"
   ]
  },
  {
   "cell_type": "code",
   "execution_count": 3,
   "id": "ff2f40c3",
   "metadata": {},
   "outputs": [
    {
     "name": "stdout",
     "output_type": "stream",
     "text": [
      "Training Size: 500000 rows, 53 cols\n",
      "Holdout Size: 3499999 rows, 53 cols\n",
      "\n"
     ]
    }
   ],
   "source": [
    "# Load full training data\n",
    "train = pd.read_feather('../data/train.feather')\n",
    "\n",
    "# Drop low/no variance \n",
    "train.drop([\"Soil_Type7\", \"Id\", \"Soil_Type15\"], axis=1, inplace=True)\n",
    "train = train[train.Cover_Type != 5]\n",
    "\n",
    "# Label Encoding\n",
    "new_encoder = LabelEncoder()\n",
    "train[\"Cover_Type\"] = new_encoder.fit_transform(train[\"Cover_Type\"])\n",
    "\n",
    "# Split synthetic data\n",
    "train, test = train_test_split(\n",
    "    train, \n",
    "    train_size = TRAIN_SIZE, \n",
    "    random_state = RANDOM_SEED,\n",
    "    stratify = train['Cover_Type'],\n",
    ")\n",
    "y_train = train['Cover_Type']\n",
    "\n",
    "\n",
    "# features, data structure for summary scores\n",
    "features = [x for x in train.columns if x not in ['Id','Cover_Type']]\n",
    "nonsoil = [x for x in features if not x.startswith('Soil_Type')]\n",
    "new_rows = list()\n",
    "gc.collect()\n",
    "\n",
    "print(f'Training Size: {train.shape[0]} rows, {train.shape[1]} cols')\n",
    "print(f'Holdout Size: {test.shape[0]} rows, {test.shape[1]} cols\\n')"
   ]
  },
  {
   "cell_type": "markdown",
   "id": "1c57173e",
   "metadata": {},
   "source": [
    "# Model"
   ]
  },
  {
   "cell_type": "code",
   "execution_count": 4,
   "id": "3537e3bb",
   "metadata": {},
   "outputs": [],
   "source": [
    "# XGBoost Classifier\n",
    "xgb_pipeline = make_pipeline(\n",
    "    XGBClassifier(\n",
    "        booster = 'gbtree',\n",
    "        tree_method = 'hist',\n",
    "        eval_metric = 'mlogloss',\n",
    "        random_state = RANDOM_SEED,\n",
    "    ),\n",
    ")"
   ]
  },
  {
   "cell_type": "markdown",
   "id": "2a52bae0",
   "metadata": {},
   "source": [
    "# Scoring Function"
   ]
  },
  {
   "cell_type": "code",
   "execution_count": 5,
   "id": "0a022357",
   "metadata": {},
   "outputs": [],
   "source": [
    "def score_features(sklearn_model, processing = None):\n",
    "    \n",
    "    # Original Training/Test Split\n",
    "    features = [x for x in train.columns if x not in ['Id','Cover_Type']]\n",
    "    X_temp, X_test = train[features], test[features]\n",
    "    y_temp, y_test = train['Cover_Type'], test['Cover_Type']\n",
    "    \n",
    "    # Feature Engineering\n",
    "    if processing:\n",
    "        X_temp = processing(X_temp)\n",
    "        X_test = processing(X_test)\n",
    "    \n",
    "    # Store the out-of-fold predictions\n",
    "    test_preds = np.zeros((X_test.shape[0],6))\n",
    "    oof_preds = np.zeros((X_temp.shape[0],))\n",
    "    fi_scores = np.zeros((X_temp.shape[1],))\n",
    "    scores, times = np.zeros(NUM_FOLDS), np.zeros(NUM_FOLDS)\n",
    "    \n",
    "    # Stratified k-fold cross-validation\n",
    "    skf = StratifiedKFold(n_splits = NUM_FOLDS, shuffle = True, random_state = RANDOM_SEED)\n",
    "    for fold, (train_idx, valid_idx) in enumerate(skf.split(train[features],train['Cover_Type'])):\n",
    "       \n",
    "        # Training and Validation Sets\n",
    "        X_train, X_valid = X_temp.iloc[train_idx], X_temp.iloc[valid_idx]\n",
    "        y_train, y_valid = y_temp.iloc[train_idx], y_temp.iloc[valid_idx]\n",
    "        \n",
    "        # Create model\n",
    "        start = time.time()\n",
    "        model = clone(sklearn_model)\n",
    "        model.fit(X_train, y_train)\n",
    "\n",
    "        # Permutation Importance\n",
    "        result = permutation_importance(\n",
    "            model, X_valid, y_valid, \n",
    "            random_state=RANDOM_SEED\n",
    "        )\n",
    "        fi_scores += result.importances_mean / NUM_FOLDS\n",
    "\n",
    "        # validation/holdout predictions\n",
    "        valid_preds = np.ravel(model.predict(X_valid))\n",
    "        oof_preds[valid_idx] = valid_preds\n",
    "        test_preds += model.predict_proba(X_test)\n",
    "\n",
    "        # Save scores and times\n",
    "        scores[fold] = accuracy_score(y_valid, valid_preds)\n",
    "        end = time.time()\n",
    "        times[fold] = end-start\n",
    "        print(f'Fold {fold} Accuracy:  {round(scores[fold], 5)} in {round(end-start,2)}s.')\n",
    "        time.sleep(0.5)\n",
    "    \n",
    "    features = [x for x in X_temp.columns]\n",
    "    nonsoil = [x for x in X_test.columns if not x.startswith('Soil_Type')]\n",
    "    test_preds = np.argmax(test_preds, axis = 1)\n",
    "    test_score = accuracy_score(y_test, test_preds)\n",
    "    #print('\\n'+model.__class__.__name__)\n",
    "    print(\"Train Accuracy:\", round(scores.mean(), 5))\n",
    "    print('Test Accuracy:', round(test_score, 5))\n",
    "    print(f'Training Time: {round(times.sum(), 2)}s')\n",
    "    \n",
    "    fi_scores = pd.Series(\n",
    "        data = fi_scores, \n",
    "        index = features\n",
    "    ).loc[nonsoil].sort_values()\n",
    "    \n",
    "    return scores.mean(), oof_preds, test_score, fi_scores"
   ]
  },
  {
   "cell_type": "markdown",
   "id": "933d44bc",
   "metadata": {},
   "source": [
    "# Baseline"
   ]
  },
  {
   "cell_type": "code",
   "execution_count": 6,
   "id": "217f3e60",
   "metadata": {},
   "outputs": [
    {
     "name": "stdout",
     "output_type": "stream",
     "text": [
      "Fold 0 Accuracy:  0.95793 in 56.93s.\n",
      "Fold 1 Accuracy:  0.95714 in 55.6s.\n",
      "Fold 2 Accuracy:  0.95698 in 58.85s.\n",
      "Fold 3 Accuracy:  0.95768 in 57.47s.\n",
      "Fold 4 Accuracy:  0.95802 in 57.8s.\n",
      "Fold 5 Accuracy:  0.95702 in 58.02s.\n",
      "Train Accuracy: 0.95746\n",
      "Test Accuracy: 0.9583\n",
      "Training Time: 344.67s\n"
     ]
    },
    {
     "data": {
      "text/plain": [
       "Hillshade_3pm                        -0.000049\n",
       "Slope                                 0.000004\n",
       "Hillshade_9am                         0.000032\n",
       "Aspect                                0.000083\n",
       "Wilderness_Area2                      0.000098\n",
       "Hillshade_Noon                        0.000413\n",
       "Wilderness_Area4                      0.002781\n",
       "Wilderness_Area1                      0.010013\n",
       "Horizontal_Distance_To_Hydrology      0.010578\n",
       "Vertical_Distance_To_Hydrology        0.018296\n",
       "Wilderness_Area3                      0.019741\n",
       "Horizontal_Distance_To_Fire_Points    0.031517\n",
       "Horizontal_Distance_To_Roadways       0.047248\n",
       "Elevation                             0.460723\n",
       "dtype: float64"
      ]
     },
     "execution_count": 6,
     "metadata": {},
     "output_type": "execute_result"
    }
   ],
   "source": [
    "cv_score, oof_preds, test_score, fi_scores = score_features(\n",
    "    xgb_pipeline\n",
    ")\n",
    "\n",
    "new_rows.append((\n",
    "    'Baseline', cv_score, test_score,\n",
    "     *recall_score(y_train, oof_preds, average = None)\n",
    "))\n",
    "\n",
    "fi_scores"
   ]
  },
  {
   "cell_type": "markdown",
   "id": "53dabc54",
   "metadata": {},
   "source": [
    "# Feature Engineering\n",
    "\n",
    "1. Aspect Features\n",
    "2. Hillshade Features\n",
    "3. Water Features\n",
    "4. Count Features\n",
    "5. Water/Fire Interactions\n",
    "6. Roadway Interactions\n",
    "7. Elevation Interactions"
   ]
  },
  {
   "cell_type": "markdown",
   "id": "d3fcf492",
   "metadata": {},
   "source": [
    "## 1. Aspect Features"
   ]
  },
  {
   "cell_type": "code",
   "execution_count": 7,
   "id": "d41388cd",
   "metadata": {},
   "outputs": [],
   "source": [
    "def aspect_features(data):\n",
    "    df = data.copy()\n",
    "    df['Aspect_360'] = df['Aspect'] % 360\n",
    "    df['Aspect_Sine'] = (df['Aspect']* np.pi / 180).apply(np.sin)\n",
    "    df['Aspect_Alt'] = (df['Aspect']-180).where(\n",
    "        df['Aspect']+180 > 360, df['Aspect'] + 180\n",
    "    )\n",
    "    return df"
   ]
  },
  {
   "cell_type": "code",
   "execution_count": 8,
   "id": "8dadfc38",
   "metadata": {},
   "outputs": [
    {
     "name": "stdout",
     "output_type": "stream",
     "text": [
      "Fold 0 Accuracy:  0.95772 in 69.25s.\n",
      "Fold 1 Accuracy:  0.95708 in 65.56s.\n",
      "Fold 2 Accuracy:  0.9567 in 66.9s.\n",
      "Fold 3 Accuracy:  0.95741 in 66.79s.\n",
      "Fold 4 Accuracy:  0.95824 in 68.03s.\n",
      "Fold 5 Accuracy:  0.95729 in 70.03s.\n",
      "Train Accuracy: 0.95741\n",
      "Test Accuracy: 0.95826\n",
      "Training Time: 406.55s\n"
     ]
    },
    {
     "data": {
      "text/plain": [
       "Slope                                 0.000005\n",
       "Aspect_360                            0.000008\n",
       "Aspect_Alt                            0.000014\n",
       "Hillshade_9am                         0.000042\n",
       "Hillshade_3pm                         0.000044\n",
       "Aspect_Sine                           0.000045\n",
       "Wilderness_Area2                      0.000090\n",
       "Aspect                                0.000091\n",
       "Hillshade_Noon                        0.000414\n",
       "Wilderness_Area4                      0.002595\n",
       "Wilderness_Area1                      0.010384\n",
       "Horizontal_Distance_To_Hydrology      0.010634\n",
       "Vertical_Distance_To_Hydrology        0.018316\n",
       "Wilderness_Area3                      0.019452\n",
       "Horizontal_Distance_To_Fire_Points    0.031526\n",
       "Horizontal_Distance_To_Roadways       0.047128\n",
       "Elevation                             0.460853\n",
       "dtype: float64"
      ]
     },
     "execution_count": 8,
     "metadata": {},
     "output_type": "execute_result"
    }
   ],
   "source": [
    "cv_score, oof_preds, test_score, fi_scores = score_features(\n",
    "    xgb_pipeline, \n",
    "    aspect_features\n",
    ")\n",
    "\n",
    "new_rows.append((\n",
    "    'Aspect_Features', cv_score, test_score,\n",
    "     *recall_score(y_train, oof_preds, average = None)\n",
    "))\n",
    "\n",
    "fi_scores"
   ]
  },
  {
   "cell_type": "markdown",
   "id": "faa6c478",
   "metadata": {},
   "source": [
    "## 2. Hillshade Features"
   ]
  },
  {
   "cell_type": "code",
   "execution_count": 9,
   "id": "19965d2b",
   "metadata": {},
   "outputs": [],
   "source": [
    "def hillshade_features(data):\n",
    "    df = data.copy()\n",
    "    shade_features = ['Hillshade_9am', 'Hillshade_Noon', 'Hillshade_3pm']\n",
    "\n",
    "    # Clip Range\n",
    "    df[\"Hillshade_9am_Clipped\"] = df[\"Hillshade_9am\"].clip(lower=0, upper=255)\n",
    "    df[\"Hillshade_Noon_Clipped\"] = df[\"Hillshade_9am\"].clip(lower=0, upper=255)\n",
    "    df[\"Hillshade_3pm_Clipped\"] = df[\"Hillshade_9am\"].clip(lower=0, upper=255)\n",
    "    \n",
    "    # Hillshade\n",
    "    #df[\"Hillshade_Avg\"] = df[shade_features].mean(axis=1)\n",
    "    df[\"Hillshade_Sum\"] = df[shade_features].sum(axis=1)\n",
    "    df['Hillshade_Range'] = df[shade_features].max(axis=1) - df[shade_features].min(axis=1)\n",
    "    \n",
    "    return df"
   ]
  },
  {
   "cell_type": "code",
   "execution_count": 10,
   "id": "17ff2e38",
   "metadata": {},
   "outputs": [
    {
     "name": "stdout",
     "output_type": "stream",
     "text": [
      "Fold 0 Accuracy:  0.95781 in 70.08s.\n",
      "Fold 1 Accuracy:  0.95735 in 69.34s.\n",
      "Fold 2 Accuracy:  0.95687 in 71.8s.\n",
      "Fold 3 Accuracy:  0.95758 in 70.26s.\n",
      "Fold 4 Accuracy:  0.9583 in 71.35s.\n",
      "Fold 5 Accuracy:  0.95672 in 71.13s.\n",
      "Train Accuracy: 0.95744\n",
      "Test Accuracy: 0.95832\n",
      "Training Time: 423.97s\n"
     ]
    },
    {
     "data": {
      "text/plain": [
       "Slope                                -5.639965e-05\n",
       "Hillshade_Range                      -4.000009e-05\n",
       "Hillshade_3pm                        -6.400064e-06\n",
       "Hillshade_3pm_Clipped                 0.000000e+00\n",
       "Hillshade_Noon_Clipped                0.000000e+00\n",
       "Hillshade_9am_Clipped                 4.000352e-07\n",
       "Hillshade_Sum                         2.240017e-05\n",
       "Hillshade_9am                         3.160000e-05\n",
       "Aspect                                8.519988e-05\n",
       "Wilderness_Area2                      1.095998e-04\n",
       "Hillshade_Noon                        4.308001e-04\n",
       "Wilderness_Area4                      2.550803e-03\n",
       "Wilderness_Area1                      1.028000e-02\n",
       "Horizontal_Distance_To_Hydrology      1.049960e-02\n",
       "Vertical_Distance_To_Hydrology        1.824280e-02\n",
       "Wilderness_Area3                      1.973800e-02\n",
       "Horizontal_Distance_To_Fire_Points    3.147680e-02\n",
       "Horizontal_Distance_To_Roadways       4.726600e-02\n",
       "Elevation                             4.607992e-01\n",
       "dtype: float64"
      ]
     },
     "execution_count": 10,
     "metadata": {},
     "output_type": "execute_result"
    }
   ],
   "source": [
    "cv_score, oof_preds, test_score, fi_scores = score_features(\n",
    "    xgb_pipeline, \n",
    "    hillshade_features\n",
    ")\n",
    "\n",
    "new_rows.append((\n",
    "    'Hillshade_Features', cv_score, test_score,\n",
    "     *recall_score(y_train, oof_preds, average = None)\n",
    "))\n",
    "\n",
    "fi_scores"
   ]
  },
  {
   "cell_type": "markdown",
   "id": "d10eac4a",
   "metadata": {},
   "source": [
    "## 3. Water Features "
   ]
  },
  {
   "cell_type": "code",
   "execution_count": 11,
   "id": "291d9d22",
   "metadata": {},
   "outputs": [],
   "source": [
    "# Helper function\n",
    "def start_at_eps(series, eps=1e-10): \n",
    "    return series - series.min() + eps\n",
    "\n",
    "def water_features(data):\n",
    "    df = data.copy()\n",
    "    \n",
    "    # use float64 for squaring\n",
    "    df[\"Horizontal_Distance_To_Hydrology\"] = df[\"Horizontal_Distance_To_Hydrology\"].astype('float64')\n",
    "    df[\"Vertical_Distance_To_Hydrology\"] = df[\"Vertical_Distance_To_Hydrology\"].astype('float64')\n",
    "    pos_h_hydrology = start_at_eps(df[\"Horizontal_Distance_To_Hydrology\"])\n",
    "    pos_v_hydrology = start_at_eps(df['Vertical_Distance_To_Hydrology'])\n",
    "    \n",
    "    # Manhatten Distances\n",
    "    df[\"Hydro_Taxicab\"] = np.abs(df[\"Horizontal_Distance_To_Hydrology\"]) + np.abs(df[\"Vertical_Distance_To_Hydrology\"])\n",
    "    df['Hydro_Taxicab_Pos'] = (pos_h_hydrology ** 2 + pos_v_hydrology ** 2).apply(np.sqrt).rename('Euclidean_positive_hydrology').astype(np.float32)\n",
    "    \n",
    "    # Euclidean Distance\n",
    "    df[\"Hydro_Euclid\"] = (df[\"Horizontal_Distance_To_Hydrology\"]**2 + np.abs(df[\"Vertical_Distance_To_Hydrology\"])**2)**0.5\n",
    "    df['Hydro_Euclid_Pos'] = (pos_h_hydrology ** 2 + pos_v_hydrology ** 2).apply(np.sqrt)\n",
    "    \n",
    "    # Misc Features\n",
    "    df['Water_Direction'] = df['Vertical_Distance_To_Hydrology'].apply(np.sign)\n",
    "    df['Water Elevation'] = df['Elevation'] - df['Vertical_Distance_To_Hydrology']\n",
    "    \n",
    "    # Store each as float32\n",
    "    df[\"Horizontal_Distance_To_Hydrology\"] = df[\"Horizontal_Distance_To_Hydrology\"].astype('float32')\n",
    "    df[\"Vertical_Distance_To_Hydrology\"] = df[\"Vertical_Distance_To_Hydrology\"].astype('float32')\n",
    "    df[\"Hydro_Taxicab\"] = df[\"Hydro_Taxicab\"].astype('float32')\n",
    "    df['Hydro_Taxicab_Pos'] = df['Hydro_Taxicab_Pos'].astype('float32')\n",
    "    df[\"Hydro_Euclid\"] = df[\"Hydro_Euclid\"].astype('float32')\n",
    "    df['Hydro_Euclid_Pos'] = df['Hydro_Euclid_Pos'].astype('float32')\n",
    "    df['Water_Direction'] = df['Water_Direction'].astype('float32')\n",
    "    df['Water Elevation'] = df['Water Elevation'].astype('float32')\n",
    "    \n",
    "    return df"
   ]
  },
  {
   "cell_type": "code",
   "execution_count": 12,
   "id": "34a74147",
   "metadata": {},
   "outputs": [
    {
     "name": "stdout",
     "output_type": "stream",
     "text": [
      "Fold 0 Accuracy:  0.95849 in 68.5s.\n",
      "Fold 1 Accuracy:  0.95758 in 64.7s.\n",
      "Fold 2 Accuracy:  0.95759 in 70.47s.\n",
      "Fold 3 Accuracy:  0.95856 in 66.66s.\n",
      "Fold 4 Accuracy:  0.95882 in 66.24s.\n",
      "Fold 5 Accuracy:  0.95808 in 70.14s.\n",
      "Train Accuracy: 0.95819\n",
      "Test Accuracy: 0.95905\n",
      "Training Time: 406.7s\n"
     ]
    },
    {
     "data": {
      "text/plain": [
       "Hillshade_3pm                        -0.000075\n",
       "Hillshade_9am                        -0.000068\n",
       "Aspect                               -0.000013\n",
       "Water_Direction                       0.000000\n",
       "Hydro_Euclid_Pos                      0.000000\n",
       "Slope                                 0.000022\n",
       "Wilderness_Area2                      0.000057\n",
       "Vertical_Distance_To_Hydrology        0.000116\n",
       "Hillshade_Noon                        0.000360\n",
       "Hydro_Taxicab                         0.000425\n",
       "Hydro_Taxicab_Pos                     0.000612\n",
       "Hydro_Euclid                          0.000806\n",
       "Wilderness_Area4                      0.002606\n",
       "Horizontal_Distance_To_Hydrology      0.003022\n",
       "Wilderness_Area1                      0.009490\n",
       "Wilderness_Area3                      0.019847\n",
       "Horizontal_Distance_To_Fire_Points    0.031968\n",
       "Horizontal_Distance_To_Roadways       0.047543\n",
       "Water Elevation                       0.126658\n",
       "Elevation                             0.326246\n",
       "dtype: float64"
      ]
     },
     "execution_count": 12,
     "metadata": {},
     "output_type": "execute_result"
    }
   ],
   "source": [
    "cv_score, oof_preds, test_score, fi_scores = score_features(\n",
    "    xgb_pipeline, \n",
    "    water_features\n",
    ")\n",
    "\n",
    "new_rows.append((\n",
    "    'Water_Features', cv_score, test_score,\n",
    "     *recall_score(y_train, oof_preds, average = None)\n",
    "))\n",
    "\n",
    "fi_scores"
   ]
  },
  {
   "cell_type": "markdown",
   "id": "66295bd9",
   "metadata": {},
   "source": [
    "## 4. Count Features"
   ]
  },
  {
   "cell_type": "code",
   "execution_count": 13,
   "id": "481000e3",
   "metadata": {},
   "outputs": [],
   "source": [
    "def count_features(data):\n",
    "    \n",
    "    df = data.copy()\n",
    "    soil_features = [x for x in df.columns if x.startswith(\"Soil_Type\")]\n",
    "    wilderness_features = [x for x in df.columns if x.startswith(\"Wilderness_Area\")]\n",
    "\n",
    "    # Count features\n",
    "    df[\"Soil_Count\"] = df[soil_features].apply(sum, axis=1)\n",
    "    df[\"Wilderness_Count\"] = df[wilderness_features].apply(sum, axis=1)\n",
    "    \n",
    "    return df"
   ]
  },
  {
   "cell_type": "code",
   "execution_count": 14,
   "id": "e93b0b13",
   "metadata": {},
   "outputs": [
    {
     "name": "stdout",
     "output_type": "stream",
     "text": [
      "Fold 0 Accuracy:  0.95956 in 65.3s.\n",
      "Fold 1 Accuracy:  0.95948 in 67.74s.\n",
      "Fold 2 Accuracy:  0.95931 in 66.42s.\n",
      "Fold 3 Accuracy:  0.95981 in 67.25s.\n",
      "Fold 4 Accuracy:  0.96058 in 68.31s.\n",
      "Fold 5 Accuracy:  0.95864 in 68.76s.\n",
      "Train Accuracy: 0.95956\n",
      "Test Accuracy: 0.96026\n",
      "Training Time: 403.77s\n"
     ]
    },
    {
     "data": {
      "text/plain": [
       "Slope                                -0.000134\n",
       "Hillshade_3pm                         0.000005\n",
       "Hillshade_9am                         0.000029\n",
       "Aspect                                0.000073\n",
       "Wilderness_Area2                      0.000098\n",
       "Hillshade_Noon                        0.000474\n",
       "Wilderness_Count                      0.000482\n",
       "Wilderness_Area4                      0.005108\n",
       "Horizontal_Distance_To_Hydrology      0.010983\n",
       "Wilderness_Area1                      0.011182\n",
       "Vertical_Distance_To_Hydrology        0.018890\n",
       "Wilderness_Area3                      0.019424\n",
       "Horizontal_Distance_To_Fire_Points    0.032689\n",
       "Soil_Count                            0.036147\n",
       "Horizontal_Distance_To_Roadways       0.048996\n",
       "Elevation                             0.461825\n",
       "dtype: float64"
      ]
     },
     "execution_count": 14,
     "metadata": {},
     "output_type": "execute_result"
    }
   ],
   "source": [
    "cv_score, oof_preds, test_score, fi_scores = score_features(\n",
    "    xgb_pipeline, \n",
    "    count_features\n",
    ")\n",
    "\n",
    "new_rows.append((\n",
    "    'Count_Features', cv_score, test_score,\n",
    "     *recall_score(y_train, oof_preds, average = None)\n",
    "))\n",
    "\n",
    "fi_scores"
   ]
  },
  {
   "cell_type": "markdown",
   "id": "892bf903",
   "metadata": {},
   "source": [
    "## 5. Water/Fire Interactions"
   ]
  },
  {
   "cell_type": "code",
   "execution_count": 15,
   "id": "52c86b6a",
   "metadata": {},
   "outputs": [],
   "source": [
    "def hydrofire_interactions(data):\n",
    "    \n",
    "    df = data.copy()\n",
    "    df['Hydro_Fire_Sum'] = df['Horizontal_Distance_To_Hydrology'] + df['Horizontal_Distance_To_Fire_Points']\n",
    "    df['Hydro_Fire_AbsDiff'] = abs(df['Horizontal_Distance_To_Hydrology'] - df['Horizontal_Distance_To_Fire_Points'])\n",
    "    df['Hydro_Fire_EpsSum'] = start_at_eps(df['Horizontal_Distance_To_Hydrology']) + start_at_eps(df['Horizontal_Distance_To_Fire_Points'])\n",
    "    df['Hydro_Fire_Diff'] = df['Horizontal_Distance_To_Hydrology'] - df['Horizontal_Distance_To_Fire_Points']\n",
    "    return df"
   ]
  },
  {
   "cell_type": "code",
   "execution_count": 16,
   "id": "9b8b3b48",
   "metadata": {},
   "outputs": [
    {
     "name": "stdout",
     "output_type": "stream",
     "text": [
      "Fold 0 Accuracy:  0.95868 in 66.33s.\n",
      "Fold 1 Accuracy:  0.95716 in 68.76s.\n",
      "Fold 2 Accuracy:  0.95752 in 69.79s.\n",
      "Fold 3 Accuracy:  0.95812 in 71.02s.\n",
      "Fold 4 Accuracy:  0.95801 in 71.4s.\n",
      "Fold 5 Accuracy:  0.95752 in 69.7s.\n",
      "Train Accuracy: 0.95784\n",
      "Test Accuracy: 0.95844\n",
      "Training Time: 417.0s\n"
     ]
    },
    {
     "data": {
      "text/plain": [
       "Hillshade_3pm                        -0.000013\n",
       "Hydro_Fire_EpsSum                     0.000000\n",
       "Slope                                 0.000081\n",
       "Wilderness_Area2                      0.000099\n",
       "Hillshade_9am                         0.000151\n",
       "Aspect                                0.000190\n",
       "Hillshade_Noon                        0.000408\n",
       "Wilderness_Area4                      0.002648\n",
       "Horizontal_Distance_To_Fire_Points    0.003858\n",
       "Hydro_Fire_AbsDiff                    0.004232\n",
       "Hydro_Fire_Diff                       0.004674\n",
       "Horizontal_Distance_To_Hydrology      0.007021\n",
       "Hydro_Fire_Sum                        0.008988\n",
       "Wilderness_Area1                      0.010056\n",
       "Vertical_Distance_To_Hydrology        0.018526\n",
       "Wilderness_Area3                      0.019899\n",
       "Horizontal_Distance_To_Roadways       0.047630\n",
       "Elevation                             0.460796\n",
       "dtype: float64"
      ]
     },
     "execution_count": 16,
     "metadata": {},
     "output_type": "execute_result"
    }
   ],
   "source": [
    "cv_score, oof_preds, test_score, fi_scores = score_features(\n",
    "    xgb_pipeline, \n",
    "    hydrofire_interactions\n",
    ")\n",
    "\n",
    "new_rows.append((\n",
    "    'Water_Fire', cv_score, test_score,\n",
    "     *recall_score(y_train, oof_preds, average = None)\n",
    "))\n",
    "\n",
    "fi_scores"
   ]
  },
  {
   "cell_type": "markdown",
   "id": "ffd84844",
   "metadata": {},
   "source": [
    "## 6. Roadway Interactions"
   ]
  },
  {
   "cell_type": "code",
   "execution_count": 17,
   "id": "11cc2115",
   "metadata": {},
   "outputs": [],
   "source": [
    "def roadway_interactions(data):\n",
    "    df = data.copy()\n",
    "    df['Hydro_Road_1'] = abs(df['Horizontal_Distance_To_Hydrology'] + df['Horizontal_Distance_To_Roadways'])\n",
    "    df['Hydro_Road_2'] = abs(df['Horizontal_Distance_To_Hydrology'] - df['Horizontal_Distance_To_Roadways'])\n",
    "    df['Fire_Road_1'] = abs(df['Horizontal_Distance_To_Fire_Points'] + df['Horizontal_Distance_To_Roadways'])\n",
    "    df['Fire_Road_2'] = abs(df['Horizontal_Distance_To_Fire_Points'] - df['Horizontal_Distance_To_Roadways'])\n",
    "    return df"
   ]
  },
  {
   "cell_type": "code",
   "execution_count": 18,
   "id": "a9531403",
   "metadata": {},
   "outputs": [
    {
     "name": "stdout",
     "output_type": "stream",
     "text": [
      "Fold 0 Accuracy:  0.95877 in 63.4s.\n",
      "Fold 1 Accuracy:  0.95738 in 64.02s.\n",
      "Fold 2 Accuracy:  0.95752 in 63.93s.\n",
      "Fold 3 Accuracy:  0.9581 in 66.99s.\n",
      "Fold 4 Accuracy:  0.95805 in 66.16s.\n",
      "Fold 5 Accuracy:  0.95769 in 61.36s.\n",
      "Train Accuracy: 0.95792\n",
      "Test Accuracy: 0.9589\n",
      "Training Time: 385.88s\n"
     ]
    },
    {
     "data": {
      "text/plain": [
       "Slope                                -0.000031\n",
       "Hillshade_3pm                         0.000002\n",
       "Wilderness_Area2                      0.000037\n",
       "Aspect                                0.000050\n",
       "Hillshade_9am                         0.000053\n",
       "Hillshade_Noon                        0.000332\n",
       "Hydro_Road_1                          0.002124\n",
       "Wilderness_Area4                      0.002846\n",
       "Hydro_Road_2                          0.003413\n",
       "Fire_Road_2                           0.007075\n",
       "Horizontal_Distance_To_Hydrology      0.008510\n",
       "Fire_Road_1                           0.008551\n",
       "Wilderness_Area1                      0.010162\n",
       "Horizontal_Distance_To_Fire_Points    0.012640\n",
       "Vertical_Distance_To_Hydrology        0.018387\n",
       "Wilderness_Area3                      0.019986\n",
       "Horizontal_Distance_To_Roadways       0.023611\n",
       "Elevation                             0.460478\n",
       "dtype: float64"
      ]
     },
     "execution_count": 18,
     "metadata": {},
     "output_type": "execute_result"
    }
   ],
   "source": [
    "cv_score, oof_preds, test_score, fi_scores = score_features(\n",
    "    xgb_pipeline, \n",
    "    roadway_interactions\n",
    ")\n",
    "\n",
    "new_rows.append((\n",
    "    'Road_Interactions', cv_score, test_score,\n",
    "     *recall_score(y_train, oof_preds, average = None)\n",
    "))\n",
    "\n",
    "fi_scores"
   ]
  },
  {
   "cell_type": "markdown",
   "id": "49ab1438",
   "metadata": {},
   "source": [
    "## 7. Elevation Interactions"
   ]
  },
  {
   "cell_type": "code",
   "execution_count": 19,
   "id": "e3946aad",
   "metadata": {},
   "outputs": [],
   "source": [
    "def elevation_interactions(data):\n",
    "    df = data.copy()\n",
    "    df['Road_Elev_Int'] = df['Horizontal_Distance_To_Roadways'] * df['Elevation']\n",
    "    df['VHydro_Elev_Int'] = df['Vertical_Distance_To_Hydrology'] * df['Elevation']\n",
    "    df['Elev_VHydro_Diff'] = df.Elevation - df.Vertical_Distance_To_Hydrology\n",
    "    df['Elev_HHydro_Diff'] = df.Elevation - df.Horizontal_Distance_To_Hydrology * 0.2\n",
    "    \n",
    "    return df"
   ]
  },
  {
   "cell_type": "code",
   "execution_count": 20,
   "id": "686e8cb0",
   "metadata": {},
   "outputs": [
    {
     "name": "stdout",
     "output_type": "stream",
     "text": [
      "Fold 0 Accuracy:  0.95844 in 64.26s.\n",
      "Fold 1 Accuracy:  0.95795 in 65.04s.\n",
      "Fold 2 Accuracy:  0.95736 in 69.35s.\n",
      "Fold 3 Accuracy:  0.95891 in 72.94s.\n",
      "Fold 4 Accuracy:  0.95897 in 67.39s.\n",
      "Fold 5 Accuracy:  0.9576 in 67.14s.\n",
      "Train Accuracy: 0.95821\n",
      "Test Accuracy: 0.95901\n",
      "Training Time: 406.12s\n"
     ]
    },
    {
     "data": {
      "text/plain": [
       "Slope                                -4.080000e-05\n",
       "VHydro_Elev_Int                      -2.599987e-05\n",
       "Hillshade_3pm                        -2.400058e-06\n",
       "Road_Elev_Int                        -7.998064e-07\n",
       "Hillshade_9am                         7.119985e-05\n",
       "Aspect                                7.479999e-05\n",
       "Wilderness_Area2                      7.639967e-05\n",
       "Hillshade_Noon                        3.972006e-04\n",
       "Vertical_Distance_To_Hydrology        4.251999e-04\n",
       "Wilderness_Area4                      2.516402e-03\n",
       "Horizontal_Distance_To_Hydrology      4.108000e-03\n",
       "Wilderness_Area1                      9.814803e-03\n",
       "Wilderness_Area3                      1.963880e-02\n",
       "Horizontal_Distance_To_Fire_Points    3.189320e-02\n",
       "Elev_HHydro_Diff                      3.522401e-02\n",
       "Horizontal_Distance_To_Roadways       4.742160e-02\n",
       "Elevation                             1.412520e-01\n",
       "Elev_VHydro_Diff                      1.413984e-01\n",
       "dtype: float64"
      ]
     },
     "execution_count": 20,
     "metadata": {},
     "output_type": "execute_result"
    }
   ],
   "source": [
    "cv_score, oof_preds, test_score, fi_scores = score_features(\n",
    "    xgb_pipeline, \n",
    "    elevation_interactions\n",
    ")\n",
    "\n",
    "new_rows.append((\n",
    "    'Elev_Interactions', cv_score, test_score,\n",
    "     *recall_score(y_train, oof_preds, average = None)\n",
    "))\n",
    "\n",
    "fi_scores"
   ]
  },
  {
   "cell_type": "markdown",
   "id": "6e609f4d",
   "metadata": {},
   "source": [
    "# Summary"
   ]
  },
  {
   "cell_type": "code",
   "execution_count": 21,
   "id": "3070f02d",
   "metadata": {},
   "outputs": [
    {
     "data": {
      "text/html": [
       "<div>\n",
       "<style scoped>\n",
       "    .dataframe tbody tr th:only-of-type {\n",
       "        vertical-align: middle;\n",
       "    }\n",
       "\n",
       "    .dataframe tbody tr th {\n",
       "        vertical-align: top;\n",
       "    }\n",
       "\n",
       "    .dataframe thead th {\n",
       "        text-align: right;\n",
       "    }\n",
       "</style>\n",
       "<table border=\"1\" class=\"dataframe\">\n",
       "  <thead>\n",
       "    <tr style=\"text-align: right;\">\n",
       "      <th></th>\n",
       "      <th>features</th>\n",
       "      <th>cv_scores</th>\n",
       "      <th>holdout</th>\n",
       "      <th>recall_0</th>\n",
       "      <th>recall_1</th>\n",
       "      <th>recall_2</th>\n",
       "      <th>recall_3</th>\n",
       "      <th>recall_4</th>\n",
       "      <th>recall_5</th>\n",
       "    </tr>\n",
       "  </thead>\n",
       "  <tbody>\n",
       "    <tr>\n",
       "      <th>1</th>\n",
       "      <td>Aspect_Features</td>\n",
       "      <td>0.957408</td>\n",
       "      <td>0.958260</td>\n",
       "      <td>0.963458</td>\n",
       "      <td>0.971800</td>\n",
       "      <td>0.873815</td>\n",
       "      <td>0.191489</td>\n",
       "      <td>0.418067</td>\n",
       "      <td>0.658229</td>\n",
       "    </tr>\n",
       "    <tr>\n",
       "      <th>0</th>\n",
       "      <td>Baseline</td>\n",
       "      <td>0.957460</td>\n",
       "      <td>0.958297</td>\n",
       "      <td>0.963491</td>\n",
       "      <td>0.971828</td>\n",
       "      <td>0.873365</td>\n",
       "      <td>0.191489</td>\n",
       "      <td>0.417367</td>\n",
       "      <td>0.661313</td>\n",
       "    </tr>\n",
       "    <tr>\n",
       "      <th>2</th>\n",
       "      <td>Hillshade_Features</td>\n",
       "      <td>0.957438</td>\n",
       "      <td>0.958325</td>\n",
       "      <td>0.963731</td>\n",
       "      <td>0.971743</td>\n",
       "      <td>0.873201</td>\n",
       "      <td>0.212766</td>\n",
       "      <td>0.401961</td>\n",
       "      <td>0.660542</td>\n",
       "    </tr>\n",
       "    <tr>\n",
       "      <th>5</th>\n",
       "      <td>Water_Fire</td>\n",
       "      <td>0.957836</td>\n",
       "      <td>0.958441</td>\n",
       "      <td>0.963965</td>\n",
       "      <td>0.972171</td>\n",
       "      <td>0.873324</td>\n",
       "      <td>0.212766</td>\n",
       "      <td>0.413866</td>\n",
       "      <td>0.662469</td>\n",
       "    </tr>\n",
       "    <tr>\n",
       "      <th>6</th>\n",
       "      <td>Road_Interactions</td>\n",
       "      <td>0.957916</td>\n",
       "      <td>0.958901</td>\n",
       "      <td>0.964031</td>\n",
       "      <td>0.971647</td>\n",
       "      <td>0.876962</td>\n",
       "      <td>0.212766</td>\n",
       "      <td>0.450980</td>\n",
       "      <td>0.666838</td>\n",
       "    </tr>\n",
       "    <tr>\n",
       "      <th>7</th>\n",
       "      <td>Elev_Interactions</td>\n",
       "      <td>0.958208</td>\n",
       "      <td>0.959013</td>\n",
       "      <td>0.963371</td>\n",
       "      <td>0.972779</td>\n",
       "      <td>0.877330</td>\n",
       "      <td>0.212766</td>\n",
       "      <td>0.413866</td>\n",
       "      <td>0.665682</td>\n",
       "    </tr>\n",
       "    <tr>\n",
       "      <th>3</th>\n",
       "      <td>Water_Features</td>\n",
       "      <td>0.958188</td>\n",
       "      <td>0.959051</td>\n",
       "      <td>0.963562</td>\n",
       "      <td>0.972588</td>\n",
       "      <td>0.877739</td>\n",
       "      <td>0.234043</td>\n",
       "      <td>0.423669</td>\n",
       "      <td>0.663626</td>\n",
       "    </tr>\n",
       "    <tr>\n",
       "      <th>4</th>\n",
       "      <td>Count_Features</td>\n",
       "      <td>0.959562</td>\n",
       "      <td>0.960255</td>\n",
       "      <td>0.964189</td>\n",
       "      <td>0.971824</td>\n",
       "      <td>0.885505</td>\n",
       "      <td>0.170213</td>\n",
       "      <td>0.467787</td>\n",
       "      <td>0.732751</td>\n",
       "    </tr>\n",
       "  </tbody>\n",
       "</table>\n",
       "</div>"
      ],
      "text/plain": [
       "             features  cv_scores   holdout  recall_0  recall_1  recall_2  \\\n",
       "1     Aspect_Features   0.957408  0.958260  0.963458  0.971800  0.873815   \n",
       "0            Baseline   0.957460  0.958297  0.963491  0.971828  0.873365   \n",
       "2  Hillshade_Features   0.957438  0.958325  0.963731  0.971743  0.873201   \n",
       "5          Water_Fire   0.957836  0.958441  0.963965  0.972171  0.873324   \n",
       "6   Road_Interactions   0.957916  0.958901  0.964031  0.971647  0.876962   \n",
       "7   Elev_Interactions   0.958208  0.959013  0.963371  0.972779  0.877330   \n",
       "3      Water_Features   0.958188  0.959051  0.963562  0.972588  0.877739   \n",
       "4      Count_Features   0.959562  0.960255  0.964189  0.971824  0.885505   \n",
       "\n",
       "   recall_3  recall_4  recall_5  \n",
       "1  0.191489  0.418067  0.658229  \n",
       "0  0.191489  0.417367  0.661313  \n",
       "2  0.212766  0.401961  0.660542  \n",
       "5  0.212766  0.413866  0.662469  \n",
       "6  0.212766  0.450980  0.666838  \n",
       "7  0.212766  0.413866  0.665682  \n",
       "3  0.234043  0.423669  0.663626  \n",
       "4  0.170213  0.467787  0.732751  "
      ]
     },
     "execution_count": 21,
     "metadata": {},
     "output_type": "execute_result"
    }
   ],
   "source": [
    "pd.DataFrame.from_records(\n",
    "    data = new_rows,\n",
    "    columns = ['features','cv_scores','holdout','recall_0', 'recall_1','recall_2','recall_3','recall_4','recall_5']\n",
    ").sort_values('holdout')"
   ]
  }
 ],
 "metadata": {
  "kernelspec": {
   "display_name": "Python 3 (ipykernel)",
   "language": "python",
   "name": "python3"
  },
  "language_info": {
   "codemirror_mode": {
    "name": "ipython",
    "version": 3
   },
   "file_extension": ".py",
   "mimetype": "text/x-python",
   "name": "python",
   "nbconvert_exporter": "python",
   "pygments_lexer": "ipython3",
   "version": "3.8.10"
  }
 },
 "nbformat": 4,
 "nbformat_minor": 5
}
