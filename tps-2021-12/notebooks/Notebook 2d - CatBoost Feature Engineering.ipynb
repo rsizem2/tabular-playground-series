{
 "cells": [
  {
   "cell_type": "markdown",
   "id": "ab24cbd8",
   "metadata": {},
   "source": [
    "# TPS 12 - Feature Engineering"
   ]
  },
  {
   "cell_type": "code",
   "execution_count": 1,
   "id": "5fa24f51",
   "metadata": {},
   "outputs": [],
   "source": [
    "# Global variables for testing changes to this notebook quickly\n",
    "RANDOM_SEED = 0\n",
    "NUM_FOLDS = 6\n",
    "TRAIN_SIZE = 500000"
   ]
  },
  {
   "cell_type": "code",
   "execution_count": 2,
   "id": "b73ff5c6",
   "metadata": {},
   "outputs": [],
   "source": [
    "import numpy as np\n",
    "import pandas as pd\n",
    "import time\n",
    "import os\n",
    "import pyarrow\n",
    "import gc\n",
    "\n",
    "# Model/Evaluation\n",
    "from sklearn.base import clone\n",
    "from sklearn.pipeline import make_pipeline\n",
    "from sklearn.preprocessing import LabelEncoder\n",
    "from sklearn.model_selection import StratifiedKFold, train_test_split\n",
    "from sklearn.metrics import accuracy_score, recall_score\n",
    "from sklearn.inspection import permutation_importance\n",
    "from catboost import CatBoostClassifier\n",
    "\n",
    "# Hide warnings\n",
    "import warnings\n",
    "warnings.filterwarnings('ignore')"
   ]
  },
  {
   "cell_type": "markdown",
   "id": "554f63d0",
   "metadata": {},
   "source": [
    "# Load and Prepare Data"
   ]
  },
  {
   "cell_type": "code",
   "execution_count": 3,
   "id": "6423cbd8",
   "metadata": {},
   "outputs": [
    {
     "name": "stdout",
     "output_type": "stream",
     "text": [
      "Training Size: 500000 rows, 53 cols\n",
      "Holdout Size: 3499999 rows, 53 cols\n",
      "\n"
     ]
    }
   ],
   "source": [
    "# Load full training data\n",
    "train = pd.read_feather('../data/train.feather')\n",
    "\n",
    "# Drop low/no variance \n",
    "train.drop([\"Soil_Type7\", \"Id\", \"Soil_Type15\"], axis=1, inplace=True)\n",
    "train = train[train.Cover_Type != 5]\n",
    "\n",
    "# Label Encoding\n",
    "new_encoder = LabelEncoder()\n",
    "train[\"Cover_Type\"] = new_encoder.fit_transform(train[\"Cover_Type\"])\n",
    "\n",
    "# Split synthetic data\n",
    "train, test = train_test_split(\n",
    "    train, \n",
    "    train_size = TRAIN_SIZE, \n",
    "    random_state = RANDOM_SEED,\n",
    "    stratify = train['Cover_Type'],\n",
    ")\n",
    "y_train = train['Cover_Type']\n",
    "\n",
    "\n",
    "# features, data structure for summary scores\n",
    "features = [x for x in train.columns if x not in ['Id','Cover_Type']]\n",
    "nonsoil = [x for x in features if not x.startswith('Soil_Type')]\n",
    "new_rows = list()\n",
    "gc.collect()\n",
    "\n",
    "print(f'Training Size: {train.shape[0]} rows, {train.shape[1]} cols')\n",
    "print(f'Holdout Size: {test.shape[0]} rows, {test.shape[1]} cols\\n')"
   ]
  },
  {
   "cell_type": "markdown",
   "id": "1a0fef10",
   "metadata": {},
   "source": [
    "# Model "
   ]
  },
  {
   "cell_type": "code",
   "execution_count": 4,
   "id": "875ceb92",
   "metadata": {},
   "outputs": [],
   "source": [
    "# LightGBM Classifier\n",
    "catboost_pipeline = make_pipeline(\n",
    "    CatBoostClassifier(\n",
    "        eval_metric = 'MultiClass',\n",
    "        boosting_type = 'Plain',\n",
    "        verbose = False,\n",
    "        random_state = RANDOM_SEED,\n",
    "    ),\n",
    ")"
   ]
  },
  {
   "cell_type": "markdown",
   "id": "b85d8d90",
   "metadata": {},
   "source": [
    "# Scoring Function"
   ]
  },
  {
   "cell_type": "code",
   "execution_count": 5,
   "id": "e0f9733c",
   "metadata": {},
   "outputs": [],
   "source": [
    "def score_features(sklearn_model, processing = None):\n",
    "    \n",
    "    # Original Training/Test Split\n",
    "    features = [x for x in train.columns if x not in ['Id','Cover_Type']]\n",
    "    X_temp, X_test = train[features], test[features]\n",
    "    y_temp, y_test = train['Cover_Type'], test['Cover_Type']\n",
    "    \n",
    "    # Feature Engineering\n",
    "    if processing:\n",
    "        X_temp = processing(X_temp)\n",
    "        X_test = processing(X_test)\n",
    "    \n",
    "    # Store the out-of-fold predictions\n",
    "    test_preds = np.zeros((X_test.shape[0],6))\n",
    "    oof_preds = np.zeros((X_temp.shape[0],))\n",
    "    fi_scores = np.zeros((X_temp.shape[1],))\n",
    "    scores, times = np.zeros(NUM_FOLDS), np.zeros(NUM_FOLDS)\n",
    "    \n",
    "    # Stratified k-fold cross-validation\n",
    "    skf = StratifiedKFold(n_splits = NUM_FOLDS, shuffle = True, random_state = RANDOM_SEED)\n",
    "    for fold, (train_idx, valid_idx) in enumerate(skf.split(train[features],train['Cover_Type'])):\n",
    "       \n",
    "        # Training and Validation Sets\n",
    "        X_train, X_valid = X_temp.iloc[train_idx], X_temp.iloc[valid_idx]\n",
    "        y_train, y_valid = y_temp.iloc[train_idx], y_temp.iloc[valid_idx]\n",
    "        \n",
    "        # Create model\n",
    "        start = time.time()\n",
    "        model = clone(sklearn_model)\n",
    "        model.fit(X_train, y_train)\n",
    "\n",
    "        # Permutation Importance\n",
    "        result = permutation_importance(\n",
    "            model, X_valid, y_valid, \n",
    "            random_state=RANDOM_SEED\n",
    "        )\n",
    "        fi_scores += result.importances_mean / NUM_FOLDS\n",
    "\n",
    "        # validation/holdout predictions\n",
    "        valid_preds = np.ravel(model.predict(X_valid))\n",
    "        oof_preds[valid_idx] = valid_preds\n",
    "        test_preds += model.predict_proba(X_test)\n",
    "\n",
    "        # Save scores and times\n",
    "        scores[fold] = accuracy_score(y_valid, valid_preds)\n",
    "        end = time.time()\n",
    "        times[fold] = end-start\n",
    "        print(f'Fold {fold} Accuracy:  {round(scores[fold], 5)} in {round(end-start,2)}s.')\n",
    "        time.sleep(0.5)\n",
    "    \n",
    "    features = [x for x in X_temp.columns]\n",
    "    nonsoil = [x for x in X_test.columns if not x.startswith('Soil_Type')]\n",
    "    test_preds = np.argmax(test_preds, axis = 1)\n",
    "    test_score = accuracy_score(y_test, test_preds)\n",
    "    #print('\\n'+model.__class__.__name__)\n",
    "    print(\"Train Accuracy:\", round(scores.mean(), 5))\n",
    "    print('Test Accuracy:', round(test_score, 5))\n",
    "    print(f'Training Time: {round(times.sum(), 2)}s')\n",
    "    \n",
    "    fi_scores = pd.Series(\n",
    "        data = fi_scores, \n",
    "        index = features\n",
    "    ).loc[nonsoil].sort_values()\n",
    "    \n",
    "    return scores.mean(), oof_preds, test_score, fi_scores"
   ]
  },
  {
   "cell_type": "markdown",
   "id": "7e0ad3b7",
   "metadata": {},
   "source": [
    "# Baseline"
   ]
  },
  {
   "cell_type": "code",
   "execution_count": 6,
   "id": "2cac9c9d",
   "metadata": {},
   "outputs": [
    {
     "name": "stdout",
     "output_type": "stream",
     "text": [
      "Fold 0 Accuracy:  0.95864 in 196.05s.\n",
      "Fold 1 Accuracy:  0.95769 in 199.69s.\n",
      "Fold 2 Accuracy:  0.95661 in 189.12s.\n",
      "Fold 3 Accuracy:  0.95824 in 186.47s.\n",
      "Fold 4 Accuracy:  0.95796 in 190.46s.\n",
      "Fold 5 Accuracy:  0.95712 in 194.44s.\n",
      "Train Accuracy: 0.95771\n",
      "Test Accuracy: 0.95828\n",
      "Training Time: 1156.23s\n"
     ]
    },
    {
     "data": {
      "text/plain": [
       "Hillshade_9am                        -0.000034\n",
       "Slope                                -0.000034\n",
       "Hillshade_3pm                         0.000035\n",
       "Wilderness_Area2                      0.000040\n",
       "Aspect                                0.000054\n",
       "Hillshade_Noon                        0.000333\n",
       "Wilderness_Area4                      0.002174\n",
       "Wilderness_Area1                      0.005410\n",
       "Horizontal_Distance_To_Hydrology      0.010608\n",
       "Vertical_Distance_To_Hydrology        0.018212\n",
       "Wilderness_Area3                      0.023643\n",
       "Horizontal_Distance_To_Fire_Points    0.031228\n",
       "Horizontal_Distance_To_Roadways       0.047768\n",
       "Elevation                             0.461603\n",
       "dtype: float64"
      ]
     },
     "execution_count": 6,
     "metadata": {},
     "output_type": "execute_result"
    }
   ],
   "source": [
    "cv_score, oof_preds, test_score, fi_scores = score_features(\n",
    "    catboost_pipeline\n",
    ")\n",
    "\n",
    "new_rows.append((\n",
    "    'Baseline', cv_score, test_score,\n",
    "     *recall_score(y_train, oof_preds, average = None)\n",
    "))\n",
    "\n",
    "fi_scores"
   ]
  },
  {
   "cell_type": "markdown",
   "id": "bb21986c",
   "metadata": {},
   "source": [
    "# Feature Engineering\n",
    "\n",
    "\n",
    "1. Aspect Features\n",
    "2. Hillshade Features\n",
    "3. Water Features\n",
    "4. Count Features\n",
    "5. Water/Fire Interactions\n",
    "6. Roadway Interactions\n",
    "7. Elevation Interactions"
   ]
  },
  {
   "cell_type": "markdown",
   "id": "68cbbc9a",
   "metadata": {},
   "source": [
    "## 1. Aspect Features"
   ]
  },
  {
   "cell_type": "code",
   "execution_count": 7,
   "id": "09e4c656",
   "metadata": {},
   "outputs": [],
   "source": [
    "def aspect_features(data):\n",
    "    df = data.copy()\n",
    "    df['Aspect_360'] = df['Aspect'] % 360\n",
    "    df['Aspect_Sine'] = (df['Aspect']* np.pi / 180).apply(np.sin)\n",
    "    df['Aspect_Alt'] = (df['Aspect']-180).where(\n",
    "        df['Aspect']+180 > 360, df['Aspect'] + 180\n",
    "    )\n",
    "    return df"
   ]
  },
  {
   "cell_type": "code",
   "execution_count": 8,
   "id": "6f666ab7",
   "metadata": {},
   "outputs": [
    {
     "name": "stdout",
     "output_type": "stream",
     "text": [
      "Fold 0 Accuracy:  0.95854 in 156.2s.\n",
      "Fold 1 Accuracy:  0.9575 in 158.25s.\n",
      "Fold 2 Accuracy:  0.95693 in 153.93s.\n",
      "Fold 3 Accuracy:  0.95817 in 155.72s.\n",
      "Fold 4 Accuracy:  0.95792 in 155.62s.\n",
      "Fold 5 Accuracy:  0.95716 in 155.3s.\n",
      "Train Accuracy: 0.9577\n",
      "Test Accuracy: 0.95817\n",
      "Training Time: 935.02s\n"
     ]
    },
    {
     "data": {
      "text/plain": [
       "Aspect_Alt                           -0.000036\n",
       "Aspect_Sine                          -0.000020\n",
       "Slope                                -0.000012\n",
       "Hillshade_3pm                         0.000006\n",
       "Aspect_360                            0.000041\n",
       "Hillshade_9am                         0.000060\n",
       "Wilderness_Area2                      0.000066\n",
       "Aspect                                0.000070\n",
       "Hillshade_Noon                        0.000371\n",
       "Wilderness_Area4                      0.001853\n",
       "Wilderness_Area1                      0.005905\n",
       "Horizontal_Distance_To_Hydrology      0.010753\n",
       "Vertical_Distance_To_Hydrology        0.018298\n",
       "Wilderness_Area3                      0.023145\n",
       "Horizontal_Distance_To_Fire_Points    0.031260\n",
       "Horizontal_Distance_To_Roadways       0.047864\n",
       "Elevation                             0.461542\n",
       "dtype: float64"
      ]
     },
     "execution_count": 8,
     "metadata": {},
     "output_type": "execute_result"
    }
   ],
   "source": [
    "cv_score, oof_preds, test_score, fi_scores = score_features(\n",
    "    catboost_pipeline, \n",
    "    aspect_features\n",
    ")\n",
    "\n",
    "new_rows.append((\n",
    "    'Aspect_Features', cv_score, test_score,\n",
    "     *recall_score(y_train, oof_preds, average = None)\n",
    "))\n",
    "\n",
    "fi_scores"
   ]
  },
  {
   "cell_type": "markdown",
   "id": "eaf6eb04",
   "metadata": {},
   "source": [
    "## 2. Hillshade Features"
   ]
  },
  {
   "cell_type": "code",
   "execution_count": 9,
   "id": "ea2edc85",
   "metadata": {},
   "outputs": [],
   "source": [
    "def hillshade_features(data):\n",
    "    df = data.copy()\n",
    "    shade_features = ['Hillshade_9am', 'Hillshade_Noon', 'Hillshade_3pm']\n",
    "\n",
    "    # Clip Range\n",
    "    df[\"Hillshade_9am_Clipped\"] = df[\"Hillshade_9am\"].clip(lower=0, upper=255)\n",
    "    df[\"Hillshade_Noon_Clipped\"] = df[\"Hillshade_9am\"].clip(lower=0, upper=255)\n",
    "    df[\"Hillshade_3pm_Clipped\"] = df[\"Hillshade_9am\"].clip(lower=0, upper=255)\n",
    "    \n",
    "    # Hillshade\n",
    "    #df[\"Hillshade_Avg\"] = df[shade_features].mean(axis=1)\n",
    "    df[\"Hillshade_Sum\"] = df[shade_features].sum(axis=1)\n",
    "    df['Hillshade_Range'] = df[shade_features].max(axis=1) - df[shade_features].min(axis=1)\n",
    "    \n",
    "    return df"
   ]
  },
  {
   "cell_type": "code",
   "execution_count": 10,
   "id": "9647fabd",
   "metadata": {},
   "outputs": [
    {
     "name": "stdout",
     "output_type": "stream",
     "text": [
      "Fold 0 Accuracy:  0.95848 in 159.81s.\n",
      "Fold 1 Accuracy:  0.95774 in 160.81s.\n",
      "Fold 2 Accuracy:  0.95682 in 159.45s.\n",
      "Fold 3 Accuracy:  0.95822 in 160.05s.\n",
      "Fold 4 Accuracy:  0.95792 in 159.74s.\n",
      "Fold 5 Accuracy:  0.95715 in 159.21s.\n",
      "Train Accuracy: 0.95772\n",
      "Test Accuracy: 0.95822\n",
      "Training Time: 959.06s\n"
     ]
    },
    {
     "data": {
      "text/plain": [
       "Hillshade_3pm                        -1.719997e-05\n",
       "Hillshade_Range                      -1.359999e-05\n",
       "Slope                                -1.280011e-05\n",
       "Hillshade_Sum                        -9.599774e-06\n",
       "Hillshade_9am_Clipped                -8.001088e-07\n",
       "Hillshade_Noon_Clipped               -8.000032e-07\n",
       "Hillshade_3pm_Clipped                 3.600024e-06\n",
       "Hillshade_9am                         3.680027e-05\n",
       "Wilderness_Area2                      4.319965e-05\n",
       "Aspect                                6.679954e-05\n",
       "Hillshade_Noon                        3.860001e-04\n",
       "Wilderness_Area4                      2.549201e-03\n",
       "Wilderness_Area1                      5.769201e-03\n",
       "Horizontal_Distance_To_Hydrology      1.061160e-02\n",
       "Vertical_Distance_To_Hydrology        1.829160e-02\n",
       "Wilderness_Area3                      2.347880e-02\n",
       "Horizontal_Distance_To_Fire_Points    3.116560e-02\n",
       "Horizontal_Distance_To_Roadways       4.777960e-02\n",
       "Elevation                             4.614904e-01\n",
       "dtype: float64"
      ]
     },
     "execution_count": 10,
     "metadata": {},
     "output_type": "execute_result"
    }
   ],
   "source": [
    "cv_score, oof_preds, test_score, fi_scores = score_features(\n",
    "    catboost_pipeline, \n",
    "    hillshade_features\n",
    ")\n",
    "\n",
    "new_rows.append((\n",
    "    'Hillshade_Features', cv_score, test_score,\n",
    "     *recall_score(y_train, oof_preds, average = None)\n",
    "))\n",
    "\n",
    "fi_scores"
   ]
  },
  {
   "cell_type": "markdown",
   "id": "8177eac4",
   "metadata": {},
   "source": [
    "## 3. Water Features"
   ]
  },
  {
   "cell_type": "code",
   "execution_count": 11,
   "id": "92d7ad91",
   "metadata": {},
   "outputs": [],
   "source": [
    "# Helper function\n",
    "def start_at_eps(series, eps=1e-10): \n",
    "    return series - series.min() + eps\n",
    "\n",
    "def water_features(data):\n",
    "    df = data.copy()\n",
    "    \n",
    "    # use float64 for squaring\n",
    "    df[\"Horizontal_Distance_To_Hydrology\"] = df[\"Horizontal_Distance_To_Hydrology\"].astype('float64')\n",
    "    df[\"Vertical_Distance_To_Hydrology\"] = df[\"Vertical_Distance_To_Hydrology\"].astype('float64')\n",
    "    pos_h_hydrology = start_at_eps(df[\"Horizontal_Distance_To_Hydrology\"])\n",
    "    pos_v_hydrology = start_at_eps(df['Vertical_Distance_To_Hydrology'])\n",
    "    \n",
    "    # Manhatten Distances\n",
    "    df[\"Hydro_Taxicab\"] = np.abs(df[\"Horizontal_Distance_To_Hydrology\"]) + np.abs(df[\"Vertical_Distance_To_Hydrology\"])\n",
    "    df['Hydro_Taxicab_Pos'] = (pos_h_hydrology ** 2 + pos_v_hydrology ** 2).apply(np.sqrt).rename('Euclidean_positive_hydrology').astype(np.float32)\n",
    "    \n",
    "    # Euclidean Distance\n",
    "    df[\"Hydro_Euclid\"] = (df[\"Horizontal_Distance_To_Hydrology\"]**2 + np.abs(df[\"Vertical_Distance_To_Hydrology\"])**2)**0.5\n",
    "    df['Hydro_Euclid_Pos'] = (pos_h_hydrology ** 2 + pos_v_hydrology ** 2).apply(np.sqrt)\n",
    "    \n",
    "    # Misc Features\n",
    "    df['Water_Direction'] = df['Vertical_Distance_To_Hydrology'].apply(np.sign)\n",
    "    df['Water Elevation'] = df['Elevation'] - df['Vertical_Distance_To_Hydrology']\n",
    "    \n",
    "    # Store each as float32\n",
    "    df[\"Horizontal_Distance_To_Hydrology\"] = df[\"Horizontal_Distance_To_Hydrology\"].astype('float32')\n",
    "    df[\"Vertical_Distance_To_Hydrology\"] = df[\"Vertical_Distance_To_Hydrology\"].astype('float32')\n",
    "    df[\"Hydro_Taxicab\"] = df[\"Hydro_Taxicab\"].astype('float32')\n",
    "    df['Hydro_Taxicab_Pos'] = df['Hydro_Taxicab_Pos'].astype('float32')\n",
    "    df[\"Hydro_Euclid\"] = df[\"Hydro_Euclid\"].astype('float32')\n",
    "    df['Hydro_Euclid_Pos'] = df['Hydro_Euclid_Pos'].astype('float32')\n",
    "    df['Water_Direction'] = df['Water_Direction'].astype('float32')\n",
    "    df['Water Elevation'] = df['Water Elevation'].astype('float32')\n",
    "    \n",
    "    return df"
   ]
  },
  {
   "cell_type": "code",
   "execution_count": 12,
   "id": "6446d640",
   "metadata": {},
   "outputs": [
    {
     "name": "stdout",
     "output_type": "stream",
     "text": [
      "Fold 0 Accuracy:  0.95907 in 162.79s.\n",
      "Fold 1 Accuracy:  0.95812 in 162.18s.\n",
      "Fold 2 Accuracy:  0.95806 in 162.31s.\n",
      "Fold 3 Accuracy:  0.95912 in 161.71s.\n",
      "Fold 4 Accuracy:  0.95901 in 162.15s.\n",
      "Fold 5 Accuracy:  0.95856 in 161.68s.\n",
      "Train Accuracy: 0.95866\n",
      "Test Accuracy: 0.95907\n",
      "Training Time: 972.83s\n"
     ]
    },
    {
     "data": {
      "text/plain": [
       "Hillshade_3pm                        -0.000044\n",
       "Slope                                -0.000012\n",
       "Water_Direction                       0.000003\n",
       "Hillshade_9am                         0.000041\n",
       "Aspect                                0.000056\n",
       "Wilderness_Area2                      0.000060\n",
       "Vertical_Distance_To_Hydrology        0.000192\n",
       "Hydro_Euclid_Pos                      0.000236\n",
       "Hydro_Taxicab_Pos                     0.000278\n",
       "Hillshade_Noon                        0.000406\n",
       "Hydro_Taxicab                         0.000612\n",
       "Hydro_Euclid                          0.001254\n",
       "Horizontal_Distance_To_Hydrology      0.001412\n",
       "Wilderness_Area4                      0.002373\n",
       "Wilderness_Area1                      0.005886\n",
       "Wilderness_Area3                      0.023550\n",
       "Horizontal_Distance_To_Fire_Points    0.031695\n",
       "Horizontal_Distance_To_Roadways       0.047802\n",
       "Water Elevation                       0.156168\n",
       "Elevation                             0.311370\n",
       "dtype: float64"
      ]
     },
     "execution_count": 12,
     "metadata": {},
     "output_type": "execute_result"
    }
   ],
   "source": [
    "cv_score, oof_preds, test_score, fi_scores = score_features(\n",
    "    catboost_pipeline, \n",
    "    water_features\n",
    ")\n",
    "\n",
    "new_rows.append((\n",
    "    'Water_Features', cv_score, test_score,\n",
    "     *recall_score(y_train, oof_preds, average = None)\n",
    "))\n",
    "\n",
    "fi_scores"
   ]
  },
  {
   "cell_type": "markdown",
   "id": "73db1496",
   "metadata": {},
   "source": [
    "## 4. Count Features"
   ]
  },
  {
   "cell_type": "code",
   "execution_count": 13,
   "id": "20551191",
   "metadata": {},
   "outputs": [],
   "source": [
    "def count_features(data):\n",
    "    \n",
    "    df = data.copy()\n",
    "    soil_features = [x for x in df.columns if x.startswith(\"Soil_Type\")]\n",
    "    wilderness_features = [x for x in df.columns if x.startswith(\"Wilderness_Area\")]\n",
    "\n",
    "    # Count features\n",
    "    df[\"Soil_Count\"] = df[soil_features].apply(sum, axis=1)\n",
    "    df[\"Wilderness_Count\"] = df[wilderness_features].apply(sum, axis=1)\n",
    "    \n",
    "    return df"
   ]
  },
  {
   "cell_type": "code",
   "execution_count": 14,
   "id": "96e9f231",
   "metadata": {},
   "outputs": [
    {
     "name": "stdout",
     "output_type": "stream",
     "text": [
      "Fold 0 Accuracy:  0.96 in 198.24s.\n",
      "Fold 1 Accuracy:  0.95915 in 203.84s.\n",
      "Fold 2 Accuracy:  0.9589 in 202.96s.\n",
      "Fold 3 Accuracy:  0.95949 in 198.45s.\n",
      "Fold 4 Accuracy:  0.95968 in 196.06s.\n",
      "Fold 5 Accuracy:  0.95837 in 197.31s.\n",
      "Train Accuracy: 0.95927\n",
      "Test Accuracy: 0.95967\n",
      "Training Time: 1196.86s\n"
     ]
    },
    {
     "data": {
      "text/plain": [
       "Hillshade_9am                        -0.000066\n",
       "Slope                                -0.000056\n",
       "Wilderness_Count                      0.000020\n",
       "Hillshade_3pm                         0.000040\n",
       "Aspect                                0.000097\n",
       "Wilderness_Area2                      0.000101\n",
       "Hillshade_Noon                        0.000415\n",
       "Wilderness_Area4                      0.001306\n",
       "Wilderness_Area1                      0.004042\n",
       "Horizontal_Distance_To_Hydrology      0.010873\n",
       "Vertical_Distance_To_Hydrology        0.018375\n",
       "Wilderness_Area3                      0.024911\n",
       "Horizontal_Distance_To_Fire_Points    0.032024\n",
       "Soil_Count                            0.035319\n",
       "Horizontal_Distance_To_Roadways       0.048739\n",
       "Elevation                             0.462869\n",
       "dtype: float64"
      ]
     },
     "execution_count": 14,
     "metadata": {},
     "output_type": "execute_result"
    }
   ],
   "source": [
    "cv_score, oof_preds, test_score, fi_scores = score_features(\n",
    "    catboost_pipeline, \n",
    "    count_features\n",
    ")\n",
    "\n",
    "new_rows.append((\n",
    "    'Count_Features', cv_score, test_score,\n",
    "     *recall_score(y_train, oof_preds, average = None)\n",
    "))\n",
    "\n",
    "fi_scores"
   ]
  },
  {
   "cell_type": "markdown",
   "id": "db2f6ac8",
   "metadata": {},
   "source": [
    "## 5. Water/Fire Interactions"
   ]
  },
  {
   "cell_type": "code",
   "execution_count": 15,
   "id": "803f672f",
   "metadata": {},
   "outputs": [],
   "source": [
    "def hydrofire_interactions(data):\n",
    "    \n",
    "    df = data.copy()\n",
    "    df['Hydro_Fire_Sum'] = df['Horizontal_Distance_To_Hydrology'] + df['Horizontal_Distance_To_Fire_Points']\n",
    "    df['Hydro_Fire_AbsDiff'] = abs(df['Horizontal_Distance_To_Hydrology'] - df['Horizontal_Distance_To_Fire_Points'])\n",
    "    df['Hydro_Fire_EpsSum'] = start_at_eps(df['Horizontal_Distance_To_Hydrology']) + start_at_eps(df['Horizontal_Distance_To_Fire_Points'])\n",
    "    df['Hydro_Fire_Diff'] = df['Horizontal_Distance_To_Hydrology'] - df['Horizontal_Distance_To_Fire_Points']\n",
    "    return df"
   ]
  },
  {
   "cell_type": "code",
   "execution_count": 16,
   "id": "3cd2555d",
   "metadata": {},
   "outputs": [
    {
     "name": "stdout",
     "output_type": "stream",
     "text": [
      "Fold 0 Accuracy:  0.95889 in 159.13s.\n",
      "Fold 1 Accuracy:  0.95759 in 159.31s.\n",
      "Fold 2 Accuracy:  0.95733 in 158.76s.\n",
      "Fold 3 Accuracy:  0.95813 in 159.05s.\n",
      "Fold 4 Accuracy:  0.95889 in 158.75s.\n",
      "Fold 5 Accuracy:  0.95772 in 159.71s.\n",
      "Train Accuracy: 0.95809\n",
      "Test Accuracy: 0.95839\n",
      "Training Time: 954.71s\n"
     ]
    },
    {
     "data": {
      "text/plain": [
       "Hillshade_3pm                        -0.000002\n",
       "Hillshade_9am                         0.000010\n",
       "Slope                                 0.000032\n",
       "Wilderness_Area2                      0.000073\n",
       "Aspect                                0.000114\n",
       "Hillshade_Noon                        0.000494\n",
       "Hydro_Fire_EpsSum                     0.001792\n",
       "Wilderness_Area4                      0.001819\n",
       "Hydro_Fire_Diff                       0.002858\n",
       "Hydro_Fire_AbsDiff                    0.003080\n",
       "Hydro_Fire_Sum                        0.003208\n",
       "Horizontal_Distance_To_Fire_Points    0.004446\n",
       "Wilderness_Area1                      0.006311\n",
       "Horizontal_Distance_To_Hydrology      0.008095\n",
       "Vertical_Distance_To_Hydrology        0.018412\n",
       "Wilderness_Area3                      0.023100\n",
       "Horizontal_Distance_To_Roadways       0.048192\n",
       "Elevation                             0.461953\n",
       "dtype: float64"
      ]
     },
     "execution_count": 16,
     "metadata": {},
     "output_type": "execute_result"
    }
   ],
   "source": [
    "cv_score, oof_preds, test_score, fi_scores = score_features(\n",
    "    catboost_pipeline, \n",
    "    hydrofire_interactions\n",
    ")\n",
    "\n",
    "new_rows.append((\n",
    "    'Water_Fire', cv_score, test_score,\n",
    "     *recall_score(y_train, oof_preds, average = None)\n",
    "))\n",
    "\n",
    "fi_scores"
   ]
  },
  {
   "cell_type": "markdown",
   "id": "ae35e6be",
   "metadata": {},
   "source": [
    "## 6. Roadway Interactions"
   ]
  },
  {
   "cell_type": "code",
   "execution_count": 17,
   "id": "5a08d0b9",
   "metadata": {},
   "outputs": [],
   "source": [
    "def roadway_interactions(data):\n",
    "    df = data.copy()\n",
    "    df['Hydro_Road_1'] = abs(df['Horizontal_Distance_To_Hydrology'] + df['Horizontal_Distance_To_Roadways'])\n",
    "    df['Hydro_Road_2'] = abs(df['Horizontal_Distance_To_Hydrology'] - df['Horizontal_Distance_To_Roadways'])\n",
    "    df['Fire_Road_1'] = abs(df['Horizontal_Distance_To_Fire_Points'] + df['Horizontal_Distance_To_Roadways'])\n",
    "    df['Fire_Road_2'] = abs(df['Horizontal_Distance_To_Fire_Points'] - df['Horizontal_Distance_To_Roadways'])\n",
    "    return df"
   ]
  },
  {
   "cell_type": "code",
   "execution_count": 18,
   "id": "c6a3b0c1",
   "metadata": {},
   "outputs": [
    {
     "name": "stdout",
     "output_type": "stream",
     "text": [
      "Fold 0 Accuracy:  0.95886 in 158.7s.\n",
      "Fold 1 Accuracy:  0.95751 in 159.05s.\n",
      "Fold 2 Accuracy:  0.95766 in 159.29s.\n",
      "Fold 3 Accuracy:  0.9589 in 158.98s.\n",
      "Fold 4 Accuracy:  0.95831 in 156.67s.\n",
      "Fold 5 Accuracy:  0.95775 in 157.76s.\n",
      "Train Accuracy: 0.95817\n",
      "Test Accuracy: 0.95856\n",
      "Training Time: 950.45s\n"
     ]
    },
    {
     "data": {
      "text/plain": [
       "Hillshade_3pm                        -0.000021\n",
       "Slope                                 0.000018\n",
       "Aspect                                0.000043\n",
       "Hillshade_9am                         0.000044\n",
       "Wilderness_Area2                      0.000082\n",
       "Hillshade_Noon                        0.000470\n",
       "Hydro_Road_1                          0.000854\n",
       "Wilderness_Area4                      0.001574\n",
       "Hydro_Road_2                          0.003722\n",
       "Fire_Road_2                           0.004368\n",
       "Wilderness_Area1                      0.005622\n",
       "Fire_Road_1                           0.006018\n",
       "Horizontal_Distance_To_Hydrology      0.009057\n",
       "Horizontal_Distance_To_Fire_Points    0.017488\n",
       "Vertical_Distance_To_Hydrology        0.018236\n",
       "Wilderness_Area3                      0.023644\n",
       "Horizontal_Distance_To_Roadways       0.025204\n",
       "Elevation                             0.461998\n",
       "dtype: float64"
      ]
     },
     "execution_count": 18,
     "metadata": {},
     "output_type": "execute_result"
    }
   ],
   "source": [
    "cv_score, oof_preds, test_score, fi_scores = score_features(\n",
    "    catboost_pipeline, \n",
    "    roadway_interactions\n",
    ")\n",
    "\n",
    "new_rows.append((\n",
    "    'Road_Interactions', cv_score, test_score,\n",
    "     *recall_score(y_train, oof_preds, average = None)\n",
    "))\n",
    "\n",
    "fi_scores"
   ]
  },
  {
   "cell_type": "markdown",
   "id": "2a0edbb0",
   "metadata": {},
   "source": [
    "## 7. Elevation Interactions"
   ]
  },
  {
   "cell_type": "code",
   "execution_count": 19,
   "id": "80b5ffbd",
   "metadata": {},
   "outputs": [],
   "source": [
    "def elevation_interactions(data):\n",
    "    df = data.copy()\n",
    "    df['Road_Elev_Int'] = df['Horizontal_Distance_To_Roadways'] * df['Elevation']\n",
    "    df['VHydro_Elev_Int'] = df['Vertical_Distance_To_Hydrology'] * df['Elevation']\n",
    "    df['Elev_VHydro_Diff'] = df.Elevation - df.Vertical_Distance_To_Hydrology\n",
    "    df['Elev_HHydro_Diff'] = df.Elevation - df.Horizontal_Distance_To_Hydrology * 0.2\n",
    "    \n",
    "    return df"
   ]
  },
  {
   "cell_type": "code",
   "execution_count": 20,
   "id": "24a0f84b",
   "metadata": {},
   "outputs": [
    {
     "name": "stdout",
     "output_type": "stream",
     "text": [
      "Fold 0 Accuracy:  0.95915 in 157.93s.\n",
      "Fold 1 Accuracy:  0.95844 in 158.75s.\n",
      "Fold 2 Accuracy:  0.9575 in 158.37s.\n",
      "Fold 3 Accuracy:  0.95928 in 158.16s.\n",
      "Fold 4 Accuracy:  0.95895 in 157.56s.\n",
      "Fold 5 Accuracy:  0.95836 in 156.67s.\n",
      "Train Accuracy: 0.95861\n",
      "Test Accuracy: 0.95902\n",
      "Training Time: 947.44s\n"
     ]
    },
    {
     "data": {
      "text/plain": [
       "VHydro_Elev_Int                      -0.000035\n",
       "Hillshade_3pm                        -0.000005\n",
       "Road_Elev_Int                         0.000002\n",
       "Slope                                 0.000012\n",
       "Hillshade_9am                         0.000044\n",
       "Wilderness_Area2                      0.000044\n",
       "Aspect                                0.000059\n",
       "Hillshade_Noon                        0.000402\n",
       "Vertical_Distance_To_Hydrology        0.000447\n",
       "Wilderness_Area4                      0.001786\n",
       "Horizontal_Distance_To_Hydrology      0.004806\n",
       "Wilderness_Area1                      0.005832\n",
       "Wilderness_Area3                      0.023216\n",
       "Horizontal_Distance_To_Fire_Points    0.031686\n",
       "Elev_HHydro_Diff                      0.045442\n",
       "Horizontal_Distance_To_Roadways       0.047697\n",
       "Elevation                             0.143600\n",
       "Elev_VHydro_Diff                      0.162484\n",
       "dtype: float64"
      ]
     },
     "execution_count": 20,
     "metadata": {},
     "output_type": "execute_result"
    }
   ],
   "source": [
    "cv_score, oof_preds, test_score, fi_scores = score_features(\n",
    "    catboost_pipeline, \n",
    "    elevation_interactions\n",
    ")\n",
    "\n",
    "new_rows.append((\n",
    "    'Elev_Interactions', cv_score, test_score,\n",
    "     *recall_score(y_train, oof_preds, average = None)\n",
    "))\n",
    "\n",
    "fi_scores"
   ]
  },
  {
   "cell_type": "markdown",
   "id": "a4868dec",
   "metadata": {},
   "source": [
    "# Summary"
   ]
  },
  {
   "cell_type": "code",
   "execution_count": 21,
   "id": "9ca412c1",
   "metadata": {},
   "outputs": [
    {
     "data": {
      "text/html": [
       "<div>\n",
       "<style scoped>\n",
       "    .dataframe tbody tr th:only-of-type {\n",
       "        vertical-align: middle;\n",
       "    }\n",
       "\n",
       "    .dataframe tbody tr th {\n",
       "        vertical-align: top;\n",
       "    }\n",
       "\n",
       "    .dataframe thead th {\n",
       "        text-align: right;\n",
       "    }\n",
       "</style>\n",
       "<table border=\"1\" class=\"dataframe\">\n",
       "  <thead>\n",
       "    <tr style=\"text-align: right;\">\n",
       "      <th></th>\n",
       "      <th>features</th>\n",
       "      <th>cv_scores</th>\n",
       "      <th>holdout</th>\n",
       "      <th>recall_0</th>\n",
       "      <th>recall_1</th>\n",
       "      <th>recall_2</th>\n",
       "      <th>recall_3</th>\n",
       "      <th>recall_4</th>\n",
       "      <th>recall_5</th>\n",
       "    </tr>\n",
       "  </thead>\n",
       "  <tbody>\n",
       "    <tr>\n",
       "      <th>1</th>\n",
       "      <td>Aspect_Features</td>\n",
       "      <td>0.957702</td>\n",
       "      <td>0.958166</td>\n",
       "      <td>0.964020</td>\n",
       "      <td>0.972249</td>\n",
       "      <td>0.875818</td>\n",
       "      <td>0.148936</td>\n",
       "      <td>0.417367</td>\n",
       "      <td>0.641655</td>\n",
       "    </tr>\n",
       "    <tr>\n",
       "      <th>2</th>\n",
       "      <td>Hillshade_Features</td>\n",
       "      <td>0.957720</td>\n",
       "      <td>0.958221</td>\n",
       "      <td>0.964298</td>\n",
       "      <td>0.972036</td>\n",
       "      <td>0.876553</td>\n",
       "      <td>0.127660</td>\n",
       "      <td>0.412465</td>\n",
       "      <td>0.642683</td>\n",
       "    </tr>\n",
       "    <tr>\n",
       "      <th>0</th>\n",
       "      <td>Baseline</td>\n",
       "      <td>0.957710</td>\n",
       "      <td>0.958279</td>\n",
       "      <td>0.964134</td>\n",
       "      <td>0.971895</td>\n",
       "      <td>0.877453</td>\n",
       "      <td>0.148936</td>\n",
       "      <td>0.420168</td>\n",
       "      <td>0.646666</td>\n",
       "    </tr>\n",
       "    <tr>\n",
       "      <th>5</th>\n",
       "      <td>Water_Fire</td>\n",
       "      <td>0.958092</td>\n",
       "      <td>0.958389</td>\n",
       "      <td>0.964516</td>\n",
       "      <td>0.972532</td>\n",
       "      <td>0.874346</td>\n",
       "      <td>0.127660</td>\n",
       "      <td>0.431373</td>\n",
       "      <td>0.646923</td>\n",
       "    </tr>\n",
       "    <tr>\n",
       "      <th>6</th>\n",
       "      <td>Road_Interactions</td>\n",
       "      <td>0.958166</td>\n",
       "      <td>0.958563</td>\n",
       "      <td>0.964674</td>\n",
       "      <td>0.972482</td>\n",
       "      <td>0.875327</td>\n",
       "      <td>0.127660</td>\n",
       "      <td>0.442577</td>\n",
       "      <td>0.644610</td>\n",
       "    </tr>\n",
       "    <tr>\n",
       "      <th>7</th>\n",
       "      <td>Elev_Interactions</td>\n",
       "      <td>0.958614</td>\n",
       "      <td>0.959017</td>\n",
       "      <td>0.964674</td>\n",
       "      <td>0.973207</td>\n",
       "      <td>0.876431</td>\n",
       "      <td>0.148936</td>\n",
       "      <td>0.431373</td>\n",
       "      <td>0.645509</td>\n",
       "    </tr>\n",
       "    <tr>\n",
       "      <th>3</th>\n",
       "      <td>Water_Features</td>\n",
       "      <td>0.958656</td>\n",
       "      <td>0.959074</td>\n",
       "      <td>0.965066</td>\n",
       "      <td>0.972935</td>\n",
       "      <td>0.876880</td>\n",
       "      <td>0.212766</td>\n",
       "      <td>0.436975</td>\n",
       "      <td>0.646023</td>\n",
       "    </tr>\n",
       "    <tr>\n",
       "      <th>4</th>\n",
       "      <td>Count_Features</td>\n",
       "      <td>0.959266</td>\n",
       "      <td>0.959671</td>\n",
       "      <td>0.964150</td>\n",
       "      <td>0.971891</td>\n",
       "      <td>0.884156</td>\n",
       "      <td>0.191489</td>\n",
       "      <td>0.466387</td>\n",
       "      <td>0.716562</td>\n",
       "    </tr>\n",
       "  </tbody>\n",
       "</table>\n",
       "</div>"
      ],
      "text/plain": [
       "             features  cv_scores   holdout  recall_0  recall_1  recall_2  \\\n",
       "1     Aspect_Features   0.957702  0.958166  0.964020  0.972249  0.875818   \n",
       "2  Hillshade_Features   0.957720  0.958221  0.964298  0.972036  0.876553   \n",
       "0            Baseline   0.957710  0.958279  0.964134  0.971895  0.877453   \n",
       "5          Water_Fire   0.958092  0.958389  0.964516  0.972532  0.874346   \n",
       "6   Road_Interactions   0.958166  0.958563  0.964674  0.972482  0.875327   \n",
       "7   Elev_Interactions   0.958614  0.959017  0.964674  0.973207  0.876431   \n",
       "3      Water_Features   0.958656  0.959074  0.965066  0.972935  0.876880   \n",
       "4      Count_Features   0.959266  0.959671  0.964150  0.971891  0.884156   \n",
       "\n",
       "   recall_3  recall_4  recall_5  \n",
       "1  0.148936  0.417367  0.641655  \n",
       "2  0.127660  0.412465  0.642683  \n",
       "0  0.148936  0.420168  0.646666  \n",
       "5  0.127660  0.431373  0.646923  \n",
       "6  0.127660  0.442577  0.644610  \n",
       "7  0.148936  0.431373  0.645509  \n",
       "3  0.212766  0.436975  0.646023  \n",
       "4  0.191489  0.466387  0.716562  "
      ]
     },
     "execution_count": 21,
     "metadata": {},
     "output_type": "execute_result"
    }
   ],
   "source": [
    "pd.DataFrame.from_records(\n",
    "    data = new_rows,\n",
    "    columns = ['features','cv_scores','holdout','recall_0', 'recall_1','recall_2','recall_3','recall_4','recall_5']\n",
    ").sort_values('holdout')"
   ]
  }
 ],
 "metadata": {
  "kernelspec": {
   "display_name": "Python 3 (ipykernel)",
   "language": "python",
   "name": "python3"
  },
  "language_info": {
   "codemirror_mode": {
    "name": "ipython",
    "version": 3
   },
   "file_extension": ".py",
   "mimetype": "text/x-python",
   "name": "python",
   "nbconvert_exporter": "python",
   "pygments_lexer": "ipython3",
   "version": "3.8.10"
  }
 },
 "nbformat": 4,
 "nbformat_minor": 5
}
