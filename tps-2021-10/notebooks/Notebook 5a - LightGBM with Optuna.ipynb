{
 "cells": [
  {
   "cell_type": "markdown",
   "id": "f8b5e77b",
   "metadata": {},
   "source": [
    "# Optuna Hyperparameter Search (Part 1)\n",
    "\n",
    "In this notebook we use optuna LightGBM integration with a pruner to perform a hyperparameter search. Our first run of this notebook shows that learning rate is by far the most \"important\" parameter so we fix our learning rate to test out the other possible parameters."
   ]
  },
  {
   "cell_type": "code",
   "execution_count": 1,
   "id": "d386ded6",
   "metadata": {},
   "outputs": [],
   "source": [
    "# Global variables for testing changes to this notebook quickly\n",
    "RANDOM_SEED = 0\n",
    "NUM_TREES = 15000\n",
    "EARLY_STOP = 200\n",
    "NUM_TRIALS = 50\n",
    "TRIAL_FOLDS = 3"
   ]
  },
  {
   "cell_type": "code",
   "execution_count": 2,
   "id": "9e069449",
   "metadata": {},
   "outputs": [],
   "source": [
    "# General imports\n",
    "import numpy as np\n",
    "import pandas as pd\n",
    "from IPython.display import Image\n",
    "import pyarrow\n",
    "import time\n",
    "import gc\n",
    "\n",
    "# Model and evaluation\n",
    "from sklearn.metrics import roc_auc_score\n",
    "from sklearn.model_selection import StratifiedKFold, train_test_split\n",
    "from lightgbm import LGBMClassifier\n",
    "\n",
    "# Optuna\n",
    "import optuna\n",
    "from optuna.integration import LightGBMPruningCallback\n",
    "from optuna.visualization import plot_param_importances, plot_parallel_coordinate\n",
    "from optuna.pruners import MedianPruner, PercentilePruner\n",
    "\n",
    "# Hide warnings (makes optuna output easier to parse)\n",
    "import warnings\n",
    "warnings.filterwarnings('ignore')"
   ]
  },
  {
   "cell_type": "markdown",
   "id": "63600c8e",
   "metadata": {},
   "source": [
    "# Preparing the Data"
   ]
  },
  {
   "cell_type": "code",
   "execution_count": 3,
   "id": "058044f8",
   "metadata": {},
   "outputs": [
    {
     "data": {
      "text/plain": [
       "0"
      ]
     },
     "execution_count": 3,
     "metadata": {},
     "output_type": "execute_result"
    }
   ],
   "source": [
    "# Generate training and holdout set\n",
    "train = pd.read_feather(\"../data/train.feather\")\n",
    "\n",
    "# Holdout set for testing our models\n",
    "train, holdout = train_test_split(\n",
    "    train,\n",
    "    test_size = 0.5,\n",
    "    shuffle = True,\n",
    "    stratify = train['target'],\n",
    "    random_state = RANDOM_SEED,\n",
    ")\n",
    "\n",
    "train.reset_index(drop = True, inplace = True)\n",
    "holdout.reset_index(drop = True, inplace = True)\n",
    "\n",
    "# Save features and categorical features\n",
    "features = [x for x in train.columns if x not in ['id','target']]\n",
    "categorical_features = [x for x in features if train[x].dtype.name.startswith(\"int\")]\n",
    "\n",
    "gc.collect()"
   ]
  },
  {
   "cell_type": "markdown",
   "id": "d2f37536",
   "metadata": {},
   "source": [
    "# Scoring Function"
   ]
  },
  {
   "cell_type": "code",
   "execution_count": 4,
   "id": "d80c8ddf",
   "metadata": {},
   "outputs": [],
   "source": [
    "# Default Model Parameters\n",
    "default_params = dict(\n",
    "    random_state = RANDOM_SEED,\n",
    "    n_estimators = NUM_TREES,\n",
    ")"
   ]
  },
  {
   "cell_type": "code",
   "execution_count": 5,
   "id": "4de9b6ea",
   "metadata": {},
   "outputs": [],
   "source": [
    "def score_lightgbm(trial = None, model_params = {}, fit_params = {}):\n",
    "    \n",
    "    # Store the holdout predictions\n",
    "    scores = np.zeros(TRIAL_FOLDS)\n",
    "    \n",
    "    # Stratified k-fold cross-validation\n",
    "    skf = StratifiedKFold(n_splits = TRIAL_FOLDS, shuffle = True, random_state = RANDOM_SEED)\n",
    "    for fold, (train_idx, valid_idx) in enumerate(skf.split(train, train['target'])):\n",
    "        \n",
    "        # Training and Validation Sets\n",
    "        X_train, y_train = train[features].iloc[train_idx], train['target'].iloc[train_idx]\n",
    "        X_valid, y_valid = train[features].iloc[valid_idx], train['target'].iloc[valid_idx]\n",
    "        \n",
    "        start = time.time()\n",
    "        \n",
    "        # Define Model\n",
    "        model = LGBMClassifier(**default_params, **model_params)\n",
    "        gc.collect()\n",
    "        \n",
    "        model.fit(\n",
    "            X_train, y_train,\n",
    "            verbose = 0,\n",
    "            eval_set = [(X_valid, y_valid)],\n",
    "            eval_metric = \"auc\",\n",
    "            early_stopping_rounds = EARLY_STOP,\n",
    "            **fit_params\n",
    "        )\n",
    "        fold_preds = model.predict_proba(holdout[features])[:, 1]\n",
    "        valid_preds = model.predict_proba(X_valid)[:, 1]\n",
    "        scores[fold] = roc_auc_score(holdout['target'], fold_preds)\n",
    "        \n",
    "        end = time.time()\n",
    "        print(f'Fold {fold} done in {round(end - start, 1)}s.')\n",
    "        if trial:\n",
    "            # Use pruning on fold AUC\n",
    "            trial.report(\n",
    "                value = roc_auc_score(y_valid, valid_preds),\n",
    "                step = fold\n",
    "            )\n",
    "            # prune slow trials and bad fold AUCs\n",
    "            if trial.should_prune():\n",
    "                raise optuna.TrialPruned()\n",
    "        \n",
    "        time.sleep(0.5)\n",
    "        \n",
    "        # If it takes too long return fold AUC\n",
    "        if round(end - start, 1) > 480:\n",
    "            return scores.sum() / (fold + 1)\n",
    "        \n",
    "    return scores.mean()"
   ]
  },
  {
   "cell_type": "markdown",
   "id": "e5575319",
   "metadata": {},
   "source": [
    "## Categorical Features\n",
    "\n",
    "We check if explicitly specifying the categorical features makes a difference in accuracy or training speed."
   ]
  },
  {
   "cell_type": "code",
   "execution_count": 6,
   "id": "7691293a",
   "metadata": {},
   "outputs": [
    {
     "name": "stdout",
     "output_type": "stream",
     "text": [
      "Fold 0 done in 71.3s.\n",
      "Fold 1 done in 61.1s.\n",
      "Fold 2 done in 57.3s.\n"
     ]
    },
    {
     "data": {
      "text/plain": [
       "0.8541729481182679"
      ]
     },
     "execution_count": 6,
     "metadata": {},
     "output_type": "execute_result"
    }
   ],
   "source": [
    "# Default settings\n",
    "score_lightgbm(\n",
    "    fit_params = dict(categorical_feature = 'auto')\n",
    ")"
   ]
  },
  {
   "cell_type": "code",
   "execution_count": 7,
   "id": "2e82bc3b",
   "metadata": {},
   "outputs": [
    {
     "name": "stdout",
     "output_type": "stream",
     "text": [
      "Fold 0 done in 59.1s.\n",
      "Fold 1 done in 56.9s.\n",
      "Fold 2 done in 58.3s.\n"
     ]
    },
    {
     "data": {
      "text/plain": [
       "0.8541729481182679"
      ]
     },
     "execution_count": 7,
     "metadata": {},
     "output_type": "execute_result"
    }
   ],
   "source": [
    "# Explicitly specify categorical features\n",
    "score_lightgbm(\n",
    "    fit_params = dict(categorical_feature = categorical_features)\n",
    ")"
   ]
  },
  {
   "cell_type": "markdown",
   "id": "c7a6d8c0",
   "metadata": {},
   "source": [
    "We see that specifying the categorical features doesn't make a notable difference in accuracy or training speed."
   ]
  },
  {
   "cell_type": "markdown",
   "id": "6b1fe312",
   "metadata": {},
   "source": [
    "# Hyperparameter Search\n",
    "\n",
    "To tweak the pruner consider adding/adjusting the following keyword arguments:\n",
    "\n",
    "* `n_startup_trials` - number of trials (models trained) before pruning starts\n",
    "* `n_warmup_steps` - number of iterations before pruning checks\n",
    "* `interval_steps` - number of iterations between pruning checks\n",
    "* `n_min_trials` - skip pruning check if too few trials"
   ]
  },
  {
   "cell_type": "code",
   "execution_count": 8,
   "id": "9b0d220f",
   "metadata": {},
   "outputs": [],
   "source": [
    "# Pruner lower percentile of trials\n",
    "pruner = PercentilePruner(\n",
    "    percentile = 80,\n",
    "    n_startup_trials = 5,\n",
    "    n_warmup_steps = 0,\n",
    "    interval_steps = 1,\n",
    "    n_min_trials = 5,\n",
    ")"
   ]
  },
  {
   "cell_type": "code",
   "execution_count": 9,
   "id": "cd775c30",
   "metadata": {},
   "outputs": [],
   "source": [
    "def parameter_search(trials):\n",
    "    \n",
    "    # Optuna objective function\n",
    "    def objective(trial):\n",
    "        model_params = dict( \n",
    "            # default -1\n",
    "            max_depth = trial.suggest_int(\n",
    "                \"max_depth\", 2, 10\n",
    "            ), \n",
    "            # default 0.1\n",
    "            learning_rate = trial.suggest_categorical(\n",
    "                \"learning_rate\", [0.01]\n",
    "            ),\n",
    "            # default 0\n",
    "            min_split_gain = trial.suggest_loguniform(\n",
    "                \"min_split_gain\", 1e-10, 10\n",
    "            ), \n",
    "            # default 1e-3\n",
    "            min_child_weight = trial.suggest_loguniform(\n",
    "                \"min_child_weight\", 1e-10, 100\n",
    "            ),\n",
    "            # default 20\n",
    "            min_child_samples = trial.suggest_int(\n",
    "                \"min_child_samples\", 10, 10000, 10\n",
    "            ), \n",
    "            # default 1\n",
    "            subsample = trial.suggest_discrete_uniform(\n",
    "                \"subsample\", 0.5, 1.0, 0.01\n",
    "            ),\n",
    "            # default 0\n",
    "            subsample_freq = trial.suggest_int(\n",
    "                \"subsample_freq\",  0, 10\n",
    "            ),\n",
    "            # default 1\n",
    "            colsample_bytree = trial.suggest_discrete_uniform(\n",
    "                \"colsample_bytree\",  0.1, 1.0, 0.01\n",
    "            ),\n",
    "            # default 0\n",
    "            reg_lambda = trial.suggest_loguniform(\n",
    "                \"reg_lambda\", 1e-10, 100\n",
    "            ),\n",
    "            # default 0\n",
    "            reg_alpha = trial.suggest_loguniform(\n",
    "                \"reg_alpha\", 1e-10, 100\n",
    "            ),\n",
    "            # default 10\n",
    "            cat_smooth = trial.suggest_loguniform(\n",
    "                \"cat_smooth\", 1e-10, 100\n",
    "            ),\n",
    "            # default 10\n",
    "            cat_l2 = trial.suggest_loguniform(\n",
    "                \"cat_l2\", 1e-10, 100\n",
    "            ),\n",
    "            \n",
    "        )\n",
    "    \n",
    "        # num_leaves should be less than 2^max_depth\n",
    "        model_params['num_leaves'] = trial.suggest_int(\n",
    "            'num_leaves', 2, 2**model_params['max_depth']-1\n",
    "        )\n",
    "        \n",
    "        #fit_params = dict(\n",
    "        #    callbacks = [LightGBMPruningCallback(trial, \"auc\")],\n",
    "        #)\n",
    "        \n",
    "        return score_lightgbm(\n",
    "            trial = trial,\n",
    "            model_params = model_params\n",
    "        )\n",
    "    \n",
    "    \n",
    "    optuna.logging.set_verbosity(optuna.logging.DEBUG)\n",
    "    study = optuna.create_study(\n",
    "        pruner = pruner,\n",
    "        direction = \"maximize\"\n",
    "    )\n",
    "    # high auc from previous notebook run\n",
    "    study.enqueue_trial({\n",
    "        'max_depth': 8, \n",
    "        #'learning_rate': 0.010138272553606617, original\n",
    "        'learning_rate': 0.01, \n",
    "        'min_split_gain': 0.18468002957592108, \n",
    "        'min_child_weight': 1.839038499751012e-09, \n",
    "        'min_child_samples': 8420, \n",
    "        'subsample': 0.59, \n",
    "        'subsample_freq': 0, \n",
    "        'colsample_bylevel': 0.22, \n",
    "        'reg_lambda': 4.289479936233822e-10, \n",
    "        'reg_alpha': 1.0096021385139975e-07, \n",
    "        'cat_smooth': 1.1437149718387542e-05, \n",
    "        'cat_l2': 0.00012504779932670876, \n",
    "        'num_leaves': 137\n",
    "    })\n",
    "    study.optimize(objective, n_trials=trials)\n",
    "    return study"
   ]
  },
  {
   "cell_type": "code",
   "execution_count": 10,
   "id": "5ccfb2c5",
   "metadata": {},
   "outputs": [
    {
     "name": "stderr",
     "output_type": "stream",
     "text": [
      "\u001b[32m[I 2021-10-24 12:36:19,194]\u001b[0m A new study created in memory with name: no-name-d6d08ecb-5938-4eec-aafa-6fa0b31eeb05\u001b[0m\n",
      "\u001b[37m[D 2021-10-24 12:36:19,197]\u001b[0m Trial 0 popped from the trial queue.\u001b[0m\n"
     ]
    },
    {
     "name": "stdout",
     "output_type": "stream",
     "text": [
      "Fold 0 done in 343.3s.\n",
      "Fold 1 done in 338.8s.\n",
      "Fold 2 done in 302.9s.\n"
     ]
    },
    {
     "name": "stderr",
     "output_type": "stream",
     "text": [
      "\u001b[32m[I 2021-10-24 12:52:47,560]\u001b[0m Trial 0 finished with value: 0.8565316285333782 and parameters: {'max_depth': 8, 'learning_rate': 0.01, 'min_split_gain': 0.18468002957592108, 'min_child_weight': 1.839038499751012e-09, 'min_child_samples': 8420, 'subsample': 0.59, 'subsample_freq': 0, 'colsample_bytree': 0.41000000000000003, 'reg_lambda': 4.289479936233822e-10, 'reg_alpha': 1.0096021385139975e-07, 'cat_smooth': 1.1437149718387542e-05, 'cat_l2': 0.00012504779932670876, 'num_leaves': 137}. Best is trial 0 with value: 0.8565316285333782.\u001b[0m\n"
     ]
    },
    {
     "name": "stdout",
     "output_type": "stream",
     "text": [
      "[LightGBM] [Warning] Accuracy may be bad since you didn't explicitly set num_leaves OR 2^max_depth > num_leaves. (num_leaves=31).\n",
      "Fold 0 done in 392.0s.\n",
      "[LightGBM] [Warning] Accuracy may be bad since you didn't explicitly set num_leaves OR 2^max_depth > num_leaves. (num_leaves=31).\n",
      "Fold 1 done in 440.8s.\n",
      "[LightGBM] [Warning] Accuracy may be bad since you didn't explicitly set num_leaves OR 2^max_depth > num_leaves. (num_leaves=31).\n",
      "Fold 2 done in 365.3s.\n"
     ]
    },
    {
     "name": "stderr",
     "output_type": "stream",
     "text": [
      "\u001b[32m[I 2021-10-24 13:12:49,206]\u001b[0m Trial 1 finished with value: 0.8563072054573467 and parameters: {'max_depth': 5, 'learning_rate': 0.01, 'min_split_gain': 0.0002289937891975488, 'min_child_weight': 0.0001795670668648115, 'min_child_samples': 8240, 'subsample': 0.78, 'subsample_freq': 6, 'colsample_bytree': 0.91, 'reg_lambda': 1.4182337616411738e-05, 'reg_alpha': 0.00015288644805450493, 'cat_smooth': 0.01175677555345737, 'cat_l2': 0.08840670346545175, 'num_leaves': 31}. Best is trial 0 with value: 0.8565316285333782.\u001b[0m\n"
     ]
    },
    {
     "name": "stdout",
     "output_type": "stream",
     "text": [
      "Fold 0 done in 537.6s.\n"
     ]
    },
    {
     "name": "stderr",
     "output_type": "stream",
     "text": [
      "\u001b[32m[I 2021-10-24 13:21:48,024]\u001b[0m Trial 2 finished with value: 0.855903617092043 and parameters: {'max_depth': 9, 'learning_rate': 0.01, 'min_split_gain': 0.1050068374622758, 'min_child_weight': 0.02654733865114512, 'min_child_samples': 6540, 'subsample': 0.99, 'subsample_freq': 7, 'colsample_bytree': 0.91, 'reg_lambda': 78.20471098180727, 'reg_alpha': 5.662722654657448e-07, 'cat_smooth': 2.9080835110098198, 'cat_l2': 0.16534532556169884, 'num_leaves': 302}. Best is trial 0 with value: 0.8565316285333782.\u001b[0m\n"
     ]
    },
    {
     "name": "stdout",
     "output_type": "stream",
     "text": [
      "Fold 0 done in 178.3s.\n",
      "Fold 1 done in 178.9s.\n",
      "Fold 2 done in 171.8s.\n"
     ]
    },
    {
     "name": "stderr",
     "output_type": "stream",
     "text": [
      "\u001b[32m[I 2021-10-24 13:30:40,500]\u001b[0m Trial 3 finished with value: 0.8567617962281703 and parameters: {'max_depth': 5, 'learning_rate': 0.01, 'min_split_gain': 2.3898913428584182e-08, 'min_child_weight': 0.0071606375423038755, 'min_child_samples': 1720, 'subsample': 0.54, 'subsample_freq': 2, 'colsample_bytree': 0.21000000000000002, 'reg_lambda': 0.032374306520872066, 'reg_alpha': 0.0037516426604376476, 'cat_smooth': 5.090909013690385e-06, 'cat_l2': 4.747594780982746e-05, 'num_leaves': 21}. Best is trial 3 with value: 0.8567617962281703.\u001b[0m\n"
     ]
    },
    {
     "name": "stdout",
     "output_type": "stream",
     "text": [
      "Fold 0 done in 262.1s.\n",
      "Fold 1 done in 306.9s.\n",
      "Fold 2 done in 274.2s.\n"
     ]
    },
    {
     "name": "stderr",
     "output_type": "stream",
     "text": [
      "\u001b[32m[I 2021-10-24 13:44:47,063]\u001b[0m Trial 4 finished with value: 0.8562864784617643 and parameters: {'max_depth': 10, 'learning_rate': 0.01, 'min_split_gain': 9.075345264446909e-10, 'min_child_weight': 0.005711772002724316, 'min_child_samples': 6800, 'subsample': 0.5, 'subsample_freq': 4, 'colsample_bytree': 0.61, 'reg_lambda': 1.0184216338151988, 'reg_alpha': 33.246861921384586, 'cat_smooth': 2.685605247993885e-07, 'cat_l2': 2.216193611521538e-10, 'num_leaves': 691}. Best is trial 3 with value: 0.8567617962281703.\u001b[0m\n"
     ]
    },
    {
     "name": "stdout",
     "output_type": "stream",
     "text": [
      "Fold 0 done in 394.3s.\n",
      "Fold 1 done in 391.1s.\n",
      "Fold 2 done in 358.7s.\n"
     ]
    },
    {
     "name": "stderr",
     "output_type": "stream",
     "text": [
      "\u001b[32m[I 2021-10-24 14:03:54,544]\u001b[0m Trial 5 finished with value: 0.8564384580720188 and parameters: {'max_depth': 7, 'learning_rate': 0.01, 'min_split_gain': 1.1651038422881453e-09, 'min_child_weight': 1.6676129876308485e-07, 'min_child_samples': 10000, 'subsample': 0.81, 'subsample_freq': 2, 'colsample_bytree': 0.73, 'reg_lambda': 1.4605465578998518e-10, 'reg_alpha': 0.00604397814714253, 'cat_smooth': 2.4135933768066415e-07, 'cat_l2': 0.00015931343815492454, 'num_leaves': 97}. Best is trial 3 with value: 0.8567617962281703.\u001b[0m\n"
     ]
    },
    {
     "name": "stdout",
     "output_type": "stream",
     "text": [
      "Fold 0 done in 256.5s.\n",
      "Fold 1 done in 286.2s.\n",
      "Fold 2 done in 254.5s.\n"
     ]
    },
    {
     "name": "stderr",
     "output_type": "stream",
     "text": [
      "\u001b[32m[I 2021-10-24 14:17:15,053]\u001b[0m Trial 6 finished with value: 0.8567136153133164 and parameters: {'max_depth': 3, 'learning_rate': 0.01, 'min_split_gain': 0.0032780581637828093, 'min_child_weight': 84.0113110777526, 'min_child_samples': 6410, 'subsample': 0.61, 'subsample_freq': 5, 'colsample_bytree': 0.38, 'reg_lambda': 0.03232191324895105, 'reg_alpha': 0.18803451154082704, 'cat_smooth': 0.028822577971880935, 'cat_l2': 5.371479331891687e-05, 'num_leaves': 7}. Best is trial 3 with value: 0.8567617962281703.\u001b[0m\n",
      "\u001b[32m[I 2021-10-24 14:22:34,779]\u001b[0m Trial 7 pruned. \u001b[0m\n"
     ]
    },
    {
     "name": "stdout",
     "output_type": "stream",
     "text": [
      "Fold 0 done in 319.1s.\n",
      "Fold 0 done in 330.4s.\n",
      "Fold 1 done in 337.9s.\n",
      "Fold 2 done in 309.3s.\n"
     ]
    },
    {
     "name": "stderr",
     "output_type": "stream",
     "text": [
      "\u001b[32m[I 2021-10-24 14:38:55,712]\u001b[0m Trial 8 finished with value: 0.8565106454468868 and parameters: {'max_depth': 5, 'learning_rate': 0.01, 'min_split_gain': 1.4662205548453919e-06, 'min_child_weight': 23.34450062217578, 'min_child_samples': 3190, 'subsample': 0.64, 'subsample_freq': 5, 'colsample_bytree': 0.74, 'reg_lambda': 9.521832997652113e-08, 'reg_alpha': 8.799811426878007e-08, 'cat_smooth': 2.7230148407279836e-07, 'cat_l2': 1.141614449460356e-10, 'num_leaves': 16}. Best is trial 3 with value: 0.8567617962281703.\u001b[0m\n",
      "\u001b[32m[I 2021-10-24 14:39:05,354]\u001b[0m Trial 9 pruned. \u001b[0m\n"
     ]
    },
    {
     "name": "stdout",
     "output_type": "stream",
     "text": [
      "Fold 0 done in 9.0s.\n",
      "Fold 0 done in 195.5s.\n",
      "Fold 1 done in 209.2s.\n",
      "Fold 2 done in 200.5s.\n"
     ]
    },
    {
     "name": "stderr",
     "output_type": "stream",
     "text": [
      "\u001b[32m[I 2021-10-24 14:49:13,970]\u001b[0m Trial 10 finished with value: 0.8565884743524185 and parameters: {'max_depth': 5, 'learning_rate': 0.01, 'min_split_gain': 1.4262432056323698e-07, 'min_child_weight': 0.3275017989267595, 'min_child_samples': 150, 'subsample': 0.94, 'subsample_freq': 0, 'colsample_bytree': 0.2, 'reg_lambda': 0.0014552178505536709, 'reg_alpha': 0.00019803328545528383, 'cat_smooth': 8.16805860296165e-05, 'cat_l2': 1.516372205405077e-07, 'num_leaves': 21}. Best is trial 3 with value: 0.8567617962281703.\u001b[0m\n",
      "\u001b[32m[I 2021-10-24 14:54:19,358]\u001b[0m Trial 11 pruned. \u001b[0m\n"
     ]
    },
    {
     "name": "stdout",
     "output_type": "stream",
     "text": [
      "Fold 0 done in 304.7s.\n",
      "Fold 0 done in 234.3s.\n",
      "Fold 1 done in 234.7s.\n",
      "Fold 2 done in 226.7s.\n"
     ]
    },
    {
     "name": "stderr",
     "output_type": "stream",
     "text": [
      "\u001b[32m[I 2021-10-24 15:05:58,585]\u001b[0m Trial 12 finished with value: 0.8567244860755868 and parameters: {'max_depth': 3, 'learning_rate': 0.01, 'min_split_gain': 5.9555449267762155, 'min_child_weight': 0.9597969401289757, 'min_child_samples': 2310, 'subsample': 0.59, 'subsample_freq': 2, 'colsample_bytree': 0.36, 'reg_lambda': 0.05507276209049674, 'reg_alpha': 0.05455311784228901, 'cat_smooth': 76.132418609574, 'cat_l2': 4.440570611786606e-07, 'num_leaves': 7}. Best is trial 3 with value: 0.8567617962281703.\u001b[0m\n"
     ]
    },
    {
     "name": "stdout",
     "output_type": "stream",
     "text": [
      "Fold 0 done in 234.9s.\n",
      "Fold 1 done in 235.7s.\n",
      "Fold 2 done in 208.0s.\n"
     ]
    },
    {
     "name": "stderr",
     "output_type": "stream",
     "text": [
      "\u001b[32m[I 2021-10-24 15:17:20,594]\u001b[0m Trial 13 finished with value: 0.8567952141210764 and parameters: {'max_depth': 4, 'learning_rate': 0.01, 'min_split_gain': 2.0123954658950836, 'min_child_weight': 0.6695967470200936, 'min_child_samples': 2170, 'subsample': 0.7, 'subsample_freq': 2, 'colsample_bytree': 0.26, 'reg_lambda': 3.7180026157708655e-05, 'reg_alpha': 8.433165259902195e-10, 'cat_smooth': 74.87977856127084, 'cat_l2': 3.8848308021697336e-07, 'num_leaves': 8}. Best is trial 13 with value: 0.8567952141210764.\u001b[0m\n"
     ]
    },
    {
     "name": "stdout",
     "output_type": "stream",
     "text": [
      "Fold 0 done in 222.5s.\n",
      "Fold 1 done in 247.8s.\n",
      "Fold 2 done in 219.6s.\n"
     ]
    },
    {
     "name": "stderr",
     "output_type": "stream",
     "text": [
      "\u001b[32m[I 2021-10-24 15:28:53,953]\u001b[0m Trial 14 finished with value: 0.8568366305762058 and parameters: {'max_depth': 4, 'learning_rate': 0.01, 'min_split_gain': 6.3727901357436895e-06, 'min_child_weight': 0.002234945539067982, 'min_child_samples': 2020, 'subsample': 0.72, 'subsample_freq': 2, 'colsample_bytree': 0.24000000000000002, 'reg_lambda': 5.5477360524392205e-05, 'reg_alpha': 1.4390688467326071e-10, 'cat_smooth': 0.00025991255142908187, 'cat_l2': 9.299194506874969e-07, 'num_leaves': 9}. Best is trial 14 with value: 0.8568366305762058.\u001b[0m\n"
     ]
    },
    {
     "name": "stdout",
     "output_type": "stream",
     "text": [
      "Fold 0 done in 322.8s.\n",
      "Fold 1 done in 327.9s.\n",
      "Fold 2 done in 286.8s.\n"
     ]
    },
    {
     "name": "stderr",
     "output_type": "stream",
     "text": [
      "\u001b[32m[I 2021-10-24 15:44:35,019]\u001b[0m Trial 15 finished with value: 0.856735235104409 and parameters: {'max_depth': 4, 'learning_rate': 0.01, 'min_split_gain': 6.101569191703784e-06, 'min_child_weight': 0.4145309802807301, 'min_child_samples': 4570, 'subsample': 0.72, 'subsample_freq': 1, 'colsample_bytree': 0.5, 'reg_lambda': 1.4508959537653535e-05, 'reg_alpha': 2.479595537834115e-10, 'cat_smooth': 56.54723211332502, 'cat_l2': 1.5999311944914043e-08, 'num_leaves': 9}. Best is trial 14 with value: 0.8568366305762058.\u001b[0m\n"
     ]
    },
    {
     "name": "stdout",
     "output_type": "stream",
     "text": [
      "Fold 0 done in 246.3s.\n",
      "Fold 1 done in 243.4s.\n",
      "Fold 2 done in 222.4s.\n"
     ]
    },
    {
     "name": "stderr",
     "output_type": "stream",
     "text": [
      "\u001b[32m[I 2021-10-24 15:56:30,449]\u001b[0m Trial 16 finished with value: 0.8568496975432179 and parameters: {'max_depth': 6, 'learning_rate': 0.01, 'min_split_gain': 0.7624499003351858, 'min_child_weight': 0.0008262510967999328, 'min_child_samples': 3170, 'subsample': 0.86, 'subsample_freq': 3, 'colsample_bytree': 0.24000000000000002, 'reg_lambda': 0.00018513239537346443, 'reg_alpha': 2.897981474275491e-10, 'cat_smooth': 0.0006369811869977466, 'cat_l2': 1.6177560603036794e-06, 'num_leaves': 13}. Best is trial 16 with value: 0.8568496975432179.\u001b[0m\n"
     ]
    },
    {
     "name": "stdout",
     "output_type": "stream",
     "text": [
      "Fold 0 done in 185.3s.\n"
     ]
    },
    {
     "name": "stderr",
     "output_type": "stream",
     "text": [
      "\u001b[32m[I 2021-10-24 16:02:32,136]\u001b[0m Trial 17 pruned. \u001b[0m\n"
     ]
    },
    {
     "name": "stdout",
     "output_type": "stream",
     "text": [
      "Fold 1 done in 174.6s.\n",
      "Fold 0 done in 318.2s.\n",
      "Fold 1 done in 325.2s.\n",
      "Fold 2 done in 329.5s.\n"
     ]
    },
    {
     "name": "stderr",
     "output_type": "stream",
     "text": [
      "\u001b[32m[I 2021-10-24 16:18:48,510]\u001b[0m Trial 18 finished with value: 0.8566062723745671 and parameters: {'max_depth': 6, 'learning_rate': 0.01, 'min_split_gain': 2.8336900681863315e-05, 'min_child_weight': 0.00046279741560154686, 'min_child_samples': 5410, 'subsample': 0.9, 'subsample_freq': 7, 'colsample_bytree': 0.51, 'reg_lambda': 0.0005917764699162916, 'reg_alpha': 1.0383025671893764e-10, 'cat_smooth': 0.003330694549652803, 'cat_l2': 4.715105740598697e-09, 'num_leaves': 15}. Best is trial 16 with value: 0.8568496975432179.\u001b[0m\n"
     ]
    },
    {
     "name": "stdout",
     "output_type": "stream",
     "text": [
      "Fold 0 done in 239.9s.\n",
      "Fold 1 done in 251.0s.\n",
      "Fold 2 done in 221.0s.\n"
     ]
    },
    {
     "name": "stderr",
     "output_type": "stream",
     "text": [
      "\u001b[32m[I 2021-10-24 16:30:43,866]\u001b[0m Trial 19 finished with value: 0.8567782616837265 and parameters: {'max_depth': 6, 'learning_rate': 0.01, 'min_split_gain': 7.184354963565723e-07, 'min_child_weight': 3.2616138838369835e-08, 'min_child_samples': 1040, 'subsample': 0.8500000000000001, 'subsample_freq': 4, 'colsample_bytree': 0.25, 'reg_lambda': 2.585234527383447e-06, 'reg_alpha': 6.1465545833673e-06, 'cat_smooth': 0.00013804305808718368, 'cat_l2': 0.004644772394163085, 'num_leaves': 15}. Best is trial 16 with value: 0.8568496975432179.\u001b[0m\n"
     ]
    },
    {
     "name": "stdout",
     "output_type": "stream",
     "text": [
      "Fold 0 done in 317.6s.\n",
      "Fold 1 done in 334.9s.\n",
      "Fold 2 done in 297.5s.\n"
     ]
    },
    {
     "name": "stderr",
     "output_type": "stream",
     "text": [
      "\u001b[32m[I 2021-10-24 16:46:37,264]\u001b[0m Trial 20 finished with value: 0.856639084496234 and parameters: {'max_depth': 4, 'learning_rate': 0.01, 'min_split_gain': 3.2516972546763715e-05, 'min_child_weight': 0.0008304286585963838, 'min_child_samples': 5340, 'subsample': 0.89, 'subsample_freq': 3, 'colsample_bytree': 0.45000000000000007, 'reg_lambda': 0.0009483537339270746, 'reg_alpha': 9.613005799997738e-09, 'cat_smooth': 0.18341799068179304, 'cat_l2': 5.833053638847029e-06, 'num_leaves': 11}. Best is trial 16 with value: 0.8568496975432179.\u001b[0m\n"
     ]
    },
    {
     "name": "stdout",
     "output_type": "stream",
     "text": [
      "Fold 0 done in 238.0s.\n",
      "Fold 1 done in 230.8s.\n",
      "Fold 2 done in 195.4s.\n"
     ]
    },
    {
     "name": "stderr",
     "output_type": "stream",
     "text": [
      "\u001b[32m[I 2021-10-24 16:57:44,913]\u001b[0m Trial 21 finished with value: 0.856827041271146 and parameters: {'max_depth': 4, 'learning_rate': 0.01, 'min_split_gain': 6.622613569592492, 'min_child_weight': 0.055864997760601394, 'min_child_samples': 2500, 'subsample': 0.71, 'subsample_freq': 1, 'colsample_bytree': 0.29000000000000004, 'reg_lambda': 0.0001053860681776111, 'reg_alpha': 1.7668792340472503e-09, 'cat_smooth': 1.1437323932700356, 'cat_l2': 5.3604716465060225e-09, 'num_leaves': 9}. Best is trial 16 with value: 0.8568496975432179.\u001b[0m\n"
     ]
    },
    {
     "name": "stdout",
     "output_type": "stream",
     "text": [
      "Fold 0 done in 282.4s.\n",
      "Fold 1 done in 280.0s.\n",
      "Fold 2 done in 263.8s.\n"
     ]
    },
    {
     "name": "stderr",
     "output_type": "stream",
     "text": [
      "\u001b[32m[I 2021-10-24 17:11:34,571]\u001b[0m Trial 22 finished with value: 0.8567457127569748 and parameters: {'max_depth': 3, 'learning_rate': 0.01, 'min_split_gain': 0.5408564292943224, 'min_child_weight': 0.042773697259870694, 'min_child_samples': 3020, 'subsample': 0.69, 'subsample_freq': 1, 'colsample_bytree': 0.30000000000000004, 'reg_lambda': 0.0001899544114788025, 'reg_alpha': 3.6272039202199276e-09, 'cat_smooth': 0.8420324441118983, 'cat_l2': 3.619559521188312e-09, 'num_leaves': 6}. Best is trial 16 with value: 0.8568496975432179.\u001b[0m\n"
     ]
    },
    {
     "name": "stdout",
     "output_type": "stream",
     "text": [
      "Fold 0 done in 203.6s.\n",
      "Fold 1 done in 179.3s.\n",
      "Fold 2 done in 182.7s.\n"
     ]
    },
    {
     "name": "stderr",
     "output_type": "stream",
     "text": [
      "\u001b[32m[I 2021-10-24 17:21:03,568]\u001b[0m Trial 23 finished with value: 0.8567556758863878 and parameters: {'max_depth': 7, 'learning_rate': 0.01, 'min_split_gain': 0.015126511778195498, 'min_child_weight': 1.3221733316982319e-06, 'min_child_samples': 2730, 'subsample': 0.76, 'subsample_freq': 1, 'colsample_bytree': 0.18, 'reg_lambda': 5.969490782689857e-07, 'reg_alpha': 1.018785521484617e-09, 'cat_smooth': 0.00032596586904044773, 'cat_l2': 4.492466462915828e-06, 'num_leaves': 36}. Best is trial 16 with value: 0.8568496975432179.\u001b[0m\n",
      "\u001b[32m[I 2021-10-24 17:24:50,999]\u001b[0m Trial 24 pruned. \u001b[0m\n"
     ]
    },
    {
     "name": "stdout",
     "output_type": "stream",
     "text": [
      "Fold 0 done in 226.8s.\n"
     ]
    },
    {
     "name": "stderr",
     "output_type": "stream",
     "text": [
      "\u001b[32m[I 2021-10-24 17:29:09,790]\u001b[0m Trial 25 pruned. \u001b[0m\n"
     ]
    },
    {
     "name": "stdout",
     "output_type": "stream",
     "text": [
      "Fold 0 done in 258.1s.\n",
      "Fold 0 done in 212.7s.\n",
      "Fold 1 done in 230.1s.\n",
      "Fold 2 done in 198.6s.\n"
     ]
    },
    {
     "name": "stderr",
     "output_type": "stream",
     "text": [
      "\u001b[32m[I 2021-10-24 17:39:54,661]\u001b[0m Trial 26 finished with value: 0.8566632843537644 and parameters: {'max_depth': 3, 'learning_rate': 0.01, 'min_split_gain': 0.0004452533222819346, 'min_child_weight': 5.459858763458679, 'min_child_samples': 660, 'subsample': 0.67, 'subsample_freq': 1, 'colsample_bytree': 0.15000000000000002, 'reg_lambda': 0.0001227750178071753, 'reg_alpha': 5.241174584564029e-06, 'cat_smooth': 0.0009349263589584192, 'cat_l2': 0.0016144469691671698, 'num_leaves': 6}. Best is trial 16 with value: 0.8568496975432179.\u001b[0m\n"
     ]
    },
    {
     "name": "stdout",
     "output_type": "stream",
     "text": [
      "Fold 0 done in 196.7s.\n",
      "Fold 1 done in 205.7s.\n",
      "Fold 2 done in 189.9s.\n"
     ]
    },
    {
     "name": "stderr",
     "output_type": "stream",
     "text": [
      "\u001b[32m[I 2021-10-24 17:49:50,354]\u001b[0m Trial 27 finished with value: 0.8567886916775805 and parameters: {'max_depth': 6, 'learning_rate': 0.01, 'min_split_gain': 1.778206336370785, 'min_child_weight': 0.06013501084862506, 'min_child_samples': 2000, 'subsample': 0.8, 'subsample_freq': 3, 'colsample_bytree': 0.25, 'reg_lambda': 3.846394165160828e-06, 'reg_alpha': 1.143795623117715e-09, 'cat_smooth': 1.1915804838160526e-08, 'cat_l2': 4.531665412393293e-08, 'num_leaves': 20}. Best is trial 16 with value: 0.8568496975432179.\u001b[0m\n"
     ]
    },
    {
     "name": "stdout",
     "output_type": "stream",
     "text": [
      "Fold 0 done in 319.0s.\n",
      "Fold 1 done in 320.5s.\n",
      "Fold 2 done in 306.5s.\n"
     ]
    },
    {
     "name": "stderr",
     "output_type": "stream",
     "text": [
      "\u001b[32m[I 2021-10-24 18:05:39,872]\u001b[0m Trial 28 finished with value: 0.8566604929271272 and parameters: {'max_depth': 4, 'learning_rate': 0.01, 'min_split_gain': 1.070580811243283e-08, 'min_child_weight': 0.00010587341673017128, 'min_child_samples': 3860, 'subsample': 0.86, 'subsample_freq': 4, 'colsample_bytree': 0.44000000000000006, 'reg_lambda': 8.81082429019019e-05, 'reg_alpha': 3.6889711462518237e-08, 'cat_smooth': 1.970352778221438e-05, 'cat_l2': 1.3252557492949074e-06, 'num_leaves': 10}. Best is trial 16 with value: 0.8568496975432179.\u001b[0m\n",
      "\u001b[32m[I 2021-10-24 18:10:58,826]\u001b[0m Trial 29 pruned. \u001b[0m\n"
     ]
    },
    {
     "name": "stdout",
     "output_type": "stream",
     "text": [
      "Fold 0 done in 318.3s.\n",
      "Fold 0 done in 331.9s.\n"
     ]
    },
    {
     "name": "stderr",
     "output_type": "stream",
     "text": [
      "\u001b[32m[I 2021-10-24 18:22:33,877]\u001b[0m Trial 30 pruned. \u001b[0m\n"
     ]
    },
    {
     "name": "stdout",
     "output_type": "stream",
     "text": [
      "Fold 1 done in 361.3s.\n",
      "Fold 0 done in 228.4s.\n",
      "Fold 1 done in 239.7s.\n",
      "Fold 2 done in 215.1s.\n"
     ]
    },
    {
     "name": "stderr",
     "output_type": "stream",
     "text": [
      "\u001b[32m[I 2021-10-24 18:34:00,617]\u001b[0m Trial 31 finished with value: 0.8568139982241565 and parameters: {'max_depth': 4, 'learning_rate': 0.01, 'min_split_gain': 2.469755636748821, 'min_child_weight': 7.3048770847214755, 'min_child_samples': 2410, 'subsample': 0.7, 'subsample_freq': 2, 'colsample_bytree': 0.28, 'reg_lambda': 1.668696972040079e-05, 'reg_alpha': 7.731097505645484e-10, 'cat_smooth': 16.551221599924602, 'cat_l2': 4.1919429174268276e-07, 'num_leaves': 9}. Best is trial 16 with value: 0.8568496975432179.\u001b[0m\n",
      "\u001b[32m[I 2021-10-24 18:38:53,591]\u001b[0m Trial 32 pruned. \u001b[0m\n"
     ]
    },
    {
     "name": "stdout",
     "output_type": "stream",
     "text": [
      "Fold 0 done in 292.3s.\n",
      "Fold 0 done in 213.8s.\n",
      "Fold 1 done in 220.6s.\n",
      "Fold 2 done in 201.6s.\n"
     ]
    },
    {
     "name": "stderr",
     "output_type": "stream",
     "text": [
      "\u001b[32m[I 2021-10-24 18:49:33,025]\u001b[0m Trial 33 finished with value: 0.8568171079337611 and parameters: {'max_depth': 5, 'learning_rate': 0.01, 'min_split_gain': 0.09811476923706315, 'min_child_weight': 8.195089896592519, 'min_child_samples': 1550, 'subsample': 0.77, 'subsample_freq': 3, 'colsample_bytree': 0.22, 'reg_lambda': 0.0034168472741421285, 'reg_alpha': 3.666228468663268e-09, 'cat_smooth': 0.34715552008378403, 'cat_l2': 3.4294436827529745e-07, 'num_leaves': 13}. Best is trial 16 with value: 0.8568496975432179.\u001b[0m\n"
     ]
    },
    {
     "name": "stdout",
     "output_type": "stream",
     "text": [
      "Fold 0 done in 206.5s.\n",
      "Fold 1 done in 205.0s.\n",
      "Fold 2 done in 184.6s.\n"
     ]
    },
    {
     "name": "stderr",
     "output_type": "stream",
     "text": [
      "\u001b[32m[I 2021-10-24 18:59:32,609]\u001b[0m Trial 34 finished with value: 0.8568162603969606 and parameters: {'max_depth': 5, 'learning_rate': 0.01, 'min_split_gain': 0.12712835270717693, 'min_child_weight': 0.12023672206137188, 'min_child_samples': 1490, 'subsample': 0.78, 'subsample_freq': 3, 'colsample_bytree': 0.18, 'reg_lambda': 0.005372430050326603, 'reg_alpha': 5.754832348362136e-09, 'cat_smooth': 0.3422614211292056, 'cat_l2': 1.679808665417236e-05, 'num_leaves': 13}. Best is trial 16 with value: 0.8568496975432179.\u001b[0m\n"
     ]
    },
    {
     "name": "stdout",
     "output_type": "stream",
     "text": [
      "Fold 0 done in 187.5s.\n",
      "Fold 1 done in 189.1s.\n",
      "Fold 2 done in 167.7s.\n"
     ]
    },
    {
     "name": "stderr",
     "output_type": "stream",
     "text": [
      "\u001b[32m[I 2021-10-24 19:08:40,235]\u001b[0m Trial 35 finished with value: 0.8566219941227541 and parameters: {'max_depth': 5, 'learning_rate': 0.01, 'min_split_gain': 0.03369357503975801, 'min_child_weight': 0.0078030635763147015, 'min_child_samples': 1430, 'subsample': 0.78, 'subsample_freq': 6, 'colsample_bytree': 0.1, 'reg_lambda': 0.0003795832062857229, 'reg_alpha': 1.9220842467824916e-08, 'cat_smooth': 0.042893232467381845, 'cat_l2': 3.221331868961391e-08, 'num_leaves': 13}. Best is trial 16 with value: 0.8568496975432179.\u001b[0m\n",
      "\u001b[32m[I 2021-10-24 19:15:53,621]\u001b[0m Trial 36 pruned. \u001b[0m\n"
     ]
    },
    {
     "name": "stdout",
     "output_type": "stream",
     "text": [
      "Fold 0 done in 432.7s.\n",
      "Fold 0 done in 187.3s.\n",
      "Fold 1 done in 196.4s.\n",
      "Fold 2 done in 171.6s.\n"
     ]
    },
    {
     "name": "stderr",
     "output_type": "stream",
     "text": [
      "\u001b[32m[I 2021-10-24 19:25:12,320]\u001b[0m Trial 37 finished with value: 0.8567637341073345 and parameters: {'max_depth': 7, 'learning_rate': 0.01, 'min_split_gain': 0.0008333101621362511, 'min_child_weight': 0.011535146632665772, 'min_child_samples': 1790, 'subsample': 0.74, 'subsample_freq': 4, 'colsample_bytree': 0.22, 'reg_lambda': 0.007079046090205588, 'reg_alpha': 3.9519999275253824e-05, 'cat_smooth': 1.2095368607893963e-06, 'cat_l2': 0.0006320383970014197, 'num_leaves': 29}. Best is trial 16 with value: 0.8568496975432179.\u001b[0m\n",
      "\u001b[32m[I 2021-10-24 19:28:44,370]\u001b[0m Trial 38 pruned. \u001b[0m\n"
     ]
    },
    {
     "name": "stdout",
     "output_type": "stream",
     "text": [
      "Fold 0 done in 211.4s.\n"
     ]
    },
    {
     "name": "stderr",
     "output_type": "stream",
     "text": [
      "\u001b[32m[I 2021-10-24 19:31:39,126]\u001b[0m Trial 39 pruned. \u001b[0m\n"
     ]
    },
    {
     "name": "stdout",
     "output_type": "stream",
     "text": [
      "Fold 0 done in 174.1s.\n",
      "Fold 0 done in 277.4s.\n",
      "Fold 1 done in 285.6s.\n",
      "Fold 2 done in 265.2s.\n"
     ]
    },
    {
     "name": "stderr",
     "output_type": "stream",
     "text": [
      "\u001b[32m[I 2021-10-24 19:45:30,728]\u001b[0m Trial 40 finished with value: 0.8567480668125323 and parameters: {'max_depth': 5, 'learning_rate': 0.01, 'min_split_gain': 7.677924985446525e-06, 'min_child_weight': 0.14559791761875235, 'min_child_samples': 6010, 'subsample': 0.76, 'subsample_freq': 2, 'colsample_bytree': 0.4, 'reg_lambda': 6.463583974254451e-05, 'reg_alpha': 1.2716930091397456e-07, 'cat_smooth': 0.0006101933670553311, 'cat_l2': 1.157313139076524e-07, 'num_leaves': 14}. Best is trial 16 with value: 0.8568496975432179.\u001b[0m\n"
     ]
    },
    {
     "name": "stdout",
     "output_type": "stream",
     "text": [
      "Fold 0 done in 189.7s.\n",
      "Fold 1 done in 201.5s.\n",
      "Fold 2 done in 182.1s.\n"
     ]
    },
    {
     "name": "stderr",
     "output_type": "stream",
     "text": [
      "\u001b[32m[I 2021-10-24 19:55:07,467]\u001b[0m Trial 41 finished with value: 0.8568116117365685 and parameters: {'max_depth': 5, 'learning_rate': 0.01, 'min_split_gain': 0.19747786879658968, 'min_child_weight': 0.08024945657392157, 'min_child_samples': 1460, 'subsample': 0.77, 'subsample_freq': 3, 'colsample_bytree': 0.18, 'reg_lambda': 0.004592898137326209, 'reg_alpha': 5.122671331183343e-09, 'cat_smooth': 0.20401309340286267, 'cat_l2': 3.638504811439816e-05, 'num_leaves': 13}. Best is trial 16 with value: 0.8568496975432179.\u001b[0m\n",
      "\u001b[32m[I 2021-10-24 19:55:17,959]\u001b[0m Trial 42 pruned. \u001b[0m\n"
     ]
    },
    {
     "name": "stdout",
     "output_type": "stream",
     "text": [
      "Fold 0 done in 9.9s.\n",
      "Fold 0 done in 220.1s.\n",
      "Fold 1 done in 211.8s.\n",
      "Fold 2 done in 185.8s.\n"
     ]
    },
    {
     "name": "stderr",
     "output_type": "stream",
     "text": [
      "\u001b[32m[I 2021-10-24 20:05:39,108]\u001b[0m Trial 43 finished with value: 0.8568051160717648 and parameters: {'max_depth': 5, 'learning_rate': 0.01, 'min_split_gain': 0.0018524563086826182, 'min_child_weight': 0.0023896946167388288, 'min_child_samples': 1230, 'subsample': 0.6799999999999999, 'subsample_freq': 5, 'colsample_bytree': 0.23, 'reg_lambda': 0.0010996493183941932, 'reg_alpha': 2.539850974139884e-10, 'cat_smooth': 0.06993437591923579, 'cat_l2': 0.00011881417036457536, 'num_leaves': 11}. Best is trial 16 with value: 0.8568496975432179.\u001b[0m\n"
     ]
    },
    {
     "name": "stdout",
     "output_type": "stream",
     "text": [
      "Fold 0 done in 268.3s.\n",
      "Fold 1 done in 261.5s.\n",
      "Fold 2 done in 250.8s.\n"
     ]
    },
    {
     "name": "stderr",
     "output_type": "stream",
     "text": [
      "\u001b[32m[I 2021-10-24 20:18:43,162]\u001b[0m Trial 44 finished with value: 0.8567387526970659 and parameters: {'max_depth': 4, 'learning_rate': 0.01, 'min_split_gain': 0.011253343280829019, 'min_child_weight': 3.4224138401222763, 'min_child_samples': 1880, 'subsample': 0.78, 'subsample_freq': 1, 'colsample_bytree': 0.33, 'reg_lambda': 0.00300319050767907, 'reg_alpha': 7.329169049206847e-09, 'cat_smooth': 0.46216181205591966, 'cat_l2': 7.096349520913455e-07, 'num_leaves': 12}. Best is trial 16 with value: 0.8568496975432179.\u001b[0m\n"
     ]
    },
    {
     "name": "stdout",
     "output_type": "stream",
     "text": [
      "Fold 0 done in 200.9s.\n",
      "Fold 1 done in 184.6s.\n",
      "Fold 2 done in 179.0s.\n"
     ]
    },
    {
     "name": "stderr",
     "output_type": "stream",
     "text": [
      "\u001b[32m[I 2021-10-24 20:28:11,215]\u001b[0m Trial 45 finished with value: 0.8567997004346481 and parameters: {'max_depth': 5, 'learning_rate': 0.01, 'min_split_gain': 0.7649362606876722, 'min_child_weight': 0.2076528433759741, 'min_child_samples': 590, 'subsample': 0.65, 'subsample_freq': 4, 'colsample_bytree': 0.2, 'reg_lambda': 0.00027572740592419386, 'reg_alpha': 1.0705806851026484e-10, 'cat_smooth': 2.0383738941207716, 'cat_l2': 2.1112573956242216e-07, 'num_leaves': 14}. Best is trial 16 with value: 0.8568496975432179.\u001b[0m\n"
     ]
    },
    {
     "name": "stdout",
     "output_type": "stream",
     "text": [
      "Fold 0 done in 203.7s.\n",
      "Fold 1 done in 233.0s.\n",
      "Fold 2 done in 197.5s.\n"
     ]
    },
    {
     "name": "stderr",
     "output_type": "stream",
     "text": [
      "\u001b[32m[I 2021-10-24 20:38:48,938]\u001b[0m Trial 46 finished with value: 0.8567814990094518 and parameters: {'max_depth': 7, 'learning_rate': 0.01, 'min_split_gain': 0.12123684006016956, 'min_child_weight': 19.25799774777725, 'min_child_samples': 3490, 'subsample': 0.87, 'subsample_freq': 3, 'colsample_bytree': 0.22, 'reg_lambda': 0.03849711625604168, 'reg_alpha': 2.4243410847320957e-09, 'cat_smooth': 0.006480431099609149, 'cat_l2': 67.1097468468325, 'num_leaves': 28}. Best is trial 16 with value: 0.8568496975432179.\u001b[0m\n"
     ]
    },
    {
     "name": "stdout",
     "output_type": "stream",
     "text": [
      "Fold 0 done in 205.2s.\n"
     ]
    },
    {
     "name": "stderr",
     "output_type": "stream",
     "text": [
      "\u001b[32m[I 2021-10-24 20:45:47,591]\u001b[0m Trial 47 pruned. \u001b[0m\n"
     ]
    },
    {
     "name": "stdout",
     "output_type": "stream",
     "text": [
      "Fold 1 done in 211.7s.\n"
     ]
    },
    {
     "name": "stderr",
     "output_type": "stream",
     "text": [
      "\u001b[32m[I 2021-10-24 20:51:01,325]\u001b[0m Trial 48 pruned. \u001b[0m\n"
     ]
    },
    {
     "name": "stdout",
     "output_type": "stream",
     "text": [
      "Fold 0 done in 313.1s.\n"
     ]
    },
    {
     "name": "stderr",
     "output_type": "stream",
     "text": [
      "\u001b[32m[I 2021-10-24 20:56:54,241]\u001b[0m Trial 49 pruned. \u001b[0m\n"
     ]
    },
    {
     "name": "stdout",
     "output_type": "stream",
     "text": [
      "Fold 0 done in 352.3s.\n"
     ]
    }
   ],
   "source": [
    "# Hide output\n",
    "study = parameter_search(NUM_TRIALS)"
   ]
  },
  {
   "cell_type": "markdown",
   "id": "63a8ec58",
   "metadata": {},
   "source": [
    "## 1. Best Parameters"
   ]
  },
  {
   "cell_type": "code",
   "execution_count": 11,
   "id": "92ba5793",
   "metadata": {},
   "outputs": [
    {
     "name": "stdout",
     "output_type": "stream",
     "text": [
      "Best Parameters: {'max_depth': 6, 'learning_rate': 0.01, 'min_split_gain': 0.7624499003351858, 'min_child_weight': 0.0008262510967999328, 'min_child_samples': 3170, 'subsample': 0.86, 'subsample_freq': 3, 'colsample_bytree': 0.24000000000000002, 'reg_lambda': 0.00018513239537346443, 'reg_alpha': 2.897981474275491e-10, 'cat_smooth': 0.0006369811869977466, 'cat_l2': 1.6177560603036794e-06, 'num_leaves': 13}\n"
     ]
    }
   ],
   "source": [
    "print(\"Best Parameters:\", study.best_params)"
   ]
  },
  {
   "cell_type": "markdown",
   "id": "f00cc399",
   "metadata": {},
   "source": [
    "## 2. Parameter Importances"
   ]
  },
  {
   "cell_type": "code",
   "execution_count": 12,
   "id": "6b4e6285",
   "metadata": {},
   "outputs": [
    {
     "data": {
      "image/png": "[encoded data removed]",
      "text/plain": [
       "<IPython.core.display.Image object>"
      ]
     },
     "execution_count": 12,
     "metadata": {},
     "output_type": "execute_result"
    }
   ],
   "source": [
    "fig = plot_param_importances(study)\n",
    "img_bytes = fig.to_image(format=\"png\", engine=\"kaleido\")\n",
    "Image(img_bytes)"
   ]
  },
  {
   "cell_type": "markdown",
   "id": "eb6a0474",
   "metadata": {},
   "source": [
    "## 3. Parallel Coordinate Plots"
   ]
  },
  {
   "cell_type": "code",
   "execution_count": 19,
   "id": "738c9f7d",
   "metadata": {},
   "outputs": [
    {
     "data": {
      "application/vnd.plotly.v1+json": {
       "config": {
        "plotlyServerURL": "https://plot.ly"
       },
       "data": [
        {
         "dimensions": [
          {
           "label": "Objective Value",
           "range": [
            0.855903617092043,
            0.8568496975432179
           ],
           "values": [
            0.8565316285333782,
            0.8563072054573467,
            0.855903617092043,
            0.8567617962281703,
            0.8562864784617643,
            0.8564384580720188,
            0.8567136153133164,
            0.8565106454468868,
            0.8565884743524185,
            0.8567244860755868,
            0.8567952141210764,
            0.8568366305762058,
            0.856735235104409,
            0.8568496975432179,
            0.8566062723745671,
            0.8567782616837265,
            0.856639084496234,
            0.856827041271146,
            0.8567457127569748,
            0.8567556758863878,
            0.8566632843537644,
            0.8567886916775805,
            0.8566604929271272,
            0.8568139982241565,
            0.8568171079337611,
            0.8568162603969606,
            0.8566219941227541,
            0.8567637341073345,
            0.8567480668125323,
            0.8568116117365685,
            0.8568051160717648,
            0.8567387526970659,
            0.8567997004346481,
            0.8567814990094518
           ]
          },
          {
           "label": "colsample_bytree",
           "range": [
            0.1,
            0.91
           ],
           "values": [
            0.41000000000000003,
            0.91,
            0.91,
            0.21000000000000002,
            0.61,
            0.73,
            0.38,
            0.74,
            0.2,
            0.36,
            0.26,
            0.24000000000000002,
            0.5,
            0.24000000000000002,
            0.51,
            0.25,
            0.45000000000000007,
            0.29000000000000004,
            0.30000000000000004,
            0.18,
            0.15000000000000002,
            0.25,
            0.44000000000000006,
            0.28,
            0.22,
            0.18,
            0.1,
            0.22,
            0.4,
            0.18,
            0.23,
            0.33,
            0.2,
            0.22
           ]
          },
          {
           "label": "min_child_samples",
           "range": [
            150,
            10000
           ],
           "values": [
            8420,
            8240,
            6540,
            1720,
            6800,
            10000,
            6410,
            3190,
            150,
            2310,
            2170,
            2020,
            4570,
            3170,
            5410,
            1040,
            5340,
            2500,
            3020,
            2730,
            660,
            2000,
            3860,
            2410,
            1550,
            1490,
            1430,
            1790,
            6010,
            1460,
            1230,
            1880,
            590,
            3490
           ]
          },
          {
           "label": "reg_lambda",
           "range": [
            -9.835484594447557,
            1.8932329153588097
           ],
           "ticktext": [
            "1.46e-10",
            "1e-09",
            "1e-08",
            "1e-07",
            "1e-06",
            "1e-05",
            "0.0001",
            "0.001",
            "0.01",
            "0.1",
            "1",
            "10",
            "78.2"
           ],
           "tickvals": [
            -9.835484594447557,
            -9,
            -8,
            -7,
            -6,
            -5,
            -4,
            -3,
            -2,
            -1,
            0,
            1,
            1.8932329153588097
           ],
           "values": [
            -9.367595359217422,
            -4.848252180278688,
            1.8932329153588097,
            -1.4897995256870387,
            0.007927616241407393,
            -9.835484594447557,
            -1.490502939702244,
            -7.021279439836323,
            -2.8370719866016576,
            -1.2590631415942635,
            -4.42969030901962,
            -4.255884209764586,
            -4.838363730446991,
            -3.732517579621379,
            -3.2278423071521907,
            -5.5875000524430165,
            -3.023029641524607,
            -3.9772167981699758,
            -3.72135061598842,
            -6.224062714046517,
            -3.910889994206683,
            -5.414946212821707,
            -4.054983459586242,
            -4.7776225221101045,
            -2.4663744328136623,
            -2.269829230365125,
            -3.420693010098218,
            -2.1500252600603584,
            -4.189526604507622,
            -2.3379131863886737,
            -2.958745790630914,
            -2.522417117414896,
            -3.5595200650508545,
            -1.4145718014264175
           ]
          },
          {
           "label": "subsample",
           "range": [
            0.5,
            0.99
           ],
           "values": [
            0.59,
            0.78,
            0.99,
            0.54,
            0.5,
            0.81,
            0.61,
            0.64,
            0.94,
            0.59,
            0.7,
            0.72,
            0.72,
            0.86,
            0.9,
            0.8500000000000001,
            0.89,
            0.71,
            0.69,
            0.76,
            0.67,
            0.8,
            0.86,
            0.7,
            0.77,
            0.78,
            0.78,
            0.74,
            0.76,
            0.77,
            0.6799999999999999,
            0.78,
            0.65,
            0.87
           ]
          },
          {
           "label": "subsample_freq",
           "range": [
            0,
            7
           ],
           "values": [
            0,
            6,
            7,
            2,
            4,
            2,
            5,
            5,
            0,
            2,
            2,
            2,
            1,
            3,
            7,
            4,
            3,
            1,
            1,
            1,
            1,
            3,
            4,
            2,
            3,
            3,
            6,
            4,
            2,
            3,
            5,
            1,
            4,
            3
           ]
          }
         ],
         "labelangle": 30,
         "labelside": "bottom",
         "line": {
          "color": [
           0.8565316285333782,
           0.8563072054573467,
           0.855903617092043,
           0.8567617962281703,
           0.8562864784617643,
           0.8564384580720188,
           0.8567136153133164,
           0.8565106454468868,
           0.8565884743524185,
           0.8567244860755868,
           0.8567952141210764,
           0.8568366305762058,
           0.856735235104409,
           0.8568496975432179,
           0.8566062723745671,
           0.8567782616837265,
           0.856639084496234,
           0.856827041271146,
           0.8567457127569748,
           0.8567556758863878,
           0.8566632843537644,
           0.8567886916775805,
           0.8566604929271272,
           0.8568139982241565,
           0.8568171079337611,
           0.8568162603969606,
           0.8566219941227541,
           0.8567637341073345,
           0.8567480668125323,
           0.8568116117365685,
           0.8568051160717648,
           0.8567387526970659,
           0.8567997004346481,
           0.8567814990094518
          ],
          "colorbar": {
           "title": {
            "text": "Objective Value"
           }
          },
          "colorscale": [
           [
            0,
            "rgb(247,251,255)"
           ],
           [
            0.125,
            "rgb(222,235,247)"
           ],
           [
            0.25,
            "rgb(198,219,239)"
           ],
           [
            0.375,
            "rgb(158,202,225)"
           ],
           [
            0.5,
            "rgb(107,174,214)"
           ],
           [
            0.625,
            "rgb(66,146,198)"
           ],
           [
            0.75,
            "rgb(33,113,181)"
           ],
           [
            0.875,
            "rgb(8,81,156)"
           ],
           [
            1,
            "rgb(8,48,107)"
           ]
          ],
          "reversescale": false,
          "showscale": true
         },
         "type": "parcoords"
        }
       ],
       "layout": {
        "template": {
         "data": {
          "bar": [
           {
            "error_x": {
             "color": "#2a3f5f"
            },
            "error_y": {
             "color": "#2a3f5f"
            },
            "marker": {
             "line": {
              "color": "#E5ECF6",
              "width": 0.5
             },
             "pattern": {
              "fillmode": "overlay",
              "size": 10,
              "solidity": 0.2
             }
            },
            "type": "bar"
           }
          ],
          "barpolar": [
           {
            "marker": {
             "line": {
              "color": "#E5ECF6",
              "width": 0.5
             },
             "pattern": {
              "fillmode": "overlay",
              "size": 10,
              "solidity": 0.2
             }
            },
            "type": "barpolar"
           }
          ],
          "carpet": [
           {
            "aaxis": {
             "endlinecolor": "#2a3f5f",
             "gridcolor": "white",
             "linecolor": "white",
             "minorgridcolor": "white",
             "startlinecolor": "#2a3f5f"
            },
            "baxis": {
             "endlinecolor": "#2a3f5f",
             "gridcolor": "white",
             "linecolor": "white",
             "minorgridcolor": "white",
             "startlinecolor": "#2a3f5f"
            },
            "type": "carpet"
           }
          ],
          "choropleth": [
           {
            "colorbar": {
             "outlinewidth": 0,
             "ticks": ""
            },
            "type": "choropleth"
           }
          ],
          "contour": [
           {
            "colorbar": {
             "outlinewidth": 0,
             "ticks": ""
            },
            "colorscale": [
             [
              0,
              "#0d0887"
             ],
             [
              0.1111111111111111,
              "#46039f"
             ],
             [
              0.2222222222222222,
              "#7201a8"
             ],
             [
              0.3333333333333333,
              "#9c179e"
             ],
             [
              0.4444444444444444,
              "#bd3786"
             ],
             [
              0.5555555555555556,
              "#d8576b"
             ],
             [
              0.6666666666666666,
              "#ed7953"
             ],
             [
              0.7777777777777778,
              "#fb9f3a"
             ],
             [
              0.8888888888888888,
              "#fdca26"
             ],
             [
              1,
              "#f0f921"
             ]
            ],
            "type": "contour"
           }
          ],
          "contourcarpet": [
           {
            "colorbar": {
             "outlinewidth": 0,
             "ticks": ""
            },
            "type": "contourcarpet"
           }
          ],
          "heatmap": [
           {
            "colorbar": {
             "outlinewidth": 0,
             "ticks": ""
            },
            "colorscale": [
             [
              0,
              "#0d0887"
             ],
             [
              0.1111111111111111,
              "#46039f"
             ],
             [
              0.2222222222222222,
              "#7201a8"
             ],
             [
              0.3333333333333333,
              "#9c179e"
             ],
             [
              0.4444444444444444,
              "#bd3786"
             ],
             [
              0.5555555555555556,
              "#d8576b"
             ],
             [
              0.6666666666666666,
              "#ed7953"
             ],
             [
              0.7777777777777778,
              "#fb9f3a"
             ],
             [
              0.8888888888888888,
              "#fdca26"
             ],
             [
              1,
              "#f0f921"
             ]
            ],
            "type": "heatmap"
           }
          ],
          "heatmapgl": [
           {
            "colorbar": {
             "outlinewidth": 0,
             "ticks": ""
            },
            "colorscale": [
             [
              0,
              "#0d0887"
             ],
             [
              0.1111111111111111,
              "#46039f"
             ],
             [
              0.2222222222222222,
              "#7201a8"
             ],
             [
              0.3333333333333333,
              "#9c179e"
             ],
             [
              0.4444444444444444,
              "#bd3786"
             ],
             [
              0.5555555555555556,
              "#d8576b"
             ],
             [
              0.6666666666666666,
              "#ed7953"
             ],
             [
              0.7777777777777778,
              "#fb9f3a"
             ],
             [
              0.8888888888888888,
              "#fdca26"
             ],
             [
              1,
              "#f0f921"
             ]
            ],
            "type": "heatmapgl"
           }
          ],
          "histogram": [
           {
            "marker": {
             "pattern": {
              "fillmode": "overlay",
              "size": 10,
              "solidity": 0.2
             }
            },
            "type": "histogram"
           }
          ],
          "histogram2d": [
           {
            "colorbar": {
             "outlinewidth": 0,
             "ticks": ""
            },
            "colorscale": [
             [
              0,
              "#0d0887"
             ],
             [
              0.1111111111111111,
              "#46039f"
             ],
             [
              0.2222222222222222,
              "#7201a8"
             ],
             [
              0.3333333333333333,
              "#9c179e"
             ],
             [
              0.4444444444444444,
              "#bd3786"
             ],
             [
              0.5555555555555556,
              "#d8576b"
             ],
             [
              0.6666666666666666,
              "#ed7953"
             ],
             [
              0.7777777777777778,
              "#fb9f3a"
             ],
             [
              0.8888888888888888,
              "#fdca26"
             ],
             [
              1,
              "#f0f921"
             ]
            ],
            "type": "histogram2d"
           }
          ],
          "histogram2dcontour": [
           {
            "colorbar": {
             "outlinewidth": 0,
             "ticks": ""
            },
            "colorscale": [
             [
              0,
              "#0d0887"
             ],
             [
              0.1111111111111111,
              "#46039f"
             ],
             [
              0.2222222222222222,
              "#7201a8"
             ],
             [
              0.3333333333333333,
              "#9c179e"
             ],
             [
              0.4444444444444444,
              "#bd3786"
             ],
             [
              0.5555555555555556,
              "#d8576b"
             ],
             [
              0.6666666666666666,
              "#ed7953"
             ],
             [
              0.7777777777777778,
              "#fb9f3a"
             ],
             [
              0.8888888888888888,
              "#fdca26"
             ],
             [
              1,
              "#f0f921"
             ]
            ],
            "type": "histogram2dcontour"
           }
          ],
          "mesh3d": [
           {
            "colorbar": {
             "outlinewidth": 0,
             "ticks": ""
            },
            "type": "mesh3d"
           }
          ],
          "parcoords": [
           {
            "line": {
             "colorbar": {
              "outlinewidth": 0,
              "ticks": ""
             }
            },
            "type": "parcoords"
           }
          ],
          "pie": [
           {
            "automargin": true,
            "type": "pie"
           }
          ],
          "scatter": [
           {
            "marker": {
             "colorbar": {
              "outlinewidth": 0,
              "ticks": ""
             }
            },
            "type": "scatter"
           }
          ],
          "scatter3d": [
           {
            "line": {
             "colorbar": {
              "outlinewidth": 0,
              "ticks": ""
             }
            },
            "marker": {
             "colorbar": {
              "outlinewidth": 0,
              "ticks": ""
             }
            },
            "type": "scatter3d"
           }
          ],
          "scattercarpet": [
           {
            "marker": {
             "colorbar": {
              "outlinewidth": 0,
              "ticks": ""
             }
            },
            "type": "scattercarpet"
           }
          ],
          "scattergeo": [
           {
            "marker": {
             "colorbar": {
              "outlinewidth": 0,
              "ticks": ""
             }
            },
            "type": "scattergeo"
           }
          ],
          "scattergl": [
           {
            "marker": {
             "colorbar": {
              "outlinewidth": 0,
              "ticks": ""
             }
            },
            "type": "scattergl"
           }
          ],
          "scattermapbox": [
           {
            "marker": {
             "colorbar": {
              "outlinewidth": 0,
              "ticks": ""
             }
            },
            "type": "scattermapbox"
           }
          ],
          "scatterpolar": [
           {
            "marker": {
             "colorbar": {
              "outlinewidth": 0,
              "ticks": ""
             }
            },
            "type": "scatterpolar"
           }
          ],
          "scatterpolargl": [
           {
            "marker": {
             "colorbar": {
              "outlinewidth": 0,
              "ticks": ""
             }
            },
            "type": "scatterpolargl"
           }
          ],
          "scatterternary": [
           {
            "marker": {
             "colorbar": {
              "outlinewidth": 0,
              "ticks": ""
             }
            },
            "type": "scatterternary"
           }
          ],
          "surface": [
           {
            "colorbar": {
             "outlinewidth": 0,
             "ticks": ""
            },
            "colorscale": [
             [
              0,
              "#0d0887"
             ],
             [
              0.1111111111111111,
              "#46039f"
             ],
             [
              0.2222222222222222,
              "#7201a8"
             ],
             [
              0.3333333333333333,
              "#9c179e"
             ],
             [
              0.4444444444444444,
              "#bd3786"
             ],
             [
              0.5555555555555556,
              "#d8576b"
             ],
             [
              0.6666666666666666,
              "#ed7953"
             ],
             [
              0.7777777777777778,
              "#fb9f3a"
             ],
             [
              0.8888888888888888,
              "#fdca26"
             ],
             [
              1,
              "#f0f921"
             ]
            ],
            "type": "surface"
           }
          ],
          "table": [
           {
            "cells": {
             "fill": {
              "color": "#EBF0F8"
             },
             "line": {
              "color": "white"
             }
            },
            "header": {
             "fill": {
              "color": "#C8D4E3"
             },
             "line": {
              "color": "white"
             }
            },
            "type": "table"
           }
          ]
         },
         "layout": {
          "annotationdefaults": {
           "arrowcolor": "#2a3f5f",
           "arrowhead": 0,
           "arrowwidth": 1
          },
          "autotypenumbers": "strict",
          "coloraxis": {
           "colorbar": {
            "outlinewidth": 0,
            "ticks": ""
           }
          },
          "colorscale": {
           "diverging": [
            [
             0,
             "#8e0152"
            ],
            [
             0.1,
             "#c51b7d"
            ],
            [
             0.2,
             "#de77ae"
            ],
            [
             0.3,
             "#f1b6da"
            ],
            [
             0.4,
             "#fde0ef"
            ],
            [
             0.5,
             "#f7f7f7"
            ],
            [
             0.6,
             "#e6f5d0"
            ],
            [
             0.7,
             "#b8e186"
            ],
            [
             0.8,
             "#7fbc41"
            ],
            [
             0.9,
             "#4d9221"
            ],
            [
             1,
             "#276419"
            ]
           ],
           "sequential": [
            [
             0,
             "#0d0887"
            ],
            [
             0.1111111111111111,
             "#46039f"
            ],
            [
             0.2222222222222222,
             "#7201a8"
            ],
            [
             0.3333333333333333,
             "#9c179e"
            ],
            [
             0.4444444444444444,
             "#bd3786"
            ],
            [
             0.5555555555555556,
             "#d8576b"
            ],
            [
             0.6666666666666666,
             "#ed7953"
            ],
            [
             0.7777777777777778,
             "#fb9f3a"
            ],
            [
             0.8888888888888888,
             "#fdca26"
            ],
            [
             1,
             "#f0f921"
            ]
           ],
           "sequentialminus": [
            [
             0,
             "#0d0887"
            ],
            [
             0.1111111111111111,
             "#46039f"
            ],
            [
             0.2222222222222222,
             "#7201a8"
            ],
            [
             0.3333333333333333,
             "#9c179e"
            ],
            [
             0.4444444444444444,
             "#bd3786"
            ],
            [
             0.5555555555555556,
             "#d8576b"
            ],
            [
             0.6666666666666666,
             "#ed7953"
            ],
            [
             0.7777777777777778,
             "#fb9f3a"
            ],
            [
             0.8888888888888888,
             "#fdca26"
            ],
            [
             1,
             "#f0f921"
            ]
           ]
          },
          "colorway": [
           "#636efa",
           "#EF553B",
           "#00cc96",
           "#ab63fa",
           "#FFA15A",
           "#19d3f3",
           "#FF6692",
           "#B6E880",
           "#FF97FF",
           "#FECB52"
          ],
          "font": {
           "color": "#2a3f5f"
          },
          "geo": {
           "bgcolor": "white",
           "lakecolor": "white",
           "landcolor": "#E5ECF6",
           "showlakes": true,
           "showland": true,
           "subunitcolor": "white"
          },
          "hoverlabel": {
           "align": "left"
          },
          "hovermode": "closest",
          "mapbox": {
           "style": "light"
          },
          "paper_bgcolor": "white",
          "plot_bgcolor": "#E5ECF6",
          "polar": {
           "angularaxis": {
            "gridcolor": "white",
            "linecolor": "white",
            "ticks": ""
           },
           "bgcolor": "#E5ECF6",
           "radialaxis": {
            "gridcolor": "white",
            "linecolor": "white",
            "ticks": ""
           }
          },
          "scene": {
           "xaxis": {
            "backgroundcolor": "#E5ECF6",
            "gridcolor": "white",
            "gridwidth": 2,
            "linecolor": "white",
            "showbackground": true,
            "ticks": "",
            "zerolinecolor": "white"
           },
           "yaxis": {
            "backgroundcolor": "#E5ECF6",
            "gridcolor": "white",
            "gridwidth": 2,
            "linecolor": "white",
            "showbackground": true,
            "ticks": "",
            "zerolinecolor": "white"
           },
           "zaxis": {
            "backgroundcolor": "#E5ECF6",
            "gridcolor": "white",
            "gridwidth": 2,
            "linecolor": "white",
            "showbackground": true,
            "ticks": "",
            "zerolinecolor": "white"
           }
          },
          "shapedefaults": {
           "line": {
            "color": "#2a3f5f"
           }
          },
          "ternary": {
           "aaxis": {
            "gridcolor": "white",
            "linecolor": "white",
            "ticks": ""
           },
           "baxis": {
            "gridcolor": "white",
            "linecolor": "white",
            "ticks": ""
           },
           "bgcolor": "#E5ECF6",
           "caxis": {
            "gridcolor": "white",
            "linecolor": "white",
            "ticks": ""
           }
          },
          "title": {
           "x": 0.05
          },
          "xaxis": {
           "automargin": true,
           "gridcolor": "white",
           "linecolor": "white",
           "ticks": "",
           "title": {
            "standoff": 15
           },
           "zerolinecolor": "white",
           "zerolinewidth": 2
          },
          "yaxis": {
           "automargin": true,
           "gridcolor": "white",
           "linecolor": "white",
           "ticks": "",
           "title": {
            "standoff": 15
           },
           "zerolinecolor": "white",
           "zerolinewidth": 2
          }
         }
        },
        "title": {
         "text": "Parallel Coordinate Plot"
        }
       }
      },
      "text/html": [
       "<div>                            <div id=\"d9561865-906b-42bc-96bd-236efe705753\" class=\"plotly-graph-div\" style=\"height:525px; width:100%;\"></div>            <script type=\"text/javascript\">                require([\"plotly\"], function(Plotly) {                    window.PLOTLYENV=window.PLOTLYENV || {};                                    if (document.getElementById(\"d9561865-906b-42bc-96bd-236efe705753\")) {                    Plotly.newPlot(                        \"d9561865-906b-42bc-96bd-236efe705753\",                        [{\"dimensions\":[{\"label\":\"Objective Value\",\"range\":[0.855903617092043,0.8568496975432179],\"values\":[0.8565316285333782,0.8563072054573467,0.855903617092043,0.8567617962281703,0.8562864784617643,0.8564384580720188,0.8567136153133164,0.8565106454468868,0.8565884743524185,0.8567244860755868,0.8567952141210764,0.8568366305762058,0.856735235104409,0.8568496975432179,0.8566062723745671,0.8567782616837265,0.856639084496234,0.856827041271146,0.8567457127569748,0.8567556758863878,0.8566632843537644,0.8567886916775805,0.8566604929271272,0.8568139982241565,0.8568171079337611,0.8568162603969606,0.8566219941227541,0.8567637341073345,0.8567480668125323,0.8568116117365685,0.8568051160717648,0.8567387526970659,0.8567997004346481,0.8567814990094518]},{\"label\":\"colsample_bytree\",\"range\":[0.1,0.91],\"values\":[0.41000000000000003,0.91,0.91,0.21000000000000002,0.61,0.73,0.38,0.74,0.2,0.36,0.26,0.24000000000000002,0.5,0.24000000000000002,0.51,0.25,0.45000000000000007,0.29000000000000004,0.30000000000000004,0.18,0.15000000000000002,0.25,0.44000000000000006,0.28,0.22,0.18,0.1,0.22,0.4,0.18,0.23,0.33,0.2,0.22]},{\"label\":\"min_child_samples\",\"range\":[150,10000],\"values\":[8420,8240,6540,1720,6800,10000,6410,3190,150,2310,2170,2020,4570,3170,5410,1040,5340,2500,3020,2730,660,2000,3860,2410,1550,1490,1430,1790,6010,1460,1230,1880,590,3490]},{\"label\":\"reg_lambda\",\"range\":[-9.835484594447557,1.8932329153588097],\"ticktext\":[\"1.46e-10\",\"1e-09\",\"1e-08\",\"1e-07\",\"1e-06\",\"1e-05\",\"0.0001\",\"0.001\",\"0.01\",\"0.1\",\"1\",\"10\",\"78.2\"],\"tickvals\":[-9.835484594447557,-9,-8,-7,-6,-5,-4,-3,-2,-1,0,1,1.8932329153588097],\"values\":[-9.367595359217422,-4.848252180278688,1.8932329153588097,-1.4897995256870387,0.007927616241407393,-9.835484594447557,-1.490502939702244,-7.021279439836323,-2.8370719866016576,-1.2590631415942635,-4.42969030901962,-4.255884209764586,-4.838363730446991,-3.732517579621379,-3.2278423071521907,-5.5875000524430165,-3.023029641524607,-3.9772167981699758,-3.72135061598842,-6.224062714046517,-3.910889994206683,-5.414946212821707,-4.054983459586242,-4.7776225221101045,-2.4663744328136623,-2.269829230365125,-3.420693010098218,-2.1500252600603584,-4.189526604507622,-2.3379131863886737,-2.958745790630914,-2.522417117414896,-3.5595200650508545,-1.4145718014264175]},{\"label\":\"subsample\",\"range\":[0.5,0.99],\"values\":[0.59,0.78,0.99,0.54,0.5,0.81,0.61,0.64,0.94,0.59,0.7,0.72,0.72,0.86,0.9,0.8500000000000001,0.89,0.71,0.69,0.76,0.67,0.8,0.86,0.7,0.77,0.78,0.78,0.74,0.76,0.77,0.6799999999999999,0.78,0.65,0.87]},{\"label\":\"subsample_freq\",\"range\":[0,7],\"values\":[0,6,7,2,4,2,5,5,0,2,2,2,1,3,7,4,3,1,1,1,1,3,4,2,3,3,6,4,2,3,5,1,4,3]}],\"labelangle\":30,\"labelside\":\"bottom\",\"line\":{\"color\":[0.8565316285333782,0.8563072054573467,0.855903617092043,0.8567617962281703,0.8562864784617643,0.8564384580720188,0.8567136153133164,0.8565106454468868,0.8565884743524185,0.8567244860755868,0.8567952141210764,0.8568366305762058,0.856735235104409,0.8568496975432179,0.8566062723745671,0.8567782616837265,0.856639084496234,0.856827041271146,0.8567457127569748,0.8567556758863878,0.8566632843537644,0.8567886916775805,0.8566604929271272,0.8568139982241565,0.8568171079337611,0.8568162603969606,0.8566219941227541,0.8567637341073345,0.8567480668125323,0.8568116117365685,0.8568051160717648,0.8567387526970659,0.8567997004346481,0.8567814990094518],\"colorbar\":{\"title\":{\"text\":\"Objective Value\"}},\"colorscale\":[[0.0,\"rgb(247,251,255)\"],[0.125,\"rgb(222,235,247)\"],[0.25,\"rgb(198,219,239)\"],[0.375,\"rgb(158,202,225)\"],[0.5,\"rgb(107,174,214)\"],[0.625,\"rgb(66,146,198)\"],[0.75,\"rgb(33,113,181)\"],[0.875,\"rgb(8,81,156)\"],[1.0,\"rgb(8,48,107)\"]],\"reversescale\":false,\"showscale\":true},\"type\":\"parcoords\"}],                        {\"template\":{\"data\":{\"bar\":[{\"error_x\":{\"color\":\"#2a3f5f\"},\"error_y\":{\"color\":\"#2a3f5f\"},\"marker\":{\"line\":{\"color\":\"#E5ECF6\",\"width\":0.5},\"pattern\":{\"fillmode\":\"overlay\",\"size\":10,\"solidity\":0.2}},\"type\":\"bar\"}],\"barpolar\":[{\"marker\":{\"line\":{\"color\":\"#E5ECF6\",\"width\":0.5},\"pattern\":{\"fillmode\":\"overlay\",\"size\":10,\"solidity\":0.2}},\"type\":\"barpolar\"}],\"carpet\":[{\"aaxis\":{\"endlinecolor\":\"#2a3f5f\",\"gridcolor\":\"white\",\"linecolor\":\"white\",\"minorgridcolor\":\"white\",\"startlinecolor\":\"#2a3f5f\"},\"baxis\":{\"endlinecolor\":\"#2a3f5f\",\"gridcolor\":\"white\",\"linecolor\":\"white\",\"minorgridcolor\":\"white\",\"startlinecolor\":\"#2a3f5f\"},\"type\":\"carpet\"}],\"choropleth\":[{\"colorbar\":{\"outlinewidth\":0,\"ticks\":\"\"},\"type\":\"choropleth\"}],\"contour\":[{\"colorbar\":{\"outlinewidth\":0,\"ticks\":\"\"},\"colorscale\":[[0.0,\"#0d0887\"],[0.1111111111111111,\"#46039f\"],[0.2222222222222222,\"#7201a8\"],[0.3333333333333333,\"#9c179e\"],[0.4444444444444444,\"#bd3786\"],[0.5555555555555556,\"#d8576b\"],[0.6666666666666666,\"#ed7953\"],[0.7777777777777778,\"#fb9f3a\"],[0.8888888888888888,\"#fdca26\"],[1.0,\"#f0f921\"]],\"type\":\"contour\"}],\"contourcarpet\":[{\"colorbar\":{\"outlinewidth\":0,\"ticks\":\"\"},\"type\":\"contourcarpet\"}],\"heatmap\":[{\"colorbar\":{\"outlinewidth\":0,\"ticks\":\"\"},\"colorscale\":[[0.0,\"#0d0887\"],[0.1111111111111111,\"#46039f\"],[0.2222222222222222,\"#7201a8\"],[0.3333333333333333,\"#9c179e\"],[0.4444444444444444,\"#bd3786\"],[0.5555555555555556,\"#d8576b\"],[0.6666666666666666,\"#ed7953\"],[0.7777777777777778,\"#fb9f3a\"],[0.8888888888888888,\"#fdca26\"],[1.0,\"#f0f921\"]],\"type\":\"heatmap\"}],\"heatmapgl\":[{\"colorbar\":{\"outlinewidth\":0,\"ticks\":\"\"},\"colorscale\":[[0.0,\"#0d0887\"],[0.1111111111111111,\"#46039f\"],[0.2222222222222222,\"#7201a8\"],[0.3333333333333333,\"#9c179e\"],[0.4444444444444444,\"#bd3786\"],[0.5555555555555556,\"#d8576b\"],[0.6666666666666666,\"#ed7953\"],[0.7777777777777778,\"#fb9f3a\"],[0.8888888888888888,\"#fdca26\"],[1.0,\"#f0f921\"]],\"type\":\"heatmapgl\"}],\"histogram\":[{\"marker\":{\"pattern\":{\"fillmode\":\"overlay\",\"size\":10,\"solidity\":0.2}},\"type\":\"histogram\"}],\"histogram2d\":[{\"colorbar\":{\"outlinewidth\":0,\"ticks\":\"\"},\"colorscale\":[[0.0,\"#0d0887\"],[0.1111111111111111,\"#46039f\"],[0.2222222222222222,\"#7201a8\"],[0.3333333333333333,\"#9c179e\"],[0.4444444444444444,\"#bd3786\"],[0.5555555555555556,\"#d8576b\"],[0.6666666666666666,\"#ed7953\"],[0.7777777777777778,\"#fb9f3a\"],[0.8888888888888888,\"#fdca26\"],[1.0,\"#f0f921\"]],\"type\":\"histogram2d\"}],\"histogram2dcontour\":[{\"colorbar\":{\"outlinewidth\":0,\"ticks\":\"\"},\"colorscale\":[[0.0,\"#0d0887\"],[0.1111111111111111,\"#46039f\"],[0.2222222222222222,\"#7201a8\"],[0.3333333333333333,\"#9c179e\"],[0.4444444444444444,\"#bd3786\"],[0.5555555555555556,\"#d8576b\"],[0.6666666666666666,\"#ed7953\"],[0.7777777777777778,\"#fb9f3a\"],[0.8888888888888888,\"#fdca26\"],[1.0,\"#f0f921\"]],\"type\":\"histogram2dcontour\"}],\"mesh3d\":[{\"colorbar\":{\"outlinewidth\":0,\"ticks\":\"\"},\"type\":\"mesh3d\"}],\"parcoords\":[{\"line\":{\"colorbar\":{\"outlinewidth\":0,\"ticks\":\"\"}},\"type\":\"parcoords\"}],\"pie\":[{\"automargin\":true,\"type\":\"pie\"}],\"scatter\":[{\"marker\":{\"colorbar\":{\"outlinewidth\":0,\"ticks\":\"\"}},\"type\":\"scatter\"}],\"scatter3d\":[{\"line\":{\"colorbar\":{\"outlinewidth\":0,\"ticks\":\"\"}},\"marker\":{\"colorbar\":{\"outlinewidth\":0,\"ticks\":\"\"}},\"type\":\"scatter3d\"}],\"scattercarpet\":[{\"marker\":{\"colorbar\":{\"outlinewidth\":0,\"ticks\":\"\"}},\"type\":\"scattercarpet\"}],\"scattergeo\":[{\"marker\":{\"colorbar\":{\"outlinewidth\":0,\"ticks\":\"\"}},\"type\":\"scattergeo\"}],\"scattergl\":[{\"marker\":{\"colorbar\":{\"outlinewidth\":0,\"ticks\":\"\"}},\"type\":\"scattergl\"}],\"scattermapbox\":[{\"marker\":{\"colorbar\":{\"outlinewidth\":0,\"ticks\":\"\"}},\"type\":\"scattermapbox\"}],\"scatterpolar\":[{\"marker\":{\"colorbar\":{\"outlinewidth\":0,\"ticks\":\"\"}},\"type\":\"scatterpolar\"}],\"scatterpolargl\":[{\"marker\":{\"colorbar\":{\"outlinewidth\":0,\"ticks\":\"\"}},\"type\":\"scatterpolargl\"}],\"scatterternary\":[{\"marker\":{\"colorbar\":{\"outlinewidth\":0,\"ticks\":\"\"}},\"type\":\"scatterternary\"}],\"surface\":[{\"colorbar\":{\"outlinewidth\":0,\"ticks\":\"\"},\"colorscale\":[[0.0,\"#0d0887\"],[0.1111111111111111,\"#46039f\"],[0.2222222222222222,\"#7201a8\"],[0.3333333333333333,\"#9c179e\"],[0.4444444444444444,\"#bd3786\"],[0.5555555555555556,\"#d8576b\"],[0.6666666666666666,\"#ed7953\"],[0.7777777777777778,\"#fb9f3a\"],[0.8888888888888888,\"#fdca26\"],[1.0,\"#f0f921\"]],\"type\":\"surface\"}],\"table\":[{\"cells\":{\"fill\":{\"color\":\"#EBF0F8\"},\"line\":{\"color\":\"white\"}},\"header\":{\"fill\":{\"color\":\"#C8D4E3\"},\"line\":{\"color\":\"white\"}},\"type\":\"table\"}]},\"layout\":{\"annotationdefaults\":{\"arrowcolor\":\"#2a3f5f\",\"arrowhead\":0,\"arrowwidth\":1},\"autotypenumbers\":\"strict\",\"coloraxis\":{\"colorbar\":{\"outlinewidth\":0,\"ticks\":\"\"}},\"colorscale\":{\"diverging\":[[0,\"#8e0152\"],[0.1,\"#c51b7d\"],[0.2,\"#de77ae\"],[0.3,\"#f1b6da\"],[0.4,\"#fde0ef\"],[0.5,\"#f7f7f7\"],[0.6,\"#e6f5d0\"],[0.7,\"#b8e186\"],[0.8,\"#7fbc41\"],[0.9,\"#4d9221\"],[1,\"#276419\"]],\"sequential\":[[0.0,\"#0d0887\"],[0.1111111111111111,\"#46039f\"],[0.2222222222222222,\"#7201a8\"],[0.3333333333333333,\"#9c179e\"],[0.4444444444444444,\"#bd3786\"],[0.5555555555555556,\"#d8576b\"],[0.6666666666666666,\"#ed7953\"],[0.7777777777777778,\"#fb9f3a\"],[0.8888888888888888,\"#fdca26\"],[1.0,\"#f0f921\"]],\"sequentialminus\":[[0.0,\"#0d0887\"],[0.1111111111111111,\"#46039f\"],[0.2222222222222222,\"#7201a8\"],[0.3333333333333333,\"#9c179e\"],[0.4444444444444444,\"#bd3786\"],[0.5555555555555556,\"#d8576b\"],[0.6666666666666666,\"#ed7953\"],[0.7777777777777778,\"#fb9f3a\"],[0.8888888888888888,\"#fdca26\"],[1.0,\"#f0f921\"]]},\"colorway\":[\"#636efa\",\"#EF553B\",\"#00cc96\",\"#ab63fa\",\"#FFA15A\",\"#19d3f3\",\"#FF6692\",\"#B6E880\",\"#FF97FF\",\"#FECB52\"],\"font\":{\"color\":\"#2a3f5f\"},\"geo\":{\"bgcolor\":\"white\",\"lakecolor\":\"white\",\"landcolor\":\"#E5ECF6\",\"showlakes\":true,\"showland\":true,\"subunitcolor\":\"white\"},\"hoverlabel\":{\"align\":\"left\"},\"hovermode\":\"closest\",\"mapbox\":{\"style\":\"light\"},\"paper_bgcolor\":\"white\",\"plot_bgcolor\":\"#E5ECF6\",\"polar\":{\"angularaxis\":{\"gridcolor\":\"white\",\"linecolor\":\"white\",\"ticks\":\"\"},\"bgcolor\":\"#E5ECF6\",\"radialaxis\":{\"gridcolor\":\"white\",\"linecolor\":\"white\",\"ticks\":\"\"}},\"scene\":{\"xaxis\":{\"backgroundcolor\":\"#E5ECF6\",\"gridcolor\":\"white\",\"gridwidth\":2,\"linecolor\":\"white\",\"showbackground\":true,\"ticks\":\"\",\"zerolinecolor\":\"white\"},\"yaxis\":{\"backgroundcolor\":\"#E5ECF6\",\"gridcolor\":\"white\",\"gridwidth\":2,\"linecolor\":\"white\",\"showbackground\":true,\"ticks\":\"\",\"zerolinecolor\":\"white\"},\"zaxis\":{\"backgroundcolor\":\"#E5ECF6\",\"gridcolor\":\"white\",\"gridwidth\":2,\"linecolor\":\"white\",\"showbackground\":true,\"ticks\":\"\",\"zerolinecolor\":\"white\"}},\"shapedefaults\":{\"line\":{\"color\":\"#2a3f5f\"}},\"ternary\":{\"aaxis\":{\"gridcolor\":\"white\",\"linecolor\":\"white\",\"ticks\":\"\"},\"baxis\":{\"gridcolor\":\"white\",\"linecolor\":\"white\",\"ticks\":\"\"},\"bgcolor\":\"#E5ECF6\",\"caxis\":{\"gridcolor\":\"white\",\"linecolor\":\"white\",\"ticks\":\"\"}},\"title\":{\"x\":0.05},\"xaxis\":{\"automargin\":true,\"gridcolor\":\"white\",\"linecolor\":\"white\",\"ticks\":\"\",\"title\":{\"standoff\":15},\"zerolinecolor\":\"white\",\"zerolinewidth\":2},\"yaxis\":{\"automargin\":true,\"gridcolor\":\"white\",\"linecolor\":\"white\",\"ticks\":\"\",\"title\":{\"standoff\":15},\"zerolinecolor\":\"white\",\"zerolinewidth\":2}}},\"title\":{\"text\":\"Parallel Coordinate Plot\"}},                        {\"responsive\": true}                    ).then(function(){\n",
       "                            \n",
       "var gd = document.getElementById('d9561865-906b-42bc-96bd-236efe705753');\n",
       "var x = new MutationObserver(function (mutations, observer) {{\n",
       "        var display = window.getComputedStyle(gd).display;\n",
       "        if (!display || display === 'none') {{\n",
       "            console.log([gd, 'removed!']);\n",
       "            Plotly.purge(gd);\n",
       "            observer.disconnect();\n",
       "        }}\n",
       "}});\n",
       "\n",
       "// Listen for the removal of the full notebook cells\n",
       "var notebookContainer = gd.closest('#notebook-container');\n",
       "if (notebookContainer) {{\n",
       "    x.observe(notebookContainer, {childList: true});\n",
       "}}\n",
       "\n",
       "// Listen for the clearing of the current output cell\n",
       "var outputEl = gd.closest('.output');\n",
       "if (outputEl) {{\n",
       "    x.observe(outputEl, {childList: true});\n",
       "}}\n",
       "\n",
       "                        })                };                });            </script>        </div>"
      ]
     },
     "metadata": {},
     "output_type": "display_data"
    }
   ],
   "source": [
    "# Interative version (won't work on github)\n",
    "fig = plot_parallel_coordinate(\n",
    "    study, \n",
    "    params=['min_child_samples', 'subsample', 'subsample_freq',\n",
    "            'colsample_bytree', 'reg_lambda']\n",
    ")\n",
    "fig.show()"
   ]
  },
  {
   "cell_type": "code",
   "execution_count": 20,
   "id": "aabfcdf5",
   "metadata": {},
   "outputs": [
    {
     "data": {
      "image/png": "[encoded data removed]",
      "text/plain": [
       "<IPython.core.display.Image object>"
      ]
     },
     "execution_count": 20,
     "metadata": {},
     "output_type": "execute_result"
    }
   ],
   "source": [
    "# Static version\n",
    "img_bytes = fig.to_image(format=\"png\", engine=\"kaleido\")\n",
    "Image(img_bytes)"
   ]
  },
  {
   "cell_type": "code",
   "execution_count": 15,
   "id": "1488886b",
   "metadata": {},
   "outputs": [
    {
     "data": {
      "application/vnd.plotly.v1+json": {
       "config": {
        "plotlyServerURL": "https://plot.ly"
       },
       "data": [
        {
         "dimensions": [
          {
           "label": "Objective Value",
           "range": [
            0.855903617092043,
            0.8568496975432179
           ],
           "values": [
            0.8565316285333782,
            0.8563072054573467,
            0.855903617092043,
            0.8567617962281703,
            0.8562864784617643,
            0.8564384580720188,
            0.8567136153133164,
            0.8565106454468868,
            0.8565884743524185,
            0.8567244860755868,
            0.8567952141210764,
            0.8568366305762058,
            0.856735235104409,
            0.8568496975432179,
            0.8566062723745671,
            0.8567782616837265,
            0.856639084496234,
            0.856827041271146,
            0.8567457127569748,
            0.8567556758863878,
            0.8566632843537644,
            0.8567886916775805,
            0.8566604929271272,
            0.8568139982241565,
            0.8568171079337611,
            0.8568162603969606,
            0.8566219941227541,
            0.8567637341073345,
            0.8567480668125323,
            0.8568116117365685,
            0.8568051160717648,
            0.8567387526970659,
            0.8567997004346481,
            0.8567814990094518
           ]
          },
          {
           "label": "max_depth",
           "range": [
            3,
            10
           ],
           "values": [
            8,
            5,
            9,
            5,
            10,
            7,
            3,
            5,
            5,
            3,
            4,
            4,
            4,
            6,
            6,
            6,
            4,
            4,
            3,
            7,
            3,
            6,
            4,
            4,
            5,
            5,
            5,
            7,
            5,
            5,
            5,
            4,
            5,
            7
           ]
          },
          {
           "label": "num_leaves",
           "range": [
            6,
            691
           ],
           "values": [
            137,
            31,
            302,
            21,
            691,
            97,
            7,
            16,
            21,
            7,
            8,
            9,
            9,
            13,
            15,
            15,
            11,
            9,
            6,
            36,
            6,
            20,
            10,
            9,
            13,
            13,
            13,
            29,
            14,
            13,
            11,
            12,
            14,
            28
           ]
          }
         ],
         "labelangle": 30,
         "labelside": "bottom",
         "line": {
          "color": [
           0.8565316285333782,
           0.8563072054573467,
           0.855903617092043,
           0.8567617962281703,
           0.8562864784617643,
           0.8564384580720188,
           0.8567136153133164,
           0.8565106454468868,
           0.8565884743524185,
           0.8567244860755868,
           0.8567952141210764,
           0.8568366305762058,
           0.856735235104409,
           0.8568496975432179,
           0.8566062723745671,
           0.8567782616837265,
           0.856639084496234,
           0.856827041271146,
           0.8567457127569748,
           0.8567556758863878,
           0.8566632843537644,
           0.8567886916775805,
           0.8566604929271272,
           0.8568139982241565,
           0.8568171079337611,
           0.8568162603969606,
           0.8566219941227541,
           0.8567637341073345,
           0.8567480668125323,
           0.8568116117365685,
           0.8568051160717648,
           0.8567387526970659,
           0.8567997004346481,
           0.8567814990094518
          ],
          "colorbar": {
           "title": {
            "text": "Objective Value"
           }
          },
          "colorscale": [
           [
            0,
            "rgb(247,251,255)"
           ],
           [
            0.125,
            "rgb(222,235,247)"
           ],
           [
            0.25,
            "rgb(198,219,239)"
           ],
           [
            0.375,
            "rgb(158,202,225)"
           ],
           [
            0.5,
            "rgb(107,174,214)"
           ],
           [
            0.625,
            "rgb(66,146,198)"
           ],
           [
            0.75,
            "rgb(33,113,181)"
           ],
           [
            0.875,
            "rgb(8,81,156)"
           ],
           [
            1,
            "rgb(8,48,107)"
           ]
          ],
          "reversescale": false,
          "showscale": true
         },
         "type": "parcoords"
        }
       ],
       "layout": {
        "template": {
         "data": {
          "bar": [
           {
            "error_x": {
             "color": "#2a3f5f"
            },
            "error_y": {
             "color": "#2a3f5f"
            },
            "marker": {
             "line": {
              "color": "#E5ECF6",
              "width": 0.5
             },
             "pattern": {
              "fillmode": "overlay",
              "size": 10,
              "solidity": 0.2
             }
            },
            "type": "bar"
           }
          ],
          "barpolar": [
           {
            "marker": {
             "line": {
              "color": "#E5ECF6",
              "width": 0.5
             },
             "pattern": {
              "fillmode": "overlay",
              "size": 10,
              "solidity": 0.2
             }
            },
            "type": "barpolar"
           }
          ],
          "carpet": [
           {
            "aaxis": {
             "endlinecolor": "#2a3f5f",
             "gridcolor": "white",
             "linecolor": "white",
             "minorgridcolor": "white",
             "startlinecolor": "#2a3f5f"
            },
            "baxis": {
             "endlinecolor": "#2a3f5f",
             "gridcolor": "white",
             "linecolor": "white",
             "minorgridcolor": "white",
             "startlinecolor": "#2a3f5f"
            },
            "type": "carpet"
           }
          ],
          "choropleth": [
           {
            "colorbar": {
             "outlinewidth": 0,
             "ticks": ""
            },
            "type": "choropleth"
           }
          ],
          "contour": [
           {
            "colorbar": {
             "outlinewidth": 0,
             "ticks": ""
            },
            "colorscale": [
             [
              0,
              "#0d0887"
             ],
             [
              0.1111111111111111,
              "#46039f"
             ],
             [
              0.2222222222222222,
              "#7201a8"
             ],
             [
              0.3333333333333333,
              "#9c179e"
             ],
             [
              0.4444444444444444,
              "#bd3786"
             ],
             [
              0.5555555555555556,
              "#d8576b"
             ],
             [
              0.6666666666666666,
              "#ed7953"
             ],
             [
              0.7777777777777778,
              "#fb9f3a"
             ],
             [
              0.8888888888888888,
              "#fdca26"
             ],
             [
              1,
              "#f0f921"
             ]
            ],
            "type": "contour"
           }
          ],
          "contourcarpet": [
           {
            "colorbar": {
             "outlinewidth": 0,
             "ticks": ""
            },
            "type": "contourcarpet"
           }
          ],
          "heatmap": [
           {
            "colorbar": {
             "outlinewidth": 0,
             "ticks": ""
            },
            "colorscale": [
             [
              0,
              "#0d0887"
             ],
             [
              0.1111111111111111,
              "#46039f"
             ],
             [
              0.2222222222222222,
              "#7201a8"
             ],
             [
              0.3333333333333333,
              "#9c179e"
             ],
             [
              0.4444444444444444,
              "#bd3786"
             ],
             [
              0.5555555555555556,
              "#d8576b"
             ],
             [
              0.6666666666666666,
              "#ed7953"
             ],
             [
              0.7777777777777778,
              "#fb9f3a"
             ],
             [
              0.8888888888888888,
              "#fdca26"
             ],
             [
              1,
              "#f0f921"
             ]
            ],
            "type": "heatmap"
           }
          ],
          "heatmapgl": [
           {
            "colorbar": {
             "outlinewidth": 0,
             "ticks": ""
            },
            "colorscale": [
             [
              0,
              "#0d0887"
             ],
             [
              0.1111111111111111,
              "#46039f"
             ],
             [
              0.2222222222222222,
              "#7201a8"
             ],
             [
              0.3333333333333333,
              "#9c179e"
             ],
             [
              0.4444444444444444,
              "#bd3786"
             ],
             [
              0.5555555555555556,
              "#d8576b"
             ],
             [
              0.6666666666666666,
              "#ed7953"
             ],
             [
              0.7777777777777778,
              "#fb9f3a"
             ],
             [
              0.8888888888888888,
              "#fdca26"
             ],
             [
              1,
              "#f0f921"
             ]
            ],
            "type": "heatmapgl"
           }
          ],
          "histogram": [
           {
            "marker": {
             "pattern": {
              "fillmode": "overlay",
              "size": 10,
              "solidity": 0.2
             }
            },
            "type": "histogram"
           }
          ],
          "histogram2d": [
           {
            "colorbar": {
             "outlinewidth": 0,
             "ticks": ""
            },
            "colorscale": [
             [
              0,
              "#0d0887"
             ],
             [
              0.1111111111111111,
              "#46039f"
             ],
             [
              0.2222222222222222,
              "#7201a8"
             ],
             [
              0.3333333333333333,
              "#9c179e"
             ],
             [
              0.4444444444444444,
              "#bd3786"
             ],
             [
              0.5555555555555556,
              "#d8576b"
             ],
             [
              0.6666666666666666,
              "#ed7953"
             ],
             [
              0.7777777777777778,
              "#fb9f3a"
             ],
             [
              0.8888888888888888,
              "#fdca26"
             ],
             [
              1,
              "#f0f921"
             ]
            ],
            "type": "histogram2d"
           }
          ],
          "histogram2dcontour": [
           {
            "colorbar": {
             "outlinewidth": 0,
             "ticks": ""
            },
            "colorscale": [
             [
              0,
              "#0d0887"
             ],
             [
              0.1111111111111111,
              "#46039f"
             ],
             [
              0.2222222222222222,
              "#7201a8"
             ],
             [
              0.3333333333333333,
              "#9c179e"
             ],
             [
              0.4444444444444444,
              "#bd3786"
             ],
             [
              0.5555555555555556,
              "#d8576b"
             ],
             [
              0.6666666666666666,
              "#ed7953"
             ],
             [
              0.7777777777777778,
              "#fb9f3a"
             ],
             [
              0.8888888888888888,
              "#fdca26"
             ],
             [
              1,
              "#f0f921"
             ]
            ],
            "type": "histogram2dcontour"
           }
          ],
          "mesh3d": [
           {
            "colorbar": {
             "outlinewidth": 0,
             "ticks": ""
            },
            "type": "mesh3d"
           }
          ],
          "parcoords": [
           {
            "line": {
             "colorbar": {
              "outlinewidth": 0,
              "ticks": ""
             }
            },
            "type": "parcoords"
           }
          ],
          "pie": [
           {
            "automargin": true,
            "type": "pie"
           }
          ],
          "scatter": [
           {
            "marker": {
             "colorbar": {
              "outlinewidth": 0,
              "ticks": ""
             }
            },
            "type": "scatter"
           }
          ],
          "scatter3d": [
           {
            "line": {
             "colorbar": {
              "outlinewidth": 0,
              "ticks": ""
             }
            },
            "marker": {
             "colorbar": {
              "outlinewidth": 0,
              "ticks": ""
             }
            },
            "type": "scatter3d"
           }
          ],
          "scattercarpet": [
           {
            "marker": {
             "colorbar": {
              "outlinewidth": 0,
              "ticks": ""
             }
            },
            "type": "scattercarpet"
           }
          ],
          "scattergeo": [
           {
            "marker": {
             "colorbar": {
              "outlinewidth": 0,
              "ticks": ""
             }
            },
            "type": "scattergeo"
           }
          ],
          "scattergl": [
           {
            "marker": {
             "colorbar": {
              "outlinewidth": 0,
              "ticks": ""
             }
            },
            "type": "scattergl"
           }
          ],
          "scattermapbox": [
           {
            "marker": {
             "colorbar": {
              "outlinewidth": 0,
              "ticks": ""
             }
            },
            "type": "scattermapbox"
           }
          ],
          "scatterpolar": [
           {
            "marker": {
             "colorbar": {
              "outlinewidth": 0,
              "ticks": ""
             }
            },
            "type": "scatterpolar"
           }
          ],
          "scatterpolargl": [
           {
            "marker": {
             "colorbar": {
              "outlinewidth": 0,
              "ticks": ""
             }
            },
            "type": "scatterpolargl"
           }
          ],
          "scatterternary": [
           {
            "marker": {
             "colorbar": {
              "outlinewidth": 0,
              "ticks": ""
             }
            },
            "type": "scatterternary"
           }
          ],
          "surface": [
           {
            "colorbar": {
             "outlinewidth": 0,
             "ticks": ""
            },
            "colorscale": [
             [
              0,
              "#0d0887"
             ],
             [
              0.1111111111111111,
              "#46039f"
             ],
             [
              0.2222222222222222,
              "#7201a8"
             ],
             [
              0.3333333333333333,
              "#9c179e"
             ],
             [
              0.4444444444444444,
              "#bd3786"
             ],
             [
              0.5555555555555556,
              "#d8576b"
             ],
             [
              0.6666666666666666,
              "#ed7953"
             ],
             [
              0.7777777777777778,
              "#fb9f3a"
             ],
             [
              0.8888888888888888,
              "#fdca26"
             ],
             [
              1,
              "#f0f921"
             ]
            ],
            "type": "surface"
           }
          ],
          "table": [
           {
            "cells": {
             "fill": {
              "color": "#EBF0F8"
             },
             "line": {
              "color": "white"
             }
            },
            "header": {
             "fill": {
              "color": "#C8D4E3"
             },
             "line": {
              "color": "white"
             }
            },
            "type": "table"
           }
          ]
         },
         "layout": {
          "annotationdefaults": {
           "arrowcolor": "#2a3f5f",
           "arrowhead": 0,
           "arrowwidth": 1
          },
          "autotypenumbers": "strict",
          "coloraxis": {
           "colorbar": {
            "outlinewidth": 0,
            "ticks": ""
           }
          },
          "colorscale": {
           "diverging": [
            [
             0,
             "#8e0152"
            ],
            [
             0.1,
             "#c51b7d"
            ],
            [
             0.2,
             "#de77ae"
            ],
            [
             0.3,
             "#f1b6da"
            ],
            [
             0.4,
             "#fde0ef"
            ],
            [
             0.5,
             "#f7f7f7"
            ],
            [
             0.6,
             "#e6f5d0"
            ],
            [
             0.7,
             "#b8e186"
            ],
            [
             0.8,
             "#7fbc41"
            ],
            [
             0.9,
             "#4d9221"
            ],
            [
             1,
             "#276419"
            ]
           ],
           "sequential": [
            [
             0,
             "#0d0887"
            ],
            [
             0.1111111111111111,
             "#46039f"
            ],
            [
             0.2222222222222222,
             "#7201a8"
            ],
            [
             0.3333333333333333,
             "#9c179e"
            ],
            [
             0.4444444444444444,
             "#bd3786"
            ],
            [
             0.5555555555555556,
             "#d8576b"
            ],
            [
             0.6666666666666666,
             "#ed7953"
            ],
            [
             0.7777777777777778,
             "#fb9f3a"
            ],
            [
             0.8888888888888888,
             "#fdca26"
            ],
            [
             1,
             "#f0f921"
            ]
           ],
           "sequentialminus": [
            [
             0,
             "#0d0887"
            ],
            [
             0.1111111111111111,
             "#46039f"
            ],
            [
             0.2222222222222222,
             "#7201a8"
            ],
            [
             0.3333333333333333,
             "#9c179e"
            ],
            [
             0.4444444444444444,
             "#bd3786"
            ],
            [
             0.5555555555555556,
             "#d8576b"
            ],
            [
             0.6666666666666666,
             "#ed7953"
            ],
            [
             0.7777777777777778,
             "#fb9f3a"
            ],
            [
             0.8888888888888888,
             "#fdca26"
            ],
            [
             1,
             "#f0f921"
            ]
           ]
          },
          "colorway": [
           "#636efa",
           "#EF553B",
           "#00cc96",
           "#ab63fa",
           "#FFA15A",
           "#19d3f3",
           "#FF6692",
           "#B6E880",
           "#FF97FF",
           "#FECB52"
          ],
          "font": {
           "color": "#2a3f5f"
          },
          "geo": {
           "bgcolor": "white",
           "lakecolor": "white",
           "landcolor": "#E5ECF6",
           "showlakes": true,
           "showland": true,
           "subunitcolor": "white"
          },
          "hoverlabel": {
           "align": "left"
          },
          "hovermode": "closest",
          "mapbox": {
           "style": "light"
          },
          "paper_bgcolor": "white",
          "plot_bgcolor": "#E5ECF6",
          "polar": {
           "angularaxis": {
            "gridcolor": "white",
            "linecolor": "white",
            "ticks": ""
           },
           "bgcolor": "#E5ECF6",
           "radialaxis": {
            "gridcolor": "white",
            "linecolor": "white",
            "ticks": ""
           }
          },
          "scene": {
           "xaxis": {
            "backgroundcolor": "#E5ECF6",
            "gridcolor": "white",
            "gridwidth": 2,
            "linecolor": "white",
            "showbackground": true,
            "ticks": "",
            "zerolinecolor": "white"
           },
           "yaxis": {
            "backgroundcolor": "#E5ECF6",
            "gridcolor": "white",
            "gridwidth": 2,
            "linecolor": "white",
            "showbackground": true,
            "ticks": "",
            "zerolinecolor": "white"
           },
           "zaxis": {
            "backgroundcolor": "#E5ECF6",
            "gridcolor": "white",
            "gridwidth": 2,
            "linecolor": "white",
            "showbackground": true,
            "ticks": "",
            "zerolinecolor": "white"
           }
          },
          "shapedefaults": {
           "line": {
            "color": "#2a3f5f"
           }
          },
          "ternary": {
           "aaxis": {
            "gridcolor": "white",
            "linecolor": "white",
            "ticks": ""
           },
           "baxis": {
            "gridcolor": "white",
            "linecolor": "white",
            "ticks": ""
           },
           "bgcolor": "#E5ECF6",
           "caxis": {
            "gridcolor": "white",
            "linecolor": "white",
            "ticks": ""
           }
          },
          "title": {
           "x": 0.05
          },
          "xaxis": {
           "automargin": true,
           "gridcolor": "white",
           "linecolor": "white",
           "ticks": "",
           "title": {
            "standoff": 15
           },
           "zerolinecolor": "white",
           "zerolinewidth": 2
          },
          "yaxis": {
           "automargin": true,
           "gridcolor": "white",
           "linecolor": "white",
           "ticks": "",
           "title": {
            "standoff": 15
           },
           "zerolinecolor": "white",
           "zerolinewidth": 2
          }
         }
        },
        "title": {
         "text": "Parallel Coordinate Plot"
        }
       }
      },
      "text/html": [
       "<div>                            <div id=\"82b202c7-a2c1-41c4-9957-f4c9e2a3a2a9\" class=\"plotly-graph-div\" style=\"height:525px; width:100%;\"></div>            <script type=\"text/javascript\">                require([\"plotly\"], function(Plotly) {                    window.PLOTLYENV=window.PLOTLYENV || {};                                    if (document.getElementById(\"82b202c7-a2c1-41c4-9957-f4c9e2a3a2a9\")) {                    Plotly.newPlot(                        \"82b202c7-a2c1-41c4-9957-f4c9e2a3a2a9\",                        [{\"dimensions\":[{\"label\":\"Objective Value\",\"range\":[0.855903617092043,0.8568496975432179],\"values\":[0.8565316285333782,0.8563072054573467,0.855903617092043,0.8567617962281703,0.8562864784617643,0.8564384580720188,0.8567136153133164,0.8565106454468868,0.8565884743524185,0.8567244860755868,0.8567952141210764,0.8568366305762058,0.856735235104409,0.8568496975432179,0.8566062723745671,0.8567782616837265,0.856639084496234,0.856827041271146,0.8567457127569748,0.8567556758863878,0.8566632843537644,0.8567886916775805,0.8566604929271272,0.8568139982241565,0.8568171079337611,0.8568162603969606,0.8566219941227541,0.8567637341073345,0.8567480668125323,0.8568116117365685,0.8568051160717648,0.8567387526970659,0.8567997004346481,0.8567814990094518]},{\"label\":\"max_depth\",\"range\":[3,10],\"values\":[8,5,9,5,10,7,3,5,5,3,4,4,4,6,6,6,4,4,3,7,3,6,4,4,5,5,5,7,5,5,5,4,5,7]},{\"label\":\"num_leaves\",\"range\":[6,691],\"values\":[137,31,302,21,691,97,7,16,21,7,8,9,9,13,15,15,11,9,6,36,6,20,10,9,13,13,13,29,14,13,11,12,14,28]}],\"labelangle\":30,\"labelside\":\"bottom\",\"line\":{\"color\":[0.8565316285333782,0.8563072054573467,0.855903617092043,0.8567617962281703,0.8562864784617643,0.8564384580720188,0.8567136153133164,0.8565106454468868,0.8565884743524185,0.8567244860755868,0.8567952141210764,0.8568366305762058,0.856735235104409,0.8568496975432179,0.8566062723745671,0.8567782616837265,0.856639084496234,0.856827041271146,0.8567457127569748,0.8567556758863878,0.8566632843537644,0.8567886916775805,0.8566604929271272,0.8568139982241565,0.8568171079337611,0.8568162603969606,0.8566219941227541,0.8567637341073345,0.8567480668125323,0.8568116117365685,0.8568051160717648,0.8567387526970659,0.8567997004346481,0.8567814990094518],\"colorbar\":{\"title\":{\"text\":\"Objective Value\"}},\"colorscale\":[[0.0,\"rgb(247,251,255)\"],[0.125,\"rgb(222,235,247)\"],[0.25,\"rgb(198,219,239)\"],[0.375,\"rgb(158,202,225)\"],[0.5,\"rgb(107,174,214)\"],[0.625,\"rgb(66,146,198)\"],[0.75,\"rgb(33,113,181)\"],[0.875,\"rgb(8,81,156)\"],[1.0,\"rgb(8,48,107)\"]],\"reversescale\":false,\"showscale\":true},\"type\":\"parcoords\"}],                        {\"template\":{\"data\":{\"bar\":[{\"error_x\":{\"color\":\"#2a3f5f\"},\"error_y\":{\"color\":\"#2a3f5f\"},\"marker\":{\"line\":{\"color\":\"#E5ECF6\",\"width\":0.5},\"pattern\":{\"fillmode\":\"overlay\",\"size\":10,\"solidity\":0.2}},\"type\":\"bar\"}],\"barpolar\":[{\"marker\":{\"line\":{\"color\":\"#E5ECF6\",\"width\":0.5},\"pattern\":{\"fillmode\":\"overlay\",\"size\":10,\"solidity\":0.2}},\"type\":\"barpolar\"}],\"carpet\":[{\"aaxis\":{\"endlinecolor\":\"#2a3f5f\",\"gridcolor\":\"white\",\"linecolor\":\"white\",\"minorgridcolor\":\"white\",\"startlinecolor\":\"#2a3f5f\"},\"baxis\":{\"endlinecolor\":\"#2a3f5f\",\"gridcolor\":\"white\",\"linecolor\":\"white\",\"minorgridcolor\":\"white\",\"startlinecolor\":\"#2a3f5f\"},\"type\":\"carpet\"}],\"choropleth\":[{\"colorbar\":{\"outlinewidth\":0,\"ticks\":\"\"},\"type\":\"choropleth\"}],\"contour\":[{\"colorbar\":{\"outlinewidth\":0,\"ticks\":\"\"},\"colorscale\":[[0.0,\"#0d0887\"],[0.1111111111111111,\"#46039f\"],[0.2222222222222222,\"#7201a8\"],[0.3333333333333333,\"#9c179e\"],[0.4444444444444444,\"#bd3786\"],[0.5555555555555556,\"#d8576b\"],[0.6666666666666666,\"#ed7953\"],[0.7777777777777778,\"#fb9f3a\"],[0.8888888888888888,\"#fdca26\"],[1.0,\"#f0f921\"]],\"type\":\"contour\"}],\"contourcarpet\":[{\"colorbar\":{\"outlinewidth\":0,\"ticks\":\"\"},\"type\":\"contourcarpet\"}],\"heatmap\":[{\"colorbar\":{\"outlinewidth\":0,\"ticks\":\"\"},\"colorscale\":[[0.0,\"#0d0887\"],[0.1111111111111111,\"#46039f\"],[0.2222222222222222,\"#7201a8\"],[0.3333333333333333,\"#9c179e\"],[0.4444444444444444,\"#bd3786\"],[0.5555555555555556,\"#d8576b\"],[0.6666666666666666,\"#ed7953\"],[0.7777777777777778,\"#fb9f3a\"],[0.8888888888888888,\"#fdca26\"],[1.0,\"#f0f921\"]],\"type\":\"heatmap\"}],\"heatmapgl\":[{\"colorbar\":{\"outlinewidth\":0,\"ticks\":\"\"},\"colorscale\":[[0.0,\"#0d0887\"],[0.1111111111111111,\"#46039f\"],[0.2222222222222222,\"#7201a8\"],[0.3333333333333333,\"#9c179e\"],[0.4444444444444444,\"#bd3786\"],[0.5555555555555556,\"#d8576b\"],[0.6666666666666666,\"#ed7953\"],[0.7777777777777778,\"#fb9f3a\"],[0.8888888888888888,\"#fdca26\"],[1.0,\"#f0f921\"]],\"type\":\"heatmapgl\"}],\"histogram\":[{\"marker\":{\"pattern\":{\"fillmode\":\"overlay\",\"size\":10,\"solidity\":0.2}},\"type\":\"histogram\"}],\"histogram2d\":[{\"colorbar\":{\"outlinewidth\":0,\"ticks\":\"\"},\"colorscale\":[[0.0,\"#0d0887\"],[0.1111111111111111,\"#46039f\"],[0.2222222222222222,\"#7201a8\"],[0.3333333333333333,\"#9c179e\"],[0.4444444444444444,\"#bd3786\"],[0.5555555555555556,\"#d8576b\"],[0.6666666666666666,\"#ed7953\"],[0.7777777777777778,\"#fb9f3a\"],[0.8888888888888888,\"#fdca26\"],[1.0,\"#f0f921\"]],\"type\":\"histogram2d\"}],\"histogram2dcontour\":[{\"colorbar\":{\"outlinewidth\":0,\"ticks\":\"\"},\"colorscale\":[[0.0,\"#0d0887\"],[0.1111111111111111,\"#46039f\"],[0.2222222222222222,\"#7201a8\"],[0.3333333333333333,\"#9c179e\"],[0.4444444444444444,\"#bd3786\"],[0.5555555555555556,\"#d8576b\"],[0.6666666666666666,\"#ed7953\"],[0.7777777777777778,\"#fb9f3a\"],[0.8888888888888888,\"#fdca26\"],[1.0,\"#f0f921\"]],\"type\":\"histogram2dcontour\"}],\"mesh3d\":[{\"colorbar\":{\"outlinewidth\":0,\"ticks\":\"\"},\"type\":\"mesh3d\"}],\"parcoords\":[{\"line\":{\"colorbar\":{\"outlinewidth\":0,\"ticks\":\"\"}},\"type\":\"parcoords\"}],\"pie\":[{\"automargin\":true,\"type\":\"pie\"}],\"scatter\":[{\"marker\":{\"colorbar\":{\"outlinewidth\":0,\"ticks\":\"\"}},\"type\":\"scatter\"}],\"scatter3d\":[{\"line\":{\"colorbar\":{\"outlinewidth\":0,\"ticks\":\"\"}},\"marker\":{\"colorbar\":{\"outlinewidth\":0,\"ticks\":\"\"}},\"type\":\"scatter3d\"}],\"scattercarpet\":[{\"marker\":{\"colorbar\":{\"outlinewidth\":0,\"ticks\":\"\"}},\"type\":\"scattercarpet\"}],\"scattergeo\":[{\"marker\":{\"colorbar\":{\"outlinewidth\":0,\"ticks\":\"\"}},\"type\":\"scattergeo\"}],\"scattergl\":[{\"marker\":{\"colorbar\":{\"outlinewidth\":0,\"ticks\":\"\"}},\"type\":\"scattergl\"}],\"scattermapbox\":[{\"marker\":{\"colorbar\":{\"outlinewidth\":0,\"ticks\":\"\"}},\"type\":\"scattermapbox\"}],\"scatterpolar\":[{\"marker\":{\"colorbar\":{\"outlinewidth\":0,\"ticks\":\"\"}},\"type\":\"scatterpolar\"}],\"scatterpolargl\":[{\"marker\":{\"colorbar\":{\"outlinewidth\":0,\"ticks\":\"\"}},\"type\":\"scatterpolargl\"}],\"scatterternary\":[{\"marker\":{\"colorbar\":{\"outlinewidth\":0,\"ticks\":\"\"}},\"type\":\"scatterternary\"}],\"surface\":[{\"colorbar\":{\"outlinewidth\":0,\"ticks\":\"\"},\"colorscale\":[[0.0,\"#0d0887\"],[0.1111111111111111,\"#46039f\"],[0.2222222222222222,\"#7201a8\"],[0.3333333333333333,\"#9c179e\"],[0.4444444444444444,\"#bd3786\"],[0.5555555555555556,\"#d8576b\"],[0.6666666666666666,\"#ed7953\"],[0.7777777777777778,\"#fb9f3a\"],[0.8888888888888888,\"#fdca26\"],[1.0,\"#f0f921\"]],\"type\":\"surface\"}],\"table\":[{\"cells\":{\"fill\":{\"color\":\"#EBF0F8\"},\"line\":{\"color\":\"white\"}},\"header\":{\"fill\":{\"color\":\"#C8D4E3\"},\"line\":{\"color\":\"white\"}},\"type\":\"table\"}]},\"layout\":{\"annotationdefaults\":{\"arrowcolor\":\"#2a3f5f\",\"arrowhead\":0,\"arrowwidth\":1},\"autotypenumbers\":\"strict\",\"coloraxis\":{\"colorbar\":{\"outlinewidth\":0,\"ticks\":\"\"}},\"colorscale\":{\"diverging\":[[0,\"#8e0152\"],[0.1,\"#c51b7d\"],[0.2,\"#de77ae\"],[0.3,\"#f1b6da\"],[0.4,\"#fde0ef\"],[0.5,\"#f7f7f7\"],[0.6,\"#e6f5d0\"],[0.7,\"#b8e186\"],[0.8,\"#7fbc41\"],[0.9,\"#4d9221\"],[1,\"#276419\"]],\"sequential\":[[0.0,\"#0d0887\"],[0.1111111111111111,\"#46039f\"],[0.2222222222222222,\"#7201a8\"],[0.3333333333333333,\"#9c179e\"],[0.4444444444444444,\"#bd3786\"],[0.5555555555555556,\"#d8576b\"],[0.6666666666666666,\"#ed7953\"],[0.7777777777777778,\"#fb9f3a\"],[0.8888888888888888,\"#fdca26\"],[1.0,\"#f0f921\"]],\"sequentialminus\":[[0.0,\"#0d0887\"],[0.1111111111111111,\"#46039f\"],[0.2222222222222222,\"#7201a8\"],[0.3333333333333333,\"#9c179e\"],[0.4444444444444444,\"#bd3786\"],[0.5555555555555556,\"#d8576b\"],[0.6666666666666666,\"#ed7953\"],[0.7777777777777778,\"#fb9f3a\"],[0.8888888888888888,\"#fdca26\"],[1.0,\"#f0f921\"]]},\"colorway\":[\"#636efa\",\"#EF553B\",\"#00cc96\",\"#ab63fa\",\"#FFA15A\",\"#19d3f3\",\"#FF6692\",\"#B6E880\",\"#FF97FF\",\"#FECB52\"],\"font\":{\"color\":\"#2a3f5f\"},\"geo\":{\"bgcolor\":\"white\",\"lakecolor\":\"white\",\"landcolor\":\"#E5ECF6\",\"showlakes\":true,\"showland\":true,\"subunitcolor\":\"white\"},\"hoverlabel\":{\"align\":\"left\"},\"hovermode\":\"closest\",\"mapbox\":{\"style\":\"light\"},\"paper_bgcolor\":\"white\",\"plot_bgcolor\":\"#E5ECF6\",\"polar\":{\"angularaxis\":{\"gridcolor\":\"white\",\"linecolor\":\"white\",\"ticks\":\"\"},\"bgcolor\":\"#E5ECF6\",\"radialaxis\":{\"gridcolor\":\"white\",\"linecolor\":\"white\",\"ticks\":\"\"}},\"scene\":{\"xaxis\":{\"backgroundcolor\":\"#E5ECF6\",\"gridcolor\":\"white\",\"gridwidth\":2,\"linecolor\":\"white\",\"showbackground\":true,\"ticks\":\"\",\"zerolinecolor\":\"white\"},\"yaxis\":{\"backgroundcolor\":\"#E5ECF6\",\"gridcolor\":\"white\",\"gridwidth\":2,\"linecolor\":\"white\",\"showbackground\":true,\"ticks\":\"\",\"zerolinecolor\":\"white\"},\"zaxis\":{\"backgroundcolor\":\"#E5ECF6\",\"gridcolor\":\"white\",\"gridwidth\":2,\"linecolor\":\"white\",\"showbackground\":true,\"ticks\":\"\",\"zerolinecolor\":\"white\"}},\"shapedefaults\":{\"line\":{\"color\":\"#2a3f5f\"}},\"ternary\":{\"aaxis\":{\"gridcolor\":\"white\",\"linecolor\":\"white\",\"ticks\":\"\"},\"baxis\":{\"gridcolor\":\"white\",\"linecolor\":\"white\",\"ticks\":\"\"},\"bgcolor\":\"#E5ECF6\",\"caxis\":{\"gridcolor\":\"white\",\"linecolor\":\"white\",\"ticks\":\"\"}},\"title\":{\"x\":0.05},\"xaxis\":{\"automargin\":true,\"gridcolor\":\"white\",\"linecolor\":\"white\",\"ticks\":\"\",\"title\":{\"standoff\":15},\"zerolinecolor\":\"white\",\"zerolinewidth\":2},\"yaxis\":{\"automargin\":true,\"gridcolor\":\"white\",\"linecolor\":\"white\",\"ticks\":\"\",\"title\":{\"standoff\":15},\"zerolinecolor\":\"white\",\"zerolinewidth\":2}}},\"title\":{\"text\":\"Parallel Coordinate Plot\"}},                        {\"responsive\": true}                    ).then(function(){\n",
       "                            \n",
       "var gd = document.getElementById('82b202c7-a2c1-41c4-9957-f4c9e2a3a2a9');\n",
       "var x = new MutationObserver(function (mutations, observer) {{\n",
       "        var display = window.getComputedStyle(gd).display;\n",
       "        if (!display || display === 'none') {{\n",
       "            console.log([gd, 'removed!']);\n",
       "            Plotly.purge(gd);\n",
       "            observer.disconnect();\n",
       "        }}\n",
       "}});\n",
       "\n",
       "// Listen for the removal of the full notebook cells\n",
       "var notebookContainer = gd.closest('#notebook-container');\n",
       "if (notebookContainer) {{\n",
       "    x.observe(notebookContainer, {childList: true});\n",
       "}}\n",
       "\n",
       "// Listen for the clearing of the current output cell\n",
       "var outputEl = gd.closest('.output');\n",
       "if (outputEl) {{\n",
       "    x.observe(outputEl, {childList: true});\n",
       "}}\n",
       "\n",
       "                        })                };                });            </script>        </div>"
      ]
     },
     "metadata": {},
     "output_type": "display_data"
    }
   ],
   "source": [
    "# Interative version (won't work on github)\n",
    "fig = plot_parallel_coordinate(\n",
    "    study, \n",
    "    params=[\"max_depth\", \"num_leaves\"]\n",
    ")\n",
    "fig.show()"
   ]
  },
  {
   "cell_type": "code",
   "execution_count": 16,
   "id": "da12ae0f",
   "metadata": {
    "scrolled": true
   },
   "outputs": [
    {
     "data": {
      "image/png": "[encoded data removed]",
      "text/plain": [
       "<IPython.core.display.Image object>"
      ]
     },
     "execution_count": 16,
     "metadata": {},
     "output_type": "execute_result"
    }
   ],
   "source": [
    "# Static version\n",
    "img_bytes = fig.to_image(format=\"png\", engine=\"kaleido\")\n",
    "Image(img_bytes)"
   ]
  },
  {
   "cell_type": "markdown",
   "id": "29904885",
   "metadata": {},
   "source": [
    "# Best 10 Trials"
   ]
  },
  {
   "cell_type": "code",
   "execution_count": 17,
   "id": "629c7e08",
   "metadata": {},
   "outputs": [
    {
     "data": {
      "text/html": [
       "<div>\n",
       "<style scoped>\n",
       "    .dataframe tbody tr th:only-of-type {\n",
       "        vertical-align: middle;\n",
       "    }\n",
       "\n",
       "    .dataframe tbody tr th {\n",
       "        vertical-align: top;\n",
       "    }\n",
       "\n",
       "    .dataframe thead th {\n",
       "        text-align: right;\n",
       "    }\n",
       "</style>\n",
       "<table border=\"1\" class=\"dataframe\">\n",
       "  <thead>\n",
       "    <tr style=\"text-align: right;\">\n",
       "      <th></th>\n",
       "      <th>value</th>\n",
       "      <th>duration</th>\n",
       "      <th>cat_l2</th>\n",
       "      <th>cat_smooth</th>\n",
       "      <th>colsample_bytree</th>\n",
       "      <th>learning_rate</th>\n",
       "      <th>max_depth</th>\n",
       "      <th>min_child_samples</th>\n",
       "      <th>min_child_weight</th>\n",
       "      <th>min_split_gain</th>\n",
       "      <th>num_leaves</th>\n",
       "      <th>reg_alpha</th>\n",
       "      <th>reg_lambda</th>\n",
       "      <th>subsample</th>\n",
       "      <th>subsample_freq</th>\n",
       "    </tr>\n",
       "  </thead>\n",
       "  <tbody>\n",
       "    <tr>\n",
       "      <th>16</th>\n",
       "      <td>0.856850</td>\n",
       "      <td>0 days 00:11:55.428649</td>\n",
       "      <td>1.617756e-06</td>\n",
       "      <td>0.000637</td>\n",
       "      <td>0.24</td>\n",
       "      <td>0.01</td>\n",
       "      <td>6</td>\n",
       "      <td>3170</td>\n",
       "      <td>0.000826</td>\n",
       "      <td>0.762450</td>\n",
       "      <td>13</td>\n",
       "      <td>2.897981e-10</td>\n",
       "      <td>0.000185</td>\n",
       "      <td>0.86</td>\n",
       "      <td>3</td>\n",
       "    </tr>\n",
       "    <tr>\n",
       "      <th>14</th>\n",
       "      <td>0.856837</td>\n",
       "      <td>0 days 00:11:33.357585</td>\n",
       "      <td>9.299195e-07</td>\n",
       "      <td>0.000260</td>\n",
       "      <td>0.24</td>\n",
       "      <td>0.01</td>\n",
       "      <td>4</td>\n",
       "      <td>2020</td>\n",
       "      <td>0.002235</td>\n",
       "      <td>0.000006</td>\n",
       "      <td>9</td>\n",
       "      <td>1.439069e-10</td>\n",
       "      <td>0.000055</td>\n",
       "      <td>0.72</td>\n",
       "      <td>2</td>\n",
       "    </tr>\n",
       "    <tr>\n",
       "      <th>21</th>\n",
       "      <td>0.856827</td>\n",
       "      <td>0 days 00:11:07.648883</td>\n",
       "      <td>5.360472e-09</td>\n",
       "      <td>1.143732</td>\n",
       "      <td>0.29</td>\n",
       "      <td>0.01</td>\n",
       "      <td>4</td>\n",
       "      <td>2500</td>\n",
       "      <td>0.055865</td>\n",
       "      <td>6.622614</td>\n",
       "      <td>9</td>\n",
       "      <td>1.766879e-09</td>\n",
       "      <td>0.000105</td>\n",
       "      <td>0.71</td>\n",
       "      <td>1</td>\n",
       "    </tr>\n",
       "    <tr>\n",
       "      <th>33</th>\n",
       "      <td>0.856817</td>\n",
       "      <td>0 days 00:10:39.434412</td>\n",
       "      <td>3.429444e-07</td>\n",
       "      <td>0.347156</td>\n",
       "      <td>0.22</td>\n",
       "      <td>0.01</td>\n",
       "      <td>5</td>\n",
       "      <td>1550</td>\n",
       "      <td>8.195090</td>\n",
       "      <td>0.098115</td>\n",
       "      <td>13</td>\n",
       "      <td>3.666228e-09</td>\n",
       "      <td>0.003417</td>\n",
       "      <td>0.77</td>\n",
       "      <td>3</td>\n",
       "    </tr>\n",
       "    <tr>\n",
       "      <th>34</th>\n",
       "      <td>0.856816</td>\n",
       "      <td>0 days 00:09:59.582878</td>\n",
       "      <td>1.679809e-05</td>\n",
       "      <td>0.342261</td>\n",
       "      <td>0.18</td>\n",
       "      <td>0.01</td>\n",
       "      <td>5</td>\n",
       "      <td>1490</td>\n",
       "      <td>0.120237</td>\n",
       "      <td>0.127128</td>\n",
       "      <td>13</td>\n",
       "      <td>5.754832e-09</td>\n",
       "      <td>0.005372</td>\n",
       "      <td>0.78</td>\n",
       "      <td>3</td>\n",
       "    </tr>\n",
       "    <tr>\n",
       "      <th>31</th>\n",
       "      <td>0.856814</td>\n",
       "      <td>0 days 00:11:26.738483</td>\n",
       "      <td>4.191943e-07</td>\n",
       "      <td>16.551222</td>\n",
       "      <td>0.28</td>\n",
       "      <td>0.01</td>\n",
       "      <td>4</td>\n",
       "      <td>2410</td>\n",
       "      <td>7.304877</td>\n",
       "      <td>2.469756</td>\n",
       "      <td>9</td>\n",
       "      <td>7.731098e-10</td>\n",
       "      <td>0.000017</td>\n",
       "      <td>0.70</td>\n",
       "      <td>2</td>\n",
       "    </tr>\n",
       "    <tr>\n",
       "      <th>41</th>\n",
       "      <td>0.856812</td>\n",
       "      <td>0 days 00:09:36.737838</td>\n",
       "      <td>3.638505e-05</td>\n",
       "      <td>0.204013</td>\n",
       "      <td>0.18</td>\n",
       "      <td>0.01</td>\n",
       "      <td>5</td>\n",
       "      <td>1460</td>\n",
       "      <td>0.080249</td>\n",
       "      <td>0.197478</td>\n",
       "      <td>13</td>\n",
       "      <td>5.122671e-09</td>\n",
       "      <td>0.004593</td>\n",
       "      <td>0.77</td>\n",
       "      <td>3</td>\n",
       "    </tr>\n",
       "    <tr>\n",
       "      <th>43</th>\n",
       "      <td>0.856805</td>\n",
       "      <td>0 days 00:10:21.147088</td>\n",
       "      <td>1.188142e-04</td>\n",
       "      <td>0.069934</td>\n",
       "      <td>0.23</td>\n",
       "      <td>0.01</td>\n",
       "      <td>5</td>\n",
       "      <td>1230</td>\n",
       "      <td>0.002390</td>\n",
       "      <td>0.001852</td>\n",
       "      <td>11</td>\n",
       "      <td>2.539851e-10</td>\n",
       "      <td>0.001100</td>\n",
       "      <td>0.68</td>\n",
       "      <td>5</td>\n",
       "    </tr>\n",
       "    <tr>\n",
       "      <th>45</th>\n",
       "      <td>0.856800</td>\n",
       "      <td>0 days 00:09:28.050639</td>\n",
       "      <td>2.111257e-07</td>\n",
       "      <td>2.038374</td>\n",
       "      <td>0.20</td>\n",
       "      <td>0.01</td>\n",
       "      <td>5</td>\n",
       "      <td>590</td>\n",
       "      <td>0.207653</td>\n",
       "      <td>0.764936</td>\n",
       "      <td>14</td>\n",
       "      <td>1.070581e-10</td>\n",
       "      <td>0.000276</td>\n",
       "      <td>0.65</td>\n",
       "      <td>4</td>\n",
       "    </tr>\n",
       "    <tr>\n",
       "      <th>13</th>\n",
       "      <td>0.856795</td>\n",
       "      <td>0 days 00:11:22.007829</td>\n",
       "      <td>3.884831e-07</td>\n",
       "      <td>74.879779</td>\n",
       "      <td>0.26</td>\n",
       "      <td>0.01</td>\n",
       "      <td>4</td>\n",
       "      <td>2170</td>\n",
       "      <td>0.669597</td>\n",
       "      <td>2.012395</td>\n",
       "      <td>8</td>\n",
       "      <td>8.433165e-10</td>\n",
       "      <td>0.000037</td>\n",
       "      <td>0.70</td>\n",
       "      <td>2</td>\n",
       "    </tr>\n",
       "  </tbody>\n",
       "</table>\n",
       "</div>"
      ],
      "text/plain": [
       "       value               duration        cat_l2  cat_smooth  \\\n",
       "16  0.856850 0 days 00:11:55.428649  1.617756e-06    0.000637   \n",
       "14  0.856837 0 days 00:11:33.357585  9.299195e-07    0.000260   \n",
       "21  0.856827 0 days 00:11:07.648883  5.360472e-09    1.143732   \n",
       "33  0.856817 0 days 00:10:39.434412  3.429444e-07    0.347156   \n",
       "34  0.856816 0 days 00:09:59.582878  1.679809e-05    0.342261   \n",
       "31  0.856814 0 days 00:11:26.738483  4.191943e-07   16.551222   \n",
       "41  0.856812 0 days 00:09:36.737838  3.638505e-05    0.204013   \n",
       "43  0.856805 0 days 00:10:21.147088  1.188142e-04    0.069934   \n",
       "45  0.856800 0 days 00:09:28.050639  2.111257e-07    2.038374   \n",
       "13  0.856795 0 days 00:11:22.007829  3.884831e-07   74.879779   \n",
       "\n",
       "    colsample_bytree  learning_rate  max_depth  min_child_samples  \\\n",
       "16              0.24           0.01          6               3170   \n",
       "14              0.24           0.01          4               2020   \n",
       "21              0.29           0.01          4               2500   \n",
       "33              0.22           0.01          5               1550   \n",
       "34              0.18           0.01          5               1490   \n",
       "31              0.28           0.01          4               2410   \n",
       "41              0.18           0.01          5               1460   \n",
       "43              0.23           0.01          5               1230   \n",
       "45              0.20           0.01          5                590   \n",
       "13              0.26           0.01          4               2170   \n",
       "\n",
       "    min_child_weight  min_split_gain  num_leaves     reg_alpha  reg_lambda  \\\n",
       "16          0.000826        0.762450          13  2.897981e-10    0.000185   \n",
       "14          0.002235        0.000006           9  1.439069e-10    0.000055   \n",
       "21          0.055865        6.622614           9  1.766879e-09    0.000105   \n",
       "33          8.195090        0.098115          13  3.666228e-09    0.003417   \n",
       "34          0.120237        0.127128          13  5.754832e-09    0.005372   \n",
       "31          7.304877        2.469756           9  7.731098e-10    0.000017   \n",
       "41          0.080249        0.197478          13  5.122671e-09    0.004593   \n",
       "43          0.002390        0.001852          11  2.539851e-10    0.001100   \n",
       "45          0.207653        0.764936          14  1.070581e-10    0.000276   \n",
       "13          0.669597        2.012395           8  8.433165e-10    0.000037   \n",
       "\n",
       "    subsample  subsample_freq  \n",
       "16       0.86               3  \n",
       "14       0.72               2  \n",
       "21       0.71               1  \n",
       "33       0.77               3  \n",
       "34       0.78               3  \n",
       "31       0.70               2  \n",
       "41       0.77               3  \n",
       "43       0.68               5  \n",
       "45       0.65               4  \n",
       "13       0.70               2  "
      ]
     },
     "execution_count": 17,
     "metadata": {},
     "output_type": "execute_result"
    }
   ],
   "source": [
    "data = study.trials_dataframe(attrs=('value','duration','params'))\n",
    "data.columns = [x[7:] if x.startswith('params') else x for x in data.columns]\n",
    "data = data.sort_values('value', ascending = False).head(10)\n",
    "data"
   ]
  },
  {
   "cell_type": "code",
   "execution_count": 18,
   "id": "ae10ef1e",
   "metadata": {},
   "outputs": [
    {
     "data": {
      "text/html": [
       "<div>\n",
       "<style scoped>\n",
       "    .dataframe tbody tr th:only-of-type {\n",
       "        vertical-align: middle;\n",
       "    }\n",
       "\n",
       "    .dataframe tbody tr th {\n",
       "        vertical-align: top;\n",
       "    }\n",
       "\n",
       "    .dataframe thead th {\n",
       "        text-align: right;\n",
       "    }\n",
       "</style>\n",
       "<table border=\"1\" class=\"dataframe\">\n",
       "  <thead>\n",
       "    <tr style=\"text-align: right;\">\n",
       "      <th></th>\n",
       "      <th>value</th>\n",
       "      <th>duration</th>\n",
       "      <th>cat_l2</th>\n",
       "      <th>cat_smooth</th>\n",
       "      <th>colsample_bytree</th>\n",
       "      <th>learning_rate</th>\n",
       "      <th>max_depth</th>\n",
       "      <th>min_child_samples</th>\n",
       "      <th>min_child_weight</th>\n",
       "      <th>min_split_gain</th>\n",
       "      <th>num_leaves</th>\n",
       "      <th>reg_alpha</th>\n",
       "      <th>reg_lambda</th>\n",
       "      <th>subsample</th>\n",
       "      <th>subsample_freq</th>\n",
       "    </tr>\n",
       "  </thead>\n",
       "  <tbody>\n",
       "    <tr>\n",
       "      <th>count</th>\n",
       "      <td>10.000000</td>\n",
       "      <td>10</td>\n",
       "      <td>1.000000e+01</td>\n",
       "      <td>10.000000</td>\n",
       "      <td>10.000000</td>\n",
       "      <td>1.000000e+01</td>\n",
       "      <td>10.000000</td>\n",
       "      <td>10.000000</td>\n",
       "      <td>10.000000</td>\n",
       "      <td>10.000000</td>\n",
       "      <td>10.000000</td>\n",
       "      <td>1.000000e+01</td>\n",
       "      <td>10.000000</td>\n",
       "      <td>10.000000</td>\n",
       "      <td>10.000000</td>\n",
       "    </tr>\n",
       "    <tr>\n",
       "      <th>mean</th>\n",
       "      <td>0.856817</td>\n",
       "      <td>0 days 00:10:45.013428400</td>\n",
       "      <td>1.759121e-05</td>\n",
       "      <td>9.557737</td>\n",
       "      <td>0.232000</td>\n",
       "      <td>1.000000e-02</td>\n",
       "      <td>4.700000</td>\n",
       "      <td>1859.000000</td>\n",
       "      <td>1.663902</td>\n",
       "      <td>1.305673</td>\n",
       "      <td>11.200000</td>\n",
       "      <td>1.872179e-09</td>\n",
       "      <td>0.001516</td>\n",
       "      <td>0.734000</td>\n",
       "      <td>2.800000</td>\n",
       "    </tr>\n",
       "    <tr>\n",
       "      <th>std</th>\n",
       "      <td>0.000017</td>\n",
       "      <td>0 days 00:00:51.819001411</td>\n",
       "      <td>3.746453e-05</td>\n",
       "      <td>23.506898</td>\n",
       "      <td>0.038239</td>\n",
       "      <td>1.828559e-18</td>\n",
       "      <td>0.674949</td>\n",
       "      <td>741.821332</td>\n",
       "      <td>3.220603</td>\n",
       "      <td>2.059986</td>\n",
       "      <td>2.250926</td>\n",
       "      <td>2.169536e-09</td>\n",
       "      <td>0.002108</td>\n",
       "      <td>0.061137</td>\n",
       "      <td>1.135292</td>\n",
       "    </tr>\n",
       "    <tr>\n",
       "      <th>min</th>\n",
       "      <td>0.856795</td>\n",
       "      <td>0 days 00:09:28.050639</td>\n",
       "      <td>5.360472e-09</td>\n",
       "      <td>0.000260</td>\n",
       "      <td>0.180000</td>\n",
       "      <td>1.000000e-02</td>\n",
       "      <td>4.000000</td>\n",
       "      <td>590.000000</td>\n",
       "      <td>0.000826</td>\n",
       "      <td>0.000006</td>\n",
       "      <td>8.000000</td>\n",
       "      <td>1.070581e-10</td>\n",
       "      <td>0.000017</td>\n",
       "      <td>0.650000</td>\n",
       "      <td>1.000000</td>\n",
       "    </tr>\n",
       "    <tr>\n",
       "      <th>25%</th>\n",
       "      <td>0.856807</td>\n",
       "      <td>0 days 00:10:04.973930500</td>\n",
       "      <td>3.543290e-07</td>\n",
       "      <td>0.103454</td>\n",
       "      <td>0.205000</td>\n",
       "      <td>1.000000e-02</td>\n",
       "      <td>4.000000</td>\n",
       "      <td>1467.500000</td>\n",
       "      <td>0.015759</td>\n",
       "      <td>0.105368</td>\n",
       "      <td>9.000000</td>\n",
       "      <td>2.629384e-10</td>\n",
       "      <td>0.000068</td>\n",
       "      <td>0.700000</td>\n",
       "      <td>2.000000</td>\n",
       "    </tr>\n",
       "    <tr>\n",
       "      <th>50%</th>\n",
       "      <td>0.856815</td>\n",
       "      <td>0 days 00:10:53.541647500</td>\n",
       "      <td>6.745569e-07</td>\n",
       "      <td>0.344708</td>\n",
       "      <td>0.235000</td>\n",
       "      <td>1.000000e-02</td>\n",
       "      <td>5.000000</td>\n",
       "      <td>1785.000000</td>\n",
       "      <td>0.100243</td>\n",
       "      <td>0.479964</td>\n",
       "      <td>12.000000</td>\n",
       "      <td>8.082131e-10</td>\n",
       "      <td>0.000230</td>\n",
       "      <td>0.715000</td>\n",
       "      <td>3.000000</td>\n",
       "    </tr>\n",
       "    <tr>\n",
       "      <th>75%</th>\n",
       "      <td>0.856825</td>\n",
       "      <td>0 days 00:11:25.555819500</td>\n",
       "      <td>1.300300e-05</td>\n",
       "      <td>1.814714</td>\n",
       "      <td>0.255000</td>\n",
       "      <td>1.000000e-02</td>\n",
       "      <td>5.000000</td>\n",
       "      <td>2350.000000</td>\n",
       "      <td>0.554111</td>\n",
       "      <td>1.700531</td>\n",
       "      <td>13.000000</td>\n",
       "      <td>3.191391e-09</td>\n",
       "      <td>0.002838</td>\n",
       "      <td>0.770000</td>\n",
       "      <td>3.000000</td>\n",
       "    </tr>\n",
       "    <tr>\n",
       "      <th>max</th>\n",
       "      <td>0.856850</td>\n",
       "      <td>0 days 00:11:55.428649</td>\n",
       "      <td>1.188142e-04</td>\n",
       "      <td>74.879779</td>\n",
       "      <td>0.290000</td>\n",
       "      <td>1.000000e-02</td>\n",
       "      <td>6.000000</td>\n",
       "      <td>3170.000000</td>\n",
       "      <td>8.195090</td>\n",
       "      <td>6.622614</td>\n",
       "      <td>14.000000</td>\n",
       "      <td>5.754832e-09</td>\n",
       "      <td>0.005372</td>\n",
       "      <td>0.860000</td>\n",
       "      <td>5.000000</td>\n",
       "    </tr>\n",
       "  </tbody>\n",
       "</table>\n",
       "</div>"
      ],
      "text/plain": [
       "           value                   duration        cat_l2  cat_smooth  \\\n",
       "count  10.000000                         10  1.000000e+01   10.000000   \n",
       "mean    0.856817  0 days 00:10:45.013428400  1.759121e-05    9.557737   \n",
       "std     0.000017  0 days 00:00:51.819001411  3.746453e-05   23.506898   \n",
       "min     0.856795     0 days 00:09:28.050639  5.360472e-09    0.000260   \n",
       "25%     0.856807  0 days 00:10:04.973930500  3.543290e-07    0.103454   \n",
       "50%     0.856815  0 days 00:10:53.541647500  6.745569e-07    0.344708   \n",
       "75%     0.856825  0 days 00:11:25.555819500  1.300300e-05    1.814714   \n",
       "max     0.856850     0 days 00:11:55.428649  1.188142e-04   74.879779   \n",
       "\n",
       "       colsample_bytree  learning_rate  max_depth  min_child_samples  \\\n",
       "count         10.000000   1.000000e+01  10.000000          10.000000   \n",
       "mean           0.232000   1.000000e-02   4.700000        1859.000000   \n",
       "std            0.038239   1.828559e-18   0.674949         741.821332   \n",
       "min            0.180000   1.000000e-02   4.000000         590.000000   \n",
       "25%            0.205000   1.000000e-02   4.000000        1467.500000   \n",
       "50%            0.235000   1.000000e-02   5.000000        1785.000000   \n",
       "75%            0.255000   1.000000e-02   5.000000        2350.000000   \n",
       "max            0.290000   1.000000e-02   6.000000        3170.000000   \n",
       "\n",
       "       min_child_weight  min_split_gain  num_leaves     reg_alpha  reg_lambda  \\\n",
       "count         10.000000       10.000000   10.000000  1.000000e+01   10.000000   \n",
       "mean           1.663902        1.305673   11.200000  1.872179e-09    0.001516   \n",
       "std            3.220603        2.059986    2.250926  2.169536e-09    0.002108   \n",
       "min            0.000826        0.000006    8.000000  1.070581e-10    0.000017   \n",
       "25%            0.015759        0.105368    9.000000  2.629384e-10    0.000068   \n",
       "50%            0.100243        0.479964   12.000000  8.082131e-10    0.000230   \n",
       "75%            0.554111        1.700531   13.000000  3.191391e-09    0.002838   \n",
       "max            8.195090        6.622614   14.000000  5.754832e-09    0.005372   \n",
       "\n",
       "       subsample  subsample_freq  \n",
       "count  10.000000       10.000000  \n",
       "mean    0.734000        2.800000  \n",
       "std     0.061137        1.135292  \n",
       "min     0.650000        1.000000  \n",
       "25%     0.700000        2.000000  \n",
       "50%     0.715000        3.000000  \n",
       "75%     0.770000        3.000000  \n",
       "max     0.860000        5.000000  "
      ]
     },
     "execution_count": 18,
     "metadata": {},
     "output_type": "execute_result"
    }
   ],
   "source": [
    "data.describe()"
   ]
  }
 ],
 "metadata": {
  "kernelspec": {
   "display_name": "Python 3 (ipykernel)",
   "language": "python",
   "name": "python3"
  },
  "language_info": {
   "codemirror_mode": {
    "name": "ipython",
    "version": 3
   },
   "file_extension": ".py",
   "mimetype": "text/x-python",
   "name": "python",
   "nbconvert_exporter": "python",
   "pygments_lexer": "ipython3",
   "version": "3.8.10"
  }
 },
 "nbformat": 4,
 "nbformat_minor": 5
}
