{
 "cells": [
  {
   "cell_type": "markdown",
   "id": "6a718d72",
   "metadata": {},
   "source": [
    "# Tabular Playground Series - October 2021\n",
    "\n",
    "In this notebook, we do some prelimary work on the raw data provided for the playground competition. In particular, we do the following:\n",
    "\n",
    "1. Reduce memory usage\n",
    "2. Store in `.feather` format for quicker loading\n",
    "3. Perform adversarial validation on the training/test sets\n",
    "\n",
    "It is important to save memory since our models will run very slowly or even throw errors if we use too much memory while training. We will solely use decision forest libraries which generally require the training data to be loaded in to memory so any space we can save is a good thing."
   ]
  },
  {
   "cell_type": "code",
   "execution_count": 1,
   "id": "18b9f5f6",
   "metadata": {},
   "outputs": [],
   "source": [
    "# Global variables for testing changes to this notebook quickly\n",
    "RANDOM_SEED = 0\n",
    "NUM_FOLDS = 3\n",
    "NUM_TREES = 500\n",
    "EARLY_STOP = 25"
   ]
  },
  {
   "cell_type": "code",
   "execution_count": 2,
   "id": "0affd53d",
   "metadata": {},
   "outputs": [],
   "source": [
    "import numpy as np\n",
    "import pandas as pd\n",
    "import time\n",
    "import os\n",
    "import pyarrow\n",
    "import gc\n",
    "\n",
    "# Model for validation\n",
    "from lightgbm import LGBMClassifier\n",
    "import lightgbm as lgbm\n",
    "\n",
    "# Model evaluation\n",
    "from sklearn.model_selection import StratifiedKFold, cross_val_predict\n",
    "from sklearn.metrics import roc_auc_score, mean_squared_error\n",
    "\n",
    "# Plotting\n",
    "import matplotlib\n",
    "from matplotlib import pyplot as plt\n",
    "\n",
    "# Hide warnings\n",
    "import warnings\n",
    "warnings.filterwarnings('ignore')"
   ]
  },
  {
   "cell_type": "markdown",
   "id": "59edc435",
   "metadata": {},
   "source": [
    "# 1. Memory Usage Reduction\n",
    "\n",
    "This month's data has over 200 features and combined 1.5 million rows. We will speed up our analysis by downcasting the data wherever possible."
   ]
  },
  {
   "cell_type": "code",
   "execution_count": 3,
   "id": "76c6ac80",
   "metadata": {},
   "outputs": [
    {
     "name": "stdout",
     "output_type": "stream",
     "text": [
      "..\\data\\sample_submission.csv\n",
      "..\\data\\test.csv\n",
      "..\\data\\train.csv\n"
     ]
    }
   ],
   "source": [
    "# Print the paths to all of the output files\n",
    "for dirname, _, filenames in os.walk('..\\data'):\n",
    "    for filename in filenames:\n",
    "        if filename.endswith('.csv'):\n",
    "            print(os.path.join(dirname, filename))"
   ]
  },
  {
   "cell_type": "markdown",
   "id": "8bf3f14b",
   "metadata": {},
   "source": [
    "## 1.1 Loading CSV data"
   ]
  },
  {
   "cell_type": "code",
   "execution_count": 4,
   "id": "0d98a859",
   "metadata": {},
   "outputs": [
    {
     "name": "stdout",
     "output_type": "stream",
     "text": [
      "Wall time: 43.6 s\n"
     ]
    }
   ],
   "source": [
    "%%time\n",
    "\n",
    "# Load original .csv data\n",
    "train = pd.read_csv('../data/train.csv')\n",
    "test = pd.read_csv('../data/test.csv')\n",
    "\n",
    "# Save feature columns names for later\n",
    "features = [x for x in train.columns if x not in ['id', 'target']]"
   ]
  },
  {
   "cell_type": "markdown",
   "id": "cc39ff73",
   "metadata": {},
   "source": [
    "## 1.2 Helper Function"
   ]
  },
  {
   "cell_type": "code",
   "execution_count": 5,
   "id": "0eb0e568",
   "metadata": {},
   "outputs": [],
   "source": [
    "# Downcast float/int datatypes\n",
    "def reduce_memory_usage(df, verbose=True):\n",
    "    start_mem = df.memory_usage().sum() / 1024 ** 2\n",
    "    for col, dtype in df.dtypes.iteritems():\n",
    "        if dtype.name.startswith('int'):\n",
    "            df[col] = pd.to_numeric(df[col], downcast ='integer')\n",
    "        elif dtype.name.startswith('float'):\n",
    "            df[col] = pd.to_numeric(df[col], downcast ='float')\n",
    "        \n",
    "    end_mem = df.memory_usage().sum() / 1024 ** 2\n",
    "    if verbose:\n",
    "        print(\n",
    "            \"Mem. usage decreased to {:.2f} Mb ({:.1f}% reduction)\".format(\n",
    "                end_mem, 100 * (start_mem - end_mem) / start_mem\n",
    "            )\n",
    "        )\n",
    "    return df"
   ]
  },
  {
   "cell_type": "code",
   "execution_count": 6,
   "id": "2821fabf",
   "metadata": {},
   "outputs": [
    {
     "name": "stdout",
     "output_type": "stream",
     "text": [
      "Mem. usage decreased to 963.21 Mb (56.0% reduction)\n",
      "Mem. usage decreased to 481.13 Mb (55.9% reduction)\n",
      "Wall time: 1min 39s\n"
     ]
    }
   ],
   "source": [
    "%%time\n",
    "\n",
    "# Reduce memory and save as .feather\n",
    "train = reduce_memory_usage(train)\n",
    "train.to_feather('../data/train.feather')\n",
    "test = reduce_memory_usage(test)\n",
    "test.to_feather('../data/test.feather')"
   ]
  },
  {
   "cell_type": "markdown",
   "id": "1b640bf5",
   "metadata": {},
   "source": [
    "# 2. Feather Format\n",
    "\n",
    "We saved our data in `.feather` format for quicker loading later. This format saves the datatypes so we won't have to do our memory reduction again and we can work solely with feather for the remaining notebooks."
   ]
  },
  {
   "cell_type": "code",
   "execution_count": 7,
   "id": "2ea07f25",
   "metadata": {},
   "outputs": [
    {
     "data": {
      "text/plain": [
       "float32    240\n",
       "int8        46\n",
       "int32        1\n",
       "dtype: int64"
      ]
     },
     "execution_count": 7,
     "metadata": {},
     "output_type": "execute_result"
    }
   ],
   "source": [
    "# Check datatypes\n",
    "train.dtypes.value_counts()"
   ]
  },
  {
   "cell_type": "code",
   "execution_count": 8,
   "id": "0f72ace1",
   "metadata": {},
   "outputs": [
    {
     "name": "stdout",
     "output_type": "stream",
     "text": [
      "Wall time: 1.52 s\n"
     ]
    },
    {
     "data": {
      "text/plain": [
       "float32    240\n",
       "int8        46\n",
       "int32        1\n",
       "dtype: int64"
      ]
     },
     "execution_count": 8,
     "metadata": {},
     "output_type": "execute_result"
    }
   ],
   "source": [
    "%%time\n",
    "\n",
    "# Load feather data\n",
    "train = pd.read_feather('../data/train.feather')\n",
    "test = pd.read_feather('../data/test.feather')\n",
    "\n",
    "train.dtypes.value_counts()"
   ]
  },
  {
   "cell_type": "markdown",
   "id": "e7b1287b",
   "metadata": {},
   "source": [
    "We see that it takes under two seconds to load our `.feather` data as opposed to 45s with the original .csv files."
   ]
  },
  {
   "cell_type": "markdown",
   "id": "377d9ddf",
   "metadata": {},
   "source": [
    "# 3. Adversarial Validation\n",
    "\n",
    "The idea behind adversarial validation is that if there are differences in the training and test data distributions an algorithm like LightGBM should be able to find these differences and use them to distinguish the two sets. So we create a classification problem where we predict whether a sampling of the data comes from the training or test sets. Ideally, we hope to see ~.5 AUC which would mean that our algorithm couldn't find meaningful distinctions between the test and training data."
   ]
  },
  {
   "cell_type": "code",
   "execution_count": 9,
   "id": "abf81748",
   "metadata": {},
   "outputs": [],
   "source": [
    "lightgbm_params = dict(\n",
    "    n_estimators = NUM_TREES,\n",
    "    random_state = RANDOM_SEED,\n",
    ")"
   ]
  },
  {
   "cell_type": "code",
   "execution_count": 10,
   "id": "ee0257b3",
   "metadata": {},
   "outputs": [],
   "source": [
    "# Performs adversarial validation with LightGBM\n",
    "def lgbm_validation(train, test, verbose = True):\n",
    "    \n",
    "    scores = np.zeros(NUM_FOLDS)\n",
    "    \n",
    "    # Sampling\n",
    "    X = train.sample(n=200000, random_state=0)\n",
    "    X_test = test.sample(n=200000, random_state=0)\n",
    "    \n",
    "    # Preparing data\n",
    "    X = X.set_index('id').drop('target', axis='columns')\n",
    "    X_test = X_test.set_index('id')\n",
    "    \n",
    "    # New \"meta\" data\n",
    "    Xa = X.append(X_test)\n",
    "    Xa['test'] = [0] * len(X) + [1] * len(X_test)\n",
    "    \n",
    "    # Cross validation scheme\n",
    "    skf = StratifiedKFold(NUM_FOLDS, shuffle = True, random_state = RANDOM_SEED) \n",
    "    for fold, (train_idx, valid_idx) in enumerate(skf.split(Xa, Xa['test'])):\n",
    "        \n",
    "        # Training and Validation Sets\n",
    "        X_train, y_train = Xa[features].iloc[train_idx], Xa['test'].iloc[train_idx]\n",
    "        X_valid, y_valid = Xa[features].iloc[valid_idx], Xa['test'].iloc[valid_idx]\n",
    "        \n",
    "\n",
    "        start = time.time()\n",
    "\n",
    "        # Model with params\n",
    "        model = LGBMClassifier(**lightgbm_params)\n",
    "\n",
    "        model.fit(\n",
    "            X_train, y_train,\n",
    "            eval_set = [(X_valid, y_valid)],\n",
    "            eval_metric = 'auc',\n",
    "            early_stopping_rounds = EARLY_STOP,\n",
    "            verbose = False,\n",
    "        )\n",
    "        \n",
    "        # Validation AUC\n",
    "        scores[fold] = roc_auc_score(\n",
    "            y_true = y_valid, \n",
    "            y_score = model.predict_proba(X_valid)[:,1]\n",
    "        )\n",
    "\n",
    "        end = time.time()\n",
    "\n",
    "        print(f\"LightGBM Fold {fold} (AUC):\", \n",
    "              round(scores[fold], 6), \" \",\n",
    "              str(round(end-start, 3))+\"s\")\n",
    "\n",
    "    print(\"\\nLightGBM (Avg):\", round(scores.mean(), 6))\n",
    "    \n",
    "    # return a fitted model and training data for feature importances\n",
    "    return model"
   ]
  },
  {
   "cell_type": "code",
   "execution_count": 11,
   "id": "84674248",
   "metadata": {},
   "outputs": [
    {
     "name": "stdout",
     "output_type": "stream",
     "text": [
      "LightGBM Fold 0 (AUC): 0.982069   61.022s\n",
      "LightGBM Fold 1 (AUC): 0.981821   61.263s\n",
      "LightGBM Fold 2 (AUC): 0.98216   61.469s\n",
      "\n",
      "LightGBM (Avg): 0.982017\n",
      "Wall time: 3min 6s\n"
     ]
    }
   ],
   "source": [
    "%%time\n",
    "\n",
    "fitted_model = lgbm_validation(train, test)"
   ]
  },
  {
   "cell_type": "markdown",
   "id": "88f7560b",
   "metadata": {},
   "source": [
    "We see very high AUC values indicating that our model does a good job distinguishing the training and test data."
   ]
  },
  {
   "cell_type": "markdown",
   "id": "5bf5142f",
   "metadata": {},
   "source": [
    "# Feature Importance\n",
    "\n",
    "We can examine the feature importances to see which features contributed the most to distinguishing the training and test sets."
   ]
  },
  {
   "cell_type": "markdown",
   "id": "4ba58cd7",
   "metadata": {},
   "source": [
    "### Importance Type: Split"
   ]
  },
  {
   "cell_type": "code",
   "execution_count": 12,
   "id": "a9a0b556",
   "metadata": {},
   "outputs": [
    {
     "data": {
      "text/plain": [
       "<AxesSubplot:title={'center':'Feature importance'}, xlabel='Feature importance', ylabel='Features'>"
      ]
     },
     "execution_count": 12,
     "metadata": {},
     "output_type": "execute_result"
    },
    {
     "data": {
      "image/png": "[encoded data removed]",
      "text/plain": [
       "<Figure size 432x288 with 1 Axes>"
      ]
     },
     "metadata": {
      "needs_background": "light"
     },
     "output_type": "display_data"
    }
   ],
   "source": [
    "lgbm.plot_importance(\n",
    "    booster = fitted_model,\n",
    "    importance_type = \"split\",\n",
    "    max_num_features = 10,\n",
    ")"
   ]
  },
  {
   "cell_type": "markdown",
   "id": "5ac89fe8",
   "metadata": {},
   "source": [
    "### Importance Type: Gain"
   ]
  },
  {
   "cell_type": "code",
   "execution_count": 13,
   "id": "851ea7b9",
   "metadata": {
    "scrolled": true
   },
   "outputs": [
    {
     "data": {
      "text/plain": [
       "<AxesSubplot:title={'center':'Feature importance'}, xlabel='Feature importance', ylabel='Features'>"
      ]
     },
     "execution_count": 13,
     "metadata": {},
     "output_type": "execute_result"
    },
    {
     "data": {
      "image/png": "[encoded data removed]",
      "text/plain": [
       "<Figure size 432x288 with 1 Axes>"
      ]
     },
     "metadata": {
      "needs_background": "light"
     },
     "output_type": "display_data"
    }
   ],
   "source": [
    "lgbm.plot_importance(\n",
    "    booster = fitted_model,\n",
    "    importance_type = \"gain\",\n",
    "    max_num_features = 10,\n",
    ")"
   ]
  }
 ],
 "metadata": {
  "kernelspec": {
   "display_name": "Python 3 (ipykernel)",
   "language": "python",
   "name": "python3"
  },
  "language_info": {
   "codemirror_mode": {
    "name": "ipython",
    "version": 3
   },
   "file_extension": ".py",
   "mimetype": "text/x-python",
   "name": "python",
   "nbconvert_exporter": "python",
   "pygments_lexer": "ipython3",
   "version": "3.8.10"
  }
 },
 "nbformat": 4,
 "nbformat_minor": 5
}
